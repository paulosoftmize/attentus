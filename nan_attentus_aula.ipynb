{
 "cells": [
  {
   "cell_type": "code",
   "execution_count": 334,
   "id": "ab2b5ff6",
   "metadata": {},
   "outputs": [],
   "source": [
    "import pandas as pd\n",
    "import numpy as np\n",
    "import matplotlib.pyplot as plt\n",
    "import os  # manipula o sistema operacioal, criar pasta mover arquovos dentro do python e ele é nativo vem junto com o oython\n",
    "from mmq import metodo_minimos_quadrados"
   ]
  },
  {
   "cell_type": "code",
   "execution_count": 335,
   "id": "7c8eb18e",
   "metadata": {},
   "outputs": [],
   "source": [
    "# aqui algoritimo para criar a tabela no NAN que esta no fium da aula do attentus\n",
    "# prof criou esse algoritimo por que os alunos pediam pq ao tentar aplicar as empresas nao tinha a tabela no NAN ai o rpof criou\n",
    "# para ajudar os alunos a implementar nas empresas"
   ]
  },
  {
   "cell_type": "code",
   "execution_count": 336,
   "id": "3297a343",
   "metadata": {},
   "outputs": [
    {
     "data": {
      "application/vnd.microsoft.datawrangler.viewer.v0+json": {
       "columns": [
        {
         "name": "index",
         "rawType": "int64",
         "type": "integer"
        },
        {
         "name": "rotulo",
         "rawType": "int64",
         "type": "integer"
        },
        {
         "name": "hora_inicio",
         "rawType": "object",
         "type": "unknown"
        },
        {
         "name": "hora_fim",
         "rawType": "object",
         "type": "unknown"
        },
        {
         "name": "numero_medio_ligantes",
         "rawType": "int64",
         "type": "integer"
        }
       ],
       "ref": "76a6ebbe-e36b-48fd-84e5-6bd9f2b57a73",
       "rows": [
        [
         "0",
         "1",
         "00:00:00",
         "00:15:00",
         "601"
        ],
        [
         "1",
         "2",
         "00:15:00",
         "00:30:00",
         "190"
        ],
        [
         "2",
         "3",
         "00:30:00",
         "00:45:00",
         "180"
        ],
        [
         "3",
         "4",
         "00:45:00",
         "01:00:00",
         "177"
        ],
        [
         "4",
         "5",
         "01:00:00",
         "01:15:00",
         "162"
        ],
        [
         "5",
         "6",
         "01:15:00",
         "01:30:00",
         "110"
        ],
        [
         "6",
         "7",
         "01:30:00",
         "01:45:00",
         "99"
        ],
        [
         "7",
         "8",
         "01:45:00",
         "02:00:00",
         "108"
        ],
        [
         "8",
         "9",
         "02:00:00",
         "02:15:00",
         "97"
        ],
        [
         "9",
         "10",
         "02:15:00",
         "02:30:00",
         "77"
        ],
        [
         "10",
         "11",
         "02:30:00",
         "02:45:00",
         "75"
        ],
        [
         "11",
         "12",
         "02:45:00",
         "03:00:00",
         "76"
        ],
        [
         "12",
         "13",
         "03:00:00",
         "03:15:00",
         "79"
        ],
        [
         "13",
         "14",
         "03:15:00",
         "03:30:00",
         "46"
        ],
        [
         "14",
         "15",
         "03:30:00",
         "03:45:00",
         "45"
        ],
        [
         "15",
         "16",
         "03:45:00",
         "04:00:00",
         "42"
        ],
        [
         "16",
         "17",
         "04:00:00",
         "04:15:00",
         "49"
        ],
        [
         "17",
         "18",
         "04:15:00",
         "04:30:00",
         "45"
        ],
        [
         "18",
         "19",
         "04:30:00",
         "04:45:00",
         "44"
        ],
        [
         "19",
         "20",
         "04:45:00",
         "05:00:00",
         "49"
        ],
        [
         "20",
         "21",
         "05:00:00",
         "05:15:00",
         "57"
        ],
        [
         "21",
         "22",
         "05:15:00",
         "05:30:00",
         "52"
        ],
        [
         "22",
         "23",
         "05:30:00",
         "05:45:00",
         "51"
        ],
        [
         "23",
         "24",
         "05:45:00",
         "06:00:00",
         "49"
        ],
        [
         "24",
         "25",
         "06:00:00",
         "06:15:00",
         "97"
        ],
        [
         "25",
         "26",
         "06:15:00",
         "06:30:00",
         "132"
        ],
        [
         "26",
         "27",
         "06:30:00",
         "06:45:00",
         "141"
        ],
        [
         "27",
         "28",
         "06:45:00",
         "07:00:00",
         "155"
        ],
        [
         "28",
         "29",
         "07:00:00",
         "07:15:00",
         "630"
        ],
        [
         "29",
         "30",
         "07:15:00",
         "07:30:00",
         "634"
        ],
        [
         "30",
         "31",
         "07:30:00",
         "07:45:00",
         "790"
        ],
        [
         "31",
         "32",
         "07:45:00",
         "08:00:00",
         "698"
        ],
        [
         "32",
         "33",
         "08:00:00",
         "08:15:00",
         "1570"
        ],
        [
         "33",
         "34",
         "08:15:00",
         "08:30:00",
         "1590"
        ],
        [
         "34",
         "35",
         "08:30:00",
         "08:45:00",
         "1601"
        ],
        [
         "35",
         "36",
         "08:45:00",
         "09:00:00",
         "1700"
        ],
        [
         "36",
         "37",
         "09:00:00",
         "09:15:00",
         "2600"
        ],
        [
         "37",
         "38",
         "09:15:00",
         "09:30:00",
         "2509"
        ],
        [
         "38",
         "39",
         "09:30:00",
         "09:45:00",
         "2603"
        ],
        [
         "39",
         "40",
         "09:45:00",
         "10:00:00",
         "2699"
        ],
        [
         "40",
         "41",
         "10:00:00",
         "10:15:00",
         "3124"
        ],
        [
         "41",
         "42",
         "10:15:00",
         "10:30:00",
         "3135"
        ],
        [
         "42",
         "43",
         "10:30:00",
         "10:45:00",
         "3080"
        ],
        [
         "43",
         "44",
         "10:45:00",
         "11:00:00",
         "3197"
        ],
        [
         "44",
         "45",
         "11:00:00",
         "11:15:00",
         "2890"
        ],
        [
         "45",
         "46",
         "11:15:00",
         "11:30:00",
         "2910"
        ],
        [
         "46",
         "47",
         "11:30:00",
         "11:45:00",
         "2912"
        ],
        [
         "47",
         "48",
         "11:45:00",
         "12:00:00",
         "2870"
        ],
        [
         "48",
         "49",
         "12:00:00",
         "12:15:00",
         "2403"
        ],
        [
         "49",
         "50",
         "12:15:00",
         "12:30:00",
         "2397"
        ]
       ],
       "shape": {
        "columns": 4,
        "rows": 96
       }
      },
      "text/html": [
       "<div>\n",
       "<style scoped>\n",
       "    .dataframe tbody tr th:only-of-type {\n",
       "        vertical-align: middle;\n",
       "    }\n",
       "\n",
       "    .dataframe tbody tr th {\n",
       "        vertical-align: top;\n",
       "    }\n",
       "\n",
       "    .dataframe thead th {\n",
       "        text-align: right;\n",
       "    }\n",
       "</style>\n",
       "<table border=\"1\" class=\"dataframe\">\n",
       "  <thead>\n",
       "    <tr style=\"text-align: right;\">\n",
       "      <th></th>\n",
       "      <th>rotulo</th>\n",
       "      <th>hora_inicio</th>\n",
       "      <th>hora_fim</th>\n",
       "      <th>numero_medio_ligantes</th>\n",
       "    </tr>\n",
       "  </thead>\n",
       "  <tbody>\n",
       "    <tr>\n",
       "      <th>0</th>\n",
       "      <td>1</td>\n",
       "      <td>00:00:00</td>\n",
       "      <td>00:15:00</td>\n",
       "      <td>601</td>\n",
       "    </tr>\n",
       "    <tr>\n",
       "      <th>1</th>\n",
       "      <td>2</td>\n",
       "      <td>00:15:00</td>\n",
       "      <td>00:30:00</td>\n",
       "      <td>190</td>\n",
       "    </tr>\n",
       "    <tr>\n",
       "      <th>2</th>\n",
       "      <td>3</td>\n",
       "      <td>00:30:00</td>\n",
       "      <td>00:45:00</td>\n",
       "      <td>180</td>\n",
       "    </tr>\n",
       "    <tr>\n",
       "      <th>3</th>\n",
       "      <td>4</td>\n",
       "      <td>00:45:00</td>\n",
       "      <td>01:00:00</td>\n",
       "      <td>177</td>\n",
       "    </tr>\n",
       "    <tr>\n",
       "      <th>4</th>\n",
       "      <td>5</td>\n",
       "      <td>01:00:00</td>\n",
       "      <td>01:15:00</td>\n",
       "      <td>162</td>\n",
       "    </tr>\n",
       "    <tr>\n",
       "      <th>...</th>\n",
       "      <td>...</td>\n",
       "      <td>...</td>\n",
       "      <td>...</td>\n",
       "      <td>...</td>\n",
       "    </tr>\n",
       "    <tr>\n",
       "      <th>91</th>\n",
       "      <td>92</td>\n",
       "      <td>22:45:00</td>\n",
       "      <td>23:00:00</td>\n",
       "      <td>920</td>\n",
       "    </tr>\n",
       "    <tr>\n",
       "      <th>92</th>\n",
       "      <td>93</td>\n",
       "      <td>23:00:00</td>\n",
       "      <td>23:15:00</td>\n",
       "      <td>897</td>\n",
       "    </tr>\n",
       "    <tr>\n",
       "      <th>93</th>\n",
       "      <td>94</td>\n",
       "      <td>23:15:00</td>\n",
       "      <td>23:30:00</td>\n",
       "      <td>571</td>\n",
       "    </tr>\n",
       "    <tr>\n",
       "      <th>94</th>\n",
       "      <td>95</td>\n",
       "      <td>23:30:00</td>\n",
       "      <td>23:45:00</td>\n",
       "      <td>560</td>\n",
       "    </tr>\n",
       "    <tr>\n",
       "      <th>95</th>\n",
       "      <td>96</td>\n",
       "      <td>23:45:00</td>\n",
       "      <td>00:00:00</td>\n",
       "      <td>590</td>\n",
       "    </tr>\n",
       "  </tbody>\n",
       "</table>\n",
       "<p>96 rows × 4 columns</p>\n",
       "</div>"
      ],
      "text/plain": [
       "    rotulo hora_inicio  hora_fim  numero_medio_ligantes\n",
       "0        1    00:00:00  00:15:00                    601\n",
       "1        2    00:15:00  00:30:00                    190\n",
       "2        3    00:30:00  00:45:00                    180\n",
       "3        4    00:45:00  01:00:00                    177\n",
       "4        5    01:00:00  01:15:00                    162\n",
       "..     ...         ...       ...                    ...\n",
       "91      92    22:45:00  23:00:00                    920\n",
       "92      93    23:00:00  23:15:00                    897\n",
       "93      94    23:15:00  23:30:00                    571\n",
       "94      95    23:30:00  23:45:00                    560\n",
       "95      96    23:45:00  00:00:00                    590\n",
       "\n",
       "[96 rows x 4 columns]"
      ]
     },
     "execution_count": 336,
     "metadata": {},
     "output_type": "execute_result"
    }
   ],
   "source": [
    "df_tabela_ligantes = pd.read_excel(\n",
    "    os.path.join(\"dados\", \"df_tabela_ligantes.xlsx\") # usa o join para ficar generico em relação as \\\\ ou // para windows mac ou linus, fica generalizado\n",
    ")\n",
    "df_tabela_ligantes"
   ]
  },
  {
   "cell_type": "code",
   "execution_count": 337,
   "id": "0d1c0a5c",
   "metadata": {},
   "outputs": [
    {
     "data": {
      "text/plain": [
       "'dados\\\\df_tabela_ligantes.xlsx'"
      ]
     },
     "execution_count": 337,
     "metadata": {},
     "output_type": "execute_result"
    }
   ],
   "source": [
    "os.path.join(\"dados\", \"df_tabela_ligantes.xlsx\")"
   ]
  },
  {
   "cell_type": "code",
   "execution_count": 338,
   "id": "5c45352b",
   "metadata": {},
   "outputs": [
    {
     "data": {
      "application/vnd.microsoft.datawrangler.viewer.v0+json": {
       "columns": [
        {
         "name": "index",
         "rawType": "int64",
         "type": "integer"
        },
        {
         "name": "duracao_conexao",
         "rawType": "int64",
         "type": "integer"
        },
        {
         "name": "numero_ligantes",
         "rawType": "int64",
         "type": "integer"
        },
        {
         "name": "percentagem_relativa",
         "rawType": "float64",
         "type": "float"
        },
        {
         "name": "percentagem_acumulada",
         "rawType": "float64",
         "type": "float"
        }
       ],
       "ref": "2adf3968-4a63-4209-a4c9-c1d96b0971be",
       "rows": [
        [
         "0",
         "0",
         "0",
         "0.0",
         "0.0"
        ],
        [
         "1",
         "5",
         "870",
         "0.087",
         "0.087"
        ],
        [
         "2",
         "10",
         "2210",
         "0.221",
         "0.308"
        ],
        [
         "3",
         "15",
         "2940",
         "0.294",
         "0.602"
        ],
        [
         "4",
         "20",
         "1710",
         "0.171",
         "0.773"
        ],
        [
         "5",
         "25",
         "1360",
         "0.136",
         "0.909"
        ],
        [
         "6",
         "30",
         "590",
         "0.059",
         "0.968"
        ],
        [
         "7",
         "35",
         "250",
         "0.025",
         "0.993"
        ],
        [
         "8",
         "40",
         "70",
         "0.007",
         "1.0"
        ]
       ],
       "shape": {
        "columns": 4,
        "rows": 9
       }
      },
      "text/html": [
       "<div>\n",
       "<style scoped>\n",
       "    .dataframe tbody tr th:only-of-type {\n",
       "        vertical-align: middle;\n",
       "    }\n",
       "\n",
       "    .dataframe tbody tr th {\n",
       "        vertical-align: top;\n",
       "    }\n",
       "\n",
       "    .dataframe thead th {\n",
       "        text-align: right;\n",
       "    }\n",
       "</style>\n",
       "<table border=\"1\" class=\"dataframe\">\n",
       "  <thead>\n",
       "    <tr style=\"text-align: right;\">\n",
       "      <th></th>\n",
       "      <th>duracao_conexao</th>\n",
       "      <th>numero_ligantes</th>\n",
       "      <th>percentagem_relativa</th>\n",
       "      <th>percentagem_acumulada</th>\n",
       "    </tr>\n",
       "  </thead>\n",
       "  <tbody>\n",
       "    <tr>\n",
       "      <th>0</th>\n",
       "      <td>0</td>\n",
       "      <td>0</td>\n",
       "      <td>0.000</td>\n",
       "      <td>0.000</td>\n",
       "    </tr>\n",
       "    <tr>\n",
       "      <th>1</th>\n",
       "      <td>5</td>\n",
       "      <td>870</td>\n",
       "      <td>0.087</td>\n",
       "      <td>0.087</td>\n",
       "    </tr>\n",
       "    <tr>\n",
       "      <th>2</th>\n",
       "      <td>10</td>\n",
       "      <td>2210</td>\n",
       "      <td>0.221</td>\n",
       "      <td>0.308</td>\n",
       "    </tr>\n",
       "    <tr>\n",
       "      <th>3</th>\n",
       "      <td>15</td>\n",
       "      <td>2940</td>\n",
       "      <td>0.294</td>\n",
       "      <td>0.602</td>\n",
       "    </tr>\n",
       "    <tr>\n",
       "      <th>4</th>\n",
       "      <td>20</td>\n",
       "      <td>1710</td>\n",
       "      <td>0.171</td>\n",
       "      <td>0.773</td>\n",
       "    </tr>\n",
       "    <tr>\n",
       "      <th>5</th>\n",
       "      <td>25</td>\n",
       "      <td>1360</td>\n",
       "      <td>0.136</td>\n",
       "      <td>0.909</td>\n",
       "    </tr>\n",
       "    <tr>\n",
       "      <th>6</th>\n",
       "      <td>30</td>\n",
       "      <td>590</td>\n",
       "      <td>0.059</td>\n",
       "      <td>0.968</td>\n",
       "    </tr>\n",
       "    <tr>\n",
       "      <th>7</th>\n",
       "      <td>35</td>\n",
       "      <td>250</td>\n",
       "      <td>0.025</td>\n",
       "      <td>0.993</td>\n",
       "    </tr>\n",
       "    <tr>\n",
       "      <th>8</th>\n",
       "      <td>40</td>\n",
       "      <td>70</td>\n",
       "      <td>0.007</td>\n",
       "      <td>1.000</td>\n",
       "    </tr>\n",
       "  </tbody>\n",
       "</table>\n",
       "</div>"
      ],
      "text/plain": [
       "   duracao_conexao  numero_ligantes  percentagem_relativa  \\\n",
       "0                0                0                 0.000   \n",
       "1                5              870                 0.087   \n",
       "2               10             2210                 0.221   \n",
       "3               15             2940                 0.294   \n",
       "4               20             1710                 0.171   \n",
       "5               25             1360                 0.136   \n",
       "6               30              590                 0.059   \n",
       "7               35              250                 0.025   \n",
       "8               40               70                 0.007   \n",
       "\n",
       "   percentagem_acumulada  \n",
       "0                  0.000  \n",
       "1                  0.087  \n",
       "2                  0.308  \n",
       "3                  0.602  \n",
       "4                  0.773  \n",
       "5                  0.909  \n",
       "6                  0.968  \n",
       "7                  0.993  \n",
       "8                  1.000  "
      ]
     },
     "execution_count": 338,
     "metadata": {},
     "output_type": "execute_result"
    }
   ],
   "source": [
    "df_duracoes = pd.read_excel(\n",
    "    os.path.join(\"dados\", \"df_duracoes.xlsx\")\n",
    ")\n",
    "df_duracoes"
   ]
  },
  {
   "cell_type": "code",
   "execution_count": 339,
   "id": "9ea28efc",
   "metadata": {},
   "outputs": [
    {
     "data": {
      "text/plain": [
       "<Axes: xlabel='duracao_conexao'>"
      ]
     },
     "execution_count": 339,
     "metadata": {},
     "output_type": "execute_result"
    },
    {
     "data": {
      "image/png": "[encoded data removed]",
      "text/plain": [
       "<Figure size 500x300 with 1 Axes>"
      ]
     },
     "metadata": {},
     "output_type": "display_data"
    }
   ],
   "source": [
    "df_duracoes.plot(x=\"duracao_conexao\",\n",
    "                 y=\"numero_ligantes\",\n",
    "                 kind=\"bar\",\n",
    "                 figsize=(5, 3),\n",
    "                 color=\"red\",\n",
    "                 edgecolor=\"black\")"
   ]
  },
  {
   "cell_type": "code",
   "execution_count": 340,
   "id": "b6005a91",
   "metadata": {},
   "outputs": [],
   "source": [
    "# fazer um aleatorio com a distribuicao que se tem a coisa, tem que ser um aleatorio de acordoc om isso\n",
    "# prof foi criativo ao fazer isso na aula\n",
    "# media ponderada tem que ser similar a essa aqui parece que perto dos 15 seg, olhamos no pdf com a explicação Algoritimo NAN\n",
    "# eq 5 grau consegue ajustar os porntos\n",
    "# 0 a 900 s  - 900 seg é 15 min"
   ]
  },
  {
   "cell_type": "code",
   "execution_count": 341,
   "id": "e6063921",
   "metadata": {},
   "outputs": [
    {
     "data": {
      "text/plain": [
       "<Axes: xlabel='percentagem_acumulada', ylabel='duracao_conexao'>"
      ]
     },
     "execution_count": 341,
     "metadata": {},
     "output_type": "execute_result"
    },
    {
     "data": {
      "image/png": "[encoded data removed]",
      "text/plain": [
       "<Figure size 640x480 with 1 Axes>"
      ]
     },
     "metadata": {},
     "output_type": "display_data"
    }
   ],
   "source": [
    "# fizemos analise de dados e descorbrimos que tem um distribuicao espeficica\n",
    "# vamos fazer outro grafico agora\n",
    "df_duracoes.plot(\n",
    "    x=\"percentagem_acumulada\",\n",
    "    y=\"duracao_conexao\",\n",
    "    kind=\"scatter\"\n",
    ")"
   ]
  },
  {
   "cell_type": "code",
   "execution_count": 342,
   "id": "0dc16f0d",
   "metadata": {},
   "outputs": [
    {
     "data": {
      "text/plain": [
       "array([  7.25285080e+02,  -1.67791097e+03,   1.41326154e+03,\n",
       "        -5.23808659e+02,   1.01010563e+02,  -2.06253859e-01])"
      ]
     },
     "execution_count": 342,
     "metadata": {},
     "output_type": "execute_result"
    }
   ],
   "source": [
    "#para achar o polonimio que ajusta os dados, para saber o tempo das suas ligações, a maioria dura te de 10 a 20 seg\n",
    "coefs = metodo_minimos_quadrados.mmq(\n",
    "    df_duracoes[\"percentagem_acumulada\"],\n",
    "    df_duracoes[\"duracao_conexao\"],\n",
    "    5 \n",
    ")  # 5 é o grau, acho que do polinomio, daria os coeficientes do polinomio de 5 grau, vamos ver se esta ajustanndo bem se nao esta com overfitting\n",
    "#avaliar a qualidade desse polinomio\n",
    "coefs"
   ]
  },
  {
   "cell_type": "code",
   "execution_count": 343,
   "id": "65e28923",
   "metadata": {},
   "outputs": [
    {
     "name": "stdout",
     "output_type": "stream",
     "text": [
      "[ 0.   0.1  0.2  0.3  0.4  0.5  0.6  0.7  0.8  0.9]\n",
      "[ -0.2   5.9   7.9   9.3  11.3  13.8  16.   17.6  19.4  24.2]\n"
     ]
    }
   ],
   "source": [
    "x = np.linspace(0, 1, 1000)\n",
    "y = np.polyval(coefs, x) # o polyval apioca um polinomio acima de algusndados que vc da\n",
    "print(x[::100].round(1))\n",
    "print(y[::100].round(1))\n",
    "# foramaram 1000 pontinhos de 0 ate 1\n",
    "# primeiro lemento no y deu negativo, precisaria usar o absolute para deixar sempre positivo"
   ]
  },
  {
   "cell_type": "code",
   "execution_count": 344,
   "id": "ad8c5485",
   "metadata": {},
   "outputs": [
    {
     "data": {
      "image/png": "[encoded data removed]",
      "text/plain": [
       "<Figure size 640x480 with 1 Axes>"
      ]
     },
     "metadata": {},
     "output_type": "display_data"
    }
   ],
   "source": [
    "percentagens_acumuladas = df_duracoes[\"percentagem_acumulada\"]\n",
    "duracoes = df_duracoes[\"duracao_conexao\"]\n",
    "plt.scatter(percentagens_acumuladas, duracoes,\n",
    "            color=\"red\", label=\"Dados Originais\")\n",
    "plt.plot(x, y, label=\"Polinomio\")\n",
    "plt.legend()\n",
    "plt.show()\n",
    "\n"
   ]
  },
  {
   "cell_type": "code",
   "execution_count": 345,
   "id": "bfc97fa1",
   "metadata": {},
   "outputs": [
    {
     "data": {
      "image/png": "[encoded data removed]",
      "text/plain": [
       "<Figure size 640x480 with 1 Axes>"
      ]
     },
     "metadata": {},
     "output_type": "display_data"
    }
   ],
   "source": [
    "#testando aumnetar grau do pokinomio para vermso que da overfitting\n",
    "coefs = metodo_minimos_quadrados.mmq(\n",
    "    df_duracoes[\"percentagem_acumulada\"],\n",
    "    df_duracoes[\"duracao_conexao\"],\n",
    "    8\n",
    ")\n",
    "\n",
    "# ------------------------------------\n",
    "\n",
    "x = np.linspace(0, 1, 1000)\n",
    "y = np.polyval(coefs, x) # o polyval apioca um polinomio acima de algusndados que vc da\n",
    "\n",
    "# __________________________________\n",
    "\n",
    "percentagens_acumuladas = df_duracoes[\"percentagem_acumulada\"]\n",
    "duracoes = df_duracoes[\"duracao_conexao\"]\n",
    "plt.scatter(percentagens_acumuladas, duracoes,\n",
    "            color=\"red\", label=\"Dados Originais\")\n",
    "plt.plot(x, y, label=\"Polinomio\")\n",
    "plt.legend()\n",
    "plt.show()\n",
    "\n",
    "# queligacao que dura 1000 segundos, a curva nao descreve o fenomeno"
   ]
  },
  {
   "cell_type": "code",
   "execution_count": 346,
   "id": "eca4f167",
   "metadata": {},
   "outputs": [
    {
     "data": {
      "text/plain": [
       "array([  7.25285080e+02,  -1.67791097e+03,   1.41326154e+03,\n",
       "        -5.23808659e+02,   1.01010563e+02,  -2.06253859e-01])"
      ]
     },
     "execution_count": 346,
     "metadata": {},
     "output_type": "execute_result"
    }
   ],
   "source": [
    "coefs = metodo_minimos_quadrados.mmq(\n",
    "    df_duracoes[\"percentagem_acumulada\"],\n",
    "    df_duracoes[\"duracao_conexao\"],\n",
    "    5\n",
    ") # mudamos grau para 5 de volta que descreve melhor o fenomeno, ajusta melhor a curva\n",
    "coefs"
   ]
  },
  {
   "cell_type": "code",
   "execution_count": 347,
   "id": "aaa4b8d6",
   "metadata": {},
   "outputs": [
    {
     "data": {
      "text/plain": [
       "-0.20625385920448025"
      ]
     },
     "execution_count": 347,
     "metadata": {},
     "output_type": "execute_result"
    }
   ],
   "source": [
    "# nosso polinimio para muoto perto de zero esta dando negativo, precisa corrigir isso\n",
    "np.polyval(coefs, 0)   # o plyval vc da um dominus ele te da o functus"
   ]
  },
  {
   "cell_type": "code",
   "execution_count": 348,
   "id": "6ae11d61",
   "metadata": {},
   "outputs": [
    {
     "data": {
      "text/plain": [
       "array([-0.20625386,  5.90943916,  7.89703842,  9.28356129])"
      ]
     },
     "execution_count": 348,
     "metadata": {},
     "output_type": "execute_result"
    }
   ],
   "source": [
    "np.polyval(coefs, [0, 0.1, 0.2, 0.3]) # passei aqui 4 dominus ele me deu os coeficientes do polinomio\n",
    "# array([-0.20625386,  5.90943916,  7.89703842,  9.28356129])   aqui são -02 seg, 5.98 seg etc"
   ]
  },
  {
   "cell_type": "code",
   "execution_count": 349,
   "id": "b53eea6c",
   "metadata": {},
   "outputs": [
    {
     "data": {
      "text/plain": [
       "14.366061686277785"
      ]
     },
     "execution_count": 349,
     "metadata": {},
     "output_type": "execute_result"
    }
   ],
   "source": [
    "# vamos testar se ele poklinomio vai dar uma boa media, tem que se aproximar da sua realidade\n",
    "# media ponderada -+ 15 segundos\n",
    "tempos_aleatorios = []\n",
    "for _ in range(10_000):\n",
    "    alpha = np.random.random() # gera aleatorio de 0  a 1\n",
    "    tempo = np.polyval(coefs, alpha)\n",
    "    tempos_aleatorios.append(tempo)\n",
    "\n",
    "np.mean(tempos_aleatorios)"
   ]
  },
  {
   "cell_type": "code",
   "execution_count": 350,
   "id": "52c9d309",
   "metadata": {},
   "outputs": [
    {
     "data": {
      "application/vnd.microsoft.datawrangler.viewer.v0+json": {
       "columns": [
        {
         "name": "index",
         "rawType": "object",
         "type": "string"
        },
        {
         "name": "0",
         "rawType": "object",
         "type": "unknown"
        }
       ],
       "ref": "fa53ca9a-0df1-4bd0-88bb-5315056684fa",
       "rows": [
        [
         "rotulo",
         "1"
        ],
        [
         "hora_inicio",
         "00:00:00"
        ],
        [
         "hora_fim",
         "00:15:00"
        ],
        [
         "numero_medio_ligantes",
         "601"
        ]
       ],
       "shape": {
        "columns": 1,
        "rows": 4
       }
      },
      "text/plain": [
       "rotulo                          1\n",
       "hora_inicio              00:00:00\n",
       "hora_fim                 00:15:00\n",
       "numero_medio_ligantes         601\n",
       "Name: 0, dtype: object"
      ]
     },
     "execution_count": 350,
     "metadata": {},
     "output_type": "execute_result"
    }
   ],
   "source": [
    "# fvamos simulat 601 liacoes agora\n",
    "df_tabela_ligantes.loc[0]  # isso é um dataframe"
   ]
  },
  {
   "cell_type": "code",
   "execution_count": 351,
   "id": "7aff07c7",
   "metadata": {},
   "outputs": [
    {
     "data": {
      "text/plain": [
       "601"
      ]
     },
     "execution_count": 351,
     "metadata": {},
     "output_type": "execute_result"
    }
   ],
   "source": [
    "qtd_ligacoes = \\\n",
    "    df_tabela_ligantes.loc[0, \"numero_medio_ligantes\"]\n",
    "qtd_ligacoes"
   ]
  },
  {
   "cell_type": "code",
   "execution_count": 352,
   "id": "71398e48",
   "metadata": {},
   "outputs": [
    {
     "data": {
      "text/plain": [
       "array([684, 559, 629, 192, 835, 763, 707, 359,   9, 723], dtype=int32)"
      ]
     },
     "execution_count": 352,
     "metadata": {},
     "output_type": "execute_result"
    }
   ],
   "source": [
    "# sortear o tempo que cada ligação vai chegar para nossa simulação\n",
    "np.random.seed(0)\n",
    "momentos_ligacoes = np.random.randint(0, 900, size=qtd_ligacoes)\n",
    "momentos_ligacoes[:10]"
   ]
  },
  {
   "cell_type": "code",
   "execution_count": 353,
   "id": "fa0658f1",
   "metadata": {},
   "outputs": [
    {
     "data": {
      "text/plain": [
       "0"
      ]
     },
     "execution_count": 353,
     "metadata": {},
     "output_type": "execute_result"
    }
   ],
   "source": [
    "df_duracoes.loc[0, \"duracao_conexao\"]"
   ]
  },
  {
   "cell_type": "code",
   "execution_count": 354,
   "id": "a4f2df78",
   "metadata": {},
   "outputs": [
    {
     "data": {
      "text/plain": [
       "0"
      ]
     },
     "execution_count": 354,
     "metadata": {},
     "output_type": "execute_result"
    }
   ],
   "source": [
    "df_duracoes.iloc[0, 0]"
   ]
  },
  {
   "cell_type": "code",
   "execution_count": 355,
   "id": "a9c1285b",
   "metadata": {},
   "outputs": [
    {
     "data": {
      "text/plain": [
       "array([684, 559, 629, 192, 835, 763, 707, 359,   9, 723], dtype=int32)"
      ]
     },
     "execution_count": 355,
     "metadata": {},
     "output_type": "execute_result"
    }
   ],
   "source": [
    "momentos_ligacoes[:10]"
   ]
  },
  {
   "cell_type": "code",
   "execution_count": 356,
   "id": "c8cec777",
   "metadata": {},
   "outputs": [
    {
     "data": {
      "text/plain": [
       "array([ 0,  3,  4,  4,  7,  9, 11, 11, 13, 13], dtype=int32)"
      ]
     },
     "execution_count": 356,
     "metadata": {},
     "output_type": "execute_result"
    }
   ],
   "source": [
    "momentos_ligacoes.sort() # sort poe os numeros na ordem, e ele modifica o prodprio objeto cuidado, ele rankeia\n",
    "momentos_ligacoes[:10]"
   ]
  },
  {
   "cell_type": "code",
   "execution_count": 357,
   "id": "4ee5b87b",
   "metadata": {},
   "outputs": [],
   "source": [
    "# vamos comecar a simulaçãp\n",
    "atendentes: list[dict] = [] # vamos usar uma kisata de dicinarios com tempo de incio e fim da ligação para saber se pode atender ou nao se esta livre ou nao, mas da para fazer com dataframe\n",
    "# se fosse com dataframe seria complicado, ralvez usar iterrows que percorre o dataframe toda e isso diminio perfomance do seu cosigo muit"
   ]
  },
  {
   "cell_type": "code",
   "execution_count": 358,
   "id": "4233be4c",
   "metadata": {},
   "outputs": [],
   "source": [
    "np.set_printoptions(legacy=\"1.13\")"
   ]
  },
  {
   "cell_type": "code",
   "execution_count": 359,
   "id": "e0f7af81",
   "metadata": {},
   "outputs": [
    {
     "data": {
      "text/plain": [
       "0"
      ]
     },
     "execution_count": 359,
     "metadata": {},
     "output_type": "execute_result"
    }
   ],
   "source": [
    "momento_ligacao = momentos_ligacoes[0]\n",
    "momento_ligacao"
   ]
  },
  {
   "cell_type": "code",
   "execution_count": 360,
   "id": "613bbd68",
   "metadata": {},
   "outputs": [
    {
     "name": "stdout",
     "output_type": "stream",
     "text": [
      "14.9651548682\n"
     ]
    }
   ],
   "source": [
    "# vamos sortear um aleatorio\n",
    "np.random.seed(0)\n",
    "aleatorio = np.random.rand()\n",
    "tempo_duracao = abs(np.polyval(coefs, aleatorio)) # vamos cuidar para nao dar negativo abs\n",
    "print(tempo_duracao)\n"
   ]
  },
  {
   "cell_type": "code",
   "execution_count": 361,
   "id": "ecc094a6",
   "metadata": {},
   "outputs": [
    {
     "data": {
      "text/plain": [
       "[{'inicio': 0, 'fim': 14.965154868196022}]"
      ]
     },
     "execution_count": 361,
     "metadata": {},
     "output_type": "execute_result"
    }
   ],
   "source": [
    "# é a primeuroa ligaçãp? como saber isso? tem varios jeitos\n",
    "#checagem Igor escolheu\n",
    "if atendentes == []:\n",
    "    atendente = {\n",
    "        \"inicio\": momento_ligacao,\n",
    "        \"fim\": momento_ligacao + tempo_duracao\n",
    "    }\n",
    "    atendentes.append(atendente)\n",
    "\n",
    "atendentes\n",
    "\n"
   ]
  },
  {
   "cell_type": "code",
   "execution_count": 362,
   "id": "84ed0e4f",
   "metadata": {},
   "outputs": [
    {
     "data": {
      "text/plain": [
       "list"
      ]
     },
     "execution_count": 362,
     "metadata": {},
     "output_type": "execute_result"
    }
   ],
   "source": [
    "type(atendentes)"
   ]
  },
  {
   "cell_type": "code",
   "execution_count": 363,
   "id": "27ca5c0b",
   "metadata": {},
   "outputs": [
    {
     "data": {
      "text/plain": [
       "dict"
      ]
     },
     "execution_count": 363,
     "metadata": {},
     "output_type": "execute_result"
    }
   ],
   "source": [
    "type(atendente)"
   ]
  },
  {
   "cell_type": "code",
   "execution_count": 364,
   "id": "0bc3b8cf",
   "metadata": {},
   "outputs": [
    {
     "data": {
      "text/plain": [
       "3"
      ]
     },
     "execution_count": 364,
     "metadata": {},
     "output_type": "execute_result"
    }
   ],
   "source": [
    "momento_ligacao = momentos_ligacoes[1]\n",
    "momento_ligacao"
   ]
  },
  {
   "cell_type": "code",
   "execution_count": 365,
   "id": "47185996",
   "metadata": {},
   "outputs": [],
   "source": [
    "espera_maxima = 10\n",
    "tempo_descanso = 0  # se o sindicato pedir ja tem a variavel kkkkkkkkk\n"
   ]
  },
  {
   "cell_type": "code",
   "execution_count": 366,
   "id": "fa1f8288",
   "metadata": {},
   "outputs": [
    {
     "data": {
      "text/plain": [
       "11.718611909498971"
      ]
     },
     "execution_count": 366,
     "metadata": {},
     "output_type": "execute_result"
    }
   ],
   "source": [
    "np.random.seed(1)\n",
    "aleatorio = np.random.random()\n",
    "tempo_duracao = abs(np.polyval(coefs, aleatorio))\n",
    "tempo_duracao "
   ]
  },
  {
   "cell_type": "code",
   "execution_count": 367,
   "id": "8c5b6e5f",
   "metadata": {},
   "outputs": [
    {
     "data": {
      "text/plain": [
       "[{'inicio': 0, 'fim': 14.965154868196022},\n",
       " {'inicio': 3, 'fim': 14.718611909498971}]"
      ]
     },
     "execution_count": 367,
     "metadata": {},
     "output_type": "execute_result"
    }
   ],
   "source": [
    "# saber se o atendente pode atender ele\n",
    "for atendente in atendentes:\n",
    "    fim = atendente[\"fim\"] + tempo_descanso\n",
    "\n",
    "    if momento_ligacao + espera_maxima < fim:   # <= se deixar o igual, vai a ligacao assim que ele terminar a anterior, isso tem que ver com o cliewnte como fucniona\n",
    "        ocupado = True\n",
    "    else: \n",
    "        ocupado = False \n",
    "\n",
    "    if not ocupado:   #aqui eu tengho que fazer outra checagem\n",
    "\n",
    "        if momento_ligacao + espera_maxima > fim:\n",
    "            atendente[\"inicio\"] = momento_ligacao + espera_maxima\n",
    "        else:\n",
    "            atendente[\"inicio\"] = fim\n",
    "        \n",
    "        atendente[\"fim\"] = atendente['incio'] + tempo_duracao\n",
    "        break  # se nao bater aqui vai para o else\n",
    "\n",
    "else:  # seria que todos os atendentes estao ocupados entao ele tem que criar um novo, else no for é estranho pr programadores mas no python pode isso é bom\n",
    "\n",
    "    atendente = {\n",
    "        \"inicio\": momento_ligacao,\n",
    "        \"fim\": momento_ligacao + tempo_duracao\n",
    "    }\n",
    "    atendentes.append(atendente)\n",
    "atendentes\n",
    "\n",
    "# to fazedno um for manual\n"
   ]
  },
  {
   "cell_type": "code",
   "execution_count": 368,
   "id": "78bb7c71",
   "metadata": {},
   "outputs": [],
   "source": [
    "# fazer o fim tornar o inicio do rpoimo como reghra geral da problema, precisa tomar cuidado aqui\n",
    "# ficar esperto com isso, para liar caso a caso"
   ]
  },
  {
   "cell_type": "code",
   "execution_count": 369,
   "id": "539c6b3f",
   "metadata": {},
   "outputs": [
    {
     "data": {
      "text/plain": [
       "4"
      ]
     },
     "execution_count": 369,
     "metadata": {},
     "output_type": "execute_result"
    }
   ],
   "source": [
    "# to fazedno um for manual\n",
    "momento_ligacao = momentos_ligacoes[2]\n",
    "momento_ligacao  # teecrira ligação chega em 4\n",
    "# ao inves de percorrer na mao vamos fazer um for para as 601 ligações\n",
    "# o for nao tem como quebra em partes, o for manual ajuda voce a quebrar e ver o que acontece e saber se esta acontecendo o esperado"
   ]
  },
  {
   "cell_type": "code",
   "execution_count": 370,
   "id": "6e2427d9",
   "metadata": {},
   "outputs": [
    {
     "name": "stdout",
     "output_type": "stream",
     "text": [
      "0\n",
      "3\n",
      "4\n",
      "4\n",
      "7\n",
      "9\n",
      "11\n",
      "11\n",
      "13\n",
      "13\n",
      "16\n",
      "19\n",
      "23\n",
      "24\n",
      "24\n",
      "25\n",
      "26\n",
      "28\n",
      "29\n",
      "29\n",
      "32\n",
      "32\n",
      "33\n",
      "36\n",
      "36\n",
      "41\n",
      "41\n",
      "42\n",
      "43\n",
      "43\n",
      "44\n",
      "47\n",
      "53\n",
      "53\n",
      "56\n",
      "57\n",
      "58\n",
      "59\n",
      "61\n",
      "63\n",
      "67\n",
      "69\n",
      "70\n",
      "72\n",
      "72\n",
      "73\n",
      "74\n",
      "80\n",
      "80\n",
      "82\n",
      "83\n",
      "84\n",
      "86\n",
      "87\n",
      "87\n",
      "87\n",
      "88\n",
      "89\n",
      "91\n",
      "91\n",
      "93\n",
      "93\n",
      "94\n",
      "94\n",
      "95\n",
      "98\n",
      "99\n",
      "102\n",
      "106\n",
      "106\n",
      "107\n",
      "110\n",
      "111\n",
      "112\n",
      "114\n",
      "115\n",
      "117\n",
      "119\n",
      "120\n",
      "121\n",
      "123\n",
      "126\n",
      "128\n",
      "128\n",
      "128\n",
      "128\n",
      "129\n",
      "129\n",
      "130\n",
      "131\n",
      "134\n",
      "135\n",
      "136\n",
      "136\n",
      "136\n",
      "137\n",
      "138\n",
      "139\n",
      "139\n",
      "143\n",
      "146\n",
      "147\n",
      "147\n",
      "148\n",
      "148\n",
      "148\n",
      "149\n",
      "149\n",
      "151\n",
      "152\n",
      "152\n",
      "153\n",
      "160\n",
      "163\n",
      "164\n",
      "166\n",
      "168\n",
      "169\n",
      "174\n",
      "174\n",
      "174\n",
      "174\n",
      "176\n",
      "177\n",
      "180\n",
      "180\n",
      "182\n",
      "183\n",
      "184\n",
      "189\n",
      "191\n",
      "192\n",
      "195\n",
      "197\n",
      "197\n",
      "197\n",
      "199\n",
      "201\n",
      "201\n",
      "201\n",
      "201\n",
      "203\n",
      "207\n",
      "207\n",
      "209\n",
      "209\n",
      "209\n",
      "209\n",
      "212\n",
      "213\n",
      "216\n",
      "217\n",
      "219\n",
      "221\n",
      "223\n",
      "225\n",
      "226\n",
      "226\n",
      "226\n",
      "227\n",
      "227\n",
      "228\n",
      "228\n",
      "232\n",
      "234\n",
      "237\n",
      "244\n",
      "246\n",
      "248\n",
      "248\n",
      "254\n",
      "256\n",
      "256\n",
      "256\n",
      "257\n",
      "259\n",
      "260\n",
      "265\n",
      "265\n",
      "269\n",
      "273\n",
      "273\n",
      "274\n",
      "274\n",
      "274\n",
      "275\n",
      "276\n",
      "277\n",
      "280\n",
      "280\n",
      "281\n",
      "282\n",
      "284\n",
      "284\n",
      "286\n",
      "287\n",
      "288\n",
      "289\n",
      "290\n",
      "290\n",
      "291\n",
      "291\n",
      "291\n",
      "292\n",
      "292\n",
      "296\n",
      "297\n",
      "300\n",
      "305\n",
      "305\n",
      "307\n",
      "307\n",
      "307\n",
      "314\n",
      "314\n",
      "321\n",
      "322\n",
      "323\n",
      "323\n",
      "323\n",
      "324\n",
      "324\n",
      "324\n",
      "326\n",
      "326\n",
      "327\n",
      "328\n",
      "329\n",
      "335\n",
      "336\n",
      "339\n",
      "340\n",
      "341\n",
      "341\n",
      "343\n",
      "347\n",
      "347\n",
      "348\n",
      "349\n",
      "353\n",
      "355\n",
      "357\n",
      "357\n",
      "359\n",
      "360\n",
      "360\n",
      "365\n",
      "368\n",
      "368\n",
      "369\n",
      "369\n",
      "370\n",
      "371\n",
      "371\n",
      "373\n",
      "373\n",
      "376\n",
      "376\n",
      "377\n",
      "381\n",
      "383\n",
      "383\n",
      "387\n",
      "388\n",
      "392\n",
      "393\n",
      "394\n",
      "396\n",
      "398\n",
      "400\n",
      "405\n",
      "407\n",
      "410\n",
      "411\n",
      "411\n",
      "414\n",
      "417\n",
      "419\n",
      "421\n",
      "423\n",
      "423\n",
      "423\n",
      "423\n",
      "426\n",
      "429\n",
      "430\n",
      "431\n",
      "433\n",
      "433\n",
      "437\n",
      "437\n",
      "438\n",
      "442\n",
      "444\n",
      "444\n",
      "444\n",
      "445\n",
      "446\n",
      "448\n",
      "448\n",
      "449\n",
      "450\n",
      "454\n",
      "455\n",
      "455\n",
      "459\n",
      "459\n",
      "461\n",
      "463\n",
      "464\n",
      "468\n",
      "469\n",
      "470\n",
      "472\n",
      "473\n",
      "475\n",
      "476\n",
      "480\n",
      "486\n",
      "488\n",
      "488\n",
      "488\n",
      "490\n",
      "498\n",
      "502\n",
      "504\n",
      "507\n",
      "508\n",
      "508\n",
      "509\n",
      "510\n",
      "512\n",
      "514\n",
      "515\n",
      "517\n",
      "519\n",
      "525\n",
      "528\n",
      "532\n",
      "534\n",
      "534\n",
      "536\n",
      "537\n",
      "537\n",
      "539\n",
      "539\n",
      "540\n",
      "541\n",
      "542\n",
      "543\n",
      "543\n",
      "544\n",
      "547\n",
      "550\n",
      "550\n",
      "550\n",
      "551\n",
      "551\n",
      "552\n",
      "554\n",
      "554\n",
      "555\n",
      "555\n",
      "555\n",
      "556\n",
      "558\n",
      "559\n",
      "560\n",
      "562\n",
      "563\n",
      "565\n",
      "566\n",
      "570\n",
      "572\n",
      "573\n",
      "574\n",
      "575\n",
      "577\n",
      "579\n",
      "581\n",
      "584\n",
      "586\n",
      "589\n",
      "591\n",
      "593\n",
      "594\n",
      "595\n",
      "595\n",
      "595\n",
      "598\n",
      "599\n",
      "600\n",
      "600\n",
      "603\n",
      "606\n",
      "606\n",
      "606\n",
      "607\n",
      "610\n",
      "611\n",
      "612\n",
      "616\n",
      "617\n",
      "617\n",
      "617\n",
      "620\n",
      "621\n",
      "623\n",
      "623\n",
      "623\n",
      "628\n",
      "629\n",
      "631\n",
      "633\n",
      "636\n",
      "637\n",
      "637\n",
      "637\n",
      "639\n",
      "639\n",
      "643\n",
      "645\n",
      "645\n",
      "647\n",
      "647\n",
      "648\n",
      "650\n",
      "653\n",
      "657\n",
      "659\n",
      "660\n",
      "662\n",
      "663\n",
      "663\n",
      "666\n",
      "668\n",
      "670\n",
      "673\n",
      "675\n",
      "675\n",
      "677\n",
      "679\n",
      "680\n",
      "683\n",
      "684\n",
      "690\n",
      "691\n",
      "694\n",
      "694\n",
      "696\n",
      "696\n",
      "697\n",
      "697\n",
      "698\n",
      "699\n",
      "701\n",
      "705\n",
      "705\n",
      "707\n",
      "707\n",
      "709\n",
      "709\n",
      "710\n",
      "714\n",
      "715\n",
      "716\n",
      "719\n",
      "720\n",
      "721\n",
      "723\n",
      "726\n",
      "727\n",
      "730\n",
      "732\n",
      "734\n",
      "735\n",
      "736\n",
      "739\n",
      "739\n",
      "739\n",
      "749\n",
      "749\n",
      "750\n",
      "753\n",
      "754\n",
      "755\n",
      "755\n",
      "756\n",
      "763\n",
      "763\n",
      "765\n",
      "767\n",
      "768\n",
      "770\n",
      "770\n",
      "770\n",
      "771\n",
      "771\n",
      "774\n",
      "774\n",
      "776\n",
      "777\n",
      "777\n",
      "778\n",
      "779\n",
      "779\n",
      "781\n",
      "782\n",
      "782\n",
      "782\n",
      "786\n",
      "786\n",
      "788\n",
      "791\n",
      "797\n",
      "798\n",
      "799\n",
      "800\n",
      "802\n",
      "802\n",
      "803\n",
      "804\n",
      "804\n",
      "804\n",
      "806\n",
      "807\n",
      "807\n",
      "809\n",
      "810\n",
      "812\n",
      "814\n",
      "816\n",
      "816\n",
      "819\n",
      "820\n",
      "821\n",
      "821\n",
      "823\n",
      "826\n",
      "826\n",
      "829\n",
      "832\n",
      "835\n",
      "836\n",
      "837\n",
      "838\n",
      "839\n",
      "840\n",
      "842\n",
      "843\n",
      "844\n",
      "845\n",
      "846\n",
      "847\n",
      "847\n",
      "849\n",
      "850\n",
      "851\n",
      "852\n",
      "852\n",
      "853\n",
      "854\n",
      "855\n",
      "857\n",
      "859\n",
      "859\n",
      "860\n",
      "861\n",
      "864\n",
      "865\n",
      "868\n",
      "870\n",
      "871\n",
      "872\n",
      "872\n",
      "873\n",
      "875\n",
      "876\n",
      "880\n",
      "881\n",
      "882\n",
      "882\n",
      "884\n",
      "884\n",
      "885\n",
      "885\n",
      "886\n",
      "886\n",
      "888\n",
      "889\n",
      "889\n",
      "889\n",
      "889\n",
      "890\n",
      "891\n",
      "894\n",
      "896\n",
      "896\n",
      "896\n",
      "897\n",
      "899\n"
     ]
    }
   ],
   "source": [
    "for momento_ligacao in momentos_ligacoes:\n",
    "    print(momento_ligacao)"
   ]
  },
  {
   "cell_type": "code",
   "execution_count": 371,
   "id": "600b8cca",
   "metadata": {},
   "outputs": [
    {
     "data": {
      "text/plain": [
       "[{'inicio': 904, 'fim': 914.4037564982807},\n",
       " {'inicio': 906, 'fim': 917.86945228372167},\n",
       " {'inicio': 909, 'fim': 917.37356632866181},\n",
       " {'inicio': 900, 'fim': 912.04701461181367},\n",
       " {'inicio': 906, 'fim': 913.54143974652425},\n",
       " {'inicio': 906, 'fim': 909.2110175449335},\n",
       " {'inicio': 907, 'fim': 923.65667308248339},\n",
       " {'inicio': 898, 'fim': 910.80468815160725},\n",
       " {'inicio': 892, 'fim': 918.91345867401799},\n",
       " {'inicio': 892, 'fim': 899.6962495432706},\n",
       " {'inicio': 895, 'fim': 921.10612199350487},\n",
       " {'inicio': 894, 'fim': 924.69074239242343},\n",
       " {'inicio': 894, 'fim': 912.97138604541612},\n",
       " {'inicio': 895, 'fim': 911.50408245771962},\n",
       " {'inicio': 896, 'fim': 906.24103253233636},\n",
       " {'inicio': 896, 'fim': 913.60372669768321},\n",
       " {'inicio': 899, 'fim': 917.10414350589645},\n",
       " {'inicio': 899, 'fim': 928.75678690002758},\n",
       " {'inicio': 899, 'fim': 903.08006092171786},\n",
       " {'inicio': 899, 'fim': 906.40232584615558}]"
      ]
     },
     "execution_count": 371,
     "metadata": {},
     "output_type": "execute_result"
    }
   ],
   "source": [
    "# agora ajuntou as celulas e só adicionou essa aqui -> for momento_ligacao in momentos_ligacoes:\n",
    "\n",
    "np.random.seed(5)\n",
    "tempo_descanso = 0\n",
    "espera_maxima = 10\n",
    "atendentes = []\n",
    "for momento_ligacao in momentos_ligacoes: # só adicionamos esse linha do que ja haviamso testado antes\n",
    "    aleatorio = np.random.random()\n",
    "    tempo_duracao = abs(np.polyval(coefs, aleatorio))\n",
    "\n",
    "    for atendente in atendentes:\n",
    "        fim = atendente[\"fim\"] + tempo_descanso\n",
    "\n",
    "        if momento_ligacao + espera_maxima < fim:\n",
    "            ocupado = True\n",
    "        else:\n",
    "            ocupado = False\n",
    "\n",
    "        if not ocupado:\n",
    "\n",
    "            if momento_ligacao + espera_maxima > fim:\n",
    "                atendente[\"inicio\"] = momento_ligacao + espera_maxima\n",
    "            else:\n",
    "                atendente[\"inicio\"] = fim\n",
    "            \n",
    "            atendente[\"fim\"] = atendente[\"inicio\"] + tempo_duracao\n",
    "            break\n",
    "    else:\n",
    "\n",
    "        atendente = {\n",
    "            \"inicio\": momento_ligacao,\n",
    "            \"fim\": momento_ligacao + tempo_duracao\n",
    "        }\n",
    "        atendentes.append(atendente)\n",
    "        \n",
    "atendentes"
   ]
  },
  {
   "cell_type": "code",
   "execution_count": 372,
   "id": "780e15c0",
   "metadata": {},
   "outputs": [
    {
     "data": {
      "text/plain": [
       "20"
      ]
     },
     "execution_count": 372,
     "metadata": {},
     "output_type": "execute_result"
    }
   ],
   "source": [
    "len(atendentes)"
   ]
  },
  {
   "cell_type": "code",
   "execution_count": 373,
   "id": "028458d4",
   "metadata": {},
   "outputs": [
    {
     "data": {
      "text/plain": [
       "array([2, 1, 5, 4, 8, 6, 3, 7])"
      ]
     },
     "execution_count": 373,
     "metadata": {},
     "output_type": "execute_result"
    }
   ],
   "source": [
    "# aqui teos um problem o primeiro vai ser sempre ser mais estressado que o ultiumo ele vai ser mais usado que o ulktimo\n",
    "# vamos embaralhar para fazer a simulação\n",
    "np.random.permutation([1, 2, 3, 4, 5, 6, 7, 8]) # embaralhar"
   ]
  },
  {
   "cell_type": "code",
   "execution_count": 374,
   "id": "cf25d4e4",
   "metadata": {},
   "outputs": [
    {
     "data": {
      "text/plain": [
       "[{'inicio': 899, 'fim': 909.29559843811921},\n",
       " {'inicio': 900, 'fim': 910.89334430853955},\n",
       " {'inicio': 899, 'fim': 932.21236755469567},\n",
       " {'inicio': 909, 'fim': 917.53861755803973},\n",
       " {'inicio': 904, 'fim': 920.23396461861057},\n",
       " {'inicio': 899, 'fim': 908.85265704300502},\n",
       " {'inicio': 867, 'fim': 894.9962068760093},\n",
       " {'inicio': 901, 'fim': 917.66657940193431},\n",
       " {'inicio': 907, 'fim': 915.17518229722555},\n",
       " {'inicio': 906, 'fim': 913.65133331310551},\n",
       " {'inicio': 896, 'fim': 906.82228408233289},\n",
       " {'inicio': 892, 'fim': 907.66966275774632},\n",
       " {'inicio': 882, 'fim': 901.13837905289324},\n",
       " {'inicio': 883, 'fim': 902.83508526014623},\n",
       " {'inicio': 814, 'fim': 843.61932082301757},\n",
       " {'inicio': 899, 'fim': 907.73089614696869},\n",
       " {'inicio': 896, 'fim': 912.80887286644202},\n",
       " {'inicio': 906, 'fim': 930.77650856562752},\n",
       " {'inicio': 906, 'fim': 914.0496784226475}]"
      ]
     },
     "execution_count": 374,
     "metadata": {},
     "output_type": "execute_result"
    }
   ],
   "source": [
    "# embraralhar diminui o tempode osciosidade e equilibra o tempo de trabalho de todos\n",
    "# aqui foi suulação de 00:00 as 00:15 da noite com 601 simulações\n",
    "np.random.seed(5)\n",
    "tempo_descanso = 0\n",
    "espera_maxima = 10\n",
    "atendentes = []\n",
    "for momento_ligacao in momentos_ligacoes: # só adicionamos esse linha do que ja haviamso testado antes\n",
    "    aleatorio = np.random.random()\n",
    "    tempo_duracao = abs(np.polyval(coefs, aleatorio))\n",
    "\n",
    "    atendentes = list(np.random.permutation(atendentes))\n",
    "\n",
    "    for atendente in atendentes:\n",
    "        fim = atendente[\"fim\"] + tempo_descanso\n",
    "\n",
    "        if momento_ligacao + espera_maxima < fim:\n",
    "            ocupado = True\n",
    "        else:\n",
    "            ocupado = False\n",
    "\n",
    "        if not ocupado:\n",
    "\n",
    "            if momento_ligacao + espera_maxima > fim:\n",
    "                atendente[\"inicio\"] = momento_ligacao + espera_maxima\n",
    "            else:\n",
    "                atendente[\"inicio\"] = fim\n",
    "            \n",
    "            atendente[\"fim\"] = atendente[\"inicio\"] + tempo_duracao\n",
    "            break\n",
    "    else:\n",
    "\n",
    "        atendente = {\n",
    "            \"inicio\": momento_ligacao,\n",
    "            \"fim\": momento_ligacao + tempo_duracao\n",
    "        }\n",
    "        atendentes.append(atendente)\n",
    "        \n",
    "atendentes"
   ]
  },
  {
   "cell_type": "code",
   "execution_count": 375,
   "id": "939a2a14",
   "metadata": {},
   "outputs": [
    {
     "data": {
      "text/plain": [
       "19"
      ]
     },
     "execution_count": 375,
     "metadata": {},
     "output_type": "execute_result"
    }
   ],
   "source": [
    "len(atendentes)"
   ]
  },
  {
   "cell_type": "code",
   "execution_count": 376,
   "id": "1a8b5209",
   "metadata": {},
   "outputs": [
    {
     "data": {
      "application/vnd.microsoft.datawrangler.viewer.v0+json": {
       "columns": [
        {
         "name": "index",
         "rawType": "int64",
         "type": "integer"
        },
        {
         "name": "rotulo",
         "rawType": "int64",
         "type": "integer"
        },
        {
         "name": "hora_inicio",
         "rawType": "object",
         "type": "unknown"
        },
        {
         "name": "hora_fim",
         "rawType": "object",
         "type": "unknown"
        },
        {
         "name": "numero_medio_ligantes",
         "rawType": "int64",
         "type": "integer"
        }
       ],
       "ref": "e7ad5d34-3617-4490-974d-be8a2dc512ed",
       "rows": [
        [
         "0",
         "1",
         "00:00:00",
         "00:15:00",
         "601"
        ],
        [
         "1",
         "2",
         "00:15:00",
         "00:30:00",
         "190"
        ],
        [
         "2",
         "3",
         "00:30:00",
         "00:45:00",
         "180"
        ],
        [
         "3",
         "4",
         "00:45:00",
         "01:00:00",
         "177"
        ],
        [
         "4",
         "5",
         "01:00:00",
         "01:15:00",
         "162"
        ],
        [
         "5",
         "6",
         "01:15:00",
         "01:30:00",
         "110"
        ],
        [
         "6",
         "7",
         "01:30:00",
         "01:45:00",
         "99"
        ],
        [
         "7",
         "8",
         "01:45:00",
         "02:00:00",
         "108"
        ],
        [
         "8",
         "9",
         "02:00:00",
         "02:15:00",
         "97"
        ],
        [
         "9",
         "10",
         "02:15:00",
         "02:30:00",
         "77"
        ],
        [
         "10",
         "11",
         "02:30:00",
         "02:45:00",
         "75"
        ],
        [
         "11",
         "12",
         "02:45:00",
         "03:00:00",
         "76"
        ],
        [
         "12",
         "13",
         "03:00:00",
         "03:15:00",
         "79"
        ],
        [
         "13",
         "14",
         "03:15:00",
         "03:30:00",
         "46"
        ],
        [
         "14",
         "15",
         "03:30:00",
         "03:45:00",
         "45"
        ],
        [
         "15",
         "16",
         "03:45:00",
         "04:00:00",
         "42"
        ],
        [
         "16",
         "17",
         "04:00:00",
         "04:15:00",
         "49"
        ],
        [
         "17",
         "18",
         "04:15:00",
         "04:30:00",
         "45"
        ],
        [
         "18",
         "19",
         "04:30:00",
         "04:45:00",
         "44"
        ],
        [
         "19",
         "20",
         "04:45:00",
         "05:00:00",
         "49"
        ],
        [
         "20",
         "21",
         "05:00:00",
         "05:15:00",
         "57"
        ],
        [
         "21",
         "22",
         "05:15:00",
         "05:30:00",
         "52"
        ],
        [
         "22",
         "23",
         "05:30:00",
         "05:45:00",
         "51"
        ],
        [
         "23",
         "24",
         "05:45:00",
         "06:00:00",
         "49"
        ],
        [
         "24",
         "25",
         "06:00:00",
         "06:15:00",
         "97"
        ],
        [
         "25",
         "26",
         "06:15:00",
         "06:30:00",
         "132"
        ],
        [
         "26",
         "27",
         "06:30:00",
         "06:45:00",
         "141"
        ],
        [
         "27",
         "28",
         "06:45:00",
         "07:00:00",
         "155"
        ],
        [
         "28",
         "29",
         "07:00:00",
         "07:15:00",
         "630"
        ],
        [
         "29",
         "30",
         "07:15:00",
         "07:30:00",
         "634"
        ],
        [
         "30",
         "31",
         "07:30:00",
         "07:45:00",
         "790"
        ],
        [
         "31",
         "32",
         "07:45:00",
         "08:00:00",
         "698"
        ],
        [
         "32",
         "33",
         "08:00:00",
         "08:15:00",
         "1570"
        ],
        [
         "33",
         "34",
         "08:15:00",
         "08:30:00",
         "1590"
        ],
        [
         "34",
         "35",
         "08:30:00",
         "08:45:00",
         "1601"
        ],
        [
         "35",
         "36",
         "08:45:00",
         "09:00:00",
         "1700"
        ],
        [
         "36",
         "37",
         "09:00:00",
         "09:15:00",
         "2600"
        ],
        [
         "37",
         "38",
         "09:15:00",
         "09:30:00",
         "2509"
        ],
        [
         "38",
         "39",
         "09:30:00",
         "09:45:00",
         "2603"
        ],
        [
         "39",
         "40",
         "09:45:00",
         "10:00:00",
         "2699"
        ],
        [
         "40",
         "41",
         "10:00:00",
         "10:15:00",
         "3124"
        ],
        [
         "41",
         "42",
         "10:15:00",
         "10:30:00",
         "3135"
        ],
        [
         "42",
         "43",
         "10:30:00",
         "10:45:00",
         "3080"
        ],
        [
         "43",
         "44",
         "10:45:00",
         "11:00:00",
         "3197"
        ],
        [
         "44",
         "45",
         "11:00:00",
         "11:15:00",
         "2890"
        ],
        [
         "45",
         "46",
         "11:15:00",
         "11:30:00",
         "2910"
        ],
        [
         "46",
         "47",
         "11:30:00",
         "11:45:00",
         "2912"
        ],
        [
         "47",
         "48",
         "11:45:00",
         "12:00:00",
         "2870"
        ],
        [
         "48",
         "49",
         "12:00:00",
         "12:15:00",
         "2403"
        ],
        [
         "49",
         "50",
         "12:15:00",
         "12:30:00",
         "2397"
        ]
       ],
       "shape": {
        "columns": 4,
        "rows": 96
       }
      },
      "text/html": [
       "<div>\n",
       "<style scoped>\n",
       "    .dataframe tbody tr th:only-of-type {\n",
       "        vertical-align: middle;\n",
       "    }\n",
       "\n",
       "    .dataframe tbody tr th {\n",
       "        vertical-align: top;\n",
       "    }\n",
       "\n",
       "    .dataframe thead th {\n",
       "        text-align: right;\n",
       "    }\n",
       "</style>\n",
       "<table border=\"1\" class=\"dataframe\">\n",
       "  <thead>\n",
       "    <tr style=\"text-align: right;\">\n",
       "      <th></th>\n",
       "      <th>rotulo</th>\n",
       "      <th>hora_inicio</th>\n",
       "      <th>hora_fim</th>\n",
       "      <th>numero_medio_ligantes</th>\n",
       "    </tr>\n",
       "  </thead>\n",
       "  <tbody>\n",
       "    <tr>\n",
       "      <th>0</th>\n",
       "      <td>1</td>\n",
       "      <td>00:00:00</td>\n",
       "      <td>00:15:00</td>\n",
       "      <td>601</td>\n",
       "    </tr>\n",
       "    <tr>\n",
       "      <th>1</th>\n",
       "      <td>2</td>\n",
       "      <td>00:15:00</td>\n",
       "      <td>00:30:00</td>\n",
       "      <td>190</td>\n",
       "    </tr>\n",
       "    <tr>\n",
       "      <th>2</th>\n",
       "      <td>3</td>\n",
       "      <td>00:30:00</td>\n",
       "      <td>00:45:00</td>\n",
       "      <td>180</td>\n",
       "    </tr>\n",
       "    <tr>\n",
       "      <th>3</th>\n",
       "      <td>4</td>\n",
       "      <td>00:45:00</td>\n",
       "      <td>01:00:00</td>\n",
       "      <td>177</td>\n",
       "    </tr>\n",
       "    <tr>\n",
       "      <th>4</th>\n",
       "      <td>5</td>\n",
       "      <td>01:00:00</td>\n",
       "      <td>01:15:00</td>\n",
       "      <td>162</td>\n",
       "    </tr>\n",
       "    <tr>\n",
       "      <th>...</th>\n",
       "      <td>...</td>\n",
       "      <td>...</td>\n",
       "      <td>...</td>\n",
       "      <td>...</td>\n",
       "    </tr>\n",
       "    <tr>\n",
       "      <th>91</th>\n",
       "      <td>92</td>\n",
       "      <td>22:45:00</td>\n",
       "      <td>23:00:00</td>\n",
       "      <td>920</td>\n",
       "    </tr>\n",
       "    <tr>\n",
       "      <th>92</th>\n",
       "      <td>93</td>\n",
       "      <td>23:00:00</td>\n",
       "      <td>23:15:00</td>\n",
       "      <td>897</td>\n",
       "    </tr>\n",
       "    <tr>\n",
       "      <th>93</th>\n",
       "      <td>94</td>\n",
       "      <td>23:15:00</td>\n",
       "      <td>23:30:00</td>\n",
       "      <td>571</td>\n",
       "    </tr>\n",
       "    <tr>\n",
       "      <th>94</th>\n",
       "      <td>95</td>\n",
       "      <td>23:30:00</td>\n",
       "      <td>23:45:00</td>\n",
       "      <td>560</td>\n",
       "    </tr>\n",
       "    <tr>\n",
       "      <th>95</th>\n",
       "      <td>96</td>\n",
       "      <td>23:45:00</td>\n",
       "      <td>00:00:00</td>\n",
       "      <td>590</td>\n",
       "    </tr>\n",
       "  </tbody>\n",
       "</table>\n",
       "<p>96 rows × 4 columns</p>\n",
       "</div>"
      ],
      "text/plain": [
       "    rotulo hora_inicio  hora_fim  numero_medio_ligantes\n",
       "0        1    00:00:00  00:15:00                    601\n",
       "1        2    00:15:00  00:30:00                    190\n",
       "2        3    00:30:00  00:45:00                    180\n",
       "3        4    00:45:00  01:00:00                    177\n",
       "4        5    01:00:00  01:15:00                    162\n",
       "..     ...         ...       ...                    ...\n",
       "91      92    22:45:00  23:00:00                    920\n",
       "92      93    23:00:00  23:15:00                    897\n",
       "93      94    23:15:00  23:30:00                    571\n",
       "94      95    23:30:00  23:45:00                    560\n",
       "95      96    23:45:00  00:00:00                    590\n",
       "\n",
       "[96 rows x 4 columns]"
      ]
     },
     "execution_count": 376,
     "metadata": {},
     "output_type": "execute_result"
    }
   ],
   "source": [
    "df_tabela_ligantes"
   ]
  },
  {
   "cell_type": "code",
   "execution_count": 377,
   "id": "5bd9fcfa",
   "metadata": {},
   "outputs": [
    {
     "data": {
      "text/plain": [
       "[20,\n",
       " 9,\n",
       " 8,\n",
       " 9,\n",
       " 8,\n",
       " 5,\n",
       " 6,\n",
       " 7,\n",
       " 5,\n",
       " 5,\n",
       " 4,\n",
       " 5,\n",
       " 4,\n",
       " 4,\n",
       " 4,\n",
       " 4,\n",
       " 4,\n",
       " 5,\n",
       " 4,\n",
       " 4,\n",
       " 4,\n",
       " 4,\n",
       " 3,\n",
       " 4,\n",
       " 6,\n",
       " 6,\n",
       " 8,\n",
       " 7,\n",
       " 20,\n",
       " 21,\n",
       " 23,\n",
       " 23,\n",
       " 41,\n",
       " 41,\n",
       " 41,\n",
       " 45,\n",
       " 66,\n",
       " 59,\n",
       " 60,\n",
       " 67,\n",
       " 70,\n",
       " 75,\n",
       " 71,\n",
       " 75,\n",
       " 66,\n",
       " 64,\n",
       " 62,\n",
       " 68,\n",
       " 57,\n",
       " 57,\n",
       " 56,\n",
       " 60,\n",
       " 64,\n",
       " 67,\n",
       " 63,\n",
       " 70,\n",
       " 69,\n",
       " 67,\n",
       " 64,\n",
       " 66,\n",
       " 71,\n",
       " 66,\n",
       " 70,\n",
       " 67,\n",
       " 68,\n",
       " 66,\n",
       " 68,\n",
       " 71,\n",
       " 68,\n",
       " 69,\n",
       " 73,\n",
       " 62,\n",
       " 55,\n",
       " 51,\n",
       " 52,\n",
       " 48,\n",
       " 45,\n",
       " 44,\n",
       " 39,\n",
       " 38,\n",
       " 41,\n",
       " 36,\n",
       " 36,\n",
       " 40,\n",
       " 36,\n",
       " 34,\n",
       " 30,\n",
       " 31,\n",
       " 31,\n",
       " 26,\n",
       " 26,\n",
       " 26,\n",
       " 23,\n",
       " 18,\n",
       " 18,\n",
       " 18]"
      ]
     },
     "execution_count": 377,
     "metadata": {},
     "output_type": "execute_result"
    }
   ],
   "source": [
    "np.random.seed(5)\n",
    "tempo_descanso = 0\n",
    "espera_maxima = 10\n",
    "coluna_nan = []\n",
    "for i, linha in df_tabela_ligantes.iterrows():\n",
    "    qtd_ligacoes = linha[\"numero_medio_ligantes\"]\n",
    "\n",
    "    momentos_ligacoes = np.random.randint(0, 900, size=qtd_ligacoes)\n",
    "    momentos_ligacoes.sort()\n",
    "\n",
    "    atendentes = []\n",
    "    for momento_ligacao in momentos_ligacoes:\n",
    "        aleatorio = np.random.random()\n",
    "        tempo_duracao = abs(np.polyval(coefs, aleatorio))\n",
    "\n",
    "        atendentes = list(np.random.permutation(atendentes))\n",
    "\n",
    "        for atendente in atendentes:\n",
    "            fim = atendente[\"fim\"] + tempo_descanso\n",
    "\n",
    "            if momento_ligacao + espera_maxima < fim:\n",
    "                ocupado = True\n",
    "            else:\n",
    "                ocupado = False\n",
    "\n",
    "            if not ocupado:\n",
    "\n",
    "                if momento_ligacao + espera_maxima > fim:\n",
    "                    atendente[\"inicio\"] = momento_ligacao + espera_maxima\n",
    "                else:\n",
    "                    atendente[\"inicio\"] = fim\n",
    "                \n",
    "                atendente[\"fim\"] = atendente[\"inicio\"] + tempo_duracao\n",
    "                break\n",
    "        else:\n",
    "\n",
    "            atendente = {\n",
    "                \"inicio\": momento_ligacao,\n",
    "                \"fim\": momento_ligacao + tempo_duracao\n",
    "            }\n",
    "            atendentes.append(atendente)\n",
    "    \n",
    "    nan = len(atendentes)\n",
    "    coluna_nan.append(nan)\n",
    "\n",
    "coluna_nan"
   ]
  },
  {
   "cell_type": "code",
   "execution_count": 378,
   "id": "dbfea982",
   "metadata": {},
   "outputs": [],
   "source": [
    "# Attentus comeca agora primeira coisa é ter o NAN numero de atendentes necessarios, parece que temo NAD tn\n",
    "# tb comsiderar os regiems de traalho 3h, 4h, 6h, \n",
    "# numero de fucnionarios parece que nao impacta no attentus, nao é critico pode jogar la em cima 1000 ex\n",
    "# o que é critico é qtd de funcionarios de cada turno, parece que o numero de funcionario de cada turno tb nao interfere, parece que pode jogar numero alto tb nao interfere eu acho\n"
   ]
  },
  {
   "cell_type": "code",
   "execution_count": 379,
   "id": "b4fddfaa",
   "metadata": {},
   "outputs": [
    {
     "data": {
      "application/vnd.microsoft.datawrangler.viewer.v0+json": {
       "columns": [
        {
         "name": "index",
         "rawType": "int64",
         "type": "integer"
        },
        {
         "name": "rotulo",
         "rawType": "int64",
         "type": "integer"
        },
        {
         "name": "hora_inicio",
         "rawType": "object",
         "type": "unknown"
        },
        {
         "name": "hora_fim",
         "rawType": "object",
         "type": "unknown"
        },
        {
         "name": "numero_medio_ligantes",
         "rawType": "int64",
         "type": "integer"
        },
        {
         "name": "nan",
         "rawType": "int64",
         "type": "integer"
        }
       ],
       "ref": "ca17501c-247c-45b9-a5ab-a27e67bce2a2",
       "rows": [
        [
         "0",
         "1",
         "00:00:00",
         "00:15:00",
         "601",
         "20"
        ],
        [
         "1",
         "2",
         "00:15:00",
         "00:30:00",
         "190",
         "9"
        ],
        [
         "2",
         "3",
         "00:30:00",
         "00:45:00",
         "180",
         "8"
        ],
        [
         "3",
         "4",
         "00:45:00",
         "01:00:00",
         "177",
         "9"
        ],
        [
         "4",
         "5",
         "01:00:00",
         "01:15:00",
         "162",
         "8"
        ],
        [
         "5",
         "6",
         "01:15:00",
         "01:30:00",
         "110",
         "5"
        ],
        [
         "6",
         "7",
         "01:30:00",
         "01:45:00",
         "99",
         "6"
        ],
        [
         "7",
         "8",
         "01:45:00",
         "02:00:00",
         "108",
         "7"
        ],
        [
         "8",
         "9",
         "02:00:00",
         "02:15:00",
         "97",
         "5"
        ],
        [
         "9",
         "10",
         "02:15:00",
         "02:30:00",
         "77",
         "5"
        ],
        [
         "10",
         "11",
         "02:30:00",
         "02:45:00",
         "75",
         "4"
        ],
        [
         "11",
         "12",
         "02:45:00",
         "03:00:00",
         "76",
         "5"
        ],
        [
         "12",
         "13",
         "03:00:00",
         "03:15:00",
         "79",
         "4"
        ],
        [
         "13",
         "14",
         "03:15:00",
         "03:30:00",
         "46",
         "4"
        ],
        [
         "14",
         "15",
         "03:30:00",
         "03:45:00",
         "45",
         "4"
        ],
        [
         "15",
         "16",
         "03:45:00",
         "04:00:00",
         "42",
         "4"
        ],
        [
         "16",
         "17",
         "04:00:00",
         "04:15:00",
         "49",
         "4"
        ],
        [
         "17",
         "18",
         "04:15:00",
         "04:30:00",
         "45",
         "5"
        ],
        [
         "18",
         "19",
         "04:30:00",
         "04:45:00",
         "44",
         "4"
        ],
        [
         "19",
         "20",
         "04:45:00",
         "05:00:00",
         "49",
         "4"
        ],
        [
         "20",
         "21",
         "05:00:00",
         "05:15:00",
         "57",
         "4"
        ],
        [
         "21",
         "22",
         "05:15:00",
         "05:30:00",
         "52",
         "4"
        ],
        [
         "22",
         "23",
         "05:30:00",
         "05:45:00",
         "51",
         "3"
        ],
        [
         "23",
         "24",
         "05:45:00",
         "06:00:00",
         "49",
         "4"
        ],
        [
         "24",
         "25",
         "06:00:00",
         "06:15:00",
         "97",
         "6"
        ],
        [
         "25",
         "26",
         "06:15:00",
         "06:30:00",
         "132",
         "6"
        ],
        [
         "26",
         "27",
         "06:30:00",
         "06:45:00",
         "141",
         "8"
        ],
        [
         "27",
         "28",
         "06:45:00",
         "07:00:00",
         "155",
         "7"
        ],
        [
         "28",
         "29",
         "07:00:00",
         "07:15:00",
         "630",
         "20"
        ],
        [
         "29",
         "30",
         "07:15:00",
         "07:30:00",
         "634",
         "21"
        ],
        [
         "30",
         "31",
         "07:30:00",
         "07:45:00",
         "790",
         "23"
        ],
        [
         "31",
         "32",
         "07:45:00",
         "08:00:00",
         "698",
         "23"
        ],
        [
         "32",
         "33",
         "08:00:00",
         "08:15:00",
         "1570",
         "41"
        ],
        [
         "33",
         "34",
         "08:15:00",
         "08:30:00",
         "1590",
         "41"
        ],
        [
         "34",
         "35",
         "08:30:00",
         "08:45:00",
         "1601",
         "41"
        ],
        [
         "35",
         "36",
         "08:45:00",
         "09:00:00",
         "1700",
         "45"
        ],
        [
         "36",
         "37",
         "09:00:00",
         "09:15:00",
         "2600",
         "66"
        ],
        [
         "37",
         "38",
         "09:15:00",
         "09:30:00",
         "2509",
         "59"
        ],
        [
         "38",
         "39",
         "09:30:00",
         "09:45:00",
         "2603",
         "60"
        ],
        [
         "39",
         "40",
         "09:45:00",
         "10:00:00",
         "2699",
         "67"
        ],
        [
         "40",
         "41",
         "10:00:00",
         "10:15:00",
         "3124",
         "70"
        ],
        [
         "41",
         "42",
         "10:15:00",
         "10:30:00",
         "3135",
         "75"
        ],
        [
         "42",
         "43",
         "10:30:00",
         "10:45:00",
         "3080",
         "71"
        ],
        [
         "43",
         "44",
         "10:45:00",
         "11:00:00",
         "3197",
         "75"
        ],
        [
         "44",
         "45",
         "11:00:00",
         "11:15:00",
         "2890",
         "66"
        ],
        [
         "45",
         "46",
         "11:15:00",
         "11:30:00",
         "2910",
         "64"
        ],
        [
         "46",
         "47",
         "11:30:00",
         "11:45:00",
         "2912",
         "62"
        ],
        [
         "47",
         "48",
         "11:45:00",
         "12:00:00",
         "2870",
         "68"
        ],
        [
         "48",
         "49",
         "12:00:00",
         "12:15:00",
         "2403",
         "57"
        ],
        [
         "49",
         "50",
         "12:15:00",
         "12:30:00",
         "2397",
         "57"
        ]
       ],
       "shape": {
        "columns": 5,
        "rows": 96
       }
      },
      "text/html": [
       "<div>\n",
       "<style scoped>\n",
       "    .dataframe tbody tr th:only-of-type {\n",
       "        vertical-align: middle;\n",
       "    }\n",
       "\n",
       "    .dataframe tbody tr th {\n",
       "        vertical-align: top;\n",
       "    }\n",
       "\n",
       "    .dataframe thead th {\n",
       "        text-align: right;\n",
       "    }\n",
       "</style>\n",
       "<table border=\"1\" class=\"dataframe\">\n",
       "  <thead>\n",
       "    <tr style=\"text-align: right;\">\n",
       "      <th></th>\n",
       "      <th>rotulo</th>\n",
       "      <th>hora_inicio</th>\n",
       "      <th>hora_fim</th>\n",
       "      <th>numero_medio_ligantes</th>\n",
       "      <th>nan</th>\n",
       "    </tr>\n",
       "  </thead>\n",
       "  <tbody>\n",
       "    <tr>\n",
       "      <th>0</th>\n",
       "      <td>1</td>\n",
       "      <td>00:00:00</td>\n",
       "      <td>00:15:00</td>\n",
       "      <td>601</td>\n",
       "      <td>20</td>\n",
       "    </tr>\n",
       "    <tr>\n",
       "      <th>1</th>\n",
       "      <td>2</td>\n",
       "      <td>00:15:00</td>\n",
       "      <td>00:30:00</td>\n",
       "      <td>190</td>\n",
       "      <td>9</td>\n",
       "    </tr>\n",
       "    <tr>\n",
       "      <th>2</th>\n",
       "      <td>3</td>\n",
       "      <td>00:30:00</td>\n",
       "      <td>00:45:00</td>\n",
       "      <td>180</td>\n",
       "      <td>8</td>\n",
       "    </tr>\n",
       "    <tr>\n",
       "      <th>3</th>\n",
       "      <td>4</td>\n",
       "      <td>00:45:00</td>\n",
       "      <td>01:00:00</td>\n",
       "      <td>177</td>\n",
       "      <td>9</td>\n",
       "    </tr>\n",
       "    <tr>\n",
       "      <th>4</th>\n",
       "      <td>5</td>\n",
       "      <td>01:00:00</td>\n",
       "      <td>01:15:00</td>\n",
       "      <td>162</td>\n",
       "      <td>8</td>\n",
       "    </tr>\n",
       "    <tr>\n",
       "      <th>...</th>\n",
       "      <td>...</td>\n",
       "      <td>...</td>\n",
       "      <td>...</td>\n",
       "      <td>...</td>\n",
       "      <td>...</td>\n",
       "    </tr>\n",
       "    <tr>\n",
       "      <th>91</th>\n",
       "      <td>92</td>\n",
       "      <td>22:45:00</td>\n",
       "      <td>23:00:00</td>\n",
       "      <td>920</td>\n",
       "      <td>26</td>\n",
       "    </tr>\n",
       "    <tr>\n",
       "      <th>92</th>\n",
       "      <td>93</td>\n",
       "      <td>23:00:00</td>\n",
       "      <td>23:15:00</td>\n",
       "      <td>897</td>\n",
       "      <td>23</td>\n",
       "    </tr>\n",
       "    <tr>\n",
       "      <th>93</th>\n",
       "      <td>94</td>\n",
       "      <td>23:15:00</td>\n",
       "      <td>23:30:00</td>\n",
       "      <td>571</td>\n",
       "      <td>18</td>\n",
       "    </tr>\n",
       "    <tr>\n",
       "      <th>94</th>\n",
       "      <td>95</td>\n",
       "      <td>23:30:00</td>\n",
       "      <td>23:45:00</td>\n",
       "      <td>560</td>\n",
       "      <td>18</td>\n",
       "    </tr>\n",
       "    <tr>\n",
       "      <th>95</th>\n",
       "      <td>96</td>\n",
       "      <td>23:45:00</td>\n",
       "      <td>00:00:00</td>\n",
       "      <td>590</td>\n",
       "      <td>18</td>\n",
       "    </tr>\n",
       "  </tbody>\n",
       "</table>\n",
       "<p>96 rows × 5 columns</p>\n",
       "</div>"
      ],
      "text/plain": [
       "    rotulo hora_inicio  hora_fim  numero_medio_ligantes  nan\n",
       "0        1    00:00:00  00:15:00                    601   20\n",
       "1        2    00:15:00  00:30:00                    190    9\n",
       "2        3    00:30:00  00:45:00                    180    8\n",
       "3        4    00:45:00  01:00:00                    177    9\n",
       "4        5    01:00:00  01:15:00                    162    8\n",
       "..     ...         ...       ...                    ...  ...\n",
       "91      92    22:45:00  23:00:00                    920   26\n",
       "92      93    23:00:00  23:15:00                    897   23\n",
       "93      94    23:15:00  23:30:00                    571   18\n",
       "94      95    23:30:00  23:45:00                    560   18\n",
       "95      96    23:45:00  00:00:00                    590   18\n",
       "\n",
       "[96 rows x 5 columns]"
      ]
     },
     "execution_count": 379,
     "metadata": {},
     "output_type": "execute_result"
    }
   ],
   "source": [
    "df_tabela_ligantes[\"nan\"] = coluna_nan\n",
    "df_tabela_ligantes"
   ]
  },
  {
   "cell_type": "markdown",
   "id": "386f80bd",
   "metadata": {},
   "source": [
    "--- \n",
    "# Attentus\n"
   ]
  },
  {
   "cell_type": "code",
   "execution_count": 380,
   "id": "4313b6ec",
   "metadata": {},
   "outputs": [],
   "source": [
    "import pulp as plp\n"
   ]
  },
  {
   "cell_type": "code",
   "execution_count": 381,
   "id": "eb6d7024",
   "metadata": {},
   "outputs": [
    {
     "data": {
      "application/vnd.microsoft.datawrangler.viewer.v0+json": {
       "columns": [
        {
         "name": "index",
         "rawType": "int64",
         "type": "integer"
        },
        {
         "name": "rotulo",
         "rawType": "int64",
         "type": "integer"
        },
        {
         "name": "hora_inicio",
         "rawType": "object",
         "type": "unknown"
        },
        {
         "name": "hora_fim",
         "rawType": "object",
         "type": "unknown"
        },
        {
         "name": "numero_medio_ligantes",
         "rawType": "int64",
         "type": "integer"
        },
        {
         "name": "nan",
         "rawType": "int64",
         "type": "integer"
        }
       ],
       "ref": "c65186a9-8c78-4303-b17c-920b1c390670",
       "rows": [
        [
         "0",
         "1",
         "00:00:00",
         "00:15:00",
         "601",
         "20"
        ],
        [
         "1",
         "2",
         "00:15:00",
         "00:30:00",
         "190",
         "9"
        ],
        [
         "2",
         "3",
         "00:30:00",
         "00:45:00",
         "180",
         "8"
        ],
        [
         "3",
         "4",
         "00:45:00",
         "01:00:00",
         "177",
         "9"
        ],
        [
         "4",
         "5",
         "01:00:00",
         "01:15:00",
         "162",
         "8"
        ],
        [
         "5",
         "6",
         "01:15:00",
         "01:30:00",
         "110",
         "5"
        ],
        [
         "6",
         "7",
         "01:30:00",
         "01:45:00",
         "99",
         "6"
        ],
        [
         "7",
         "8",
         "01:45:00",
         "02:00:00",
         "108",
         "7"
        ],
        [
         "8",
         "9",
         "02:00:00",
         "02:15:00",
         "97",
         "5"
        ],
        [
         "9",
         "10",
         "02:15:00",
         "02:30:00",
         "77",
         "5"
        ],
        [
         "10",
         "11",
         "02:30:00",
         "02:45:00",
         "75",
         "4"
        ],
        [
         "11",
         "12",
         "02:45:00",
         "03:00:00",
         "76",
         "5"
        ],
        [
         "12",
         "13",
         "03:00:00",
         "03:15:00",
         "79",
         "4"
        ],
        [
         "13",
         "14",
         "03:15:00",
         "03:30:00",
         "46",
         "4"
        ],
        [
         "14",
         "15",
         "03:30:00",
         "03:45:00",
         "45",
         "4"
        ],
        [
         "15",
         "16",
         "03:45:00",
         "04:00:00",
         "42",
         "4"
        ],
        [
         "16",
         "17",
         "04:00:00",
         "04:15:00",
         "49",
         "4"
        ],
        [
         "17",
         "18",
         "04:15:00",
         "04:30:00",
         "45",
         "5"
        ],
        [
         "18",
         "19",
         "04:30:00",
         "04:45:00",
         "44",
         "4"
        ],
        [
         "19",
         "20",
         "04:45:00",
         "05:00:00",
         "49",
         "4"
        ],
        [
         "20",
         "21",
         "05:00:00",
         "05:15:00",
         "57",
         "4"
        ],
        [
         "21",
         "22",
         "05:15:00",
         "05:30:00",
         "52",
         "4"
        ],
        [
         "22",
         "23",
         "05:30:00",
         "05:45:00",
         "51",
         "3"
        ],
        [
         "23",
         "24",
         "05:45:00",
         "06:00:00",
         "49",
         "4"
        ],
        [
         "24",
         "25",
         "06:00:00",
         "06:15:00",
         "97",
         "6"
        ],
        [
         "25",
         "26",
         "06:15:00",
         "06:30:00",
         "132",
         "6"
        ],
        [
         "26",
         "27",
         "06:30:00",
         "06:45:00",
         "141",
         "8"
        ],
        [
         "27",
         "28",
         "06:45:00",
         "07:00:00",
         "155",
         "7"
        ],
        [
         "28",
         "29",
         "07:00:00",
         "07:15:00",
         "630",
         "20"
        ],
        [
         "29",
         "30",
         "07:15:00",
         "07:30:00",
         "634",
         "21"
        ],
        [
         "30",
         "31",
         "07:30:00",
         "07:45:00",
         "790",
         "23"
        ],
        [
         "31",
         "32",
         "07:45:00",
         "08:00:00",
         "698",
         "23"
        ],
        [
         "32",
         "33",
         "08:00:00",
         "08:15:00",
         "1570",
         "41"
        ],
        [
         "33",
         "34",
         "08:15:00",
         "08:30:00",
         "1590",
         "41"
        ],
        [
         "34",
         "35",
         "08:30:00",
         "08:45:00",
         "1601",
         "41"
        ],
        [
         "35",
         "36",
         "08:45:00",
         "09:00:00",
         "1700",
         "45"
        ],
        [
         "36",
         "37",
         "09:00:00",
         "09:15:00",
         "2600",
         "66"
        ],
        [
         "37",
         "38",
         "09:15:00",
         "09:30:00",
         "2509",
         "59"
        ],
        [
         "38",
         "39",
         "09:30:00",
         "09:45:00",
         "2603",
         "60"
        ],
        [
         "39",
         "40",
         "09:45:00",
         "10:00:00",
         "2699",
         "67"
        ],
        [
         "40",
         "41",
         "10:00:00",
         "10:15:00",
         "3124",
         "70"
        ],
        [
         "41",
         "42",
         "10:15:00",
         "10:30:00",
         "3135",
         "75"
        ],
        [
         "42",
         "43",
         "10:30:00",
         "10:45:00",
         "3080",
         "71"
        ],
        [
         "43",
         "44",
         "10:45:00",
         "11:00:00",
         "3197",
         "75"
        ],
        [
         "44",
         "45",
         "11:00:00",
         "11:15:00",
         "2890",
         "66"
        ],
        [
         "45",
         "46",
         "11:15:00",
         "11:30:00",
         "2910",
         "64"
        ],
        [
         "46",
         "47",
         "11:30:00",
         "11:45:00",
         "2912",
         "62"
        ],
        [
         "47",
         "48",
         "11:45:00",
         "12:00:00",
         "2870",
         "68"
        ],
        [
         "48",
         "49",
         "12:00:00",
         "12:15:00",
         "2403",
         "57"
        ],
        [
         "49",
         "50",
         "12:15:00",
         "12:30:00",
         "2397",
         "57"
        ]
       ],
       "shape": {
        "columns": 5,
        "rows": 96
       }
      },
      "text/html": [
       "<div>\n",
       "<style scoped>\n",
       "    .dataframe tbody tr th:only-of-type {\n",
       "        vertical-align: middle;\n",
       "    }\n",
       "\n",
       "    .dataframe tbody tr th {\n",
       "        vertical-align: top;\n",
       "    }\n",
       "\n",
       "    .dataframe thead th {\n",
       "        text-align: right;\n",
       "    }\n",
       "</style>\n",
       "<table border=\"1\" class=\"dataframe\">\n",
       "  <thead>\n",
       "    <tr style=\"text-align: right;\">\n",
       "      <th></th>\n",
       "      <th>rotulo</th>\n",
       "      <th>hora_inicio</th>\n",
       "      <th>hora_fim</th>\n",
       "      <th>numero_medio_ligantes</th>\n",
       "      <th>nan</th>\n",
       "    </tr>\n",
       "  </thead>\n",
       "  <tbody>\n",
       "    <tr>\n",
       "      <th>0</th>\n",
       "      <td>1</td>\n",
       "      <td>00:00:00</td>\n",
       "      <td>00:15:00</td>\n",
       "      <td>601</td>\n",
       "      <td>20</td>\n",
       "    </tr>\n",
       "    <tr>\n",
       "      <th>1</th>\n",
       "      <td>2</td>\n",
       "      <td>00:15:00</td>\n",
       "      <td>00:30:00</td>\n",
       "      <td>190</td>\n",
       "      <td>9</td>\n",
       "    </tr>\n",
       "    <tr>\n",
       "      <th>2</th>\n",
       "      <td>3</td>\n",
       "      <td>00:30:00</td>\n",
       "      <td>00:45:00</td>\n",
       "      <td>180</td>\n",
       "      <td>8</td>\n",
       "    </tr>\n",
       "    <tr>\n",
       "      <th>3</th>\n",
       "      <td>4</td>\n",
       "      <td>00:45:00</td>\n",
       "      <td>01:00:00</td>\n",
       "      <td>177</td>\n",
       "      <td>9</td>\n",
       "    </tr>\n",
       "    <tr>\n",
       "      <th>4</th>\n",
       "      <td>5</td>\n",
       "      <td>01:00:00</td>\n",
       "      <td>01:15:00</td>\n",
       "      <td>162</td>\n",
       "      <td>8</td>\n",
       "    </tr>\n",
       "    <tr>\n",
       "      <th>...</th>\n",
       "      <td>...</td>\n",
       "      <td>...</td>\n",
       "      <td>...</td>\n",
       "      <td>...</td>\n",
       "      <td>...</td>\n",
       "    </tr>\n",
       "    <tr>\n",
       "      <th>91</th>\n",
       "      <td>92</td>\n",
       "      <td>22:45:00</td>\n",
       "      <td>23:00:00</td>\n",
       "      <td>920</td>\n",
       "      <td>26</td>\n",
       "    </tr>\n",
       "    <tr>\n",
       "      <th>92</th>\n",
       "      <td>93</td>\n",
       "      <td>23:00:00</td>\n",
       "      <td>23:15:00</td>\n",
       "      <td>897</td>\n",
       "      <td>23</td>\n",
       "    </tr>\n",
       "    <tr>\n",
       "      <th>93</th>\n",
       "      <td>94</td>\n",
       "      <td>23:15:00</td>\n",
       "      <td>23:30:00</td>\n",
       "      <td>571</td>\n",
       "      <td>18</td>\n",
       "    </tr>\n",
       "    <tr>\n",
       "      <th>94</th>\n",
       "      <td>95</td>\n",
       "      <td>23:30:00</td>\n",
       "      <td>23:45:00</td>\n",
       "      <td>560</td>\n",
       "      <td>18</td>\n",
       "    </tr>\n",
       "    <tr>\n",
       "      <th>95</th>\n",
       "      <td>96</td>\n",
       "      <td>23:45:00</td>\n",
       "      <td>00:00:00</td>\n",
       "      <td>590</td>\n",
       "      <td>18</td>\n",
       "    </tr>\n",
       "  </tbody>\n",
       "</table>\n",
       "<p>96 rows × 5 columns</p>\n",
       "</div>"
      ],
      "text/plain": [
       "    rotulo hora_inicio  hora_fim  numero_medio_ligantes  nan\n",
       "0        1    00:00:00  00:15:00                    601   20\n",
       "1        2    00:15:00  00:30:00                    190    9\n",
       "2        3    00:30:00  00:45:00                    180    8\n",
       "3        4    00:45:00  01:00:00                    177    9\n",
       "4        5    01:00:00  01:15:00                    162    8\n",
       "..     ...         ...       ...                    ...  ...\n",
       "91      92    22:45:00  23:00:00                    920   26\n",
       "92      93    23:00:00  23:15:00                    897   23\n",
       "93      94    23:15:00  23:30:00                    571   18\n",
       "94      95    23:30:00  23:45:00                    560   18\n",
       "95      96    23:45:00  00:00:00                    590   18\n",
       "\n",
       "[96 rows x 5 columns]"
      ]
     },
     "execution_count": 381,
     "metadata": {},
     "output_type": "execute_result"
    }
   ],
   "source": [
    "df_nan = df_tabela_ligantes.copy()\n",
    "df_nan"
   ]
  },
  {
   "cell_type": "code",
   "execution_count": 382,
   "id": "e6599f33",
   "metadata": {},
   "outputs": [
    {
     "data": {
      "application/vnd.microsoft.datawrangler.viewer.v0+json": {
       "columns": [
        {
         "name": "index",
         "rawType": "int64",
         "type": "integer"
        },
        {
         "name": "regime",
         "rawType": "int64",
         "type": "integer"
        },
        {
         "name": "enc",
         "rawType": "int64",
         "type": "integer"
        }
       ],
       "ref": "8d1e557b-8bb6-4a2a-a9d2-4143fde4107e",
       "rows": [
        [
         "0",
         "3",
         "540"
        ],
        [
         "1",
         "4",
         "680"
        ],
        [
         "2",
         "6",
         "960"
        ]
       ],
       "shape": {
        "columns": 2,
        "rows": 3
       }
      },
      "text/html": [
       "<div>\n",
       "<style scoped>\n",
       "    .dataframe tbody tr th:only-of-type {\n",
       "        vertical-align: middle;\n",
       "    }\n",
       "\n",
       "    .dataframe tbody tr th {\n",
       "        vertical-align: top;\n",
       "    }\n",
       "\n",
       "    .dataframe thead th {\n",
       "        text-align: right;\n",
       "    }\n",
       "</style>\n",
       "<table border=\"1\" class=\"dataframe\">\n",
       "  <thead>\n",
       "    <tr style=\"text-align: right;\">\n",
       "      <th></th>\n",
       "      <th>regime</th>\n",
       "      <th>enc</th>\n",
       "    </tr>\n",
       "  </thead>\n",
       "  <tbody>\n",
       "    <tr>\n",
       "      <th>0</th>\n",
       "      <td>3</td>\n",
       "      <td>540</td>\n",
       "    </tr>\n",
       "    <tr>\n",
       "      <th>1</th>\n",
       "      <td>4</td>\n",
       "      <td>680</td>\n",
       "    </tr>\n",
       "    <tr>\n",
       "      <th>2</th>\n",
       "      <td>6</td>\n",
       "      <td>960</td>\n",
       "    </tr>\n",
       "  </tbody>\n",
       "</table>\n",
       "</div>"
      ],
      "text/plain": [
       "   regime  enc\n",
       "0       3  540\n",
       "1       4  680\n",
       "2       6  960"
      ]
     },
     "execution_count": 382,
     "metadata": {},
     "output_type": "execute_result"
    }
   ],
   "source": [
    "#df nad tem que importar, é um arquivo excell\n",
    "df_nad = pd.read_excel(\n",
    "    os.path.join(\"dados\", \"nad.xlsx\")\n",
    ")\n",
    "df_nad\n",
    "# enc é o encargo acho, por cada trabalahdor\n",
    "# por nad alto por que se for baixa ele fica dando unfeasable\n"
   ]
  },
  {
   "cell_type": "code",
   "execution_count": 383,
   "id": "e97eb22c",
   "metadata": {},
   "outputs": [],
   "source": [
    "# montar a F.O agora\n",
    "from itertools import product\n"
   ]
  },
  {
   "cell_type": "code",
   "execution_count": 384,
   "id": "f5dd994e",
   "metadata": {},
   "outputs": [
    {
     "data": {
      "application/vnd.microsoft.datawrangler.viewer.v0+json": {
       "columns": [
        {
         "name": "index",
         "rawType": "int64",
         "type": "integer"
        },
        {
         "name": "regime",
         "rawType": "int64",
         "type": "integer"
        },
        {
         "name": "enc",
         "rawType": "int64",
         "type": "integer"
        }
       ],
       "ref": "89b26552-93bf-47ce-be55-da504633946e",
       "rows": [
        [
         "0",
         "3",
         "540"
        ],
        [
         "1",
         "4",
         "680"
        ],
        [
         "2",
         "6",
         "960"
        ]
       ],
       "shape": {
        "columns": 2,
        "rows": 3
       }
      },
      "text/html": [
       "<div>\n",
       "<style scoped>\n",
       "    .dataframe tbody tr th:only-of-type {\n",
       "        vertical-align: middle;\n",
       "    }\n",
       "\n",
       "    .dataframe tbody tr th {\n",
       "        vertical-align: top;\n",
       "    }\n",
       "\n",
       "    .dataframe thead th {\n",
       "        text-align: right;\n",
       "    }\n",
       "</style>\n",
       "<table border=\"1\" class=\"dataframe\">\n",
       "  <thead>\n",
       "    <tr style=\"text-align: right;\">\n",
       "      <th></th>\n",
       "      <th>regime</th>\n",
       "      <th>enc</th>\n",
       "    </tr>\n",
       "  </thead>\n",
       "  <tbody>\n",
       "    <tr>\n",
       "      <th>0</th>\n",
       "      <td>3</td>\n",
       "      <td>540</td>\n",
       "    </tr>\n",
       "    <tr>\n",
       "      <th>1</th>\n",
       "      <td>4</td>\n",
       "      <td>680</td>\n",
       "    </tr>\n",
       "    <tr>\n",
       "      <th>2</th>\n",
       "      <td>6</td>\n",
       "      <td>960</td>\n",
       "    </tr>\n",
       "  </tbody>\n",
       "</table>\n",
       "</div>"
      ],
      "text/plain": [
       "   regime  enc\n",
       "0       3  540\n",
       "1       4  680\n",
       "2       6  960"
      ]
     },
     "execution_count": 384,
     "metadata": {},
     "output_type": "execute_result"
    }
   ],
   "source": [
    "df_nad"
   ]
  },
  {
   "cell_type": "code",
   "execution_count": 385,
   "id": "7667edb0",
   "metadata": {},
   "outputs": [
    {
     "data": {
      "application/vnd.microsoft.datawrangler.viewer.v0+json": {
       "columns": [
        {
         "name": "index",
         "rawType": "int64",
         "type": "integer"
        },
        {
         "name": "regime",
         "rawType": "int64",
         "type": "integer"
        }
       ],
       "ref": "def32692-8873-49a9-9690-129b83bce68f",
       "rows": [
        [
         "0",
         "3"
        ],
        [
         "1",
         "4"
        ],
        [
         "2",
         "6"
        ]
       ],
       "shape": {
        "columns": 1,
        "rows": 3
       }
      },
      "text/plain": [
       "0    3\n",
       "1    4\n",
       "2    6\n",
       "Name: regime, dtype: int64"
      ]
     },
     "execution_count": 385,
     "metadata": {},
     "output_type": "execute_result"
    }
   ],
   "source": [
    "df_nad[\"regime\"]"
   ]
  },
  {
   "cell_type": "code",
   "execution_count": 386,
   "id": "cc3d9d8f",
   "metadata": {},
   "outputs": [
    {
     "data": {
      "text/plain": [
       "{0: 3, 1: 4, 2: 6}"
      ]
     },
     "execution_count": 386,
     "metadata": {},
     "output_type": "execute_result"
    }
   ],
   "source": [
    "regimes = \\\n",
    "    df_nad[\"regime\"].to_dict()\n",
    "regimes"
   ]
  },
  {
   "cell_type": "code",
   "execution_count": 387,
   "id": "ff12ee0c",
   "metadata": {},
   "outputs": [
    {
     "data": {
      "text/plain": [
       "{0: datetime.time(0, 0),\n",
       " 1: datetime.time(0, 15),\n",
       " 2: datetime.time(0, 30),\n",
       " 3: datetime.time(0, 45),\n",
       " 4: datetime.time(1, 0),\n",
       " 5: datetime.time(1, 15),\n",
       " 6: datetime.time(1, 30),\n",
       " 7: datetime.time(1, 45),\n",
       " 8: datetime.time(2, 0),\n",
       " 9: datetime.time(2, 15),\n",
       " 10: datetime.time(2, 30),\n",
       " 11: datetime.time(2, 45),\n",
       " 12: datetime.time(3, 0),\n",
       " 13: datetime.time(3, 15),\n",
       " 14: datetime.time(3, 30),\n",
       " 15: datetime.time(3, 45),\n",
       " 16: datetime.time(4, 0),\n",
       " 17: datetime.time(4, 15),\n",
       " 18: datetime.time(4, 30),\n",
       " 19: datetime.time(4, 45),\n",
       " 20: datetime.time(5, 0),\n",
       " 21: datetime.time(5, 15),\n",
       " 22: datetime.time(5, 30),\n",
       " 23: datetime.time(5, 45),\n",
       " 24: datetime.time(6, 0),\n",
       " 25: datetime.time(6, 15),\n",
       " 26: datetime.time(6, 30),\n",
       " 27: datetime.time(6, 45),\n",
       " 28: datetime.time(7, 0),\n",
       " 29: datetime.time(7, 15),\n",
       " 30: datetime.time(7, 30),\n",
       " 31: datetime.time(7, 45),\n",
       " 32: datetime.time(8, 0),\n",
       " 33: datetime.time(8, 15),\n",
       " 34: datetime.time(8, 30),\n",
       " 35: datetime.time(8, 45),\n",
       " 36: datetime.time(9, 0),\n",
       " 37: datetime.time(9, 15),\n",
       " 38: datetime.time(9, 30),\n",
       " 39: datetime.time(9, 45),\n",
       " 40: datetime.time(10, 0),\n",
       " 41: datetime.time(10, 15),\n",
       " 42: datetime.time(10, 30),\n",
       " 43: datetime.time(10, 45),\n",
       " 44: datetime.time(11, 0),\n",
       " 45: datetime.time(11, 15),\n",
       " 46: datetime.time(11, 30),\n",
       " 47: datetime.time(11, 45),\n",
       " 48: datetime.time(12, 0),\n",
       " 49: datetime.time(12, 15),\n",
       " 50: datetime.time(12, 30),\n",
       " 51: datetime.time(12, 45),\n",
       " 52: datetime.time(13, 0),\n",
       " 53: datetime.time(13, 15),\n",
       " 54: datetime.time(13, 30),\n",
       " 55: datetime.time(13, 45),\n",
       " 56: datetime.time(14, 0),\n",
       " 57: datetime.time(14, 15),\n",
       " 58: datetime.time(14, 30),\n",
       " 59: datetime.time(14, 45),\n",
       " 60: datetime.time(15, 0),\n",
       " 61: datetime.time(15, 15),\n",
       " 62: datetime.time(15, 30),\n",
       " 63: datetime.time(15, 45),\n",
       " 64: datetime.time(16, 0),\n",
       " 65: datetime.time(16, 15),\n",
       " 66: datetime.time(16, 30),\n",
       " 67: datetime.time(16, 45),\n",
       " 68: datetime.time(17, 0),\n",
       " 69: datetime.time(17, 15),\n",
       " 70: datetime.time(17, 30),\n",
       " 71: datetime.time(17, 45),\n",
       " 72: datetime.time(18, 0),\n",
       " 73: datetime.time(18, 15),\n",
       " 74: datetime.time(18, 30),\n",
       " 75: datetime.time(18, 45),\n",
       " 76: datetime.time(19, 0),\n",
       " 77: datetime.time(19, 15),\n",
       " 78: datetime.time(19, 30),\n",
       " 79: datetime.time(19, 45),\n",
       " 80: datetime.time(20, 0),\n",
       " 81: datetime.time(20, 15),\n",
       " 82: datetime.time(20, 30),\n",
       " 83: datetime.time(20, 45),\n",
       " 84: datetime.time(21, 0),\n",
       " 85: datetime.time(21, 15),\n",
       " 86: datetime.time(21, 30),\n",
       " 87: datetime.time(21, 45),\n",
       " 88: datetime.time(22, 0),\n",
       " 89: datetime.time(22, 15),\n",
       " 90: datetime.time(22, 30),\n",
       " 91: datetime.time(22, 45),\n",
       " 92: datetime.time(23, 0),\n",
       " 93: datetime.time(23, 15),\n",
       " 94: datetime.time(23, 30),\n",
       " 95: datetime.time(23, 45)}"
      ]
     },
     "execution_count": 387,
     "metadata": {},
     "output_type": "execute_result"
    }
   ],
   "source": [
    "inicios = \\\n",
    "    df_nan[\"hora_inicio\"].to_dict()\n",
    "inicios"
   ]
  },
  {
   "cell_type": "code",
   "execution_count": 388,
   "id": "f1767152",
   "metadata": {},
   "outputs": [
    {
     "data": {
      "text/plain": [
       "[(0, 0),\n",
       " (0, 1),\n",
       " (0, 2),\n",
       " (0, 3),\n",
       " (0, 4),\n",
       " (0, 5),\n",
       " (0, 6),\n",
       " (0, 7),\n",
       " (0, 8),\n",
       " (0, 9),\n",
       " (0, 10),\n",
       " (0, 11),\n",
       " (0, 12),\n",
       " (0, 13),\n",
       " (0, 14),\n",
       " (0, 15),\n",
       " (0, 16),\n",
       " (0, 17),\n",
       " (0, 18),\n",
       " (0, 19),\n",
       " (0, 20),\n",
       " (0, 21),\n",
       " (0, 22),\n",
       " (0, 23),\n",
       " (0, 24),\n",
       " (0, 25),\n",
       " (0, 26),\n",
       " (0, 27),\n",
       " (0, 28),\n",
       " (0, 29),\n",
       " (0, 30),\n",
       " (0, 31),\n",
       " (0, 32),\n",
       " (0, 33),\n",
       " (0, 34),\n",
       " (0, 35),\n",
       " (0, 36),\n",
       " (0, 37),\n",
       " (0, 38),\n",
       " (0, 39),\n",
       " (0, 40),\n",
       " (0, 41),\n",
       " (0, 42),\n",
       " (0, 43),\n",
       " (0, 44),\n",
       " (0, 45),\n",
       " (0, 46),\n",
       " (0, 47),\n",
       " (0, 48),\n",
       " (0, 49),\n",
       " (0, 50),\n",
       " (0, 51),\n",
       " (0, 52),\n",
       " (0, 53),\n",
       " (0, 54),\n",
       " (0, 55),\n",
       " (0, 56),\n",
       " (0, 57),\n",
       " (0, 58),\n",
       " (0, 59),\n",
       " (0, 60),\n",
       " (0, 61),\n",
       " (0, 62),\n",
       " (0, 63),\n",
       " (0, 64),\n",
       " (0, 65),\n",
       " (0, 66),\n",
       " (0, 67),\n",
       " (0, 68),\n",
       " (0, 69),\n",
       " (0, 70),\n",
       " (0, 71),\n",
       " (0, 72),\n",
       " (0, 73),\n",
       " (0, 74),\n",
       " (0, 75),\n",
       " (0, 76),\n",
       " (0, 77),\n",
       " (0, 78),\n",
       " (0, 79),\n",
       " (0, 80),\n",
       " (0, 81),\n",
       " (0, 82),\n",
       " (0, 83),\n",
       " (0, 84),\n",
       " (0, 85),\n",
       " (0, 86),\n",
       " (0, 87),\n",
       " (0, 88),\n",
       " (0, 89),\n",
       " (0, 90),\n",
       " (0, 91),\n",
       " (0, 92),\n",
       " (0, 93),\n",
       " (0, 94),\n",
       " (0, 95),\n",
       " (1, 0),\n",
       " (1, 1),\n",
       " (1, 2),\n",
       " (1, 3),\n",
       " (1, 4),\n",
       " (1, 5),\n",
       " (1, 6),\n",
       " (1, 7),\n",
       " (1, 8),\n",
       " (1, 9),\n",
       " (1, 10),\n",
       " (1, 11),\n",
       " (1, 12),\n",
       " (1, 13),\n",
       " (1, 14),\n",
       " (1, 15),\n",
       " (1, 16),\n",
       " (1, 17),\n",
       " (1, 18),\n",
       " (1, 19),\n",
       " (1, 20),\n",
       " (1, 21),\n",
       " (1, 22),\n",
       " (1, 23),\n",
       " (1, 24),\n",
       " (1, 25),\n",
       " (1, 26),\n",
       " (1, 27),\n",
       " (1, 28),\n",
       " (1, 29),\n",
       " (1, 30),\n",
       " (1, 31),\n",
       " (1, 32),\n",
       " (1, 33),\n",
       " (1, 34),\n",
       " (1, 35),\n",
       " (1, 36),\n",
       " (1, 37),\n",
       " (1, 38),\n",
       " (1, 39),\n",
       " (1, 40),\n",
       " (1, 41),\n",
       " (1, 42),\n",
       " (1, 43),\n",
       " (1, 44),\n",
       " (1, 45),\n",
       " (1, 46),\n",
       " (1, 47),\n",
       " (1, 48),\n",
       " (1, 49),\n",
       " (1, 50),\n",
       " (1, 51),\n",
       " (1, 52),\n",
       " (1, 53),\n",
       " (1, 54),\n",
       " (1, 55),\n",
       " (1, 56),\n",
       " (1, 57),\n",
       " (1, 58),\n",
       " (1, 59),\n",
       " (1, 60),\n",
       " (1, 61),\n",
       " (1, 62),\n",
       " (1, 63),\n",
       " (1, 64),\n",
       " (1, 65),\n",
       " (1, 66),\n",
       " (1, 67),\n",
       " (1, 68),\n",
       " (1, 69),\n",
       " (1, 70),\n",
       " (1, 71),\n",
       " (1, 72),\n",
       " (1, 73),\n",
       " (1, 74),\n",
       " (1, 75),\n",
       " (1, 76),\n",
       " (1, 77),\n",
       " (1, 78),\n",
       " (1, 79),\n",
       " (1, 80),\n",
       " (1, 81),\n",
       " (1, 82),\n",
       " (1, 83),\n",
       " (1, 84),\n",
       " (1, 85),\n",
       " (1, 86),\n",
       " (1, 87),\n",
       " (1, 88),\n",
       " (1, 89),\n",
       " (1, 90),\n",
       " (1, 91),\n",
       " (1, 92),\n",
       " (1, 93),\n",
       " (1, 94),\n",
       " (1, 95),\n",
       " (2, 0),\n",
       " (2, 1),\n",
       " (2, 2),\n",
       " (2, 3),\n",
       " (2, 4),\n",
       " (2, 5),\n",
       " (2, 6),\n",
       " (2, 7),\n",
       " (2, 8),\n",
       " (2, 9),\n",
       " (2, 10),\n",
       " (2, 11),\n",
       " (2, 12),\n",
       " (2, 13),\n",
       " (2, 14),\n",
       " (2, 15),\n",
       " (2, 16),\n",
       " (2, 17),\n",
       " (2, 18),\n",
       " (2, 19),\n",
       " (2, 20),\n",
       " (2, 21),\n",
       " (2, 22),\n",
       " (2, 23),\n",
       " (2, 24),\n",
       " (2, 25),\n",
       " (2, 26),\n",
       " (2, 27),\n",
       " (2, 28),\n",
       " (2, 29),\n",
       " (2, 30),\n",
       " (2, 31),\n",
       " (2, 32),\n",
       " (2, 33),\n",
       " (2, 34),\n",
       " (2, 35),\n",
       " (2, 36),\n",
       " (2, 37),\n",
       " (2, 38),\n",
       " (2, 39),\n",
       " (2, 40),\n",
       " (2, 41),\n",
       " (2, 42),\n",
       " (2, 43),\n",
       " (2, 44),\n",
       " (2, 45),\n",
       " (2, 46),\n",
       " (2, 47),\n",
       " (2, 48),\n",
       " (2, 49),\n",
       " (2, 50),\n",
       " (2, 51),\n",
       " (2, 52),\n",
       " (2, 53),\n",
       " (2, 54),\n",
       " (2, 55),\n",
       " (2, 56),\n",
       " (2, 57),\n",
       " (2, 58),\n",
       " (2, 59),\n",
       " (2, 60),\n",
       " (2, 61),\n",
       " (2, 62),\n",
       " (2, 63),\n",
       " (2, 64),\n",
       " (2, 65),\n",
       " (2, 66),\n",
       " (2, 67),\n",
       " (2, 68),\n",
       " (2, 69),\n",
       " (2, 70),\n",
       " (2, 71),\n",
       " (2, 72),\n",
       " (2, 73),\n",
       " (2, 74),\n",
       " (2, 75),\n",
       " (2, 76),\n",
       " (2, 77),\n",
       " (2, 78),\n",
       " (2, 79),\n",
       " (2, 80),\n",
       " (2, 81),\n",
       " (2, 82),\n",
       " (2, 83),\n",
       " (2, 84),\n",
       " (2, 85),\n",
       " (2, 86),\n",
       " (2, 87),\n",
       " (2, 88),\n",
       " (2, 89),\n",
       " (2, 90),\n",
       " (2, 91),\n",
       " (2, 92),\n",
       " (2, 93),\n",
       " (2, 94),\n",
       " (2, 95)]"
      ]
     },
     "execution_count": 388,
     "metadata": {},
     "output_type": "execute_result"
    }
   ],
   "source": [
    "# combinação de um com todos e todos com de incios com regimes , product que faz isso\n",
    "# vou fazer o product entre os indices e nao pelos nomes indice de 0 a 2 e de 0 a 96\n",
    "lista_variaveis = list(product(regimes, inicios))\n",
    "lista_variaveis # as vartiaveis tem que se somar para ser as variaveis, e tupla nao soma com tupla precisamos mudar os dados para o pulp para cirar a variavell"
   ]
  },
  {
   "cell_type": "code",
   "execution_count": 389,
   "id": "d7166b37",
   "metadata": {},
   "outputs": [
    {
     "data": {
      "text/plain": [
       "Attentus:\n",
       "MINIMIZE\n",
       "None\n",
       "VARIABLES"
      ]
     },
     "execution_count": 389,
     "metadata": {},
     "output_type": "execute_result"
    }
   ],
   "source": [
    "prob = plp.LpProblem(\n",
    "    name=\"Attentus\", sense=plp.LpMinimize\n",
    ")\n",
    "prob"
   ]
  },
  {
   "cell_type": "code",
   "execution_count": 390,
   "id": "731aec02",
   "metadata": {},
   "outputs": [
    {
     "data": {
      "text/plain": [
       "{(0, 0): A_(0,_0),\n",
       " (0, 1): A_(0,_1),\n",
       " (0, 2): A_(0,_2),\n",
       " (0, 3): A_(0,_3),\n",
       " (0, 4): A_(0,_4),\n",
       " (0, 5): A_(0,_5),\n",
       " (0, 6): A_(0,_6),\n",
       " (0, 7): A_(0,_7),\n",
       " (0, 8): A_(0,_8),\n",
       " (0, 9): A_(0,_9),\n",
       " (0, 10): A_(0,_10),\n",
       " (0, 11): A_(0,_11),\n",
       " (0, 12): A_(0,_12),\n",
       " (0, 13): A_(0,_13),\n",
       " (0, 14): A_(0,_14),\n",
       " (0, 15): A_(0,_15),\n",
       " (0, 16): A_(0,_16),\n",
       " (0, 17): A_(0,_17),\n",
       " (0, 18): A_(0,_18),\n",
       " (0, 19): A_(0,_19),\n",
       " (0, 20): A_(0,_20),\n",
       " (0, 21): A_(0,_21),\n",
       " (0, 22): A_(0,_22),\n",
       " (0, 23): A_(0,_23),\n",
       " (0, 24): A_(0,_24),\n",
       " (0, 25): A_(0,_25),\n",
       " (0, 26): A_(0,_26),\n",
       " (0, 27): A_(0,_27),\n",
       " (0, 28): A_(0,_28),\n",
       " (0, 29): A_(0,_29),\n",
       " (0, 30): A_(0,_30),\n",
       " (0, 31): A_(0,_31),\n",
       " (0, 32): A_(0,_32),\n",
       " (0, 33): A_(0,_33),\n",
       " (0, 34): A_(0,_34),\n",
       " (0, 35): A_(0,_35),\n",
       " (0, 36): A_(0,_36),\n",
       " (0, 37): A_(0,_37),\n",
       " (0, 38): A_(0,_38),\n",
       " (0, 39): A_(0,_39),\n",
       " (0, 40): A_(0,_40),\n",
       " (0, 41): A_(0,_41),\n",
       " (0, 42): A_(0,_42),\n",
       " (0, 43): A_(0,_43),\n",
       " (0, 44): A_(0,_44),\n",
       " (0, 45): A_(0,_45),\n",
       " (0, 46): A_(0,_46),\n",
       " (0, 47): A_(0,_47),\n",
       " (0, 48): A_(0,_48),\n",
       " (0, 49): A_(0,_49),\n",
       " (0, 50): A_(0,_50),\n",
       " (0, 51): A_(0,_51),\n",
       " (0, 52): A_(0,_52),\n",
       " (0, 53): A_(0,_53),\n",
       " (0, 54): A_(0,_54),\n",
       " (0, 55): A_(0,_55),\n",
       " (0, 56): A_(0,_56),\n",
       " (0, 57): A_(0,_57),\n",
       " (0, 58): A_(0,_58),\n",
       " (0, 59): A_(0,_59),\n",
       " (0, 60): A_(0,_60),\n",
       " (0, 61): A_(0,_61),\n",
       " (0, 62): A_(0,_62),\n",
       " (0, 63): A_(0,_63),\n",
       " (0, 64): A_(0,_64),\n",
       " (0, 65): A_(0,_65),\n",
       " (0, 66): A_(0,_66),\n",
       " (0, 67): A_(0,_67),\n",
       " (0, 68): A_(0,_68),\n",
       " (0, 69): A_(0,_69),\n",
       " (0, 70): A_(0,_70),\n",
       " (0, 71): A_(0,_71),\n",
       " (0, 72): A_(0,_72),\n",
       " (0, 73): A_(0,_73),\n",
       " (0, 74): A_(0,_74),\n",
       " (0, 75): A_(0,_75),\n",
       " (0, 76): A_(0,_76),\n",
       " (0, 77): A_(0,_77),\n",
       " (0, 78): A_(0,_78),\n",
       " (0, 79): A_(0,_79),\n",
       " (0, 80): A_(0,_80),\n",
       " (0, 81): A_(0,_81),\n",
       " (0, 82): A_(0,_82),\n",
       " (0, 83): A_(0,_83),\n",
       " (0, 84): A_(0,_84),\n",
       " (0, 85): A_(0,_85),\n",
       " (0, 86): A_(0,_86),\n",
       " (0, 87): A_(0,_87),\n",
       " (0, 88): A_(0,_88),\n",
       " (0, 89): A_(0,_89),\n",
       " (0, 90): A_(0,_90),\n",
       " (0, 91): A_(0,_91),\n",
       " (0, 92): A_(0,_92),\n",
       " (0, 93): A_(0,_93),\n",
       " (0, 94): A_(0,_94),\n",
       " (0, 95): A_(0,_95),\n",
       " (1, 0): A_(1,_0),\n",
       " (1, 1): A_(1,_1),\n",
       " (1, 2): A_(1,_2),\n",
       " (1, 3): A_(1,_3),\n",
       " (1, 4): A_(1,_4),\n",
       " (1, 5): A_(1,_5),\n",
       " (1, 6): A_(1,_6),\n",
       " (1, 7): A_(1,_7),\n",
       " (1, 8): A_(1,_8),\n",
       " (1, 9): A_(1,_9),\n",
       " (1, 10): A_(1,_10),\n",
       " (1, 11): A_(1,_11),\n",
       " (1, 12): A_(1,_12),\n",
       " (1, 13): A_(1,_13),\n",
       " (1, 14): A_(1,_14),\n",
       " (1, 15): A_(1,_15),\n",
       " (1, 16): A_(1,_16),\n",
       " (1, 17): A_(1,_17),\n",
       " (1, 18): A_(1,_18),\n",
       " (1, 19): A_(1,_19),\n",
       " (1, 20): A_(1,_20),\n",
       " (1, 21): A_(1,_21),\n",
       " (1, 22): A_(1,_22),\n",
       " (1, 23): A_(1,_23),\n",
       " (1, 24): A_(1,_24),\n",
       " (1, 25): A_(1,_25),\n",
       " (1, 26): A_(1,_26),\n",
       " (1, 27): A_(1,_27),\n",
       " (1, 28): A_(1,_28),\n",
       " (1, 29): A_(1,_29),\n",
       " (1, 30): A_(1,_30),\n",
       " (1, 31): A_(1,_31),\n",
       " (1, 32): A_(1,_32),\n",
       " (1, 33): A_(1,_33),\n",
       " (1, 34): A_(1,_34),\n",
       " (1, 35): A_(1,_35),\n",
       " (1, 36): A_(1,_36),\n",
       " (1, 37): A_(1,_37),\n",
       " (1, 38): A_(1,_38),\n",
       " (1, 39): A_(1,_39),\n",
       " (1, 40): A_(1,_40),\n",
       " (1, 41): A_(1,_41),\n",
       " (1, 42): A_(1,_42),\n",
       " (1, 43): A_(1,_43),\n",
       " (1, 44): A_(1,_44),\n",
       " (1, 45): A_(1,_45),\n",
       " (1, 46): A_(1,_46),\n",
       " (1, 47): A_(1,_47),\n",
       " (1, 48): A_(1,_48),\n",
       " (1, 49): A_(1,_49),\n",
       " (1, 50): A_(1,_50),\n",
       " (1, 51): A_(1,_51),\n",
       " (1, 52): A_(1,_52),\n",
       " (1, 53): A_(1,_53),\n",
       " (1, 54): A_(1,_54),\n",
       " (1, 55): A_(1,_55),\n",
       " (1, 56): A_(1,_56),\n",
       " (1, 57): A_(1,_57),\n",
       " (1, 58): A_(1,_58),\n",
       " (1, 59): A_(1,_59),\n",
       " (1, 60): A_(1,_60),\n",
       " (1, 61): A_(1,_61),\n",
       " (1, 62): A_(1,_62),\n",
       " (1, 63): A_(1,_63),\n",
       " (1, 64): A_(1,_64),\n",
       " (1, 65): A_(1,_65),\n",
       " (1, 66): A_(1,_66),\n",
       " (1, 67): A_(1,_67),\n",
       " (1, 68): A_(1,_68),\n",
       " (1, 69): A_(1,_69),\n",
       " (1, 70): A_(1,_70),\n",
       " (1, 71): A_(1,_71),\n",
       " (1, 72): A_(1,_72),\n",
       " (1, 73): A_(1,_73),\n",
       " (1, 74): A_(1,_74),\n",
       " (1, 75): A_(1,_75),\n",
       " (1, 76): A_(1,_76),\n",
       " (1, 77): A_(1,_77),\n",
       " (1, 78): A_(1,_78),\n",
       " (1, 79): A_(1,_79),\n",
       " (1, 80): A_(1,_80),\n",
       " (1, 81): A_(1,_81),\n",
       " (1, 82): A_(1,_82),\n",
       " (1, 83): A_(1,_83),\n",
       " (1, 84): A_(1,_84),\n",
       " (1, 85): A_(1,_85),\n",
       " (1, 86): A_(1,_86),\n",
       " (1, 87): A_(1,_87),\n",
       " (1, 88): A_(1,_88),\n",
       " (1, 89): A_(1,_89),\n",
       " (1, 90): A_(1,_90),\n",
       " (1, 91): A_(1,_91),\n",
       " (1, 92): A_(1,_92),\n",
       " (1, 93): A_(1,_93),\n",
       " (1, 94): A_(1,_94),\n",
       " (1, 95): A_(1,_95),\n",
       " (2, 0): A_(2,_0),\n",
       " (2, 1): A_(2,_1),\n",
       " (2, 2): A_(2,_2),\n",
       " (2, 3): A_(2,_3),\n",
       " (2, 4): A_(2,_4),\n",
       " (2, 5): A_(2,_5),\n",
       " (2, 6): A_(2,_6),\n",
       " (2, 7): A_(2,_7),\n",
       " (2, 8): A_(2,_8),\n",
       " (2, 9): A_(2,_9),\n",
       " (2, 10): A_(2,_10),\n",
       " (2, 11): A_(2,_11),\n",
       " (2, 12): A_(2,_12),\n",
       " (2, 13): A_(2,_13),\n",
       " (2, 14): A_(2,_14),\n",
       " (2, 15): A_(2,_15),\n",
       " (2, 16): A_(2,_16),\n",
       " (2, 17): A_(2,_17),\n",
       " (2, 18): A_(2,_18),\n",
       " (2, 19): A_(2,_19),\n",
       " (2, 20): A_(2,_20),\n",
       " (2, 21): A_(2,_21),\n",
       " (2, 22): A_(2,_22),\n",
       " (2, 23): A_(2,_23),\n",
       " (2, 24): A_(2,_24),\n",
       " (2, 25): A_(2,_25),\n",
       " (2, 26): A_(2,_26),\n",
       " (2, 27): A_(2,_27),\n",
       " (2, 28): A_(2,_28),\n",
       " (2, 29): A_(2,_29),\n",
       " (2, 30): A_(2,_30),\n",
       " (2, 31): A_(2,_31),\n",
       " (2, 32): A_(2,_32),\n",
       " (2, 33): A_(2,_33),\n",
       " (2, 34): A_(2,_34),\n",
       " (2, 35): A_(2,_35),\n",
       " (2, 36): A_(2,_36),\n",
       " (2, 37): A_(2,_37),\n",
       " (2, 38): A_(2,_38),\n",
       " (2, 39): A_(2,_39),\n",
       " (2, 40): A_(2,_40),\n",
       " (2, 41): A_(2,_41),\n",
       " (2, 42): A_(2,_42),\n",
       " (2, 43): A_(2,_43),\n",
       " (2, 44): A_(2,_44),\n",
       " (2, 45): A_(2,_45),\n",
       " (2, 46): A_(2,_46),\n",
       " (2, 47): A_(2,_47),\n",
       " (2, 48): A_(2,_48),\n",
       " (2, 49): A_(2,_49),\n",
       " (2, 50): A_(2,_50),\n",
       " (2, 51): A_(2,_51),\n",
       " (2, 52): A_(2,_52),\n",
       " (2, 53): A_(2,_53),\n",
       " (2, 54): A_(2,_54),\n",
       " (2, 55): A_(2,_55),\n",
       " (2, 56): A_(2,_56),\n",
       " (2, 57): A_(2,_57),\n",
       " (2, 58): A_(2,_58),\n",
       " (2, 59): A_(2,_59),\n",
       " (2, 60): A_(2,_60),\n",
       " (2, 61): A_(2,_61),\n",
       " (2, 62): A_(2,_62),\n",
       " (2, 63): A_(2,_63),\n",
       " (2, 64): A_(2,_64),\n",
       " (2, 65): A_(2,_65),\n",
       " (2, 66): A_(2,_66),\n",
       " (2, 67): A_(2,_67),\n",
       " (2, 68): A_(2,_68),\n",
       " (2, 69): A_(2,_69),\n",
       " (2, 70): A_(2,_70),\n",
       " (2, 71): A_(2,_71),\n",
       " (2, 72): A_(2,_72),\n",
       " (2, 73): A_(2,_73),\n",
       " (2, 74): A_(2,_74),\n",
       " (2, 75): A_(2,_75),\n",
       " (2, 76): A_(2,_76),\n",
       " (2, 77): A_(2,_77),\n",
       " (2, 78): A_(2,_78),\n",
       " (2, 79): A_(2,_79),\n",
       " (2, 80): A_(2,_80),\n",
       " (2, 81): A_(2,_81),\n",
       " (2, 82): A_(2,_82),\n",
       " (2, 83): A_(2,_83),\n",
       " (2, 84): A_(2,_84),\n",
       " (2, 85): A_(2,_85),\n",
       " (2, 86): A_(2,_86),\n",
       " (2, 87): A_(2,_87),\n",
       " (2, 88): A_(2,_88),\n",
       " (2, 89): A_(2,_89),\n",
       " (2, 90): A_(2,_90),\n",
       " (2, 91): A_(2,_91),\n",
       " (2, 92): A_(2,_92),\n",
       " (2, 93): A_(2,_93),\n",
       " (2, 94): A_(2,_94),\n",
       " (2, 95): A_(2,_95)}"
      ]
     },
     "execution_count": 390,
     "metadata": {},
     "output_type": "execute_result"
    }
   ],
   "source": [
    "pulp_variaveis = plp.LpVariable.dicts(\n",
    "    \"A\", lista_variaveis, lowBound=0, cat=plp.LpInteger\n",
    ")\n",
    "pulp_variaveis\n",
    "#pulp é um prateleira de solvers ele te ajuda a chamr os solvers\n",
    "# a chave vira valor, todo dicionario é uma traducao e a chave voce consegue somar\n",
    "# o valor vira a chave no dicionario"
   ]
  },
  {
   "cell_type": "code",
   "execution_count": 391,
   "id": "3aefd4e1",
   "metadata": {},
   "outputs": [
    {
     "name": "stdout",
     "output_type": "stream",
     "text": [
      "[540, 540, 540, 540, 540, 540, 540, 540, 540, 540, 680, 680, 680, 680, 680, 680, 680, 680, 680, 680, 960, 960, 960, 960, 960, 960, 960, 960, 960]\n"
     ]
    }
   ],
   "source": [
    "coeficientes = []\n",
    "for indice_regime, indice_perido in lista_variaveis:\n",
    "    encargo = df_nad.loc[indice_regime, \"enc\"]\n",
    "    coeficientes.append(encargo)\n",
    "print(coeficientes[::10])"
   ]
  },
  {
   "cell_type": "code",
   "execution_count": 392,
   "id": "4639b1b8",
   "metadata": {},
   "outputs": [
    {
     "data": {
      "text/plain": [
       "[540,\n",
       " 540,\n",
       " 540,\n",
       " 540,\n",
       " 540,\n",
       " 540,\n",
       " 540,\n",
       " 540,\n",
       " 540,\n",
       " 540,\n",
       " 540,\n",
       " 540,\n",
       " 540,\n",
       " 540,\n",
       " 540,\n",
       " 540,\n",
       " 540,\n",
       " 540,\n",
       " 540,\n",
       " 540,\n",
       " 540,\n",
       " 540,\n",
       " 540,\n",
       " 540,\n",
       " 540,\n",
       " 540,\n",
       " 540,\n",
       " 540,\n",
       " 540,\n",
       " 540,\n",
       " 540,\n",
       " 540,\n",
       " 540,\n",
       " 540,\n",
       " 540,\n",
       " 540,\n",
       " 540,\n",
       " 540,\n",
       " 540,\n",
       " 540,\n",
       " 540,\n",
       " 540,\n",
       " 540,\n",
       " 540,\n",
       " 540,\n",
       " 540,\n",
       " 540,\n",
       " 540,\n",
       " 540,\n",
       " 540,\n",
       " 540,\n",
       " 540,\n",
       " 540,\n",
       " 540,\n",
       " 540,\n",
       " 540,\n",
       " 540,\n",
       " 540,\n",
       " 540,\n",
       " 540,\n",
       " 540,\n",
       " 540,\n",
       " 540,\n",
       " 540,\n",
       " 540,\n",
       " 540,\n",
       " 540,\n",
       " 540,\n",
       " 540,\n",
       " 540,\n",
       " 540,\n",
       " 540,\n",
       " 540,\n",
       " 540,\n",
       " 540,\n",
       " 540,\n",
       " 540,\n",
       " 540,\n",
       " 540,\n",
       " 540,\n",
       " 540,\n",
       " 540,\n",
       " 540,\n",
       " 540,\n",
       " 540,\n",
       " 540,\n",
       " 540,\n",
       " 540,\n",
       " 540,\n",
       " 540,\n",
       " 540,\n",
       " 540,\n",
       " 540,\n",
       " 540,\n",
       " 540,\n",
       " 540,\n",
       " 680,\n",
       " 680,\n",
       " 680,\n",
       " 680,\n",
       " 680,\n",
       " 680,\n",
       " 680,\n",
       " 680,\n",
       " 680,\n",
       " 680,\n",
       " 680,\n",
       " 680,\n",
       " 680,\n",
       " 680,\n",
       " 680,\n",
       " 680,\n",
       " 680,\n",
       " 680,\n",
       " 680,\n",
       " 680,\n",
       " 680,\n",
       " 680,\n",
       " 680,\n",
       " 680,\n",
       " 680,\n",
       " 680,\n",
       " 680,\n",
       " 680,\n",
       " 680,\n",
       " 680,\n",
       " 680,\n",
       " 680,\n",
       " 680,\n",
       " 680,\n",
       " 680,\n",
       " 680,\n",
       " 680,\n",
       " 680,\n",
       " 680,\n",
       " 680,\n",
       " 680,\n",
       " 680,\n",
       " 680,\n",
       " 680,\n",
       " 680,\n",
       " 680,\n",
       " 680,\n",
       " 680,\n",
       " 680,\n",
       " 680,\n",
       " 680,\n",
       " 680,\n",
       " 680,\n",
       " 680,\n",
       " 680,\n",
       " 680,\n",
       " 680,\n",
       " 680,\n",
       " 680,\n",
       " 680,\n",
       " 680,\n",
       " 680,\n",
       " 680,\n",
       " 680,\n",
       " 680,\n",
       " 680,\n",
       " 680,\n",
       " 680,\n",
       " 680,\n",
       " 680,\n",
       " 680,\n",
       " 680,\n",
       " 680,\n",
       " 680,\n",
       " 680,\n",
       " 680,\n",
       " 680,\n",
       " 680,\n",
       " 680,\n",
       " 680,\n",
       " 680,\n",
       " 680,\n",
       " 680,\n",
       " 680,\n",
       " 680,\n",
       " 680,\n",
       " 680,\n",
       " 680,\n",
       " 680,\n",
       " 680,\n",
       " 680,\n",
       " 680,\n",
       " 680,\n",
       " 680,\n",
       " 680,\n",
       " 680,\n",
       " 960,\n",
       " 960,\n",
       " 960,\n",
       " 960,\n",
       " 960,\n",
       " 960,\n",
       " 960,\n",
       " 960,\n",
       " 960,\n",
       " 960,\n",
       " 960,\n",
       " 960,\n",
       " 960,\n",
       " 960,\n",
       " 960,\n",
       " 960,\n",
       " 960,\n",
       " 960,\n",
       " 960,\n",
       " 960,\n",
       " 960,\n",
       " 960,\n",
       " 960,\n",
       " 960,\n",
       " 960,\n",
       " 960,\n",
       " 960,\n",
       " 960,\n",
       " 960,\n",
       " 960,\n",
       " 960,\n",
       " 960,\n",
       " 960,\n",
       " 960,\n",
       " 960,\n",
       " 960,\n",
       " 960,\n",
       " 960,\n",
       " 960,\n",
       " 960,\n",
       " 960,\n",
       " 960,\n",
       " 960,\n",
       " 960,\n",
       " 960,\n",
       " 960,\n",
       " 960,\n",
       " 960,\n",
       " 960,\n",
       " 960,\n",
       " 960,\n",
       " 960,\n",
       " 960,\n",
       " 960,\n",
       " 960,\n",
       " 960,\n",
       " 960,\n",
       " 960,\n",
       " 960,\n",
       " 960,\n",
       " 960,\n",
       " 960,\n",
       " 960,\n",
       " 960,\n",
       " 960,\n",
       " 960,\n",
       " 960,\n",
       " 960,\n",
       " 960,\n",
       " 960,\n",
       " 960,\n",
       " 960,\n",
       " 960,\n",
       " 960,\n",
       " 960,\n",
       " 960,\n",
       " 960,\n",
       " 960,\n",
       " 960,\n",
       " 960,\n",
       " 960,\n",
       " 960,\n",
       " 960,\n",
       " 960,\n",
       " 960,\n",
       " 960,\n",
       " 960,\n",
       " 960,\n",
       " 960,\n",
       " 960,\n",
       " 960,\n",
       " 960,\n",
       " 960,\n",
       " 960,\n",
       " 960,\n",
       " 960]"
      ]
     },
     "execution_count": 392,
     "metadata": {},
     "output_type": "execute_result"
    }
   ],
   "source": [
    "coeficientes"
   ]
  },
  {
   "cell_type": "code",
   "execution_count": 393,
   "id": "697d5a8b",
   "metadata": {},
   "outputs": [
    {
     "data": {
      "text/plain": [
       "Attentus:\n",
       "MINIMIZE\n",
       "540*A_(0,_0) + 540*A_(0,_1) + 540*A_(0,_10) + 540*A_(0,_11) + 540*A_(0,_12) + 540*A_(0,_13) + 540*A_(0,_14) + 540*A_(0,_15) + 540*A_(0,_16) + 540*A_(0,_17) + 540*A_(0,_18) + 540*A_(0,_19) + 540*A_(0,_2) + 540*A_(0,_20) + 540*A_(0,_21) + 540*A_(0,_22) + 540*A_(0,_23) + 540*A_(0,_24) + 540*A_(0,_25) + 540*A_(0,_26) + 540*A_(0,_27) + 540*A_(0,_28) + 540*A_(0,_29) + 540*A_(0,_3) + 540*A_(0,_30) + 540*A_(0,_31) + 540*A_(0,_32) + 540*A_(0,_33) + 540*A_(0,_34) + 540*A_(0,_35) + 540*A_(0,_36) + 540*A_(0,_37) + 540*A_(0,_38) + 540*A_(0,_39) + 540*A_(0,_4) + 540*A_(0,_40) + 540*A_(0,_41) + 540*A_(0,_42) + 540*A_(0,_43) + 540*A_(0,_44) + 540*A_(0,_45) + 540*A_(0,_46) + 540*A_(0,_47) + 540*A_(0,_48) + 540*A_(0,_49) + 540*A_(0,_5) + 540*A_(0,_50) + 540*A_(0,_51) + 540*A_(0,_52) + 540*A_(0,_53) + 540*A_(0,_54) + 540*A_(0,_55) + 540*A_(0,_56) + 540*A_(0,_57) + 540*A_(0,_58) + 540*A_(0,_59) + 540*A_(0,_6) + 540*A_(0,_60) + 540*A_(0,_61) + 540*A_(0,_62) + 540*A_(0,_63) + 540*A_(0,_64) + 540*A_(0,_65) + 540*A_(0,_66) + 540*A_(0,_67) + 540*A_(0,_68) + 540*A_(0,_69) + 540*A_(0,_7) + 540*A_(0,_70) + 540*A_(0,_71) + 540*A_(0,_72) + 540*A_(0,_73) + 540*A_(0,_74) + 540*A_(0,_75) + 540*A_(0,_76) + 540*A_(0,_77) + 540*A_(0,_78) + 540*A_(0,_79) + 540*A_(0,_8) + 540*A_(0,_80) + 540*A_(0,_81) + 540*A_(0,_82) + 540*A_(0,_83) + 540*A_(0,_84) + 540*A_(0,_85) + 540*A_(0,_86) + 540*A_(0,_87) + 540*A_(0,_88) + 540*A_(0,_89) + 540*A_(0,_9) + 540*A_(0,_90) + 540*A_(0,_91) + 540*A_(0,_92) + 540*A_(0,_93) + 540*A_(0,_94) + 540*A_(0,_95) + 680*A_(1,_0) + 680*A_(1,_1) + 680*A_(1,_10) + 680*A_(1,_11) + 680*A_(1,_12) + 680*A_(1,_13) + 680*A_(1,_14) + 680*A_(1,_15) + 680*A_(1,_16) + 680*A_(1,_17) + 680*A_(1,_18) + 680*A_(1,_19) + 680*A_(1,_2) + 680*A_(1,_20) + 680*A_(1,_21) + 680*A_(1,_22) + 680*A_(1,_23) + 680*A_(1,_24) + 680*A_(1,_25) + 680*A_(1,_26) + 680*A_(1,_27) + 680*A_(1,_28) + 680*A_(1,_29) + 680*A_(1,_3) + 680*A_(1,_30) + 680*A_(1,_31) + 680*A_(1,_32) + 680*A_(1,_33) + 680*A_(1,_34) + 680*A_(1,_35) + 680*A_(1,_36) + 680*A_(1,_37) + 680*A_(1,_38) + 680*A_(1,_39) + 680*A_(1,_4) + 680*A_(1,_40) + 680*A_(1,_41) + 680*A_(1,_42) + 680*A_(1,_43) + 680*A_(1,_44) + 680*A_(1,_45) + 680*A_(1,_46) + 680*A_(1,_47) + 680*A_(1,_48) + 680*A_(1,_49) + 680*A_(1,_5) + 680*A_(1,_50) + 680*A_(1,_51) + 680*A_(1,_52) + 680*A_(1,_53) + 680*A_(1,_54) + 680*A_(1,_55) + 680*A_(1,_56) + 680*A_(1,_57) + 680*A_(1,_58) + 680*A_(1,_59) + 680*A_(1,_6) + 680*A_(1,_60) + 680*A_(1,_61) + 680*A_(1,_62) + 680*A_(1,_63) + 680*A_(1,_64) + 680*A_(1,_65) + 680*A_(1,_66) + 680*A_(1,_67) + 680*A_(1,_68) + 680*A_(1,_69) + 680*A_(1,_7) + 680*A_(1,_70) + 680*A_(1,_71) + 680*A_(1,_72) + 680*A_(1,_73) + 680*A_(1,_74) + 680*A_(1,_75) + 680*A_(1,_76) + 680*A_(1,_77) + 680*A_(1,_78) + 680*A_(1,_79) + 680*A_(1,_8) + 680*A_(1,_80) + 680*A_(1,_81) + 680*A_(1,_82) + 680*A_(1,_83) + 680*A_(1,_84) + 680*A_(1,_85) + 680*A_(1,_86) + 680*A_(1,_87) + 680*A_(1,_88) + 680*A_(1,_89) + 680*A_(1,_9) + 680*A_(1,_90) + 680*A_(1,_91) + 680*A_(1,_92) + 680*A_(1,_93) + 680*A_(1,_94) + 680*A_(1,_95) + 960*A_(2,_0) + 960*A_(2,_1) + 960*A_(2,_10) + 960*A_(2,_11) + 960*A_(2,_12) + 960*A_(2,_13) + 960*A_(2,_14) + 960*A_(2,_15) + 960*A_(2,_16) + 960*A_(2,_17) + 960*A_(2,_18) + 960*A_(2,_19) + 960*A_(2,_2) + 960*A_(2,_20) + 960*A_(2,_21) + 960*A_(2,_22) + 960*A_(2,_23) + 960*A_(2,_24) + 960*A_(2,_25) + 960*A_(2,_26) + 960*A_(2,_27) + 960*A_(2,_28) + 960*A_(2,_29) + 960*A_(2,_3) + 960*A_(2,_30) + 960*A_(2,_31) + 960*A_(2,_32) + 960*A_(2,_33) + 960*A_(2,_34) + 960*A_(2,_35) + 960*A_(2,_36) + 960*A_(2,_37) + 960*A_(2,_38) + 960*A_(2,_39) + 960*A_(2,_4) + 960*A_(2,_40) + 960*A_(2,_41) + 960*A_(2,_42) + 960*A_(2,_43) + 960*A_(2,_44) + 960*A_(2,_45) + 960*A_(2,_46) + 960*A_(2,_47) + 960*A_(2,_48) + 960*A_(2,_49) + 960*A_(2,_5) + 960*A_(2,_50) + 960*A_(2,_51) + 960*A_(2,_52) + 960*A_(2,_53) + 960*A_(2,_54) + 960*A_(2,_55) + 960*A_(2,_56) + 960*A_(2,_57) + 960*A_(2,_58) + 960*A_(2,_59) + 960*A_(2,_6) + 960*A_(2,_60) + 960*A_(2,_61) + 960*A_(2,_62) + 960*A_(2,_63) + 960*A_(2,_64) + 960*A_(2,_65) + 960*A_(2,_66) + 960*A_(2,_67) + 960*A_(2,_68) + 960*A_(2,_69) + 960*A_(2,_7) + 960*A_(2,_70) + 960*A_(2,_71) + 960*A_(2,_72) + 960*A_(2,_73) + 960*A_(2,_74) + 960*A_(2,_75) + 960*A_(2,_76) + 960*A_(2,_77) + 960*A_(2,_78) + 960*A_(2,_79) + 960*A_(2,_8) + 960*A_(2,_80) + 960*A_(2,_81) + 960*A_(2,_82) + 960*A_(2,_83) + 960*A_(2,_84) + 960*A_(2,_85) + 960*A_(2,_86) + 960*A_(2,_87) + 960*A_(2,_88) + 960*A_(2,_89) + 960*A_(2,_9) + 960*A_(2,_90) + 960*A_(2,_91) + 960*A_(2,_92) + 960*A_(2,_93) + 960*A_(2,_94) + 960*A_(2,_95) + 0.0\n",
       "VARIABLES\n",
       "0 <= A_(0,_0) Integer\n",
       "0 <= A_(0,_1) Integer\n",
       "0 <= A_(0,_10) Integer\n",
       "0 <= A_(0,_11) Integer\n",
       "0 <= A_(0,_12) Integer\n",
       "0 <= A_(0,_13) Integer\n",
       "0 <= A_(0,_14) Integer\n",
       "0 <= A_(0,_15) Integer\n",
       "0 <= A_(0,_16) Integer\n",
       "0 <= A_(0,_17) Integer\n",
       "0 <= A_(0,_18) Integer\n",
       "0 <= A_(0,_19) Integer\n",
       "0 <= A_(0,_2) Integer\n",
       "0 <= A_(0,_20) Integer\n",
       "0 <= A_(0,_21) Integer\n",
       "0 <= A_(0,_22) Integer\n",
       "0 <= A_(0,_23) Integer\n",
       "0 <= A_(0,_24) Integer\n",
       "0 <= A_(0,_25) Integer\n",
       "0 <= A_(0,_26) Integer\n",
       "0 <= A_(0,_27) Integer\n",
       "0 <= A_(0,_28) Integer\n",
       "0 <= A_(0,_29) Integer\n",
       "0 <= A_(0,_3) Integer\n",
       "0 <= A_(0,_30) Integer\n",
       "0 <= A_(0,_31) Integer\n",
       "0 <= A_(0,_32) Integer\n",
       "0 <= A_(0,_33) Integer\n",
       "0 <= A_(0,_34) Integer\n",
       "0 <= A_(0,_35) Integer\n",
       "0 <= A_(0,_36) Integer\n",
       "0 <= A_(0,_37) Integer\n",
       "0 <= A_(0,_38) Integer\n",
       "0 <= A_(0,_39) Integer\n",
       "0 <= A_(0,_4) Integer\n",
       "0 <= A_(0,_40) Integer\n",
       "0 <= A_(0,_41) Integer\n",
       "0 <= A_(0,_42) Integer\n",
       "0 <= A_(0,_43) Integer\n",
       "0 <= A_(0,_44) Integer\n",
       "0 <= A_(0,_45) Integer\n",
       "0 <= A_(0,_46) Integer\n",
       "0 <= A_(0,_47) Integer\n",
       "0 <= A_(0,_48) Integer\n",
       "0 <= A_(0,_49) Integer\n",
       "0 <= A_(0,_5) Integer\n",
       "0 <= A_(0,_50) Integer\n",
       "0 <= A_(0,_51) Integer\n",
       "0 <= A_(0,_52) Integer\n",
       "0 <= A_(0,_53) Integer\n",
       "0 <= A_(0,_54) Integer\n",
       "0 <= A_(0,_55) Integer\n",
       "0 <= A_(0,_56) Integer\n",
       "0 <= A_(0,_57) Integer\n",
       "0 <= A_(0,_58) Integer\n",
       "0 <= A_(0,_59) Integer\n",
       "0 <= A_(0,_6) Integer\n",
       "0 <= A_(0,_60) Integer\n",
       "0 <= A_(0,_61) Integer\n",
       "0 <= A_(0,_62) Integer\n",
       "0 <= A_(0,_63) Integer\n",
       "0 <= A_(0,_64) Integer\n",
       "0 <= A_(0,_65) Integer\n",
       "0 <= A_(0,_66) Integer\n",
       "0 <= A_(0,_67) Integer\n",
       "0 <= A_(0,_68) Integer\n",
       "0 <= A_(0,_69) Integer\n",
       "0 <= A_(0,_7) Integer\n",
       "0 <= A_(0,_70) Integer\n",
       "0 <= A_(0,_71) Integer\n",
       "0 <= A_(0,_72) Integer\n",
       "0 <= A_(0,_73) Integer\n",
       "0 <= A_(0,_74) Integer\n",
       "0 <= A_(0,_75) Integer\n",
       "0 <= A_(0,_76) Integer\n",
       "0 <= A_(0,_77) Integer\n",
       "0 <= A_(0,_78) Integer\n",
       "0 <= A_(0,_79) Integer\n",
       "0 <= A_(0,_8) Integer\n",
       "0 <= A_(0,_80) Integer\n",
       "0 <= A_(0,_81) Integer\n",
       "0 <= A_(0,_82) Integer\n",
       "0 <= A_(0,_83) Integer\n",
       "0 <= A_(0,_84) Integer\n",
       "0 <= A_(0,_85) Integer\n",
       "0 <= A_(0,_86) Integer\n",
       "0 <= A_(0,_87) Integer\n",
       "0 <= A_(0,_88) Integer\n",
       "0 <= A_(0,_89) Integer\n",
       "0 <= A_(0,_9) Integer\n",
       "0 <= A_(0,_90) Integer\n",
       "0 <= A_(0,_91) Integer\n",
       "0 <= A_(0,_92) Integer\n",
       "0 <= A_(0,_93) Integer\n",
       "0 <= A_(0,_94) Integer\n",
       "0 <= A_(0,_95) Integer\n",
       "0 <= A_(1,_0) Integer\n",
       "0 <= A_(1,_1) Integer\n",
       "0 <= A_(1,_10) Integer\n",
       "0 <= A_(1,_11) Integer\n",
       "0 <= A_(1,_12) Integer\n",
       "0 <= A_(1,_13) Integer\n",
       "0 <= A_(1,_14) Integer\n",
       "0 <= A_(1,_15) Integer\n",
       "0 <= A_(1,_16) Integer\n",
       "0 <= A_(1,_17) Integer\n",
       "0 <= A_(1,_18) Integer\n",
       "0 <= A_(1,_19) Integer\n",
       "0 <= A_(1,_2) Integer\n",
       "0 <= A_(1,_20) Integer\n",
       "0 <= A_(1,_21) Integer\n",
       "0 <= A_(1,_22) Integer\n",
       "0 <= A_(1,_23) Integer\n",
       "0 <= A_(1,_24) Integer\n",
       "0 <= A_(1,_25) Integer\n",
       "0 <= A_(1,_26) Integer\n",
       "0 <= A_(1,_27) Integer\n",
       "0 <= A_(1,_28) Integer\n",
       "0 <= A_(1,_29) Integer\n",
       "0 <= A_(1,_3) Integer\n",
       "0 <= A_(1,_30) Integer\n",
       "0 <= A_(1,_31) Integer\n",
       "0 <= A_(1,_32) Integer\n",
       "0 <= A_(1,_33) Integer\n",
       "0 <= A_(1,_34) Integer\n",
       "0 <= A_(1,_35) Integer\n",
       "0 <= A_(1,_36) Integer\n",
       "0 <= A_(1,_37) Integer\n",
       "0 <= A_(1,_38) Integer\n",
       "0 <= A_(1,_39) Integer\n",
       "0 <= A_(1,_4) Integer\n",
       "0 <= A_(1,_40) Integer\n",
       "0 <= A_(1,_41) Integer\n",
       "0 <= A_(1,_42) Integer\n",
       "0 <= A_(1,_43) Integer\n",
       "0 <= A_(1,_44) Integer\n",
       "0 <= A_(1,_45) Integer\n",
       "0 <= A_(1,_46) Integer\n",
       "0 <= A_(1,_47) Integer\n",
       "0 <= A_(1,_48) Integer\n",
       "0 <= A_(1,_49) Integer\n",
       "0 <= A_(1,_5) Integer\n",
       "0 <= A_(1,_50) Integer\n",
       "0 <= A_(1,_51) Integer\n",
       "0 <= A_(1,_52) Integer\n",
       "0 <= A_(1,_53) Integer\n",
       "0 <= A_(1,_54) Integer\n",
       "0 <= A_(1,_55) Integer\n",
       "0 <= A_(1,_56) Integer\n",
       "0 <= A_(1,_57) Integer\n",
       "0 <= A_(1,_58) Integer\n",
       "0 <= A_(1,_59) Integer\n",
       "0 <= A_(1,_6) Integer\n",
       "0 <= A_(1,_60) Integer\n",
       "0 <= A_(1,_61) Integer\n",
       "0 <= A_(1,_62) Integer\n",
       "0 <= A_(1,_63) Integer\n",
       "0 <= A_(1,_64) Integer\n",
       "0 <= A_(1,_65) Integer\n",
       "0 <= A_(1,_66) Integer\n",
       "0 <= A_(1,_67) Integer\n",
       "0 <= A_(1,_68) Integer\n",
       "0 <= A_(1,_69) Integer\n",
       "0 <= A_(1,_7) Integer\n",
       "0 <= A_(1,_70) Integer\n",
       "0 <= A_(1,_71) Integer\n",
       "0 <= A_(1,_72) Integer\n",
       "0 <= A_(1,_73) Integer\n",
       "0 <= A_(1,_74) Integer\n",
       "0 <= A_(1,_75) Integer\n",
       "0 <= A_(1,_76) Integer\n",
       "0 <= A_(1,_77) Integer\n",
       "0 <= A_(1,_78) Integer\n",
       "0 <= A_(1,_79) Integer\n",
       "0 <= A_(1,_8) Integer\n",
       "0 <= A_(1,_80) Integer\n",
       "0 <= A_(1,_81) Integer\n",
       "0 <= A_(1,_82) Integer\n",
       "0 <= A_(1,_83) Integer\n",
       "0 <= A_(1,_84) Integer\n",
       "0 <= A_(1,_85) Integer\n",
       "0 <= A_(1,_86) Integer\n",
       "0 <= A_(1,_87) Integer\n",
       "0 <= A_(1,_88) Integer\n",
       "0 <= A_(1,_89) Integer\n",
       "0 <= A_(1,_9) Integer\n",
       "0 <= A_(1,_90) Integer\n",
       "0 <= A_(1,_91) Integer\n",
       "0 <= A_(1,_92) Integer\n",
       "0 <= A_(1,_93) Integer\n",
       "0 <= A_(1,_94) Integer\n",
       "0 <= A_(1,_95) Integer\n",
       "0 <= A_(2,_0) Integer\n",
       "0 <= A_(2,_1) Integer\n",
       "0 <= A_(2,_10) Integer\n",
       "0 <= A_(2,_11) Integer\n",
       "0 <= A_(2,_12) Integer\n",
       "0 <= A_(2,_13) Integer\n",
       "0 <= A_(2,_14) Integer\n",
       "0 <= A_(2,_15) Integer\n",
       "0 <= A_(2,_16) Integer\n",
       "0 <= A_(2,_17) Integer\n",
       "0 <= A_(2,_18) Integer\n",
       "0 <= A_(2,_19) Integer\n",
       "0 <= A_(2,_2) Integer\n",
       "0 <= A_(2,_20) Integer\n",
       "0 <= A_(2,_21) Integer\n",
       "0 <= A_(2,_22) Integer\n",
       "0 <= A_(2,_23) Integer\n",
       "0 <= A_(2,_24) Integer\n",
       "0 <= A_(2,_25) Integer\n",
       "0 <= A_(2,_26) Integer\n",
       "0 <= A_(2,_27) Integer\n",
       "0 <= A_(2,_28) Integer\n",
       "0 <= A_(2,_29) Integer\n",
       "0 <= A_(2,_3) Integer\n",
       "0 <= A_(2,_30) Integer\n",
       "0 <= A_(2,_31) Integer\n",
       "0 <= A_(2,_32) Integer\n",
       "0 <= A_(2,_33) Integer\n",
       "0 <= A_(2,_34) Integer\n",
       "0 <= A_(2,_35) Integer\n",
       "0 <= A_(2,_36) Integer\n",
       "0 <= A_(2,_37) Integer\n",
       "0 <= A_(2,_38) Integer\n",
       "0 <= A_(2,_39) Integer\n",
       "0 <= A_(2,_4) Integer\n",
       "0 <= A_(2,_40) Integer\n",
       "0 <= A_(2,_41) Integer\n",
       "0 <= A_(2,_42) Integer\n",
       "0 <= A_(2,_43) Integer\n",
       "0 <= A_(2,_44) Integer\n",
       "0 <= A_(2,_45) Integer\n",
       "0 <= A_(2,_46) Integer\n",
       "0 <= A_(2,_47) Integer\n",
       "0 <= A_(2,_48) Integer\n",
       "0 <= A_(2,_49) Integer\n",
       "0 <= A_(2,_5) Integer\n",
       "0 <= A_(2,_50) Integer\n",
       "0 <= A_(2,_51) Integer\n",
       "0 <= A_(2,_52) Integer\n",
       "0 <= A_(2,_53) Integer\n",
       "0 <= A_(2,_54) Integer\n",
       "0 <= A_(2,_55) Integer\n",
       "0 <= A_(2,_56) Integer\n",
       "0 <= A_(2,_57) Integer\n",
       "0 <= A_(2,_58) Integer\n",
       "0 <= A_(2,_59) Integer\n",
       "0 <= A_(2,_6) Integer\n",
       "0 <= A_(2,_60) Integer\n",
       "0 <= A_(2,_61) Integer\n",
       "0 <= A_(2,_62) Integer\n",
       "0 <= A_(2,_63) Integer\n",
       "0 <= A_(2,_64) Integer\n",
       "0 <= A_(2,_65) Integer\n",
       "0 <= A_(2,_66) Integer\n",
       "0 <= A_(2,_67) Integer\n",
       "0 <= A_(2,_68) Integer\n",
       "0 <= A_(2,_69) Integer\n",
       "0 <= A_(2,_7) Integer\n",
       "0 <= A_(2,_70) Integer\n",
       "0 <= A_(2,_71) Integer\n",
       "0 <= A_(2,_72) Integer\n",
       "0 <= A_(2,_73) Integer\n",
       "0 <= A_(2,_74) Integer\n",
       "0 <= A_(2,_75) Integer\n",
       "0 <= A_(2,_76) Integer\n",
       "0 <= A_(2,_77) Integer\n",
       "0 <= A_(2,_78) Integer\n",
       "0 <= A_(2,_79) Integer\n",
       "0 <= A_(2,_8) Integer\n",
       "0 <= A_(2,_80) Integer\n",
       "0 <= A_(2,_81) Integer\n",
       "0 <= A_(2,_82) Integer\n",
       "0 <= A_(2,_83) Integer\n",
       "0 <= A_(2,_84) Integer\n",
       "0 <= A_(2,_85) Integer\n",
       "0 <= A_(2,_86) Integer\n",
       "0 <= A_(2,_87) Integer\n",
       "0 <= A_(2,_88) Integer\n",
       "0 <= A_(2,_89) Integer\n",
       "0 <= A_(2,_9) Integer\n",
       "0 <= A_(2,_90) Integer\n",
       "0 <= A_(2,_91) Integer\n",
       "0 <= A_(2,_92) Integer\n",
       "0 <= A_(2,_93) Integer\n",
       "0 <= A_(2,_94) Integer\n",
       "0 <= A_(2,_95) Integer"
      ]
     },
     "execution_count": 393,
     "metadata": {},
     "output_type": "execute_result"
    }
   ],
   "source": [
    "fo = plp.lpSum(\n",
    "    [coef * pulp_variaveis[var]\n",
    "     for coef, var in zip(coeficientes, lista_variaveis)]\n",
    ")\n",
    "\n",
    "prob += fo, \"custo\"\n",
    "prob"
   ]
  },
  {
   "cell_type": "code",
   "execution_count": 394,
   "id": "3ac6ff06",
   "metadata": {},
   "outputs": [
    {
     "data": {
      "text/plain": [
       "288"
      ]
     },
     "execution_count": 394,
     "metadata": {},
     "output_type": "execute_result"
    }
   ],
   "source": [
    "prob.numVariables()"
   ]
  },
  {
   "cell_type": "code",
   "execution_count": 395,
   "id": "517b55bd",
   "metadata": {},
   "outputs": [
    {
     "data": {
      "text/plain": [
       "0"
      ]
     },
     "execution_count": 395,
     "metadata": {},
     "output_type": "execute_result"
    }
   ],
   "source": [
    "prob.numConstraints()"
   ]
  },
  {
   "cell_type": "code",
   "execution_count": 396,
   "id": "12a26884",
   "metadata": {},
   "outputs": [],
   "source": [
    "# a logica ele é enrolada por que ele tem que perceber que ele tem que bvoltar acho que em relação ao 96 periodos\n",
    "# custo minimo para atender a demanda de modo decente, o attentus vai e minimiza o custo, isso é o discurso de venda\n",
    "# "
   ]
  },
  {
   "cell_type": "code",
   "execution_count": 397,
   "id": "6999080f",
   "metadata": {},
   "outputs": [
    {
     "data": {
      "text/plain": [
       "[0, 1, 2, 3, 4, 5, 6, 7]"
      ]
     },
     "execution_count": 397,
     "metadata": {},
     "output_type": "execute_result"
    }
   ],
   "source": [
    "# vamos entender a logica daquela volta, entender a volta que tem que dar, vamos reduyzir o problerma\n",
    "# varrer os 96 periodos\n",
    "# para experimentear e testar vamos de 0 a 7 \n",
    "lista = [0, 1, 2, 3, 4, 5, 6, 7]\n",
    "lista\n"
   ]
  },
  {
   "cell_type": "code",
   "execution_count": 398,
   "id": "82ae9ec1",
   "metadata": {},
   "outputs": [],
   "source": [
    "# vamos fazer um janela de tamanho 3\n",
    "janela = 3 # nem sei se vou usar ela\n",
    "\n"
   ]
  },
  {
   "cell_type": "code",
   "execution_count": 399,
   "id": "c20d0037",
   "metadata": {},
   "outputs": [
    {
     "data": {
      "text/plain": [
       "[0, 1, 2]"
      ]
     },
     "execution_count": 399,
     "metadata": {},
     "output_type": "execute_result"
    }
   ],
   "source": [
    "# j = 2\n",
    "lista[0:3]"
   ]
  },
  {
   "cell_type": "code",
   "execution_count": 400,
   "id": "1aec0ea7",
   "metadata": {},
   "outputs": [
    {
     "data": {
      "text/plain": [
       "[1, 2, 3]"
      ]
     },
     "execution_count": 400,
     "metadata": {},
     "output_type": "execute_result"
    }
   ],
   "source": [
    "# j = 3\n",
    "lista[1:4] # nao tem logica AQUI AINDA , mas esta nascentdo ela é am phantasma e vou comecando a deixar ad oculus, encontrar a lgoca que vai ser por tras disso\n",
    "# eu vou testando essa andada p me ajudar \n"
   ]
  },
  {
   "cell_type": "code",
   "execution_count": 401,
   "id": "72ee7f63",
   "metadata": {},
   "outputs": [
    {
     "data": {
      "text/plain": [
       "[2, 3, 4]"
      ]
     },
     "execution_count": 401,
     "metadata": {},
     "output_type": "execute_result"
    }
   ],
   "source": [
    "# j = 4\n",
    "lista[2:5] # mao escreve sozinho ja percebi a logica, proximo seria lista[3:6] acho"
   ]
  },
  {
   "cell_type": "code",
   "execution_count": 402,
   "id": "35573267",
   "metadata": {},
   "outputs": [
    {
     "data": {
      "text/plain": [
       "[3, 4, 5]"
      ]
     },
     "execution_count": 402,
     "metadata": {},
     "output_type": "execute_result"
    }
   ],
   "source": [
    "# j = 5\n",
    "lista[3:6]"
   ]
  },
  {
   "cell_type": "code",
   "execution_count": 403,
   "id": "1721320d",
   "metadata": {},
   "outputs": [
    {
     "data": {
      "text/plain": [
       "[4, 5, 6]"
      ]
     },
     "execution_count": 403,
     "metadata": {},
     "output_type": "execute_result"
    }
   ],
   "source": [
    "# j = 6 , estamos olhando para o ultimo elemento do indice do periodo da list de teste para tentar achar a logica\n",
    "lista[4:7]\n",
    "# quero dar a volta para ver o que acontece"
   ]
  },
  {
   "cell_type": "code",
   "execution_count": 404,
   "id": "7785ff31",
   "metadata": {},
   "outputs": [
    {
     "data": {
      "text/plain": [
       "[5, 6, 7]"
      ]
     },
     "execution_count": 404,
     "metadata": {},
     "output_type": "execute_result"
    }
   ],
   "source": [
    "# j = 7\n",
    "lista[5:8] # agora é a merda pq schegeui no final"
   ]
  },
  {
   "cell_type": "code",
   "execution_count": 405,
   "id": "220a64be",
   "metadata": {},
   "outputs": [
    {
     "data": {
      "text/plain": [
       "[6, 7]"
      ]
     },
     "execution_count": 405,
     "metadata": {},
     "output_type": "execute_result"
    }
   ],
   "source": [
    "# j = 0\n",
    "lista[6:9] # teria que dar 0 para dar a volta\n",
    "# achar uma outra logica agora"
   ]
  },
  {
   "cell_type": "code",
   "execution_count": 406,
   "id": "99dd0dc3",
   "metadata": {},
   "outputs": [
    {
     "name": "stdout",
     "output_type": "stream",
     "text": [
      "[0, 1, 2]\n",
      "[1, 2, 3]\n",
      "[2, 3, 4]\n",
      "[3, 4, 5]\n",
      "[4, 5, 6]\n",
      "[5, 6, 7]\n"
     ]
    }
   ],
   "source": [
    "#vamos reunir todas que derao certo, reunir para ficar tudo na minha frente para me ajudar a buscar uma nova semiose, testar novos aspectos\n",
    "print(lista[0:3])\n",
    "print(lista[1:4])\n",
    "print(lista[2:5])\n",
    "print(lista[3:6])\n",
    "print(lista[4:7])\n",
    "print(lista[5:8])"
   ]
  },
  {
   "cell_type": "code",
   "execution_count": 407,
   "id": "6e62cd30",
   "metadata": {},
   "outputs": [
    {
     "name": "stdout",
     "output_type": "stream",
     "text": [
      "[6, 7, 0]\n"
     ]
    }
   ],
   "source": [
    "# forca uma coisa para pegar os dois ultimos e uma coisa para pegar o primeiro\n",
    "# 6, 7]   esses dis ultimos e dae um extend acho\n",
    "#[6, 7] + [0]   o = opera com metodo extend que daria [6, 7, 0]\n",
    "#[6, 7].extend([0])\n",
    "\n",
    "# j = 0\n",
    "# print(lista[6:]) # para pegar os dois ultimos  [6]é o mesmo que -2\n",
    "# print(lista[-2])\n",
    "# print(lista[-2:], lista[0])\n",
    "# print(lista[-2:], lista[:0]) # da kista vazia por que é exclusive\n",
    "# print(lista[-2:], lista[:1])# fomos chutando ate acertar, ja ganhei iutra marca diferente mas parecisa ainda\n",
    "print(lista[-2:] + lista[:1]) # falta o j = 1, como eu faço?"
   ]
  },
  {
   "cell_type": "code",
   "execution_count": 408,
   "id": "4e6de3d0",
   "metadata": {},
   "outputs": [
    {
     "data": {
      "text/plain": [
       "[0, 1]"
      ]
     },
     "execution_count": 408,
     "metadata": {},
     "output_type": "execute_result"
    }
   ],
   "source": [
    "# falta o j = 1, como eu faço?\n",
    "lista[-3:0] + lista[:2] "
   ]
  },
  {
   "cell_type": "code",
   "execution_count": 409,
   "id": "b7810a42",
   "metadata": {},
   "outputs": [
    {
     "data": {
      "text/plain": [
       "[5, 6, 7, 0, 1]"
      ]
     },
     "execution_count": 409,
     "metadata": {},
     "output_type": "execute_result"
    }
   ],
   "source": [
    "lista[-3:] + lista[:2] "
   ]
  },
  {
   "cell_type": "code",
   "execution_count": 410,
   "id": "56252021",
   "metadata": {},
   "outputs": [
    {
     "data": {
      "text/plain": [
       "[7, 0, 1]"
      ]
     },
     "execution_count": 410,
     "metadata": {},
     "output_type": "execute_result"
    }
   ],
   "source": [
    "lista[-1:] + lista[:2] "
   ]
  },
  {
   "cell_type": "code",
   "execution_count": 411,
   "id": "a75be910",
   "metadata": {},
   "outputs": [
    {
     "name": "stdout",
     "output_type": "stream",
     "text": [
      "[6, 7, 0]\n",
      "[7, 0, 1]\n",
      "[0, 1, 2]\n",
      "[1, 2, 3]\n",
      "[2, 3, 4]\n",
      "[3, 4, 5]\n",
      "[4, 5, 6]\n",
      "[5, 6, 7]\n"
     ]
    }
   ],
   "source": [
    "# agora vamos generalizar\n",
    "print(lista[-2:] + lista[:1]) \n",
    "print(lista[-1:] + lista[:2]) \n",
    "print(lista[0:3])\n",
    "print(lista[1:4])\n",
    "print(lista[2:5])\n",
    "print(lista[3:6])\n",
    "print(lista[4:7])\n",
    "print(lista[5:8])"
   ]
  },
  {
   "cell_type": "code",
   "execution_count": 412,
   "id": "da88e0c7",
   "metadata": {},
   "outputs": [
    {
     "name": "stdout",
     "output_type": "stream",
     "text": [
      "[0, 1, 2]\n",
      "[1, 2, 3]\n",
      "[2, 3, 4]\n",
      "[3, 4, 5]\n",
      "[4, 5, 6]\n",
      "[5, 6, 7]\n"
     ]
    }
   ],
   "source": [
    "# vamos comecar com o if whuile etc da logica mais simples\n",
    "# print(lista[0:3]) # j = 2, janela = 3\n",
    "# print(lista[1:4]) # j = 3, jan = 3\n",
    "# print(lista[2:5]) # j = 4, jan = 3\n",
    "# print(lista[3:6]) # j = 5, jan = 3\n",
    "# print(lista[4:7]) # j = 6, jan = 3\n",
    "# print(lista[5:8]) # j = 7, jan = 3\n",
    "# se a variavel janela impacta ela tem que entrar aqui na logica\n",
    "#lista[j-2:j+1] acho que funcionaria, mas temos que usar a janela refletindo ate onde ela volta para peela pegar o que tem que pegar\n",
    "# a janlea quando ela muda ela vai impactar\n",
    "# [6, 7, 0] a acao é de voltar, define para frente e volta, vai varrendo de tras para frente\n",
    "\n",
    "\n",
    "# # aqui é a proposta de generalização\n",
    "# print(lista[0:2+1]) # j = 2, janela = 3,e agpra para generalizar o lado esquerdo o zero \"0\" , (j - janela + 1) isos é um plapite para a logica do lado esquerdo\n",
    "# print(lista[1:3+1]) # j = 3, jan = 3\n",
    "# print(lista[2:4+1]) # j = 4, jan = 3\n",
    "# print(lista[3:5+1]) # j = 5, jan = 3\n",
    "# print(lista[4:6+1]) # j = 6, jan = 3\n",
    "# print(lista[5:7+1]) # j = 7, jan = 3\n",
    "\n",
    "\n",
    "#lista[j-jan+1:j+1]  -> para o lado esquerdo\n",
    "print(lista[2-3+1:2+1]) # j = 2, janela = 3,e agpra para generalizar o lado esquerdo o zero \"0\" , (j - janela + 1) isos é um plapite para a logica do lado esquerdo\n",
    "print(lista[3-3+1:3+1]) # j = 3, jan = 3\n",
    "print(lista[4-3+1:4+1]) # j = 4, jan = 3\n",
    "print(lista[5-3+1:5+1]) # j = 5, jan = 3\n",
    "print(lista[6-3+1:6+1]) # j = 6, jan = 3\n",
    "print(lista[7-3+1:7+1]) # j = 7, jan = 3"
   ]
  },
  {
   "cell_type": "code",
   "execution_count": 413,
   "id": "2b02ac2b",
   "metadata": {},
   "outputs": [
    {
     "name": "stdout",
     "output_type": "stream",
     "text": [
      "[6, 7, 0]\n",
      "[7, 0, 1]\n"
     ]
    }
   ],
   "source": [
    "#vamos criar a logica para essa parte agora, colocar as anotações do j e da janela\n",
    "\n",
    "print(lista[-2:] + lista[:1]) # j = 0, jan=3 \n",
    "print(lista[-1:] + lista[:2]) # j = 1, jan=3\n",
    "\n",
    "# daria isso:\n",
    "# [6, 7, 0]\n",
    "# [7, 0, 1]\n",
    "\n"
   ]
  },
  {
   "cell_type": "code",
   "execution_count": 414,
   "id": "c6c16bd6",
   "metadata": {},
   "outputs": [
    {
     "name": "stdout",
     "output_type": "stream",
     "text": [
      "[6, 7] [0]\n",
      "[7] [0, 1]\n"
     ]
    }
   ],
   "source": [
    "# voltar um passo com a virgula para ver o que estava dando\n",
    "print(lista[-2:], lista[:1]) # j = 0, jan=3    # j-jan+1  teriaque dar -2, que é o primeiro termo que achamos\n",
    "print(lista[-1:], lista[:2]) # j = 1, jan=3    # j-jan+1  teriaque dar -1"
   ]
  },
  {
   "cell_type": "code",
   "execution_count": 415,
   "id": "533eeb20",
   "metadata": {},
   "outputs": [
    {
     "name": "stdout",
     "output_type": "stream",
     "text": [
      "[6, 7] [0]\n",
      "[7] [0, 1]\n"
     ]
    }
   ],
   "source": [
    "print(lista[0-3+1:], lista[:1]) # j = 0, jan=3    # para o termo do lado dir é \"j+1\"\n",
    "print(lista[1-3+1:], lista[:2]) # j = 1, jan=3    "
   ]
  },
  {
   "cell_type": "code",
   "execution_count": 416,
   "id": "5161f0bf",
   "metadata": {},
   "outputs": [
    {
     "name": "stdout",
     "output_type": "stream",
     "text": [
      "[6, 7] [0]\n",
      "[7] [0, 1]\n"
     ]
    }
   ],
   "source": [
    "print(lista[0-3+1:], lista[:0+1]) # j = 0, jan=3    # para o termo do lado dir é \"j+1\"\n",
    "print(lista[1-3+1:], lista[:1+1]) # j = 1, jan=3    "
   ]
  },
  {
   "cell_type": "code",
   "execution_count": 417,
   "id": "de18dc2d",
   "metadata": {},
   "outputs": [
    {
     "name": "stdout",
     "output_type": "stream",
     "text": [
      "[6, 7, 0]\n",
      "[7, 0, 1]\n"
     ]
    }
   ],
   "source": [
    "print(lista[0-3+1:] + lista[:0+1]) # j = 0, jan=3    # para o termo do lado dir é \"j+1\"\n",
    "print(lista[1-3+1:] + lista[:1+1]) # j = 1, jan=3    "
   ]
  },
  {
   "cell_type": "code",
   "execution_count": 418,
   "id": "479172fa",
   "metadata": {},
   "outputs": [
    {
     "name": "stdout",
     "output_type": "stream",
     "text": [
      "[6, 7, 0]\n",
      "[7, 0, 1]\n",
      "[0, 1, 2]\n",
      "[1, 2, 3]\n",
      "[2, 3, 4]\n",
      "[3, 4, 5]\n",
      "[4, 5, 6]\n",
      "[5, 6, 7]\n"
     ]
    }
   ],
   "source": [
    "# agora é fazer o if\n",
    "# lista[j-jan+1:j+1]    [2, 3, 4, 5, 6, 7]\n",
    "# lista[j-jan+1:] + lista[:j+1] [0,1]\n",
    "print(lista[0-3+1:] + lista[:0+1]) # j = 0, jan=3    \n",
    "print(lista[1-3+1:] + lista[:1+1]) # j = 1, jan=3 \n",
    "print(lista[2-3+1:2+1]) # j = 2, janela = 3\n",
    "print(lista[3-3+1:3+1]) # j = 3, jan = 3\n",
    "print(lista[4-3+1:4+1]) # j = 4, jan = 3\n",
    "print(lista[5-3+1:5+1]) # j = 5, jan = 3\n",
    "print(lista[6-3+1:6+1]) # j = 6, jan = 3\n",
    "print(lista[7-3+1:7+1]) # j = 7, jan = 3\n",
    "\n"
   ]
  },
  {
   "cell_type": "code",
   "execution_count": 419,
   "id": "9f9d6d41",
   "metadata": {},
   "outputs": [],
   "source": [
    "# vamos mudar janela parab tamanho para seguir o codigo que ja estava preparado do Igor\n",
    "def retorna_lista(j, tamanho, lista): # se o tamanho da sua janela as vezes nao é tao grande voce nao precisa do j acho, mas o if depende do tramnho e do j\n",
    "    if j >= tamanho - 1:\n",
    "        return lista[j-tamanho+1 : j+1]\n",
    "    else:\n",
    "        return lista[j-tamanho+1 :] + lista[: j+1]"
   ]
  },
  {
   "cell_type": "code",
   "execution_count": 420,
   "id": "9b64574a",
   "metadata": {},
   "outputs": [
    {
     "data": {
      "text/plain": [
       "[2, 3, 4]"
      ]
     },
     "execution_count": 420,
     "metadata": {},
     "output_type": "execute_result"
    }
   ],
   "source": [
    "retorna_lista(j=4, tamanho=3, lista=lista) # uktimo elemento é o propotio j tamnaho 3"
   ]
  },
  {
   "cell_type": "code",
   "execution_count": 421,
   "id": "953b92ea",
   "metadata": {},
   "outputs": [
    {
     "data": {
      "text/plain": [
       "[3, 4, 5]"
      ]
     },
     "execution_count": 421,
     "metadata": {},
     "output_type": "execute_result"
    }
   ],
   "source": [
    "retorna_lista(j=5, tamanho=3, lista=lista)"
   ]
  },
  {
   "cell_type": "code",
   "execution_count": 422,
   "id": "59ff8a6a",
   "metadata": {},
   "outputs": [
    {
     "data": {
      "text/plain": [
       "[4, 5, 6]"
      ]
     },
     "execution_count": 422,
     "metadata": {},
     "output_type": "execute_result"
    }
   ],
   "source": [
    "retorna_lista(j=6, tamanho=3, lista=lista)"
   ]
  },
  {
   "cell_type": "code",
   "execution_count": 423,
   "id": "501980f6",
   "metadata": {},
   "outputs": [
    {
     "data": {
      "text/plain": [
       "[5, 6, 7]"
      ]
     },
     "execution_count": 423,
     "metadata": {},
     "output_type": "execute_result"
    }
   ],
   "source": [
    "retorna_lista(j=7, tamanho=3, lista=lista) # por isso fizemosmuma lista pewquena para conferir e depois fazer a garnde"
   ]
  },
  {
   "cell_type": "code",
   "execution_count": 424,
   "id": "b7bd9e30",
   "metadata": {},
   "outputs": [
    {
     "data": {
      "text/plain": [
       "[7, 0, 1]"
      ]
     },
     "execution_count": 424,
     "metadata": {},
     "output_type": "execute_result"
    }
   ],
   "source": [
    "retorna_lista(j=1, tamanho=3, lista=lista)"
   ]
  },
  {
   "cell_type": "code",
   "execution_count": 425,
   "id": "609687ac",
   "metadata": {},
   "outputs": [
    {
     "data": {
      "text/plain": [
       "[84, 85, 86, 87, 88, 89, 90, 91, 92, 93, 94, 95]"
      ]
     },
     "execution_count": 425,
     "metadata": {},
     "output_type": "execute_result"
    }
   ],
   "source": [
    "retorna_lista(j=95, tamanho=12,\n",
    "              lista=list(inicios)) # variavel inicios esta la em cima, ja haviamos criado"
   ]
  },
  {
   "cell_type": "code",
   "execution_count": 426,
   "id": "2015bc42",
   "metadata": {},
   "outputs": [
    {
     "data": {
      "text/plain": [
       "[85, 86, 87, 88, 89, 90, 91, 92, 93, 94, 95, 0]"
      ]
     },
     "execution_count": 426,
     "metadata": {},
     "output_type": "execute_result"
    }
   ],
   "source": [
    "# e se coolocar o j maior que a lista seria legal colocarmos uma protecao para isso nao acontecer, mas aquino nosso codigo nao seja qualquer j e qualquer tamanho e meio que nos proteje sobre isso\n",
    "retorna_lista(j=0, tamanho=12, lista=list(inicios))"
   ]
  },
  {
   "cell_type": "code",
   "execution_count": 427,
   "id": "a3bbefaa",
   "metadata": {},
   "outputs": [
    {
     "data": {
      "application/vnd.microsoft.datawrangler.viewer.v0+json": {
       "columns": [
        {
         "name": "index",
         "rawType": "int64",
         "type": "integer"
        },
        {
         "name": "rotulo",
         "rawType": "int64",
         "type": "integer"
        },
        {
         "name": "hora_inicio",
         "rawType": "object",
         "type": "unknown"
        },
        {
         "name": "hora_fim",
         "rawType": "object",
         "type": "unknown"
        },
        {
         "name": "numero_medio_ligantes",
         "rawType": "int64",
         "type": "integer"
        },
        {
         "name": "nan",
         "rawType": "int64",
         "type": "integer"
        }
       ],
       "ref": "1bc8b636-755c-4c19-a36f-16e518169702",
       "rows": [
        [
         "0",
         "1",
         "00:00:00",
         "00:15:00",
         "601",
         "20"
        ],
        [
         "1",
         "2",
         "00:15:00",
         "00:30:00",
         "190",
         "9"
        ],
        [
         "2",
         "3",
         "00:30:00",
         "00:45:00",
         "180",
         "8"
        ],
        [
         "3",
         "4",
         "00:45:00",
         "01:00:00",
         "177",
         "9"
        ],
        [
         "4",
         "5",
         "01:00:00",
         "01:15:00",
         "162",
         "8"
        ],
        [
         "5",
         "6",
         "01:15:00",
         "01:30:00",
         "110",
         "5"
        ],
        [
         "6",
         "7",
         "01:30:00",
         "01:45:00",
         "99",
         "6"
        ],
        [
         "7",
         "8",
         "01:45:00",
         "02:00:00",
         "108",
         "7"
        ],
        [
         "8",
         "9",
         "02:00:00",
         "02:15:00",
         "97",
         "5"
        ],
        [
         "9",
         "10",
         "02:15:00",
         "02:30:00",
         "77",
         "5"
        ],
        [
         "10",
         "11",
         "02:30:00",
         "02:45:00",
         "75",
         "4"
        ],
        [
         "11",
         "12",
         "02:45:00",
         "03:00:00",
         "76",
         "5"
        ],
        [
         "12",
         "13",
         "03:00:00",
         "03:15:00",
         "79",
         "4"
        ],
        [
         "13",
         "14",
         "03:15:00",
         "03:30:00",
         "46",
         "4"
        ],
        [
         "14",
         "15",
         "03:30:00",
         "03:45:00",
         "45",
         "4"
        ],
        [
         "15",
         "16",
         "03:45:00",
         "04:00:00",
         "42",
         "4"
        ],
        [
         "16",
         "17",
         "04:00:00",
         "04:15:00",
         "49",
         "4"
        ],
        [
         "17",
         "18",
         "04:15:00",
         "04:30:00",
         "45",
         "5"
        ],
        [
         "18",
         "19",
         "04:30:00",
         "04:45:00",
         "44",
         "4"
        ],
        [
         "19",
         "20",
         "04:45:00",
         "05:00:00",
         "49",
         "4"
        ],
        [
         "20",
         "21",
         "05:00:00",
         "05:15:00",
         "57",
         "4"
        ],
        [
         "21",
         "22",
         "05:15:00",
         "05:30:00",
         "52",
         "4"
        ],
        [
         "22",
         "23",
         "05:30:00",
         "05:45:00",
         "51",
         "3"
        ],
        [
         "23",
         "24",
         "05:45:00",
         "06:00:00",
         "49",
         "4"
        ],
        [
         "24",
         "25",
         "06:00:00",
         "06:15:00",
         "97",
         "6"
        ],
        [
         "25",
         "26",
         "06:15:00",
         "06:30:00",
         "132",
         "6"
        ],
        [
         "26",
         "27",
         "06:30:00",
         "06:45:00",
         "141",
         "8"
        ],
        [
         "27",
         "28",
         "06:45:00",
         "07:00:00",
         "155",
         "7"
        ],
        [
         "28",
         "29",
         "07:00:00",
         "07:15:00",
         "630",
         "20"
        ],
        [
         "29",
         "30",
         "07:15:00",
         "07:30:00",
         "634",
         "21"
        ],
        [
         "30",
         "31",
         "07:30:00",
         "07:45:00",
         "790",
         "23"
        ],
        [
         "31",
         "32",
         "07:45:00",
         "08:00:00",
         "698",
         "23"
        ],
        [
         "32",
         "33",
         "08:00:00",
         "08:15:00",
         "1570",
         "41"
        ],
        [
         "33",
         "34",
         "08:15:00",
         "08:30:00",
         "1590",
         "41"
        ],
        [
         "34",
         "35",
         "08:30:00",
         "08:45:00",
         "1601",
         "41"
        ],
        [
         "35",
         "36",
         "08:45:00",
         "09:00:00",
         "1700",
         "45"
        ],
        [
         "36",
         "37",
         "09:00:00",
         "09:15:00",
         "2600",
         "66"
        ],
        [
         "37",
         "38",
         "09:15:00",
         "09:30:00",
         "2509",
         "59"
        ],
        [
         "38",
         "39",
         "09:30:00",
         "09:45:00",
         "2603",
         "60"
        ],
        [
         "39",
         "40",
         "09:45:00",
         "10:00:00",
         "2699",
         "67"
        ],
        [
         "40",
         "41",
         "10:00:00",
         "10:15:00",
         "3124",
         "70"
        ],
        [
         "41",
         "42",
         "10:15:00",
         "10:30:00",
         "3135",
         "75"
        ],
        [
         "42",
         "43",
         "10:30:00",
         "10:45:00",
         "3080",
         "71"
        ],
        [
         "43",
         "44",
         "10:45:00",
         "11:00:00",
         "3197",
         "75"
        ],
        [
         "44",
         "45",
         "11:00:00",
         "11:15:00",
         "2890",
         "66"
        ],
        [
         "45",
         "46",
         "11:15:00",
         "11:30:00",
         "2910",
         "64"
        ],
        [
         "46",
         "47",
         "11:30:00",
         "11:45:00",
         "2912",
         "62"
        ],
        [
         "47",
         "48",
         "11:45:00",
         "12:00:00",
         "2870",
         "68"
        ],
        [
         "48",
         "49",
         "12:00:00",
         "12:15:00",
         "2403",
         "57"
        ],
        [
         "49",
         "50",
         "12:15:00",
         "12:30:00",
         "2397",
         "57"
        ]
       ],
       "shape": {
        "columns": 5,
        "rows": 96
       }
      },
      "text/html": [
       "<div>\n",
       "<style scoped>\n",
       "    .dataframe tbody tr th:only-of-type {\n",
       "        vertical-align: middle;\n",
       "    }\n",
       "\n",
       "    .dataframe tbody tr th {\n",
       "        vertical-align: top;\n",
       "    }\n",
       "\n",
       "    .dataframe thead th {\n",
       "        text-align: right;\n",
       "    }\n",
       "</style>\n",
       "<table border=\"1\" class=\"dataframe\">\n",
       "  <thead>\n",
       "    <tr style=\"text-align: right;\">\n",
       "      <th></th>\n",
       "      <th>rotulo</th>\n",
       "      <th>hora_inicio</th>\n",
       "      <th>hora_fim</th>\n",
       "      <th>numero_medio_ligantes</th>\n",
       "      <th>nan</th>\n",
       "    </tr>\n",
       "  </thead>\n",
       "  <tbody>\n",
       "    <tr>\n",
       "      <th>0</th>\n",
       "      <td>1</td>\n",
       "      <td>00:00:00</td>\n",
       "      <td>00:15:00</td>\n",
       "      <td>601</td>\n",
       "      <td>20</td>\n",
       "    </tr>\n",
       "    <tr>\n",
       "      <th>1</th>\n",
       "      <td>2</td>\n",
       "      <td>00:15:00</td>\n",
       "      <td>00:30:00</td>\n",
       "      <td>190</td>\n",
       "      <td>9</td>\n",
       "    </tr>\n",
       "    <tr>\n",
       "      <th>2</th>\n",
       "      <td>3</td>\n",
       "      <td>00:30:00</td>\n",
       "      <td>00:45:00</td>\n",
       "      <td>180</td>\n",
       "      <td>8</td>\n",
       "    </tr>\n",
       "    <tr>\n",
       "      <th>3</th>\n",
       "      <td>4</td>\n",
       "      <td>00:45:00</td>\n",
       "      <td>01:00:00</td>\n",
       "      <td>177</td>\n",
       "      <td>9</td>\n",
       "    </tr>\n",
       "    <tr>\n",
       "      <th>4</th>\n",
       "      <td>5</td>\n",
       "      <td>01:00:00</td>\n",
       "      <td>01:15:00</td>\n",
       "      <td>162</td>\n",
       "      <td>8</td>\n",
       "    </tr>\n",
       "    <tr>\n",
       "      <th>...</th>\n",
       "      <td>...</td>\n",
       "      <td>...</td>\n",
       "      <td>...</td>\n",
       "      <td>...</td>\n",
       "      <td>...</td>\n",
       "    </tr>\n",
       "    <tr>\n",
       "      <th>91</th>\n",
       "      <td>92</td>\n",
       "      <td>22:45:00</td>\n",
       "      <td>23:00:00</td>\n",
       "      <td>920</td>\n",
       "      <td>26</td>\n",
       "    </tr>\n",
       "    <tr>\n",
       "      <th>92</th>\n",
       "      <td>93</td>\n",
       "      <td>23:00:00</td>\n",
       "      <td>23:15:00</td>\n",
       "      <td>897</td>\n",
       "      <td>23</td>\n",
       "    </tr>\n",
       "    <tr>\n",
       "      <th>93</th>\n",
       "      <td>94</td>\n",
       "      <td>23:15:00</td>\n",
       "      <td>23:30:00</td>\n",
       "      <td>571</td>\n",
       "      <td>18</td>\n",
       "    </tr>\n",
       "    <tr>\n",
       "      <th>94</th>\n",
       "      <td>95</td>\n",
       "      <td>23:30:00</td>\n",
       "      <td>23:45:00</td>\n",
       "      <td>560</td>\n",
       "      <td>18</td>\n",
       "    </tr>\n",
       "    <tr>\n",
       "      <th>95</th>\n",
       "      <td>96</td>\n",
       "      <td>23:45:00</td>\n",
       "      <td>00:00:00</td>\n",
       "      <td>590</td>\n",
       "      <td>18</td>\n",
       "    </tr>\n",
       "  </tbody>\n",
       "</table>\n",
       "<p>96 rows × 5 columns</p>\n",
       "</div>"
      ],
      "text/plain": [
       "    rotulo hora_inicio  hora_fim  numero_medio_ligantes  nan\n",
       "0        1    00:00:00  00:15:00                    601   20\n",
       "1        2    00:15:00  00:30:00                    190    9\n",
       "2        3    00:30:00  00:45:00                    180    8\n",
       "3        4    00:45:00  01:00:00                    177    9\n",
       "4        5    01:00:00  01:15:00                    162    8\n",
       "..     ...         ...       ...                    ...  ...\n",
       "91      92    22:45:00  23:00:00                    920   26\n",
       "92      93    23:00:00  23:15:00                    897   23\n",
       "93      94    23:15:00  23:30:00                    571   18\n",
       "94      95    23:30:00  23:45:00                    560   18\n",
       "95      96    23:45:00  00:00:00                    590   18\n",
       "\n",
       "[96 rows x 5 columns]"
      ]
     },
     "execution_count": 427,
     "metadata": {},
     "output_type": "execute_result"
    }
   ],
   "source": [
    "# ate aqui falamos da resticao 1\n",
    "# vamos montar ela aqui, essa resticao 1\n",
    "df_nan"
   ]
  },
  {
   "cell_type": "code",
   "execution_count": 428,
   "id": "c8968065",
   "metadata": {},
   "outputs": [],
   "source": [
    "# for sem o iterrows so para vermos\n",
    "# for x in df_nan:\n",
    "#     print(x)  # o ierrowspara fazer a iteração nas linhas nao as colunas"
   ]
  },
  {
   "cell_type": "code",
   "execution_count": 429,
   "id": "54f9837e",
   "metadata": {},
   "outputs": [],
   "source": [
    "# vamos fazer as iterações\n",
    "# for j, linha in df_nan.iterrows():\n",
    "#     # print(j, linha, sep=\"\\n\")\n",
    "#     # print(\"-\" * 50)\n",
    "#     # preciso pegar o vamoor do nan de cada\n",
    "#     nan = linha[\"nan\"]\n",
    "#     # print(j, nan)# preciso do tamanho tb\n",
    "#     for regime in regimes:\n",
    "#         # print(regime) # repetido (0 1 2) 96x, dado um regime qual o tamanho dele\n",
    "#         # print(regimes[regime]) # repete (3 4 6) 96x (acho), a partir disso que vou obter o tamanho que 12 16 e 24\n",
    "#         tamanho = regimes[regime] * 4 # vou variar ela la na tela mesmo\n",
    "#         lista = retorna_lista(j=j, tamanho=tamanho, lista=list(inicios))\n",
    "#         # print(regime, lista)\n",
    "#         lista_combinada = [(regime, i) for i in lista] # for dentro de uma lista o Igor tenta evitar mas aconteceu aqui, se cham list comphreension essa lista usando o for dentro da lista\n",
    "#         lista_traduzida = [pulp_variaveis[tupla] for tupla in lista_combinada]\n",
    "        \n",
    "#         # print(lista_combinada)\n",
    "#         print(lista_traduzida)\n",
    "\n",
    "#     print(\"-\" * 20)\n",
    "\n",
    "    # (0, 85)... essa tupla tem que ficar a varivel nossa, ai entra o pulp por que ele sim soma com outro essa tulpa desse jeito nao soma"
   ]
  },
  {
   "cell_type": "code",
   "execution_count": 430,
   "id": "d5a0c91b",
   "metadata": {},
   "outputs": [
    {
     "data": {
      "text/plain": [
       "Attentus:\n",
       "MINIMIZE\n",
       "540*A_(0,_0) + 540*A_(0,_1) + 540*A_(0,_10) + 540*A_(0,_11) + 540*A_(0,_12) + 540*A_(0,_13) + 540*A_(0,_14) + 540*A_(0,_15) + 540*A_(0,_16) + 540*A_(0,_17) + 540*A_(0,_18) + 540*A_(0,_19) + 540*A_(0,_2) + 540*A_(0,_20) + 540*A_(0,_21) + 540*A_(0,_22) + 540*A_(0,_23) + 540*A_(0,_24) + 540*A_(0,_25) + 540*A_(0,_26) + 540*A_(0,_27) + 540*A_(0,_28) + 540*A_(0,_29) + 540*A_(0,_3) + 540*A_(0,_30) + 540*A_(0,_31) + 540*A_(0,_32) + 540*A_(0,_33) + 540*A_(0,_34) + 540*A_(0,_35) + 540*A_(0,_36) + 540*A_(0,_37) + 540*A_(0,_38) + 540*A_(0,_39) + 540*A_(0,_4) + 540*A_(0,_40) + 540*A_(0,_41) + 540*A_(0,_42) + 540*A_(0,_43) + 540*A_(0,_44) + 540*A_(0,_45) + 540*A_(0,_46) + 540*A_(0,_47) + 540*A_(0,_48) + 540*A_(0,_49) + 540*A_(0,_5) + 540*A_(0,_50) + 540*A_(0,_51) + 540*A_(0,_52) + 540*A_(0,_53) + 540*A_(0,_54) + 540*A_(0,_55) + 540*A_(0,_56) + 540*A_(0,_57) + 540*A_(0,_58) + 540*A_(0,_59) + 540*A_(0,_6) + 540*A_(0,_60) + 540*A_(0,_61) + 540*A_(0,_62) + 540*A_(0,_63) + 540*A_(0,_64) + 540*A_(0,_65) + 540*A_(0,_66) + 540*A_(0,_67) + 540*A_(0,_68) + 540*A_(0,_69) + 540*A_(0,_7) + 540*A_(0,_70) + 540*A_(0,_71) + 540*A_(0,_72) + 540*A_(0,_73) + 540*A_(0,_74) + 540*A_(0,_75) + 540*A_(0,_76) + 540*A_(0,_77) + 540*A_(0,_78) + 540*A_(0,_79) + 540*A_(0,_8) + 540*A_(0,_80) + 540*A_(0,_81) + 540*A_(0,_82) + 540*A_(0,_83) + 540*A_(0,_84) + 540*A_(0,_85) + 540*A_(0,_86) + 540*A_(0,_87) + 540*A_(0,_88) + 540*A_(0,_89) + 540*A_(0,_9) + 540*A_(0,_90) + 540*A_(0,_91) + 540*A_(0,_92) + 540*A_(0,_93) + 540*A_(0,_94) + 540*A_(0,_95) + 680*A_(1,_0) + 680*A_(1,_1) + 680*A_(1,_10) + 680*A_(1,_11) + 680*A_(1,_12) + 680*A_(1,_13) + 680*A_(1,_14) + 680*A_(1,_15) + 680*A_(1,_16) + 680*A_(1,_17) + 680*A_(1,_18) + 680*A_(1,_19) + 680*A_(1,_2) + 680*A_(1,_20) + 680*A_(1,_21) + 680*A_(1,_22) + 680*A_(1,_23) + 680*A_(1,_24) + 680*A_(1,_25) + 680*A_(1,_26) + 680*A_(1,_27) + 680*A_(1,_28) + 680*A_(1,_29) + 680*A_(1,_3) + 680*A_(1,_30) + 680*A_(1,_31) + 680*A_(1,_32) + 680*A_(1,_33) + 680*A_(1,_34) + 680*A_(1,_35) + 680*A_(1,_36) + 680*A_(1,_37) + 680*A_(1,_38) + 680*A_(1,_39) + 680*A_(1,_4) + 680*A_(1,_40) + 680*A_(1,_41) + 680*A_(1,_42) + 680*A_(1,_43) + 680*A_(1,_44) + 680*A_(1,_45) + 680*A_(1,_46) + 680*A_(1,_47) + 680*A_(1,_48) + 680*A_(1,_49) + 680*A_(1,_5) + 680*A_(1,_50) + 680*A_(1,_51) + 680*A_(1,_52) + 680*A_(1,_53) + 680*A_(1,_54) + 680*A_(1,_55) + 680*A_(1,_56) + 680*A_(1,_57) + 680*A_(1,_58) + 680*A_(1,_59) + 680*A_(1,_6) + 680*A_(1,_60) + 680*A_(1,_61) + 680*A_(1,_62) + 680*A_(1,_63) + 680*A_(1,_64) + 680*A_(1,_65) + 680*A_(1,_66) + 680*A_(1,_67) + 680*A_(1,_68) + 680*A_(1,_69) + 680*A_(1,_7) + 680*A_(1,_70) + 680*A_(1,_71) + 680*A_(1,_72) + 680*A_(1,_73) + 680*A_(1,_74) + 680*A_(1,_75) + 680*A_(1,_76) + 680*A_(1,_77) + 680*A_(1,_78) + 680*A_(1,_79) + 680*A_(1,_8) + 680*A_(1,_80) + 680*A_(1,_81) + 680*A_(1,_82) + 680*A_(1,_83) + 680*A_(1,_84) + 680*A_(1,_85) + 680*A_(1,_86) + 680*A_(1,_87) + 680*A_(1,_88) + 680*A_(1,_89) + 680*A_(1,_9) + 680*A_(1,_90) + 680*A_(1,_91) + 680*A_(1,_92) + 680*A_(1,_93) + 680*A_(1,_94) + 680*A_(1,_95) + 960*A_(2,_0) + 960*A_(2,_1) + 960*A_(2,_10) + 960*A_(2,_11) + 960*A_(2,_12) + 960*A_(2,_13) + 960*A_(2,_14) + 960*A_(2,_15) + 960*A_(2,_16) + 960*A_(2,_17) + 960*A_(2,_18) + 960*A_(2,_19) + 960*A_(2,_2) + 960*A_(2,_20) + 960*A_(2,_21) + 960*A_(2,_22) + 960*A_(2,_23) + 960*A_(2,_24) + 960*A_(2,_25) + 960*A_(2,_26) + 960*A_(2,_27) + 960*A_(2,_28) + 960*A_(2,_29) + 960*A_(2,_3) + 960*A_(2,_30) + 960*A_(2,_31) + 960*A_(2,_32) + 960*A_(2,_33) + 960*A_(2,_34) + 960*A_(2,_35) + 960*A_(2,_36) + 960*A_(2,_37) + 960*A_(2,_38) + 960*A_(2,_39) + 960*A_(2,_4) + 960*A_(2,_40) + 960*A_(2,_41) + 960*A_(2,_42) + 960*A_(2,_43) + 960*A_(2,_44) + 960*A_(2,_45) + 960*A_(2,_46) + 960*A_(2,_47) + 960*A_(2,_48) + 960*A_(2,_49) + 960*A_(2,_5) + 960*A_(2,_50) + 960*A_(2,_51) + 960*A_(2,_52) + 960*A_(2,_53) + 960*A_(2,_54) + 960*A_(2,_55) + 960*A_(2,_56) + 960*A_(2,_57) + 960*A_(2,_58) + 960*A_(2,_59) + 960*A_(2,_6) + 960*A_(2,_60) + 960*A_(2,_61) + 960*A_(2,_62) + 960*A_(2,_63) + 960*A_(2,_64) + 960*A_(2,_65) + 960*A_(2,_66) + 960*A_(2,_67) + 960*A_(2,_68) + 960*A_(2,_69) + 960*A_(2,_7) + 960*A_(2,_70) + 960*A_(2,_71) + 960*A_(2,_72) + 960*A_(2,_73) + 960*A_(2,_74) + 960*A_(2,_75) + 960*A_(2,_76) + 960*A_(2,_77) + 960*A_(2,_78) + 960*A_(2,_79) + 960*A_(2,_8) + 960*A_(2,_80) + 960*A_(2,_81) + 960*A_(2,_82) + 960*A_(2,_83) + 960*A_(2,_84) + 960*A_(2,_85) + 960*A_(2,_86) + 960*A_(2,_87) + 960*A_(2,_88) + 960*A_(2,_89) + 960*A_(2,_9) + 960*A_(2,_90) + 960*A_(2,_91) + 960*A_(2,_92) + 960*A_(2,_93) + 960*A_(2,_94) + 960*A_(2,_95) + 0.0\n",
       "SUBJECT TO\n",
       "_C1: A_(0,_0) + A_(0,_85) + A_(0,_86) + A_(0,_87) + A_(0,_88) + A_(0,_89)\n",
       " + A_(0,_90) + A_(0,_91) + A_(0,_92) + A_(0,_93) + A_(0,_94) + A_(0,_95)\n",
       " + A_(1,_0) + A_(1,_81) + A_(1,_82) + A_(1,_83) + A_(1,_84) + A_(1,_85)\n",
       " + A_(1,_86) + A_(1,_87) + A_(1,_88) + A_(1,_89) + A_(1,_90) + A_(1,_91)\n",
       " + A_(1,_92) + A_(1,_93) + A_(1,_94) + A_(1,_95) + A_(2,_0) + A_(2,_73)\n",
       " + A_(2,_74) + A_(2,_75) + A_(2,_76) + A_(2,_77) + A_(2,_78) + A_(2,_79)\n",
       " + A_(2,_80) + A_(2,_81) + A_(2,_82) + A_(2,_83) + A_(2,_84) + A_(2,_85)\n",
       " + A_(2,_86) + A_(2,_87) + A_(2,_88) + A_(2,_89) + A_(2,_90) + A_(2,_91)\n",
       " + A_(2,_92) + A_(2,_93) + A_(2,_94) + A_(2,_95) >= 20\n",
       "\n",
       "_C2: A_(0,_0) + A_(0,_1) + A_(0,_86) + A_(0,_87) + A_(0,_88) + A_(0,_89)\n",
       " + A_(0,_90) + A_(0,_91) + A_(0,_92) + A_(0,_93) + A_(0,_94) + A_(0,_95)\n",
       " + A_(1,_0) + A_(1,_1) + A_(1,_82) + A_(1,_83) + A_(1,_84) + A_(1,_85)\n",
       " + A_(1,_86) + A_(1,_87) + A_(1,_88) + A_(1,_89) + A_(1,_90) + A_(1,_91)\n",
       " + A_(1,_92) + A_(1,_93) + A_(1,_94) + A_(1,_95) + A_(2,_0) + A_(2,_1)\n",
       " + A_(2,_74) + A_(2,_75) + A_(2,_76) + A_(2,_77) + A_(2,_78) + A_(2,_79)\n",
       " + A_(2,_80) + A_(2,_81) + A_(2,_82) + A_(2,_83) + A_(2,_84) + A_(2,_85)\n",
       " + A_(2,_86) + A_(2,_87) + A_(2,_88) + A_(2,_89) + A_(2,_90) + A_(2,_91)\n",
       " + A_(2,_92) + A_(2,_93) + A_(2,_94) + A_(2,_95) >= 9\n",
       "\n",
       "_C3: A_(0,_0) + A_(0,_1) + A_(0,_2) + A_(0,_87) + A_(0,_88) + A_(0,_89)\n",
       " + A_(0,_90) + A_(0,_91) + A_(0,_92) + A_(0,_93) + A_(0,_94) + A_(0,_95)\n",
       " + A_(1,_0) + A_(1,_1) + A_(1,_2) + A_(1,_83) + A_(1,_84) + A_(1,_85)\n",
       " + A_(1,_86) + A_(1,_87) + A_(1,_88) + A_(1,_89) + A_(1,_90) + A_(1,_91)\n",
       " + A_(1,_92) + A_(1,_93) + A_(1,_94) + A_(1,_95) + A_(2,_0) + A_(2,_1)\n",
       " + A_(2,_2) + A_(2,_75) + A_(2,_76) + A_(2,_77) + A_(2,_78) + A_(2,_79)\n",
       " + A_(2,_80) + A_(2,_81) + A_(2,_82) + A_(2,_83) + A_(2,_84) + A_(2,_85)\n",
       " + A_(2,_86) + A_(2,_87) + A_(2,_88) + A_(2,_89) + A_(2,_90) + A_(2,_91)\n",
       " + A_(2,_92) + A_(2,_93) + A_(2,_94) + A_(2,_95) >= 8\n",
       "\n",
       "_C4: A_(0,_0) + A_(0,_1) + A_(0,_2) + A_(0,_3) + A_(0,_88) + A_(0,_89)\n",
       " + A_(0,_90) + A_(0,_91) + A_(0,_92) + A_(0,_93) + A_(0,_94) + A_(0,_95)\n",
       " + A_(1,_0) + A_(1,_1) + A_(1,_2) + A_(1,_3) + A_(1,_84) + A_(1,_85)\n",
       " + A_(1,_86) + A_(1,_87) + A_(1,_88) + A_(1,_89) + A_(1,_90) + A_(1,_91)\n",
       " + A_(1,_92) + A_(1,_93) + A_(1,_94) + A_(1,_95) + A_(2,_0) + A_(2,_1)\n",
       " + A_(2,_2) + A_(2,_3) + A_(2,_76) + A_(2,_77) + A_(2,_78) + A_(2,_79)\n",
       " + A_(2,_80) + A_(2,_81) + A_(2,_82) + A_(2,_83) + A_(2,_84) + A_(2,_85)\n",
       " + A_(2,_86) + A_(2,_87) + A_(2,_88) + A_(2,_89) + A_(2,_90) + A_(2,_91)\n",
       " + A_(2,_92) + A_(2,_93) + A_(2,_94) + A_(2,_95) >= 9\n",
       "\n",
       "_C5: A_(0,_0) + A_(0,_1) + A_(0,_2) + A_(0,_3) + A_(0,_4) + A_(0,_89)\n",
       " + A_(0,_90) + A_(0,_91) + A_(0,_92) + A_(0,_93) + A_(0,_94) + A_(0,_95)\n",
       " + A_(1,_0) + A_(1,_1) + A_(1,_2) + A_(1,_3) + A_(1,_4) + A_(1,_85)\n",
       " + A_(1,_86) + A_(1,_87) + A_(1,_88) + A_(1,_89) + A_(1,_90) + A_(1,_91)\n",
       " + A_(1,_92) + A_(1,_93) + A_(1,_94) + A_(1,_95) + A_(2,_0) + A_(2,_1)\n",
       " + A_(2,_2) + A_(2,_3) + A_(2,_4) + A_(2,_77) + A_(2,_78) + A_(2,_79)\n",
       " + A_(2,_80) + A_(2,_81) + A_(2,_82) + A_(2,_83) + A_(2,_84) + A_(2,_85)\n",
       " + A_(2,_86) + A_(2,_87) + A_(2,_88) + A_(2,_89) + A_(2,_90) + A_(2,_91)\n",
       " + A_(2,_92) + A_(2,_93) + A_(2,_94) + A_(2,_95) >= 8\n",
       "\n",
       "_C6: A_(0,_0) + A_(0,_1) + A_(0,_2) + A_(0,_3) + A_(0,_4) + A_(0,_5)\n",
       " + A_(0,_90) + A_(0,_91) + A_(0,_92) + A_(0,_93) + A_(0,_94) + A_(0,_95)\n",
       " + A_(1,_0) + A_(1,_1) + A_(1,_2) + A_(1,_3) + A_(1,_4) + A_(1,_5) + A_(1,_86)\n",
       " + A_(1,_87) + A_(1,_88) + A_(1,_89) + A_(1,_90) + A_(1,_91) + A_(1,_92)\n",
       " + A_(1,_93) + A_(1,_94) + A_(1,_95) + A_(2,_0) + A_(2,_1) + A_(2,_2)\n",
       " + A_(2,_3) + A_(2,_4) + A_(2,_5) + A_(2,_78) + A_(2,_79) + A_(2,_80)\n",
       " + A_(2,_81) + A_(2,_82) + A_(2,_83) + A_(2,_84) + A_(2,_85) + A_(2,_86)\n",
       " + A_(2,_87) + A_(2,_88) + A_(2,_89) + A_(2,_90) + A_(2,_91) + A_(2,_92)\n",
       " + A_(2,_93) + A_(2,_94) + A_(2,_95) >= 5\n",
       "\n",
       "_C7: A_(0,_0) + A_(0,_1) + A_(0,_2) + A_(0,_3) + A_(0,_4) + A_(0,_5)\n",
       " + A_(0,_6) + A_(0,_91) + A_(0,_92) + A_(0,_93) + A_(0,_94) + A_(0,_95)\n",
       " + A_(1,_0) + A_(1,_1) + A_(1,_2) + A_(1,_3) + A_(1,_4) + A_(1,_5) + A_(1,_6)\n",
       " + A_(1,_87) + A_(1,_88) + A_(1,_89) + A_(1,_90) + A_(1,_91) + A_(1,_92)\n",
       " + A_(1,_93) + A_(1,_94) + A_(1,_95) + A_(2,_0) + A_(2,_1) + A_(2,_2)\n",
       " + A_(2,_3) + A_(2,_4) + A_(2,_5) + A_(2,_6) + A_(2,_79) + A_(2,_80)\n",
       " + A_(2,_81) + A_(2,_82) + A_(2,_83) + A_(2,_84) + A_(2,_85) + A_(2,_86)\n",
       " + A_(2,_87) + A_(2,_88) + A_(2,_89) + A_(2,_90) + A_(2,_91) + A_(2,_92)\n",
       " + A_(2,_93) + A_(2,_94) + A_(2,_95) >= 6\n",
       "\n",
       "_C8: A_(0,_0) + A_(0,_1) + A_(0,_2) + A_(0,_3) + A_(0,_4) + A_(0,_5)\n",
       " + A_(0,_6) + A_(0,_7) + A_(0,_92) + A_(0,_93) + A_(0,_94) + A_(0,_95)\n",
       " + A_(1,_0) + A_(1,_1) + A_(1,_2) + A_(1,_3) + A_(1,_4) + A_(1,_5) + A_(1,_6)\n",
       " + A_(1,_7) + A_(1,_88) + A_(1,_89) + A_(1,_90) + A_(1,_91) + A_(1,_92)\n",
       " + A_(1,_93) + A_(1,_94) + A_(1,_95) + A_(2,_0) + A_(2,_1) + A_(2,_2)\n",
       " + A_(2,_3) + A_(2,_4) + A_(2,_5) + A_(2,_6) + A_(2,_7) + A_(2,_80)\n",
       " + A_(2,_81) + A_(2,_82) + A_(2,_83) + A_(2,_84) + A_(2,_85) + A_(2,_86)\n",
       " + A_(2,_87) + A_(2,_88) + A_(2,_89) + A_(2,_90) + A_(2,_91) + A_(2,_92)\n",
       " + A_(2,_93) + A_(2,_94) + A_(2,_95) >= 7\n",
       "\n",
       "_C9: A_(0,_0) + A_(0,_1) + A_(0,_2) + A_(0,_3) + A_(0,_4) + A_(0,_5)\n",
       " + A_(0,_6) + A_(0,_7) + A_(0,_8) + A_(0,_93) + A_(0,_94) + A_(0,_95)\n",
       " + A_(1,_0) + A_(1,_1) + A_(1,_2) + A_(1,_3) + A_(1,_4) + A_(1,_5) + A_(1,_6)\n",
       " + A_(1,_7) + A_(1,_8) + A_(1,_89) + A_(1,_90) + A_(1,_91) + A_(1,_92)\n",
       " + A_(1,_93) + A_(1,_94) + A_(1,_95) + A_(2,_0) + A_(2,_1) + A_(2,_2)\n",
       " + A_(2,_3) + A_(2,_4) + A_(2,_5) + A_(2,_6) + A_(2,_7) + A_(2,_8) + A_(2,_81)\n",
       " + A_(2,_82) + A_(2,_83) + A_(2,_84) + A_(2,_85) + A_(2,_86) + A_(2,_87)\n",
       " + A_(2,_88) + A_(2,_89) + A_(2,_90) + A_(2,_91) + A_(2,_92) + A_(2,_93)\n",
       " + A_(2,_94) + A_(2,_95) >= 5\n",
       "\n",
       "_C10: A_(0,_0) + A_(0,_1) + A_(0,_2) + A_(0,_3) + A_(0,_4) + A_(0,_5)\n",
       " + A_(0,_6) + A_(0,_7) + A_(0,_8) + A_(0,_9) + A_(0,_94) + A_(0,_95)\n",
       " + A_(1,_0) + A_(1,_1) + A_(1,_2) + A_(1,_3) + A_(1,_4) + A_(1,_5) + A_(1,_6)\n",
       " + A_(1,_7) + A_(1,_8) + A_(1,_9) + A_(1,_90) + A_(1,_91) + A_(1,_92)\n",
       " + A_(1,_93) + A_(1,_94) + A_(1,_95) + A_(2,_0) + A_(2,_1) + A_(2,_2)\n",
       " + A_(2,_3) + A_(2,_4) + A_(2,_5) + A_(2,_6) + A_(2,_7) + A_(2,_8) + A_(2,_82)\n",
       " + A_(2,_83) + A_(2,_84) + A_(2,_85) + A_(2,_86) + A_(2,_87) + A_(2,_88)\n",
       " + A_(2,_89) + A_(2,_9) + A_(2,_90) + A_(2,_91) + A_(2,_92) + A_(2,_93)\n",
       " + A_(2,_94) + A_(2,_95) >= 5\n",
       "\n",
       "_C11: A_(0,_0) + A_(0,_1) + A_(0,_10) + A_(0,_2) + A_(0,_3) + A_(0,_4)\n",
       " + A_(0,_5) + A_(0,_6) + A_(0,_7) + A_(0,_8) + A_(0,_9) + A_(0,_95) + A_(1,_0)\n",
       " + A_(1,_1) + A_(1,_10) + A_(1,_2) + A_(1,_3) + A_(1,_4) + A_(1,_5) + A_(1,_6)\n",
       " + A_(1,_7) + A_(1,_8) + A_(1,_9) + A_(1,_91) + A_(1,_92) + A_(1,_93)\n",
       " + A_(1,_94) + A_(1,_95) + A_(2,_0) + A_(2,_1) + A_(2,_10) + A_(2,_2)\n",
       " + A_(2,_3) + A_(2,_4) + A_(2,_5) + A_(2,_6) + A_(2,_7) + A_(2,_8) + A_(2,_83)\n",
       " + A_(2,_84) + A_(2,_85) + A_(2,_86) + A_(2,_87) + A_(2,_88) + A_(2,_89)\n",
       " + A_(2,_9) + A_(2,_90) + A_(2,_91) + A_(2,_92) + A_(2,_93) + A_(2,_94)\n",
       " + A_(2,_95) >= 4\n",
       "\n",
       "_C12: A_(0,_0) + A_(0,_1) + A_(0,_10) + A_(0,_11) + A_(0,_2) + A_(0,_3)\n",
       " + A_(0,_4) + A_(0,_5) + A_(0,_6) + A_(0,_7) + A_(0,_8) + A_(0,_9) + A_(1,_0)\n",
       " + A_(1,_1) + A_(1,_10) + A_(1,_11) + A_(1,_2) + A_(1,_3) + A_(1,_4)\n",
       " + A_(1,_5) + A_(1,_6) + A_(1,_7) + A_(1,_8) + A_(1,_9) + A_(1,_92)\n",
       " + A_(1,_93) + A_(1,_94) + A_(1,_95) + A_(2,_0) + A_(2,_1) + A_(2,_10)\n",
       " + A_(2,_11) + A_(2,_2) + A_(2,_3) + A_(2,_4) + A_(2,_5) + A_(2,_6) + A_(2,_7)\n",
       " + A_(2,_8) + A_(2,_84) + A_(2,_85) + A_(2,_86) + A_(2,_87) + A_(2,_88)\n",
       " + A_(2,_89) + A_(2,_9) + A_(2,_90) + A_(2,_91) + A_(2,_92) + A_(2,_93)\n",
       " + A_(2,_94) + A_(2,_95) >= 5\n",
       "\n",
       "_C13: A_(0,_1) + A_(0,_10) + A_(0,_11) + A_(0,_12) + A_(0,_2) + A_(0,_3)\n",
       " + A_(0,_4) + A_(0,_5) + A_(0,_6) + A_(0,_7) + A_(0,_8) + A_(0,_9) + A_(1,_0)\n",
       " + A_(1,_1) + A_(1,_10) + A_(1,_11) + A_(1,_12) + A_(1,_2) + A_(1,_3)\n",
       " + A_(1,_4) + A_(1,_5) + A_(1,_6) + A_(1,_7) + A_(1,_8) + A_(1,_9) + A_(1,_93)\n",
       " + A_(1,_94) + A_(1,_95) + A_(2,_0) + A_(2,_1) + A_(2,_10) + A_(2,_11)\n",
       " + A_(2,_12) + A_(2,_2) + A_(2,_3) + A_(2,_4) + A_(2,_5) + A_(2,_6) + A_(2,_7)\n",
       " + A_(2,_8) + A_(2,_85) + A_(2,_86) + A_(2,_87) + A_(2,_88) + A_(2,_89)\n",
       " + A_(2,_9) + A_(2,_90) + A_(2,_91) + A_(2,_92) + A_(2,_93) + A_(2,_94)\n",
       " + A_(2,_95) >= 4\n",
       "\n",
       "_C14: A_(0,_10) + A_(0,_11) + A_(0,_12) + A_(0,_13) + A_(0,_2) + A_(0,_3)\n",
       " + A_(0,_4) + A_(0,_5) + A_(0,_6) + A_(0,_7) + A_(0,_8) + A_(0,_9) + A_(1,_0)\n",
       " + A_(1,_1) + A_(1,_10) + A_(1,_11) + A_(1,_12) + A_(1,_13) + A_(1,_2)\n",
       " + A_(1,_3) + A_(1,_4) + A_(1,_5) + A_(1,_6) + A_(1,_7) + A_(1,_8) + A_(1,_9)\n",
       " + A_(1,_94) + A_(1,_95) + A_(2,_0) + A_(2,_1) + A_(2,_10) + A_(2,_11)\n",
       " + A_(2,_12) + A_(2,_13) + A_(2,_2) + A_(2,_3) + A_(2,_4) + A_(2,_5)\n",
       " + A_(2,_6) + A_(2,_7) + A_(2,_8) + A_(2,_86) + A_(2,_87) + A_(2,_88)\n",
       " + A_(2,_89) + A_(2,_9) + A_(2,_90) + A_(2,_91) + A_(2,_92) + A_(2,_93)\n",
       " + A_(2,_94) + A_(2,_95) >= 4\n",
       "\n",
       "_C15: A_(0,_10) + A_(0,_11) + A_(0,_12) + A_(0,_13) + A_(0,_14) + A_(0,_3)\n",
       " + A_(0,_4) + A_(0,_5) + A_(0,_6) + A_(0,_7) + A_(0,_8) + A_(0,_9) + A_(1,_0)\n",
       " + A_(1,_1) + A_(1,_10) + A_(1,_11) + A_(1,_12) + A_(1,_13) + A_(1,_14)\n",
       " + A_(1,_2) + A_(1,_3) + A_(1,_4) + A_(1,_5) + A_(1,_6) + A_(1,_7) + A_(1,_8)\n",
       " + A_(1,_9) + A_(1,_95) + A_(2,_0) + A_(2,_1) + A_(2,_10) + A_(2,_11)\n",
       " + A_(2,_12) + A_(2,_13) + A_(2,_14) + A_(2,_2) + A_(2,_3) + A_(2,_4)\n",
       " + A_(2,_5) + A_(2,_6) + A_(2,_7) + A_(2,_8) + A_(2,_87) + A_(2,_88)\n",
       " + A_(2,_89) + A_(2,_9) + A_(2,_90) + A_(2,_91) + A_(2,_92) + A_(2,_93)\n",
       " + A_(2,_94) + A_(2,_95) >= 4\n",
       "\n",
       "_C16: A_(0,_10) + A_(0,_11) + A_(0,_12) + A_(0,_13) + A_(0,_14) + A_(0,_15)\n",
       " + A_(0,_4) + A_(0,_5) + A_(0,_6) + A_(0,_7) + A_(0,_8) + A_(0,_9) + A_(1,_0)\n",
       " + A_(1,_1) + A_(1,_10) + A_(1,_11) + A_(1,_12) + A_(1,_13) + A_(1,_14)\n",
       " + A_(1,_15) + A_(1,_2) + A_(1,_3) + A_(1,_4) + A_(1,_5) + A_(1,_6) + A_(1,_7)\n",
       " + A_(1,_8) + A_(1,_9) + A_(2,_0) + A_(2,_1) + A_(2,_10) + A_(2,_11)\n",
       " + A_(2,_12) + A_(2,_13) + A_(2,_14) + A_(2,_15) + A_(2,_2) + A_(2,_3)\n",
       " + A_(2,_4) + A_(2,_5) + A_(2,_6) + A_(2,_7) + A_(2,_8) + A_(2,_88)\n",
       " + A_(2,_89) + A_(2,_9) + A_(2,_90) + A_(2,_91) + A_(2,_92) + A_(2,_93)\n",
       " + A_(2,_94) + A_(2,_95) >= 4\n",
       "\n",
       "_C17: A_(0,_10) + A_(0,_11) + A_(0,_12) + A_(0,_13) + A_(0,_14) + A_(0,_15)\n",
       " + A_(0,_16) + A_(0,_5) + A_(0,_6) + A_(0,_7) + A_(0,_8) + A_(0,_9) + A_(1,_1)\n",
       " + A_(1,_10) + A_(1,_11) + A_(1,_12) + A_(1,_13) + A_(1,_14) + A_(1,_15)\n",
       " + A_(1,_16) + A_(1,_2) + A_(1,_3) + A_(1,_4) + A_(1,_5) + A_(1,_6) + A_(1,_7)\n",
       " + A_(1,_8) + A_(1,_9) + A_(2,_0) + A_(2,_1) + A_(2,_10) + A_(2,_11)\n",
       " + A_(2,_12) + A_(2,_13) + A_(2,_14) + A_(2,_15) + A_(2,_16) + A_(2,_2)\n",
       " + A_(2,_3) + A_(2,_4) + A_(2,_5) + A_(2,_6) + A_(2,_7) + A_(2,_8) + A_(2,_89)\n",
       " + A_(2,_9) + A_(2,_90) + A_(2,_91) + A_(2,_92) + A_(2,_93) + A_(2,_94)\n",
       " + A_(2,_95) >= 4\n",
       "\n",
       "_C18: A_(0,_10) + A_(0,_11) + A_(0,_12) + A_(0,_13) + A_(0,_14) + A_(0,_15)\n",
       " + A_(0,_16) + A_(0,_17) + A_(0,_6) + A_(0,_7) + A_(0,_8) + A_(0,_9)\n",
       " + A_(1,_10) + A_(1,_11) + A_(1,_12) + A_(1,_13) + A_(1,_14) + A_(1,_15)\n",
       " + A_(1,_16) + A_(1,_17) + A_(1,_2) + A_(1,_3) + A_(1,_4) + A_(1,_5)\n",
       " + A_(1,_6) + A_(1,_7) + A_(1,_8) + A_(1,_9) + A_(2,_0) + A_(2,_1) + A_(2,_10)\n",
       " + A_(2,_11) + A_(2,_12) + A_(2,_13) + A_(2,_14) + A_(2,_15) + A_(2,_16)\n",
       " + A_(2,_17) + A_(2,_2) + A_(2,_3) + A_(2,_4) + A_(2,_5) + A_(2,_6) + A_(2,_7)\n",
       " + A_(2,_8) + A_(2,_9) + A_(2,_90) + A_(2,_91) + A_(2,_92) + A_(2,_93)\n",
       " + A_(2,_94) + A_(2,_95) >= 5\n",
       "\n",
       "_C19: A_(0,_10) + A_(0,_11) + A_(0,_12) + A_(0,_13) + A_(0,_14) + A_(0,_15)\n",
       " + A_(0,_16) + A_(0,_17) + A_(0,_18) + A_(0,_7) + A_(0,_8) + A_(0,_9)\n",
       " + A_(1,_10) + A_(1,_11) + A_(1,_12) + A_(1,_13) + A_(1,_14) + A_(1,_15)\n",
       " + A_(1,_16) + A_(1,_17) + A_(1,_18) + A_(1,_3) + A_(1,_4) + A_(1,_5)\n",
       " + A_(1,_6) + A_(1,_7) + A_(1,_8) + A_(1,_9) + A_(2,_0) + A_(2,_1) + A_(2,_10)\n",
       " + A_(2,_11) + A_(2,_12) + A_(2,_13) + A_(2,_14) + A_(2,_15) + A_(2,_16)\n",
       " + A_(2,_17) + A_(2,_18) + A_(2,_2) + A_(2,_3) + A_(2,_4) + A_(2,_5)\n",
       " + A_(2,_6) + A_(2,_7) + A_(2,_8) + A_(2,_9) + A_(2,_91) + A_(2,_92)\n",
       " + A_(2,_93) + A_(2,_94) + A_(2,_95) >= 4\n",
       "\n",
       "_C20: A_(0,_10) + A_(0,_11) + A_(0,_12) + A_(0,_13) + A_(0,_14) + A_(0,_15)\n",
       " + A_(0,_16) + A_(0,_17) + A_(0,_18) + A_(0,_19) + A_(0,_8) + A_(0,_9)\n",
       " + A_(1,_10) + A_(1,_11) + A_(1,_12) + A_(1,_13) + A_(1,_14) + A_(1,_15)\n",
       " + A_(1,_16) + A_(1,_17) + A_(1,_18) + A_(1,_19) + A_(1,_4) + A_(1,_5)\n",
       " + A_(1,_6) + A_(1,_7) + A_(1,_8) + A_(1,_9) + A_(2,_0) + A_(2,_1) + A_(2,_10)\n",
       " + A_(2,_11) + A_(2,_12) + A_(2,_13) + A_(2,_14) + A_(2,_15) + A_(2,_16)\n",
       " + A_(2,_17) + A_(2,_18) + A_(2,_19) + A_(2,_2) + A_(2,_3) + A_(2,_4)\n",
       " + A_(2,_5) + A_(2,_6) + A_(2,_7) + A_(2,_8) + A_(2,_9) + A_(2,_92)\n",
       " + A_(2,_93) + A_(2,_94) + A_(2,_95) >= 4\n",
       "\n",
       "_C21: A_(0,_10) + A_(0,_11) + A_(0,_12) + A_(0,_13) + A_(0,_14) + A_(0,_15)\n",
       " + A_(0,_16) + A_(0,_17) + A_(0,_18) + A_(0,_19) + A_(0,_20) + A_(0,_9)\n",
       " + A_(1,_10) + A_(1,_11) + A_(1,_12) + A_(1,_13) + A_(1,_14) + A_(1,_15)\n",
       " + A_(1,_16) + A_(1,_17) + A_(1,_18) + A_(1,_19) + A_(1,_20) + A_(1,_5)\n",
       " + A_(1,_6) + A_(1,_7) + A_(1,_8) + A_(1,_9) + A_(2,_0) + A_(2,_1) + A_(2,_10)\n",
       " + A_(2,_11) + A_(2,_12) + A_(2,_13) + A_(2,_14) + A_(2,_15) + A_(2,_16)\n",
       " + A_(2,_17) + A_(2,_18) + A_(2,_19) + A_(2,_2) + A_(2,_20) + A_(2,_3)\n",
       " + A_(2,_4) + A_(2,_5) + A_(2,_6) + A_(2,_7) + A_(2,_8) + A_(2,_9) + A_(2,_93)\n",
       " + A_(2,_94) + A_(2,_95) >= 4\n",
       "\n",
       "_C22: A_(0,_10) + A_(0,_11) + A_(0,_12) + A_(0,_13) + A_(0,_14) + A_(0,_15)\n",
       " + A_(0,_16) + A_(0,_17) + A_(0,_18) + A_(0,_19) + A_(0,_20) + A_(0,_21)\n",
       " + A_(1,_10) + A_(1,_11) + A_(1,_12) + A_(1,_13) + A_(1,_14) + A_(1,_15)\n",
       " + A_(1,_16) + A_(1,_17) + A_(1,_18) + A_(1,_19) + A_(1,_20) + A_(1,_21)\n",
       " + A_(1,_6) + A_(1,_7) + A_(1,_8) + A_(1,_9) + A_(2,_0) + A_(2,_1) + A_(2,_10)\n",
       " + A_(2,_11) + A_(2,_12) + A_(2,_13) + A_(2,_14) + A_(2,_15) + A_(2,_16)\n",
       " + A_(2,_17) + A_(2,_18) + A_(2,_19) + A_(2,_2) + A_(2,_20) + A_(2,_21)\n",
       " + A_(2,_3) + A_(2,_4) + A_(2,_5) + A_(2,_6) + A_(2,_7) + A_(2,_8) + A_(2,_9)\n",
       " + A_(2,_94) + A_(2,_95) >= 4\n",
       "\n",
       "_C23: A_(0,_11) + A_(0,_12) + A_(0,_13) + A_(0,_14) + A_(0,_15) + A_(0,_16)\n",
       " + A_(0,_17) + A_(0,_18) + A_(0,_19) + A_(0,_20) + A_(0,_21) + A_(0,_22)\n",
       " + A_(1,_10) + A_(1,_11) + A_(1,_12) + A_(1,_13) + A_(1,_14) + A_(1,_15)\n",
       " + A_(1,_16) + A_(1,_17) + A_(1,_18) + A_(1,_19) + A_(1,_20) + A_(1,_21)\n",
       " + A_(1,_22) + A_(1,_7) + A_(1,_8) + A_(1,_9) + A_(2,_0) + A_(2,_1)\n",
       " + A_(2,_10) + A_(2,_11) + A_(2,_12) + A_(2,_13) + A_(2,_14) + A_(2,_15)\n",
       " + A_(2,_16) + A_(2,_17) + A_(2,_18) + A_(2,_19) + A_(2,_2) + A_(2,_20)\n",
       " + A_(2,_21) + A_(2,_22) + A_(2,_3) + A_(2,_4) + A_(2,_5) + A_(2,_6)\n",
       " + A_(2,_7) + A_(2,_8) + A_(2,_9) + A_(2,_95) >= 3\n",
       "\n",
       "_C24: A_(0,_12) + A_(0,_13) + A_(0,_14) + A_(0,_15) + A_(0,_16) + A_(0,_17)\n",
       " + A_(0,_18) + A_(0,_19) + A_(0,_20) + A_(0,_21) + A_(0,_22) + A_(0,_23)\n",
       " + A_(1,_10) + A_(1,_11) + A_(1,_12) + A_(1,_13) + A_(1,_14) + A_(1,_15)\n",
       " + A_(1,_16) + A_(1,_17) + A_(1,_18) + A_(1,_19) + A_(1,_20) + A_(1,_21)\n",
       " + A_(1,_22) + A_(1,_23) + A_(1,_8) + A_(1,_9) + A_(2,_0) + A_(2,_1)\n",
       " + A_(2,_10) + A_(2,_11) + A_(2,_12) + A_(2,_13) + A_(2,_14) + A_(2,_15)\n",
       " + A_(2,_16) + A_(2,_17) + A_(2,_18) + A_(2,_19) + A_(2,_2) + A_(2,_20)\n",
       " + A_(2,_21) + A_(2,_22) + A_(2,_23) + A_(2,_3) + A_(2,_4) + A_(2,_5)\n",
       " + A_(2,_6) + A_(2,_7) + A_(2,_8) + A_(2,_9) >= 4\n",
       "\n",
       "_C25: A_(0,_13) + A_(0,_14) + A_(0,_15) + A_(0,_16) + A_(0,_17) + A_(0,_18)\n",
       " + A_(0,_19) + A_(0,_20) + A_(0,_21) + A_(0,_22) + A_(0,_23) + A_(0,_24)\n",
       " + A_(1,_10) + A_(1,_11) + A_(1,_12) + A_(1,_13) + A_(1,_14) + A_(1,_15)\n",
       " + A_(1,_16) + A_(1,_17) + A_(1,_18) + A_(1,_19) + A_(1,_20) + A_(1,_21)\n",
       " + A_(1,_22) + A_(1,_23) + A_(1,_24) + A_(1,_9) + A_(2,_1) + A_(2,_10)\n",
       " + A_(2,_11) + A_(2,_12) + A_(2,_13) + A_(2,_14) + A_(2,_15) + A_(2,_16)\n",
       " + A_(2,_17) + A_(2,_18) + A_(2,_19) + A_(2,_2) + A_(2,_20) + A_(2,_21)\n",
       " + A_(2,_22) + A_(2,_23) + A_(2,_24) + A_(2,_3) + A_(2,_4) + A_(2,_5)\n",
       " + A_(2,_6) + A_(2,_7) + A_(2,_8) + A_(2,_9) >= 6\n",
       "\n",
       "_C26: A_(0,_14) + A_(0,_15) + A_(0,_16) + A_(0,_17) + A_(0,_18) + A_(0,_19)\n",
       " + A_(0,_20) + A_(0,_21) + A_(0,_22) + A_(0,_23) + A_(0,_24) + A_(0,_25)\n",
       " + A_(1,_10) + A_(1,_11) + A_(1,_12) + A_(1,_13) + A_(1,_14) + A_(1,_15)\n",
       " + A_(1,_16) + A_(1,_17) + A_(1,_18) + A_(1,_19) + A_(1,_20) + A_(1,_21)\n",
       " + A_(1,_22) + A_(1,_23) + A_(1,_24) + A_(1,_25) + A_(2,_10) + A_(2,_11)\n",
       " + A_(2,_12) + A_(2,_13) + A_(2,_14) + A_(2,_15) + A_(2,_16) + A_(2,_17)\n",
       " + A_(2,_18) + A_(2,_19) + A_(2,_2) + A_(2,_20) + A_(2,_21) + A_(2,_22)\n",
       " + A_(2,_23) + A_(2,_24) + A_(2,_25) + A_(2,_3) + A_(2,_4) + A_(2,_5)\n",
       " + A_(2,_6) + A_(2,_7) + A_(2,_8) + A_(2,_9) >= 6\n",
       "\n",
       "_C27: A_(0,_15) + A_(0,_16) + A_(0,_17) + A_(0,_18) + A_(0,_19) + A_(0,_20)\n",
       " + A_(0,_21) + A_(0,_22) + A_(0,_23) + A_(0,_24) + A_(0,_25) + A_(0,_26)\n",
       " + A_(1,_11) + A_(1,_12) + A_(1,_13) + A_(1,_14) + A_(1,_15) + A_(1,_16)\n",
       " + A_(1,_17) + A_(1,_18) + A_(1,_19) + A_(1,_20) + A_(1,_21) + A_(1,_22)\n",
       " + A_(1,_23) + A_(1,_24) + A_(1,_25) + A_(1,_26) + A_(2,_10) + A_(2,_11)\n",
       " + A_(2,_12) + A_(2,_13) + A_(2,_14) + A_(2,_15) + A_(2,_16) + A_(2,_17)\n",
       " + A_(2,_18) + A_(2,_19) + A_(2,_20) + A_(2,_21) + A_(2,_22) + A_(2,_23)\n",
       " + A_(2,_24) + A_(2,_25) + A_(2,_26) + A_(2,_3) + A_(2,_4) + A_(2,_5)\n",
       " + A_(2,_6) + A_(2,_7) + A_(2,_8) + A_(2,_9) >= 8\n",
       "\n",
       "_C28: A_(0,_16) + A_(0,_17) + A_(0,_18) + A_(0,_19) + A_(0,_20) + A_(0,_21)\n",
       " + A_(0,_22) + A_(0,_23) + A_(0,_24) + A_(0,_25) + A_(0,_26) + A_(0,_27)\n",
       " + A_(1,_12) + A_(1,_13) + A_(1,_14) + A_(1,_15) + A_(1,_16) + A_(1,_17)\n",
       " + A_(1,_18) + A_(1,_19) + A_(1,_20) + A_(1,_21) + A_(1,_22) + A_(1,_23)\n",
       " + A_(1,_24) + A_(1,_25) + A_(1,_26) + A_(1,_27) + A_(2,_10) + A_(2,_11)\n",
       " + A_(2,_12) + A_(2,_13) + A_(2,_14) + A_(2,_15) + A_(2,_16) + A_(2,_17)\n",
       " + A_(2,_18) + A_(2,_19) + A_(2,_20) + A_(2,_21) + A_(2,_22) + A_(2,_23)\n",
       " + A_(2,_24) + A_(2,_25) + A_(2,_26) + A_(2,_27) + A_(2,_4) + A_(2,_5)\n",
       " + A_(2,_6) + A_(2,_7) + A_(2,_8) + A_(2,_9) >= 7\n",
       "\n",
       "_C29: A_(0,_17) + A_(0,_18) + A_(0,_19) + A_(0,_20) + A_(0,_21) + A_(0,_22)\n",
       " + A_(0,_23) + A_(0,_24) + A_(0,_25) + A_(0,_26) + A_(0,_27) + A_(0,_28)\n",
       " + A_(1,_13) + A_(1,_14) + A_(1,_15) + A_(1,_16) + A_(1,_17) + A_(1,_18)\n",
       " + A_(1,_19) + A_(1,_20) + A_(1,_21) + A_(1,_22) + A_(1,_23) + A_(1,_24)\n",
       " + A_(1,_25) + A_(1,_26) + A_(1,_27) + A_(1,_28) + A_(2,_10) + A_(2,_11)\n",
       " + A_(2,_12) + A_(2,_13) + A_(2,_14) + A_(2,_15) + A_(2,_16) + A_(2,_17)\n",
       " + A_(2,_18) + A_(2,_19) + A_(2,_20) + A_(2,_21) + A_(2,_22) + A_(2,_23)\n",
       " + A_(2,_24) + A_(2,_25) + A_(2,_26) + A_(2,_27) + A_(2,_28) + A_(2,_5)\n",
       " + A_(2,_6) + A_(2,_7) + A_(2,_8) + A_(2,_9) >= 20\n",
       "\n",
       "_C30: A_(0,_18) + A_(0,_19) + A_(0,_20) + A_(0,_21) + A_(0,_22) + A_(0,_23)\n",
       " + A_(0,_24) + A_(0,_25) + A_(0,_26) + A_(0,_27) + A_(0,_28) + A_(0,_29)\n",
       " + A_(1,_14) + A_(1,_15) + A_(1,_16) + A_(1,_17) + A_(1,_18) + A_(1,_19)\n",
       " + A_(1,_20) + A_(1,_21) + A_(1,_22) + A_(1,_23) + A_(1,_24) + A_(1,_25)\n",
       " + A_(1,_26) + A_(1,_27) + A_(1,_28) + A_(1,_29) + A_(2,_10) + A_(2,_11)\n",
       " + A_(2,_12) + A_(2,_13) + A_(2,_14) + A_(2,_15) + A_(2,_16) + A_(2,_17)\n",
       " + A_(2,_18) + A_(2,_19) + A_(2,_20) + A_(2,_21) + A_(2,_22) + A_(2,_23)\n",
       " + A_(2,_24) + A_(2,_25) + A_(2,_26) + A_(2,_27) + A_(2,_28) + A_(2,_29)\n",
       " + A_(2,_6) + A_(2,_7) + A_(2,_8) + A_(2,_9) >= 21\n",
       "\n",
       "_C31: A_(0,_19) + A_(0,_20) + A_(0,_21) + A_(0,_22) + A_(0,_23) + A_(0,_24)\n",
       " + A_(0,_25) + A_(0,_26) + A_(0,_27) + A_(0,_28) + A_(0,_29) + A_(0,_30)\n",
       " + A_(1,_15) + A_(1,_16) + A_(1,_17) + A_(1,_18) + A_(1,_19) + A_(1,_20)\n",
       " + A_(1,_21) + A_(1,_22) + A_(1,_23) + A_(1,_24) + A_(1,_25) + A_(1,_26)\n",
       " + A_(1,_27) + A_(1,_28) + A_(1,_29) + A_(1,_30) + A_(2,_10) + A_(2,_11)\n",
       " + A_(2,_12) + A_(2,_13) + A_(2,_14) + A_(2,_15) + A_(2,_16) + A_(2,_17)\n",
       " + A_(2,_18) + A_(2,_19) + A_(2,_20) + A_(2,_21) + A_(2,_22) + A_(2,_23)\n",
       " + A_(2,_24) + A_(2,_25) + A_(2,_26) + A_(2,_27) + A_(2,_28) + A_(2,_29)\n",
       " + A_(2,_30) + A_(2,_7) + A_(2,_8) + A_(2,_9) >= 23\n",
       "\n",
       "_C32: A_(0,_20) + A_(0,_21) + A_(0,_22) + A_(0,_23) + A_(0,_24) + A_(0,_25)\n",
       " + A_(0,_26) + A_(0,_27) + A_(0,_28) + A_(0,_29) + A_(0,_30) + A_(0,_31)\n",
       " + A_(1,_16) + A_(1,_17) + A_(1,_18) + A_(1,_19) + A_(1,_20) + A_(1,_21)\n",
       " + A_(1,_22) + A_(1,_23) + A_(1,_24) + A_(1,_25) + A_(1,_26) + A_(1,_27)\n",
       " + A_(1,_28) + A_(1,_29) + A_(1,_30) + A_(1,_31) + A_(2,_10) + A_(2,_11)\n",
       " + A_(2,_12) + A_(2,_13) + A_(2,_14) + A_(2,_15) + A_(2,_16) + A_(2,_17)\n",
       " + A_(2,_18) + A_(2,_19) + A_(2,_20) + A_(2,_21) + A_(2,_22) + A_(2,_23)\n",
       " + A_(2,_24) + A_(2,_25) + A_(2,_26) + A_(2,_27) + A_(2,_28) + A_(2,_29)\n",
       " + A_(2,_30) + A_(2,_31) + A_(2,_8) + A_(2,_9) >= 23\n",
       "\n",
       "_C33: A_(0,_21) + A_(0,_22) + A_(0,_23) + A_(0,_24) + A_(0,_25) + A_(0,_26)\n",
       " + A_(0,_27) + A_(0,_28) + A_(0,_29) + A_(0,_30) + A_(0,_31) + A_(0,_32)\n",
       " + A_(1,_17) + A_(1,_18) + A_(1,_19) + A_(1,_20) + A_(1,_21) + A_(1,_22)\n",
       " + A_(1,_23) + A_(1,_24) + A_(1,_25) + A_(1,_26) + A_(1,_27) + A_(1,_28)\n",
       " + A_(1,_29) + A_(1,_30) + A_(1,_31) + A_(1,_32) + A_(2,_10) + A_(2,_11)\n",
       " + A_(2,_12) + A_(2,_13) + A_(2,_14) + A_(2,_15) + A_(2,_16) + A_(2,_17)\n",
       " + A_(2,_18) + A_(2,_19) + A_(2,_20) + A_(2,_21) + A_(2,_22) + A_(2,_23)\n",
       " + A_(2,_24) + A_(2,_25) + A_(2,_26) + A_(2,_27) + A_(2,_28) + A_(2,_29)\n",
       " + A_(2,_30) + A_(2,_31) + A_(2,_32) + A_(2,_9) >= 41\n",
       "\n",
       "_C34: A_(0,_22) + A_(0,_23) + A_(0,_24) + A_(0,_25) + A_(0,_26) + A_(0,_27)\n",
       " + A_(0,_28) + A_(0,_29) + A_(0,_30) + A_(0,_31) + A_(0,_32) + A_(0,_33)\n",
       " + A_(1,_18) + A_(1,_19) + A_(1,_20) + A_(1,_21) + A_(1,_22) + A_(1,_23)\n",
       " + A_(1,_24) + A_(1,_25) + A_(1,_26) + A_(1,_27) + A_(1,_28) + A_(1,_29)\n",
       " + A_(1,_30) + A_(1,_31) + A_(1,_32) + A_(1,_33) + A_(2,_10) + A_(2,_11)\n",
       " + A_(2,_12) + A_(2,_13) + A_(2,_14) + A_(2,_15) + A_(2,_16) + A_(2,_17)\n",
       " + A_(2,_18) + A_(2,_19) + A_(2,_20) + A_(2,_21) + A_(2,_22) + A_(2,_23)\n",
       " + A_(2,_24) + A_(2,_25) + A_(2,_26) + A_(2,_27) + A_(2,_28) + A_(2,_29)\n",
       " + A_(2,_30) + A_(2,_31) + A_(2,_32) + A_(2,_33) >= 41\n",
       "\n",
       "_C35: A_(0,_23) + A_(0,_24) + A_(0,_25) + A_(0,_26) + A_(0,_27) + A_(0,_28)\n",
       " + A_(0,_29) + A_(0,_30) + A_(0,_31) + A_(0,_32) + A_(0,_33) + A_(0,_34)\n",
       " + A_(1,_19) + A_(1,_20) + A_(1,_21) + A_(1,_22) + A_(1,_23) + A_(1,_24)\n",
       " + A_(1,_25) + A_(1,_26) + A_(1,_27) + A_(1,_28) + A_(1,_29) + A_(1,_30)\n",
       " + A_(1,_31) + A_(1,_32) + A_(1,_33) + A_(1,_34) + A_(2,_11) + A_(2,_12)\n",
       " + A_(2,_13) + A_(2,_14) + A_(2,_15) + A_(2,_16) + A_(2,_17) + A_(2,_18)\n",
       " + A_(2,_19) + A_(2,_20) + A_(2,_21) + A_(2,_22) + A_(2,_23) + A_(2,_24)\n",
       " + A_(2,_25) + A_(2,_26) + A_(2,_27) + A_(2,_28) + A_(2,_29) + A_(2,_30)\n",
       " + A_(2,_31) + A_(2,_32) + A_(2,_33) + A_(2,_34) >= 41\n",
       "\n",
       "_C36: A_(0,_24) + A_(0,_25) + A_(0,_26) + A_(0,_27) + A_(0,_28) + A_(0,_29)\n",
       " + A_(0,_30) + A_(0,_31) + A_(0,_32) + A_(0,_33) + A_(0,_34) + A_(0,_35)\n",
       " + A_(1,_20) + A_(1,_21) + A_(1,_22) + A_(1,_23) + A_(1,_24) + A_(1,_25)\n",
       " + A_(1,_26) + A_(1,_27) + A_(1,_28) + A_(1,_29) + A_(1,_30) + A_(1,_31)\n",
       " + A_(1,_32) + A_(1,_33) + A_(1,_34) + A_(1,_35) + A_(2,_12) + A_(2,_13)\n",
       " + A_(2,_14) + A_(2,_15) + A_(2,_16) + A_(2,_17) + A_(2,_18) + A_(2,_19)\n",
       " + A_(2,_20) + A_(2,_21) + A_(2,_22) + A_(2,_23) + A_(2,_24) + A_(2,_25)\n",
       " + A_(2,_26) + A_(2,_27) + A_(2,_28) + A_(2,_29) + A_(2,_30) + A_(2,_31)\n",
       " + A_(2,_32) + A_(2,_33) + A_(2,_34) + A_(2,_35) >= 45\n",
       "\n",
       "_C37: A_(0,_25) + A_(0,_26) + A_(0,_27) + A_(0,_28) + A_(0,_29) + A_(0,_30)\n",
       " + A_(0,_31) + A_(0,_32) + A_(0,_33) + A_(0,_34) + A_(0,_35) + A_(0,_36)\n",
       " + A_(1,_21) + A_(1,_22) + A_(1,_23) + A_(1,_24) + A_(1,_25) + A_(1,_26)\n",
       " + A_(1,_27) + A_(1,_28) + A_(1,_29) + A_(1,_30) + A_(1,_31) + A_(1,_32)\n",
       " + A_(1,_33) + A_(1,_34) + A_(1,_35) + A_(1,_36) + A_(2,_13) + A_(2,_14)\n",
       " + A_(2,_15) + A_(2,_16) + A_(2,_17) + A_(2,_18) + A_(2,_19) + A_(2,_20)\n",
       " + A_(2,_21) + A_(2,_22) + A_(2,_23) + A_(2,_24) + A_(2,_25) + A_(2,_26)\n",
       " + A_(2,_27) + A_(2,_28) + A_(2,_29) + A_(2,_30) + A_(2,_31) + A_(2,_32)\n",
       " + A_(2,_33) + A_(2,_34) + A_(2,_35) + A_(2,_36) >= 66\n",
       "\n",
       "_C38: A_(0,_26) + A_(0,_27) + A_(0,_28) + A_(0,_29) + A_(0,_30) + A_(0,_31)\n",
       " + A_(0,_32) + A_(0,_33) + A_(0,_34) + A_(0,_35) + A_(0,_36) + A_(0,_37)\n",
       " + A_(1,_22) + A_(1,_23) + A_(1,_24) + A_(1,_25) + A_(1,_26) + A_(1,_27)\n",
       " + A_(1,_28) + A_(1,_29) + A_(1,_30) + A_(1,_31) + A_(1,_32) + A_(1,_33)\n",
       " + A_(1,_34) + A_(1,_35) + A_(1,_36) + A_(1,_37) + A_(2,_14) + A_(2,_15)\n",
       " + A_(2,_16) + A_(2,_17) + A_(2,_18) + A_(2,_19) + A_(2,_20) + A_(2,_21)\n",
       " + A_(2,_22) + A_(2,_23) + A_(2,_24) + A_(2,_25) + A_(2,_26) + A_(2,_27)\n",
       " + A_(2,_28) + A_(2,_29) + A_(2,_30) + A_(2,_31) + A_(2,_32) + A_(2,_33)\n",
       " + A_(2,_34) + A_(2,_35) + A_(2,_36) + A_(2,_37) >= 59\n",
       "\n",
       "_C39: A_(0,_27) + A_(0,_28) + A_(0,_29) + A_(0,_30) + A_(0,_31) + A_(0,_32)\n",
       " + A_(0,_33) + A_(0,_34) + A_(0,_35) + A_(0,_36) + A_(0,_37) + A_(0,_38)\n",
       " + A_(1,_23) + A_(1,_24) + A_(1,_25) + A_(1,_26) + A_(1,_27) + A_(1,_28)\n",
       " + A_(1,_29) + A_(1,_30) + A_(1,_31) + A_(1,_32) + A_(1,_33) + A_(1,_34)\n",
       " + A_(1,_35) + A_(1,_36) + A_(1,_37) + A_(1,_38) + A_(2,_15) + A_(2,_16)\n",
       " + A_(2,_17) + A_(2,_18) + A_(2,_19) + A_(2,_20) + A_(2,_21) + A_(2,_22)\n",
       " + A_(2,_23) + A_(2,_24) + A_(2,_25) + A_(2,_26) + A_(2,_27) + A_(2,_28)\n",
       " + A_(2,_29) + A_(2,_30) + A_(2,_31) + A_(2,_32) + A_(2,_33) + A_(2,_34)\n",
       " + A_(2,_35) + A_(2,_36) + A_(2,_37) + A_(2,_38) >= 60\n",
       "\n",
       "_C40: A_(0,_28) + A_(0,_29) + A_(0,_30) + A_(0,_31) + A_(0,_32) + A_(0,_33)\n",
       " + A_(0,_34) + A_(0,_35) + A_(0,_36) + A_(0,_37) + A_(0,_38) + A_(0,_39)\n",
       " + A_(1,_24) + A_(1,_25) + A_(1,_26) + A_(1,_27) + A_(1,_28) + A_(1,_29)\n",
       " + A_(1,_30) + A_(1,_31) + A_(1,_32) + A_(1,_33) + A_(1,_34) + A_(1,_35)\n",
       " + A_(1,_36) + A_(1,_37) + A_(1,_38) + A_(1,_39) + A_(2,_16) + A_(2,_17)\n",
       " + A_(2,_18) + A_(2,_19) + A_(2,_20) + A_(2,_21) + A_(2,_22) + A_(2,_23)\n",
       " + A_(2,_24) + A_(2,_25) + A_(2,_26) + A_(2,_27) + A_(2,_28) + A_(2,_29)\n",
       " + A_(2,_30) + A_(2,_31) + A_(2,_32) + A_(2,_33) + A_(2,_34) + A_(2,_35)\n",
       " + A_(2,_36) + A_(2,_37) + A_(2,_38) + A_(2,_39) >= 67\n",
       "\n",
       "_C41: A_(0,_29) + A_(0,_30) + A_(0,_31) + A_(0,_32) + A_(0,_33) + A_(0,_34)\n",
       " + A_(0,_35) + A_(0,_36) + A_(0,_37) + A_(0,_38) + A_(0,_39) + A_(0,_40)\n",
       " + A_(1,_25) + A_(1,_26) + A_(1,_27) + A_(1,_28) + A_(1,_29) + A_(1,_30)\n",
       " + A_(1,_31) + A_(1,_32) + A_(1,_33) + A_(1,_34) + A_(1,_35) + A_(1,_36)\n",
       " + A_(1,_37) + A_(1,_38) + A_(1,_39) + A_(1,_40) + A_(2,_17) + A_(2,_18)\n",
       " + A_(2,_19) + A_(2,_20) + A_(2,_21) + A_(2,_22) + A_(2,_23) + A_(2,_24)\n",
       " + A_(2,_25) + A_(2,_26) + A_(2,_27) + A_(2,_28) + A_(2,_29) + A_(2,_30)\n",
       " + A_(2,_31) + A_(2,_32) + A_(2,_33) + A_(2,_34) + A_(2,_35) + A_(2,_36)\n",
       " + A_(2,_37) + A_(2,_38) + A_(2,_39) + A_(2,_40) >= 70\n",
       "\n",
       "_C42: A_(0,_30) + A_(0,_31) + A_(0,_32) + A_(0,_33) + A_(0,_34) + A_(0,_35)\n",
       " + A_(0,_36) + A_(0,_37) + A_(0,_38) + A_(0,_39) + A_(0,_40) + A_(0,_41)\n",
       " + A_(1,_26) + A_(1,_27) + A_(1,_28) + A_(1,_29) + A_(1,_30) + A_(1,_31)\n",
       " + A_(1,_32) + A_(1,_33) + A_(1,_34) + A_(1,_35) + A_(1,_36) + A_(1,_37)\n",
       " + A_(1,_38) + A_(1,_39) + A_(1,_40) + A_(1,_41) + A_(2,_18) + A_(2,_19)\n",
       " + A_(2,_20) + A_(2,_21) + A_(2,_22) + A_(2,_23) + A_(2,_24) + A_(2,_25)\n",
       " + A_(2,_26) + A_(2,_27) + A_(2,_28) + A_(2,_29) + A_(2,_30) + A_(2,_31)\n",
       " + A_(2,_32) + A_(2,_33) + A_(2,_34) + A_(2,_35) + A_(2,_36) + A_(2,_37)\n",
       " + A_(2,_38) + A_(2,_39) + A_(2,_40) + A_(2,_41) >= 75\n",
       "\n",
       "_C43: A_(0,_31) + A_(0,_32) + A_(0,_33) + A_(0,_34) + A_(0,_35) + A_(0,_36)\n",
       " + A_(0,_37) + A_(0,_38) + A_(0,_39) + A_(0,_40) + A_(0,_41) + A_(0,_42)\n",
       " + A_(1,_27) + A_(1,_28) + A_(1,_29) + A_(1,_30) + A_(1,_31) + A_(1,_32)\n",
       " + A_(1,_33) + A_(1,_34) + A_(1,_35) + A_(1,_36) + A_(1,_37) + A_(1,_38)\n",
       " + A_(1,_39) + A_(1,_40) + A_(1,_41) + A_(1,_42) + A_(2,_19) + A_(2,_20)\n",
       " + A_(2,_21) + A_(2,_22) + A_(2,_23) + A_(2,_24) + A_(2,_25) + A_(2,_26)\n",
       " + A_(2,_27) + A_(2,_28) + A_(2,_29) + A_(2,_30) + A_(2,_31) + A_(2,_32)\n",
       " + A_(2,_33) + A_(2,_34) + A_(2,_35) + A_(2,_36) + A_(2,_37) + A_(2,_38)\n",
       " + A_(2,_39) + A_(2,_40) + A_(2,_41) + A_(2,_42) >= 71\n",
       "\n",
       "_C44: A_(0,_32) + A_(0,_33) + A_(0,_34) + A_(0,_35) + A_(0,_36) + A_(0,_37)\n",
       " + A_(0,_38) + A_(0,_39) + A_(0,_40) + A_(0,_41) + A_(0,_42) + A_(0,_43)\n",
       " + A_(1,_28) + A_(1,_29) + A_(1,_30) + A_(1,_31) + A_(1,_32) + A_(1,_33)\n",
       " + A_(1,_34) + A_(1,_35) + A_(1,_36) + A_(1,_37) + A_(1,_38) + A_(1,_39)\n",
       " + A_(1,_40) + A_(1,_41) + A_(1,_42) + A_(1,_43) + A_(2,_20) + A_(2,_21)\n",
       " + A_(2,_22) + A_(2,_23) + A_(2,_24) + A_(2,_25) + A_(2,_26) + A_(2,_27)\n",
       " + A_(2,_28) + A_(2,_29) + A_(2,_30) + A_(2,_31) + A_(2,_32) + A_(2,_33)\n",
       " + A_(2,_34) + A_(2,_35) + A_(2,_36) + A_(2,_37) + A_(2,_38) + A_(2,_39)\n",
       " + A_(2,_40) + A_(2,_41) + A_(2,_42) + A_(2,_43) >= 75\n",
       "\n",
       "_C45: A_(0,_33) + A_(0,_34) + A_(0,_35) + A_(0,_36) + A_(0,_37) + A_(0,_38)\n",
       " + A_(0,_39) + A_(0,_40) + A_(0,_41) + A_(0,_42) + A_(0,_43) + A_(0,_44)\n",
       " + A_(1,_29) + A_(1,_30) + A_(1,_31) + A_(1,_32) + A_(1,_33) + A_(1,_34)\n",
       " + A_(1,_35) + A_(1,_36) + A_(1,_37) + A_(1,_38) + A_(1,_39) + A_(1,_40)\n",
       " + A_(1,_41) + A_(1,_42) + A_(1,_43) + A_(1,_44) + A_(2,_21) + A_(2,_22)\n",
       " + A_(2,_23) + A_(2,_24) + A_(2,_25) + A_(2,_26) + A_(2,_27) + A_(2,_28)\n",
       " + A_(2,_29) + A_(2,_30) + A_(2,_31) + A_(2,_32) + A_(2,_33) + A_(2,_34)\n",
       " + A_(2,_35) + A_(2,_36) + A_(2,_37) + A_(2,_38) + A_(2,_39) + A_(2,_40)\n",
       " + A_(2,_41) + A_(2,_42) + A_(2,_43) + A_(2,_44) >= 66\n",
       "\n",
       "_C46: A_(0,_34) + A_(0,_35) + A_(0,_36) + A_(0,_37) + A_(0,_38) + A_(0,_39)\n",
       " + A_(0,_40) + A_(0,_41) + A_(0,_42) + A_(0,_43) + A_(0,_44) + A_(0,_45)\n",
       " + A_(1,_30) + A_(1,_31) + A_(1,_32) + A_(1,_33) + A_(1,_34) + A_(1,_35)\n",
       " + A_(1,_36) + A_(1,_37) + A_(1,_38) + A_(1,_39) + A_(1,_40) + A_(1,_41)\n",
       " + A_(1,_42) + A_(1,_43) + A_(1,_44) + A_(1,_45) + A_(2,_22) + A_(2,_23)\n",
       " + A_(2,_24) + A_(2,_25) + A_(2,_26) + A_(2,_27) + A_(2,_28) + A_(2,_29)\n",
       " + A_(2,_30) + A_(2,_31) + A_(2,_32) + A_(2,_33) + A_(2,_34) + A_(2,_35)\n",
       " + A_(2,_36) + A_(2,_37) + A_(2,_38) + A_(2,_39) + A_(2,_40) + A_(2,_41)\n",
       " + A_(2,_42) + A_(2,_43) + A_(2,_44) + A_(2,_45) >= 64\n",
       "\n",
       "_C47: A_(0,_35) + A_(0,_36) + A_(0,_37) + A_(0,_38) + A_(0,_39) + A_(0,_40)\n",
       " + A_(0,_41) + A_(0,_42) + A_(0,_43) + A_(0,_44) + A_(0,_45) + A_(0,_46)\n",
       " + A_(1,_31) + A_(1,_32) + A_(1,_33) + A_(1,_34) + A_(1,_35) + A_(1,_36)\n",
       " + A_(1,_37) + A_(1,_38) + A_(1,_39) + A_(1,_40) + A_(1,_41) + A_(1,_42)\n",
       " + A_(1,_43) + A_(1,_44) + A_(1,_45) + A_(1,_46) + A_(2,_23) + A_(2,_24)\n",
       " + A_(2,_25) + A_(2,_26) + A_(2,_27) + A_(2,_28) + A_(2,_29) + A_(2,_30)\n",
       " + A_(2,_31) + A_(2,_32) + A_(2,_33) + A_(2,_34) + A_(2,_35) + A_(2,_36)\n",
       " + A_(2,_37) + A_(2,_38) + A_(2,_39) + A_(2,_40) + A_(2,_41) + A_(2,_42)\n",
       " + A_(2,_43) + A_(2,_44) + A_(2,_45) + A_(2,_46) >= 62\n",
       "\n",
       "_C48: A_(0,_36) + A_(0,_37) + A_(0,_38) + A_(0,_39) + A_(0,_40) + A_(0,_41)\n",
       " + A_(0,_42) + A_(0,_43) + A_(0,_44) + A_(0,_45) + A_(0,_46) + A_(0,_47)\n",
       " + A_(1,_32) + A_(1,_33) + A_(1,_34) + A_(1,_35) + A_(1,_36) + A_(1,_37)\n",
       " + A_(1,_38) + A_(1,_39) + A_(1,_40) + A_(1,_41) + A_(1,_42) + A_(1,_43)\n",
       " + A_(1,_44) + A_(1,_45) + A_(1,_46) + A_(1,_47) + A_(2,_24) + A_(2,_25)\n",
       " + A_(2,_26) + A_(2,_27) + A_(2,_28) + A_(2,_29) + A_(2,_30) + A_(2,_31)\n",
       " + A_(2,_32) + A_(2,_33) + A_(2,_34) + A_(2,_35) + A_(2,_36) + A_(2,_37)\n",
       " + A_(2,_38) + A_(2,_39) + A_(2,_40) + A_(2,_41) + A_(2,_42) + A_(2,_43)\n",
       " + A_(2,_44) + A_(2,_45) + A_(2,_46) + A_(2,_47) >= 68\n",
       "\n",
       "_C49: A_(0,_37) + A_(0,_38) + A_(0,_39) + A_(0,_40) + A_(0,_41) + A_(0,_42)\n",
       " + A_(0,_43) + A_(0,_44) + A_(0,_45) + A_(0,_46) + A_(0,_47) + A_(0,_48)\n",
       " + A_(1,_33) + A_(1,_34) + A_(1,_35) + A_(1,_36) + A_(1,_37) + A_(1,_38)\n",
       " + A_(1,_39) + A_(1,_40) + A_(1,_41) + A_(1,_42) + A_(1,_43) + A_(1,_44)\n",
       " + A_(1,_45) + A_(1,_46) + A_(1,_47) + A_(1,_48) + A_(2,_25) + A_(2,_26)\n",
       " + A_(2,_27) + A_(2,_28) + A_(2,_29) + A_(2,_30) + A_(2,_31) + A_(2,_32)\n",
       " + A_(2,_33) + A_(2,_34) + A_(2,_35) + A_(2,_36) + A_(2,_37) + A_(2,_38)\n",
       " + A_(2,_39) + A_(2,_40) + A_(2,_41) + A_(2,_42) + A_(2,_43) + A_(2,_44)\n",
       " + A_(2,_45) + A_(2,_46) + A_(2,_47) + A_(2,_48) >= 57\n",
       "\n",
       "_C50: A_(0,_38) + A_(0,_39) + A_(0,_40) + A_(0,_41) + A_(0,_42) + A_(0,_43)\n",
       " + A_(0,_44) + A_(0,_45) + A_(0,_46) + A_(0,_47) + A_(0,_48) + A_(0,_49)\n",
       " + A_(1,_34) + A_(1,_35) + A_(1,_36) + A_(1,_37) + A_(1,_38) + A_(1,_39)\n",
       " + A_(1,_40) + A_(1,_41) + A_(1,_42) + A_(1,_43) + A_(1,_44) + A_(1,_45)\n",
       " + A_(1,_46) + A_(1,_47) + A_(1,_48) + A_(1,_49) + A_(2,_26) + A_(2,_27)\n",
       " + A_(2,_28) + A_(2,_29) + A_(2,_30) + A_(2,_31) + A_(2,_32) + A_(2,_33)\n",
       " + A_(2,_34) + A_(2,_35) + A_(2,_36) + A_(2,_37) + A_(2,_38) + A_(2,_39)\n",
       " + A_(2,_40) + A_(2,_41) + A_(2,_42) + A_(2,_43) + A_(2,_44) + A_(2,_45)\n",
       " + A_(2,_46) + A_(2,_47) + A_(2,_48) + A_(2,_49) >= 57\n",
       "\n",
       "_C51: A_(0,_39) + A_(0,_40) + A_(0,_41) + A_(0,_42) + A_(0,_43) + A_(0,_44)\n",
       " + A_(0,_45) + A_(0,_46) + A_(0,_47) + A_(0,_48) + A_(0,_49) + A_(0,_50)\n",
       " + A_(1,_35) + A_(1,_36) + A_(1,_37) + A_(1,_38) + A_(1,_39) + A_(1,_40)\n",
       " + A_(1,_41) + A_(1,_42) + A_(1,_43) + A_(1,_44) + A_(1,_45) + A_(1,_46)\n",
       " + A_(1,_47) + A_(1,_48) + A_(1,_49) + A_(1,_50) + A_(2,_27) + A_(2,_28)\n",
       " + A_(2,_29) + A_(2,_30) + A_(2,_31) + A_(2,_32) + A_(2,_33) + A_(2,_34)\n",
       " + A_(2,_35) + A_(2,_36) + A_(2,_37) + A_(2,_38) + A_(2,_39) + A_(2,_40)\n",
       " + A_(2,_41) + A_(2,_42) + A_(2,_43) + A_(2,_44) + A_(2,_45) + A_(2,_46)\n",
       " + A_(2,_47) + A_(2,_48) + A_(2,_49) + A_(2,_50) >= 56\n",
       "\n",
       "_C52: A_(0,_40) + A_(0,_41) + A_(0,_42) + A_(0,_43) + A_(0,_44) + A_(0,_45)\n",
       " + A_(0,_46) + A_(0,_47) + A_(0,_48) + A_(0,_49) + A_(0,_50) + A_(0,_51)\n",
       " + A_(1,_36) + A_(1,_37) + A_(1,_38) + A_(1,_39) + A_(1,_40) + A_(1,_41)\n",
       " + A_(1,_42) + A_(1,_43) + A_(1,_44) + A_(1,_45) + A_(1,_46) + A_(1,_47)\n",
       " + A_(1,_48) + A_(1,_49) + A_(1,_50) + A_(1,_51) + A_(2,_28) + A_(2,_29)\n",
       " + A_(2,_30) + A_(2,_31) + A_(2,_32) + A_(2,_33) + A_(2,_34) + A_(2,_35)\n",
       " + A_(2,_36) + A_(2,_37) + A_(2,_38) + A_(2,_39) + A_(2,_40) + A_(2,_41)\n",
       " + A_(2,_42) + A_(2,_43) + A_(2,_44) + A_(2,_45) + A_(2,_46) + A_(2,_47)\n",
       " + A_(2,_48) + A_(2,_49) + A_(2,_50) + A_(2,_51) >= 60\n",
       "\n",
       "_C53: A_(0,_41) + A_(0,_42) + A_(0,_43) + A_(0,_44) + A_(0,_45) + A_(0,_46)\n",
       " + A_(0,_47) + A_(0,_48) + A_(0,_49) + A_(0,_50) + A_(0,_51) + A_(0,_52)\n",
       " + A_(1,_37) + A_(1,_38) + A_(1,_39) + A_(1,_40) + A_(1,_41) + A_(1,_42)\n",
       " + A_(1,_43) + A_(1,_44) + A_(1,_45) + A_(1,_46) + A_(1,_47) + A_(1,_48)\n",
       " + A_(1,_49) + A_(1,_50) + A_(1,_51) + A_(1,_52) + A_(2,_29) + A_(2,_30)\n",
       " + A_(2,_31) + A_(2,_32) + A_(2,_33) + A_(2,_34) + A_(2,_35) + A_(2,_36)\n",
       " + A_(2,_37) + A_(2,_38) + A_(2,_39) + A_(2,_40) + A_(2,_41) + A_(2,_42)\n",
       " + A_(2,_43) + A_(2,_44) + A_(2,_45) + A_(2,_46) + A_(2,_47) + A_(2,_48)\n",
       " + A_(2,_49) + A_(2,_50) + A_(2,_51) + A_(2,_52) >= 64\n",
       "\n",
       "_C54: A_(0,_42) + A_(0,_43) + A_(0,_44) + A_(0,_45) + A_(0,_46) + A_(0,_47)\n",
       " + A_(0,_48) + A_(0,_49) + A_(0,_50) + A_(0,_51) + A_(0,_52) + A_(0,_53)\n",
       " + A_(1,_38) + A_(1,_39) + A_(1,_40) + A_(1,_41) + A_(1,_42) + A_(1,_43)\n",
       " + A_(1,_44) + A_(1,_45) + A_(1,_46) + A_(1,_47) + A_(1,_48) + A_(1,_49)\n",
       " + A_(1,_50) + A_(1,_51) + A_(1,_52) + A_(1,_53) + A_(2,_30) + A_(2,_31)\n",
       " + A_(2,_32) + A_(2,_33) + A_(2,_34) + A_(2,_35) + A_(2,_36) + A_(2,_37)\n",
       " + A_(2,_38) + A_(2,_39) + A_(2,_40) + A_(2,_41) + A_(2,_42) + A_(2,_43)\n",
       " + A_(2,_44) + A_(2,_45) + A_(2,_46) + A_(2,_47) + A_(2,_48) + A_(2,_49)\n",
       " + A_(2,_50) + A_(2,_51) + A_(2,_52) + A_(2,_53) >= 67\n",
       "\n",
       "_C55: A_(0,_43) + A_(0,_44) + A_(0,_45) + A_(0,_46) + A_(0,_47) + A_(0,_48)\n",
       " + A_(0,_49) + A_(0,_50) + A_(0,_51) + A_(0,_52) + A_(0,_53) + A_(0,_54)\n",
       " + A_(1,_39) + A_(1,_40) + A_(1,_41) + A_(1,_42) + A_(1,_43) + A_(1,_44)\n",
       " + A_(1,_45) + A_(1,_46) + A_(1,_47) + A_(1,_48) + A_(1,_49) + A_(1,_50)\n",
       " + A_(1,_51) + A_(1,_52) + A_(1,_53) + A_(1,_54) + A_(2,_31) + A_(2,_32)\n",
       " + A_(2,_33) + A_(2,_34) + A_(2,_35) + A_(2,_36) + A_(2,_37) + A_(2,_38)\n",
       " + A_(2,_39) + A_(2,_40) + A_(2,_41) + A_(2,_42) + A_(2,_43) + A_(2,_44)\n",
       " + A_(2,_45) + A_(2,_46) + A_(2,_47) + A_(2,_48) + A_(2,_49) + A_(2,_50)\n",
       " + A_(2,_51) + A_(2,_52) + A_(2,_53) + A_(2,_54) >= 63\n",
       "\n",
       "_C56: A_(0,_44) + A_(0,_45) + A_(0,_46) + A_(0,_47) + A_(0,_48) + A_(0,_49)\n",
       " + A_(0,_50) + A_(0,_51) + A_(0,_52) + A_(0,_53) + A_(0,_54) + A_(0,_55)\n",
       " + A_(1,_40) + A_(1,_41) + A_(1,_42) + A_(1,_43) + A_(1,_44) + A_(1,_45)\n",
       " + A_(1,_46) + A_(1,_47) + A_(1,_48) + A_(1,_49) + A_(1,_50) + A_(1,_51)\n",
       " + A_(1,_52) + A_(1,_53) + A_(1,_54) + A_(1,_55) + A_(2,_32) + A_(2,_33)\n",
       " + A_(2,_34) + A_(2,_35) + A_(2,_36) + A_(2,_37) + A_(2,_38) + A_(2,_39)\n",
       " + A_(2,_40) + A_(2,_41) + A_(2,_42) + A_(2,_43) + A_(2,_44) + A_(2,_45)\n",
       " + A_(2,_46) + A_(2,_47) + A_(2,_48) + A_(2,_49) + A_(2,_50) + A_(2,_51)\n",
       " + A_(2,_52) + A_(2,_53) + A_(2,_54) + A_(2,_55) >= 70\n",
       "\n",
       "_C57: A_(0,_45) + A_(0,_46) + A_(0,_47) + A_(0,_48) + A_(0,_49) + A_(0,_50)\n",
       " + A_(0,_51) + A_(0,_52) + A_(0,_53) + A_(0,_54) + A_(0,_55) + A_(0,_56)\n",
       " + A_(1,_41) + A_(1,_42) + A_(1,_43) + A_(1,_44) + A_(1,_45) + A_(1,_46)\n",
       " + A_(1,_47) + A_(1,_48) + A_(1,_49) + A_(1,_50) + A_(1,_51) + A_(1,_52)\n",
       " + A_(1,_53) + A_(1,_54) + A_(1,_55) + A_(1,_56) + A_(2,_33) + A_(2,_34)\n",
       " + A_(2,_35) + A_(2,_36) + A_(2,_37) + A_(2,_38) + A_(2,_39) + A_(2,_40)\n",
       " + A_(2,_41) + A_(2,_42) + A_(2,_43) + A_(2,_44) + A_(2,_45) + A_(2,_46)\n",
       " + A_(2,_47) + A_(2,_48) + A_(2,_49) + A_(2,_50) + A_(2,_51) + A_(2,_52)\n",
       " + A_(2,_53) + A_(2,_54) + A_(2,_55) + A_(2,_56) >= 69\n",
       "\n",
       "_C58: A_(0,_46) + A_(0,_47) + A_(0,_48) + A_(0,_49) + A_(0,_50) + A_(0,_51)\n",
       " + A_(0,_52) + A_(0,_53) + A_(0,_54) + A_(0,_55) + A_(0,_56) + A_(0,_57)\n",
       " + A_(1,_42) + A_(1,_43) + A_(1,_44) + A_(1,_45) + A_(1,_46) + A_(1,_47)\n",
       " + A_(1,_48) + A_(1,_49) + A_(1,_50) + A_(1,_51) + A_(1,_52) + A_(1,_53)\n",
       " + A_(1,_54) + A_(1,_55) + A_(1,_56) + A_(1,_57) + A_(2,_34) + A_(2,_35)\n",
       " + A_(2,_36) + A_(2,_37) + A_(2,_38) + A_(2,_39) + A_(2,_40) + A_(2,_41)\n",
       " + A_(2,_42) + A_(2,_43) + A_(2,_44) + A_(2,_45) + A_(2,_46) + A_(2,_47)\n",
       " + A_(2,_48) + A_(2,_49) + A_(2,_50) + A_(2,_51) + A_(2,_52) + A_(2,_53)\n",
       " + A_(2,_54) + A_(2,_55) + A_(2,_56) + A_(2,_57) >= 67\n",
       "\n",
       "_C59: A_(0,_47) + A_(0,_48) + A_(0,_49) + A_(0,_50) + A_(0,_51) + A_(0,_52)\n",
       " + A_(0,_53) + A_(0,_54) + A_(0,_55) + A_(0,_56) + A_(0,_57) + A_(0,_58)\n",
       " + A_(1,_43) + A_(1,_44) + A_(1,_45) + A_(1,_46) + A_(1,_47) + A_(1,_48)\n",
       " + A_(1,_49) + A_(1,_50) + A_(1,_51) + A_(1,_52) + A_(1,_53) + A_(1,_54)\n",
       " + A_(1,_55) + A_(1,_56) + A_(1,_57) + A_(1,_58) + A_(2,_35) + A_(2,_36)\n",
       " + A_(2,_37) + A_(2,_38) + A_(2,_39) + A_(2,_40) + A_(2,_41) + A_(2,_42)\n",
       " + A_(2,_43) + A_(2,_44) + A_(2,_45) + A_(2,_46) + A_(2,_47) + A_(2,_48)\n",
       " + A_(2,_49) + A_(2,_50) + A_(2,_51) + A_(2,_52) + A_(2,_53) + A_(2,_54)\n",
       " + A_(2,_55) + A_(2,_56) + A_(2,_57) + A_(2,_58) >= 64\n",
       "\n",
       "_C60: A_(0,_48) + A_(0,_49) + A_(0,_50) + A_(0,_51) + A_(0,_52) + A_(0,_53)\n",
       " + A_(0,_54) + A_(0,_55) + A_(0,_56) + A_(0,_57) + A_(0,_58) + A_(0,_59)\n",
       " + A_(1,_44) + A_(1,_45) + A_(1,_46) + A_(1,_47) + A_(1,_48) + A_(1,_49)\n",
       " + A_(1,_50) + A_(1,_51) + A_(1,_52) + A_(1,_53) + A_(1,_54) + A_(1,_55)\n",
       " + A_(1,_56) + A_(1,_57) + A_(1,_58) + A_(1,_59) + A_(2,_36) + A_(2,_37)\n",
       " + A_(2,_38) + A_(2,_39) + A_(2,_40) + A_(2,_41) + A_(2,_42) + A_(2,_43)\n",
       " + A_(2,_44) + A_(2,_45) + A_(2,_46) + A_(2,_47) + A_(2,_48) + A_(2,_49)\n",
       " + A_(2,_50) + A_(2,_51) + A_(2,_52) + A_(2,_53) + A_(2,_54) + A_(2,_55)\n",
       " + A_(2,_56) + A_(2,_57) + A_(2,_58) + A_(2,_59) >= 66\n",
       "\n",
       "_C61: A_(0,_49) + A_(0,_50) + A_(0,_51) + A_(0,_52) + A_(0,_53) + A_(0,_54)\n",
       " + A_(0,_55) + A_(0,_56) + A_(0,_57) + A_(0,_58) + A_(0,_59) + A_(0,_60)\n",
       " + A_(1,_45) + A_(1,_46) + A_(1,_47) + A_(1,_48) + A_(1,_49) + A_(1,_50)\n",
       " + A_(1,_51) + A_(1,_52) + A_(1,_53) + A_(1,_54) + A_(1,_55) + A_(1,_56)\n",
       " + A_(1,_57) + A_(1,_58) + A_(1,_59) + A_(1,_60) + A_(2,_37) + A_(2,_38)\n",
       " + A_(2,_39) + A_(2,_40) + A_(2,_41) + A_(2,_42) + A_(2,_43) + A_(2,_44)\n",
       " + A_(2,_45) + A_(2,_46) + A_(2,_47) + A_(2,_48) + A_(2,_49) + A_(2,_50)\n",
       " + A_(2,_51) + A_(2,_52) + A_(2,_53) + A_(2,_54) + A_(2,_55) + A_(2,_56)\n",
       " + A_(2,_57) + A_(2,_58) + A_(2,_59) + A_(2,_60) >= 71\n",
       "\n",
       "_C62: A_(0,_50) + A_(0,_51) + A_(0,_52) + A_(0,_53) + A_(0,_54) + A_(0,_55)\n",
       " + A_(0,_56) + A_(0,_57) + A_(0,_58) + A_(0,_59) + A_(0,_60) + A_(0,_61)\n",
       " + A_(1,_46) + A_(1,_47) + A_(1,_48) + A_(1,_49) + A_(1,_50) + A_(1,_51)\n",
       " + A_(1,_52) + A_(1,_53) + A_(1,_54) + A_(1,_55) + A_(1,_56) + A_(1,_57)\n",
       " + A_(1,_58) + A_(1,_59) + A_(1,_60) + A_(1,_61) + A_(2,_38) + A_(2,_39)\n",
       " + A_(2,_40) + A_(2,_41) + A_(2,_42) + A_(2,_43) + A_(2,_44) + A_(2,_45)\n",
       " + A_(2,_46) + A_(2,_47) + A_(2,_48) + A_(2,_49) + A_(2,_50) + A_(2,_51)\n",
       " + A_(2,_52) + A_(2,_53) + A_(2,_54) + A_(2,_55) + A_(2,_56) + A_(2,_57)\n",
       " + A_(2,_58) + A_(2,_59) + A_(2,_60) + A_(2,_61) >= 66\n",
       "\n",
       "_C63: A_(0,_51) + A_(0,_52) + A_(0,_53) + A_(0,_54) + A_(0,_55) + A_(0,_56)\n",
       " + A_(0,_57) + A_(0,_58) + A_(0,_59) + A_(0,_60) + A_(0,_61) + A_(0,_62)\n",
       " + A_(1,_47) + A_(1,_48) + A_(1,_49) + A_(1,_50) + A_(1,_51) + A_(1,_52)\n",
       " + A_(1,_53) + A_(1,_54) + A_(1,_55) + A_(1,_56) + A_(1,_57) + A_(1,_58)\n",
       " + A_(1,_59) + A_(1,_60) + A_(1,_61) + A_(1,_62) + A_(2,_39) + A_(2,_40)\n",
       " + A_(2,_41) + A_(2,_42) + A_(2,_43) + A_(2,_44) + A_(2,_45) + A_(2,_46)\n",
       " + A_(2,_47) + A_(2,_48) + A_(2,_49) + A_(2,_50) + A_(2,_51) + A_(2,_52)\n",
       " + A_(2,_53) + A_(2,_54) + A_(2,_55) + A_(2,_56) + A_(2,_57) + A_(2,_58)\n",
       " + A_(2,_59) + A_(2,_60) + A_(2,_61) + A_(2,_62) >= 70\n",
       "\n",
       "_C64: A_(0,_52) + A_(0,_53) + A_(0,_54) + A_(0,_55) + A_(0,_56) + A_(0,_57)\n",
       " + A_(0,_58) + A_(0,_59) + A_(0,_60) + A_(0,_61) + A_(0,_62) + A_(0,_63)\n",
       " + A_(1,_48) + A_(1,_49) + A_(1,_50) + A_(1,_51) + A_(1,_52) + A_(1,_53)\n",
       " + A_(1,_54) + A_(1,_55) + A_(1,_56) + A_(1,_57) + A_(1,_58) + A_(1,_59)\n",
       " + A_(1,_60) + A_(1,_61) + A_(1,_62) + A_(1,_63) + A_(2,_40) + A_(2,_41)\n",
       " + A_(2,_42) + A_(2,_43) + A_(2,_44) + A_(2,_45) + A_(2,_46) + A_(2,_47)\n",
       " + A_(2,_48) + A_(2,_49) + A_(2,_50) + A_(2,_51) + A_(2,_52) + A_(2,_53)\n",
       " + A_(2,_54) + A_(2,_55) + A_(2,_56) + A_(2,_57) + A_(2,_58) + A_(2,_59)\n",
       " + A_(2,_60) + A_(2,_61) + A_(2,_62) + A_(2,_63) >= 67\n",
       "\n",
       "_C65: A_(0,_53) + A_(0,_54) + A_(0,_55) + A_(0,_56) + A_(0,_57) + A_(0,_58)\n",
       " + A_(0,_59) + A_(0,_60) + A_(0,_61) + A_(0,_62) + A_(0,_63) + A_(0,_64)\n",
       " + A_(1,_49) + A_(1,_50) + A_(1,_51) + A_(1,_52) + A_(1,_53) + A_(1,_54)\n",
       " + A_(1,_55) + A_(1,_56) + A_(1,_57) + A_(1,_58) + A_(1,_59) + A_(1,_60)\n",
       " + A_(1,_61) + A_(1,_62) + A_(1,_63) + A_(1,_64) + A_(2,_41) + A_(2,_42)\n",
       " + A_(2,_43) + A_(2,_44) + A_(2,_45) + A_(2,_46) + A_(2,_47) + A_(2,_48)\n",
       " + A_(2,_49) + A_(2,_50) + A_(2,_51) + A_(2,_52) + A_(2,_53) + A_(2,_54)\n",
       " + A_(2,_55) + A_(2,_56) + A_(2,_57) + A_(2,_58) + A_(2,_59) + A_(2,_60)\n",
       " + A_(2,_61) + A_(2,_62) + A_(2,_63) + A_(2,_64) >= 68\n",
       "\n",
       "_C66: A_(0,_54) + A_(0,_55) + A_(0,_56) + A_(0,_57) + A_(0,_58) + A_(0,_59)\n",
       " + A_(0,_60) + A_(0,_61) + A_(0,_62) + A_(0,_63) + A_(0,_64) + A_(0,_65)\n",
       " + A_(1,_50) + A_(1,_51) + A_(1,_52) + A_(1,_53) + A_(1,_54) + A_(1,_55)\n",
       " + A_(1,_56) + A_(1,_57) + A_(1,_58) + A_(1,_59) + A_(1,_60) + A_(1,_61)\n",
       " + A_(1,_62) + A_(1,_63) + A_(1,_64) + A_(1,_65) + A_(2,_42) + A_(2,_43)\n",
       " + A_(2,_44) + A_(2,_45) + A_(2,_46) + A_(2,_47) + A_(2,_48) + A_(2,_49)\n",
       " + A_(2,_50) + A_(2,_51) + A_(2,_52) + A_(2,_53) + A_(2,_54) + A_(2,_55)\n",
       " + A_(2,_56) + A_(2,_57) + A_(2,_58) + A_(2,_59) + A_(2,_60) + A_(2,_61)\n",
       " + A_(2,_62) + A_(2,_63) + A_(2,_64) + A_(2,_65) >= 66\n",
       "\n",
       "_C67: A_(0,_55) + A_(0,_56) + A_(0,_57) + A_(0,_58) + A_(0,_59) + A_(0,_60)\n",
       " + A_(0,_61) + A_(0,_62) + A_(0,_63) + A_(0,_64) + A_(0,_65) + A_(0,_66)\n",
       " + A_(1,_51) + A_(1,_52) + A_(1,_53) + A_(1,_54) + A_(1,_55) + A_(1,_56)\n",
       " + A_(1,_57) + A_(1,_58) + A_(1,_59) + A_(1,_60) + A_(1,_61) + A_(1,_62)\n",
       " + A_(1,_63) + A_(1,_64) + A_(1,_65) + A_(1,_66) + A_(2,_43) + A_(2,_44)\n",
       " + A_(2,_45) + A_(2,_46) + A_(2,_47) + A_(2,_48) + A_(2,_49) + A_(2,_50)\n",
       " + A_(2,_51) + A_(2,_52) + A_(2,_53) + A_(2,_54) + A_(2,_55) + A_(2,_56)\n",
       " + A_(2,_57) + A_(2,_58) + A_(2,_59) + A_(2,_60) + A_(2,_61) + A_(2,_62)\n",
       " + A_(2,_63) + A_(2,_64) + A_(2,_65) + A_(2,_66) >= 68\n",
       "\n",
       "_C68: A_(0,_56) + A_(0,_57) + A_(0,_58) + A_(0,_59) + A_(0,_60) + A_(0,_61)\n",
       " + A_(0,_62) + A_(0,_63) + A_(0,_64) + A_(0,_65) + A_(0,_66) + A_(0,_67)\n",
       " + A_(1,_52) + A_(1,_53) + A_(1,_54) + A_(1,_55) + A_(1,_56) + A_(1,_57)\n",
       " + A_(1,_58) + A_(1,_59) + A_(1,_60) + A_(1,_61) + A_(1,_62) + A_(1,_63)\n",
       " + A_(1,_64) + A_(1,_65) + A_(1,_66) + A_(1,_67) + A_(2,_44) + A_(2,_45)\n",
       " + A_(2,_46) + A_(2,_47) + A_(2,_48) + A_(2,_49) + A_(2,_50) + A_(2,_51)\n",
       " + A_(2,_52) + A_(2,_53) + A_(2,_54) + A_(2,_55) + A_(2,_56) + A_(2,_57)\n",
       " + A_(2,_58) + A_(2,_59) + A_(2,_60) + A_(2,_61) + A_(2,_62) + A_(2,_63)\n",
       " + A_(2,_64) + A_(2,_65) + A_(2,_66) + A_(2,_67) >= 71\n",
       "\n",
       "_C69: A_(0,_57) + A_(0,_58) + A_(0,_59) + A_(0,_60) + A_(0,_61) + A_(0,_62)\n",
       " + A_(0,_63) + A_(0,_64) + A_(0,_65) + A_(0,_66) + A_(0,_67) + A_(0,_68)\n",
       " + A_(1,_53) + A_(1,_54) + A_(1,_55) + A_(1,_56) + A_(1,_57) + A_(1,_58)\n",
       " + A_(1,_59) + A_(1,_60) + A_(1,_61) + A_(1,_62) + A_(1,_63) + A_(1,_64)\n",
       " + A_(1,_65) + A_(1,_66) + A_(1,_67) + A_(1,_68) + A_(2,_45) + A_(2,_46)\n",
       " + A_(2,_47) + A_(2,_48) + A_(2,_49) + A_(2,_50) + A_(2,_51) + A_(2,_52)\n",
       " + A_(2,_53) + A_(2,_54) + A_(2,_55) + A_(2,_56) + A_(2,_57) + A_(2,_58)\n",
       " + A_(2,_59) + A_(2,_60) + A_(2,_61) + A_(2,_62) + A_(2,_63) + A_(2,_64)\n",
       " + A_(2,_65) + A_(2,_66) + A_(2,_67) + A_(2,_68) >= 68\n",
       "\n",
       "_C70: A_(0,_58) + A_(0,_59) + A_(0,_60) + A_(0,_61) + A_(0,_62) + A_(0,_63)\n",
       " + A_(0,_64) + A_(0,_65) + A_(0,_66) + A_(0,_67) + A_(0,_68) + A_(0,_69)\n",
       " + A_(1,_54) + A_(1,_55) + A_(1,_56) + A_(1,_57) + A_(1,_58) + A_(1,_59)\n",
       " + A_(1,_60) + A_(1,_61) + A_(1,_62) + A_(1,_63) + A_(1,_64) + A_(1,_65)\n",
       " + A_(1,_66) + A_(1,_67) + A_(1,_68) + A_(1,_69) + A_(2,_46) + A_(2,_47)\n",
       " + A_(2,_48) + A_(2,_49) + A_(2,_50) + A_(2,_51) + A_(2,_52) + A_(2,_53)\n",
       " + A_(2,_54) + A_(2,_55) + A_(2,_56) + A_(2,_57) + A_(2,_58) + A_(2,_59)\n",
       " + A_(2,_60) + A_(2,_61) + A_(2,_62) + A_(2,_63) + A_(2,_64) + A_(2,_65)\n",
       " + A_(2,_66) + A_(2,_67) + A_(2,_68) + A_(2,_69) >= 69\n",
       "\n",
       "_C71: A_(0,_59) + A_(0,_60) + A_(0,_61) + A_(0,_62) + A_(0,_63) + A_(0,_64)\n",
       " + A_(0,_65) + A_(0,_66) + A_(0,_67) + A_(0,_68) + A_(0,_69) + A_(0,_70)\n",
       " + A_(1,_55) + A_(1,_56) + A_(1,_57) + A_(1,_58) + A_(1,_59) + A_(1,_60)\n",
       " + A_(1,_61) + A_(1,_62) + A_(1,_63) + A_(1,_64) + A_(1,_65) + A_(1,_66)\n",
       " + A_(1,_67) + A_(1,_68) + A_(1,_69) + A_(1,_70) + A_(2,_47) + A_(2,_48)\n",
       " + A_(2,_49) + A_(2,_50) + A_(2,_51) + A_(2,_52) + A_(2,_53) + A_(2,_54)\n",
       " + A_(2,_55) + A_(2,_56) + A_(2,_57) + A_(2,_58) + A_(2,_59) + A_(2,_60)\n",
       " + A_(2,_61) + A_(2,_62) + A_(2,_63) + A_(2,_64) + A_(2,_65) + A_(2,_66)\n",
       " + A_(2,_67) + A_(2,_68) + A_(2,_69) + A_(2,_70) >= 73\n",
       "\n",
       "_C72: A_(0,_60) + A_(0,_61) + A_(0,_62) + A_(0,_63) + A_(0,_64) + A_(0,_65)\n",
       " + A_(0,_66) + A_(0,_67) + A_(0,_68) + A_(0,_69) + A_(0,_70) + A_(0,_71)\n",
       " + A_(1,_56) + A_(1,_57) + A_(1,_58) + A_(1,_59) + A_(1,_60) + A_(1,_61)\n",
       " + A_(1,_62) + A_(1,_63) + A_(1,_64) + A_(1,_65) + A_(1,_66) + A_(1,_67)\n",
       " + A_(1,_68) + A_(1,_69) + A_(1,_70) + A_(1,_71) + A_(2,_48) + A_(2,_49)\n",
       " + A_(2,_50) + A_(2,_51) + A_(2,_52) + A_(2,_53) + A_(2,_54) + A_(2,_55)\n",
       " + A_(2,_56) + A_(2,_57) + A_(2,_58) + A_(2,_59) + A_(2,_60) + A_(2,_61)\n",
       " + A_(2,_62) + A_(2,_63) + A_(2,_64) + A_(2,_65) + A_(2,_66) + A_(2,_67)\n",
       " + A_(2,_68) + A_(2,_69) + A_(2,_70) + A_(2,_71) >= 62\n",
       "\n",
       "_C73: A_(0,_61) + A_(0,_62) + A_(0,_63) + A_(0,_64) + A_(0,_65) + A_(0,_66)\n",
       " + A_(0,_67) + A_(0,_68) + A_(0,_69) + A_(0,_70) + A_(0,_71) + A_(0,_72)\n",
       " + A_(1,_57) + A_(1,_58) + A_(1,_59) + A_(1,_60) + A_(1,_61) + A_(1,_62)\n",
       " + A_(1,_63) + A_(1,_64) + A_(1,_65) + A_(1,_66) + A_(1,_67) + A_(1,_68)\n",
       " + A_(1,_69) + A_(1,_70) + A_(1,_71) + A_(1,_72) + A_(2,_49) + A_(2,_50)\n",
       " + A_(2,_51) + A_(2,_52) + A_(2,_53) + A_(2,_54) + A_(2,_55) + A_(2,_56)\n",
       " + A_(2,_57) + A_(2,_58) + A_(2,_59) + A_(2,_60) + A_(2,_61) + A_(2,_62)\n",
       " + A_(2,_63) + A_(2,_64) + A_(2,_65) + A_(2,_66) + A_(2,_67) + A_(2,_68)\n",
       " + A_(2,_69) + A_(2,_70) + A_(2,_71) + A_(2,_72) >= 55\n",
       "\n",
       "_C74: A_(0,_62) + A_(0,_63) + A_(0,_64) + A_(0,_65) + A_(0,_66) + A_(0,_67)\n",
       " + A_(0,_68) + A_(0,_69) + A_(0,_70) + A_(0,_71) + A_(0,_72) + A_(0,_73)\n",
       " + A_(1,_58) + A_(1,_59) + A_(1,_60) + A_(1,_61) + A_(1,_62) + A_(1,_63)\n",
       " + A_(1,_64) + A_(1,_65) + A_(1,_66) + A_(1,_67) + A_(1,_68) + A_(1,_69)\n",
       " + A_(1,_70) + A_(1,_71) + A_(1,_72) + A_(1,_73) + A_(2,_50) + A_(2,_51)\n",
       " + A_(2,_52) + A_(2,_53) + A_(2,_54) + A_(2,_55) + A_(2,_56) + A_(2,_57)\n",
       " + A_(2,_58) + A_(2,_59) + A_(2,_60) + A_(2,_61) + A_(2,_62) + A_(2,_63)\n",
       " + A_(2,_64) + A_(2,_65) + A_(2,_66) + A_(2,_67) + A_(2,_68) + A_(2,_69)\n",
       " + A_(2,_70) + A_(2,_71) + A_(2,_72) + A_(2,_73) >= 51\n",
       "\n",
       "_C75: A_(0,_63) + A_(0,_64) + A_(0,_65) + A_(0,_66) + A_(0,_67) + A_(0,_68)\n",
       " + A_(0,_69) + A_(0,_70) + A_(0,_71) + A_(0,_72) + A_(0,_73) + A_(0,_74)\n",
       " + A_(1,_59) + A_(1,_60) + A_(1,_61) + A_(1,_62) + A_(1,_63) + A_(1,_64)\n",
       " + A_(1,_65) + A_(1,_66) + A_(1,_67) + A_(1,_68) + A_(1,_69) + A_(1,_70)\n",
       " + A_(1,_71) + A_(1,_72) + A_(1,_73) + A_(1,_74) + A_(2,_51) + A_(2,_52)\n",
       " + A_(2,_53) + A_(2,_54) + A_(2,_55) + A_(2,_56) + A_(2,_57) + A_(2,_58)\n",
       " + A_(2,_59) + A_(2,_60) + A_(2,_61) + A_(2,_62) + A_(2,_63) + A_(2,_64)\n",
       " + A_(2,_65) + A_(2,_66) + A_(2,_67) + A_(2,_68) + A_(2,_69) + A_(2,_70)\n",
       " + A_(2,_71) + A_(2,_72) + A_(2,_73) + A_(2,_74) >= 52\n",
       "\n",
       "_C76: A_(0,_64) + A_(0,_65) + A_(0,_66) + A_(0,_67) + A_(0,_68) + A_(0,_69)\n",
       " + A_(0,_70) + A_(0,_71) + A_(0,_72) + A_(0,_73) + A_(0,_74) + A_(0,_75)\n",
       " + A_(1,_60) + A_(1,_61) + A_(1,_62) + A_(1,_63) + A_(1,_64) + A_(1,_65)\n",
       " + A_(1,_66) + A_(1,_67) + A_(1,_68) + A_(1,_69) + A_(1,_70) + A_(1,_71)\n",
       " + A_(1,_72) + A_(1,_73) + A_(1,_74) + A_(1,_75) + A_(2,_52) + A_(2,_53)\n",
       " + A_(2,_54) + A_(2,_55) + A_(2,_56) + A_(2,_57) + A_(2,_58) + A_(2,_59)\n",
       " + A_(2,_60) + A_(2,_61) + A_(2,_62) + A_(2,_63) + A_(2,_64) + A_(2,_65)\n",
       " + A_(2,_66) + A_(2,_67) + A_(2,_68) + A_(2,_69) + A_(2,_70) + A_(2,_71)\n",
       " + A_(2,_72) + A_(2,_73) + A_(2,_74) + A_(2,_75) >= 48\n",
       "\n",
       "_C77: A_(0,_65) + A_(0,_66) + A_(0,_67) + A_(0,_68) + A_(0,_69) + A_(0,_70)\n",
       " + A_(0,_71) + A_(0,_72) + A_(0,_73) + A_(0,_74) + A_(0,_75) + A_(0,_76)\n",
       " + A_(1,_61) + A_(1,_62) + A_(1,_63) + A_(1,_64) + A_(1,_65) + A_(1,_66)\n",
       " + A_(1,_67) + A_(1,_68) + A_(1,_69) + A_(1,_70) + A_(1,_71) + A_(1,_72)\n",
       " + A_(1,_73) + A_(1,_74) + A_(1,_75) + A_(1,_76) + A_(2,_53) + A_(2,_54)\n",
       " + A_(2,_55) + A_(2,_56) + A_(2,_57) + A_(2,_58) + A_(2,_59) + A_(2,_60)\n",
       " + A_(2,_61) + A_(2,_62) + A_(2,_63) + A_(2,_64) + A_(2,_65) + A_(2,_66)\n",
       " + A_(2,_67) + A_(2,_68) + A_(2,_69) + A_(2,_70) + A_(2,_71) + A_(2,_72)\n",
       " + A_(2,_73) + A_(2,_74) + A_(2,_75) + A_(2,_76) >= 45\n",
       "\n",
       "_C78: A_(0,_66) + A_(0,_67) + A_(0,_68) + A_(0,_69) + A_(0,_70) + A_(0,_71)\n",
       " + A_(0,_72) + A_(0,_73) + A_(0,_74) + A_(0,_75) + A_(0,_76) + A_(0,_77)\n",
       " + A_(1,_62) + A_(1,_63) + A_(1,_64) + A_(1,_65) + A_(1,_66) + A_(1,_67)\n",
       " + A_(1,_68) + A_(1,_69) + A_(1,_70) + A_(1,_71) + A_(1,_72) + A_(1,_73)\n",
       " + A_(1,_74) + A_(1,_75) + A_(1,_76) + A_(1,_77) + A_(2,_54) + A_(2,_55)\n",
       " + A_(2,_56) + A_(2,_57) + A_(2,_58) + A_(2,_59) + A_(2,_60) + A_(2,_61)\n",
       " + A_(2,_62) + A_(2,_63) + A_(2,_64) + A_(2,_65) + A_(2,_66) + A_(2,_67)\n",
       " + A_(2,_68) + A_(2,_69) + A_(2,_70) + A_(2,_71) + A_(2,_72) + A_(2,_73)\n",
       " + A_(2,_74) + A_(2,_75) + A_(2,_76) + A_(2,_77) >= 44\n",
       "\n",
       "_C79: A_(0,_67) + A_(0,_68) + A_(0,_69) + A_(0,_70) + A_(0,_71) + A_(0,_72)\n",
       " + A_(0,_73) + A_(0,_74) + A_(0,_75) + A_(0,_76) + A_(0,_77) + A_(0,_78)\n",
       " + A_(1,_63) + A_(1,_64) + A_(1,_65) + A_(1,_66) + A_(1,_67) + A_(1,_68)\n",
       " + A_(1,_69) + A_(1,_70) + A_(1,_71) + A_(1,_72) + A_(1,_73) + A_(1,_74)\n",
       " + A_(1,_75) + A_(1,_76) + A_(1,_77) + A_(1,_78) + A_(2,_55) + A_(2,_56)\n",
       " + A_(2,_57) + A_(2,_58) + A_(2,_59) + A_(2,_60) + A_(2,_61) + A_(2,_62)\n",
       " + A_(2,_63) + A_(2,_64) + A_(2,_65) + A_(2,_66) + A_(2,_67) + A_(2,_68)\n",
       " + A_(2,_69) + A_(2,_70) + A_(2,_71) + A_(2,_72) + A_(2,_73) + A_(2,_74)\n",
       " + A_(2,_75) + A_(2,_76) + A_(2,_77) + A_(2,_78) >= 39\n",
       "\n",
       "_C80: A_(0,_68) + A_(0,_69) + A_(0,_70) + A_(0,_71) + A_(0,_72) + A_(0,_73)\n",
       " + A_(0,_74) + A_(0,_75) + A_(0,_76) + A_(0,_77) + A_(0,_78) + A_(0,_79)\n",
       " + A_(1,_64) + A_(1,_65) + A_(1,_66) + A_(1,_67) + A_(1,_68) + A_(1,_69)\n",
       " + A_(1,_70) + A_(1,_71) + A_(1,_72) + A_(1,_73) + A_(1,_74) + A_(1,_75)\n",
       " + A_(1,_76) + A_(1,_77) + A_(1,_78) + A_(1,_79) + A_(2,_56) + A_(2,_57)\n",
       " + A_(2,_58) + A_(2,_59) + A_(2,_60) + A_(2,_61) + A_(2,_62) + A_(2,_63)\n",
       " + A_(2,_64) + A_(2,_65) + A_(2,_66) + A_(2,_67) + A_(2,_68) + A_(2,_69)\n",
       " + A_(2,_70) + A_(2,_71) + A_(2,_72) + A_(2,_73) + A_(2,_74) + A_(2,_75)\n",
       " + A_(2,_76) + A_(2,_77) + A_(2,_78) + A_(2,_79) >= 38\n",
       "\n",
       "_C81: A_(0,_69) + A_(0,_70) + A_(0,_71) + A_(0,_72) + A_(0,_73) + A_(0,_74)\n",
       " + A_(0,_75) + A_(0,_76) + A_(0,_77) + A_(0,_78) + A_(0,_79) + A_(0,_80)\n",
       " + A_(1,_65) + A_(1,_66) + A_(1,_67) + A_(1,_68) + A_(1,_69) + A_(1,_70)\n",
       " + A_(1,_71) + A_(1,_72) + A_(1,_73) + A_(1,_74) + A_(1,_75) + A_(1,_76)\n",
       " + A_(1,_77) + A_(1,_78) + A_(1,_79) + A_(1,_80) + A_(2,_57) + A_(2,_58)\n",
       " + A_(2,_59) + A_(2,_60) + A_(2,_61) + A_(2,_62) + A_(2,_63) + A_(2,_64)\n",
       " + A_(2,_65) + A_(2,_66) + A_(2,_67) + A_(2,_68) + A_(2,_69) + A_(2,_70)\n",
       " + A_(2,_71) + A_(2,_72) + A_(2,_73) + A_(2,_74) + A_(2,_75) + A_(2,_76)\n",
       " + A_(2,_77) + A_(2,_78) + A_(2,_79) + A_(2,_80) >= 41\n",
       "\n",
       "_C82: A_(0,_70) + A_(0,_71) + A_(0,_72) + A_(0,_73) + A_(0,_74) + A_(0,_75)\n",
       " + A_(0,_76) + A_(0,_77) + A_(0,_78) + A_(0,_79) + A_(0,_80) + A_(0,_81)\n",
       " + A_(1,_66) + A_(1,_67) + A_(1,_68) + A_(1,_69) + A_(1,_70) + A_(1,_71)\n",
       " + A_(1,_72) + A_(1,_73) + A_(1,_74) + A_(1,_75) + A_(1,_76) + A_(1,_77)\n",
       " + A_(1,_78) + A_(1,_79) + A_(1,_80) + A_(1,_81) + A_(2,_58) + A_(2,_59)\n",
       " + A_(2,_60) + A_(2,_61) + A_(2,_62) + A_(2,_63) + A_(2,_64) + A_(2,_65)\n",
       " + A_(2,_66) + A_(2,_67) + A_(2,_68) + A_(2,_69) + A_(2,_70) + A_(2,_71)\n",
       " + A_(2,_72) + A_(2,_73) + A_(2,_74) + A_(2,_75) + A_(2,_76) + A_(2,_77)\n",
       " + A_(2,_78) + A_(2,_79) + A_(2,_80) + A_(2,_81) >= 36\n",
       "\n",
       "_C83: A_(0,_71) + A_(0,_72) + A_(0,_73) + A_(0,_74) + A_(0,_75) + A_(0,_76)\n",
       " + A_(0,_77) + A_(0,_78) + A_(0,_79) + A_(0,_80) + A_(0,_81) + A_(0,_82)\n",
       " + A_(1,_67) + A_(1,_68) + A_(1,_69) + A_(1,_70) + A_(1,_71) + A_(1,_72)\n",
       " + A_(1,_73) + A_(1,_74) + A_(1,_75) + A_(1,_76) + A_(1,_77) + A_(1,_78)\n",
       " + A_(1,_79) + A_(1,_80) + A_(1,_81) + A_(1,_82) + A_(2,_59) + A_(2,_60)\n",
       " + A_(2,_61) + A_(2,_62) + A_(2,_63) + A_(2,_64) + A_(2,_65) + A_(2,_66)\n",
       " + A_(2,_67) + A_(2,_68) + A_(2,_69) + A_(2,_70) + A_(2,_71) + A_(2,_72)\n",
       " + A_(2,_73) + A_(2,_74) + A_(2,_75) + A_(2,_76) + A_(2,_77) + A_(2,_78)\n",
       " + A_(2,_79) + A_(2,_80) + A_(2,_81) + A_(2,_82) >= 36\n",
       "\n",
       "_C84: A_(0,_72) + A_(0,_73) + A_(0,_74) + A_(0,_75) + A_(0,_76) + A_(0,_77)\n",
       " + A_(0,_78) + A_(0,_79) + A_(0,_80) + A_(0,_81) + A_(0,_82) + A_(0,_83)\n",
       " + A_(1,_68) + A_(1,_69) + A_(1,_70) + A_(1,_71) + A_(1,_72) + A_(1,_73)\n",
       " + A_(1,_74) + A_(1,_75) + A_(1,_76) + A_(1,_77) + A_(1,_78) + A_(1,_79)\n",
       " + A_(1,_80) + A_(1,_81) + A_(1,_82) + A_(1,_83) + A_(2,_60) + A_(2,_61)\n",
       " + A_(2,_62) + A_(2,_63) + A_(2,_64) + A_(2,_65) + A_(2,_66) + A_(2,_67)\n",
       " + A_(2,_68) + A_(2,_69) + A_(2,_70) + A_(2,_71) + A_(2,_72) + A_(2,_73)\n",
       " + A_(2,_74) + A_(2,_75) + A_(2,_76) + A_(2,_77) + A_(2,_78) + A_(2,_79)\n",
       " + A_(2,_80) + A_(2,_81) + A_(2,_82) + A_(2,_83) >= 40\n",
       "\n",
       "_C85: A_(0,_73) + A_(0,_74) + A_(0,_75) + A_(0,_76) + A_(0,_77) + A_(0,_78)\n",
       " + A_(0,_79) + A_(0,_80) + A_(0,_81) + A_(0,_82) + A_(0,_83) + A_(0,_84)\n",
       " + A_(1,_69) + A_(1,_70) + A_(1,_71) + A_(1,_72) + A_(1,_73) + A_(1,_74)\n",
       " + A_(1,_75) + A_(1,_76) + A_(1,_77) + A_(1,_78) + A_(1,_79) + A_(1,_80)\n",
       " + A_(1,_81) + A_(1,_82) + A_(1,_83) + A_(1,_84) + A_(2,_61) + A_(2,_62)\n",
       " + A_(2,_63) + A_(2,_64) + A_(2,_65) + A_(2,_66) + A_(2,_67) + A_(2,_68)\n",
       " + A_(2,_69) + A_(2,_70) + A_(2,_71) + A_(2,_72) + A_(2,_73) + A_(2,_74)\n",
       " + A_(2,_75) + A_(2,_76) + A_(2,_77) + A_(2,_78) + A_(2,_79) + A_(2,_80)\n",
       " + A_(2,_81) + A_(2,_82) + A_(2,_83) + A_(2,_84) >= 36\n",
       "\n",
       "_C86: A_(0,_74) + A_(0,_75) + A_(0,_76) + A_(0,_77) + A_(0,_78) + A_(0,_79)\n",
       " + A_(0,_80) + A_(0,_81) + A_(0,_82) + A_(0,_83) + A_(0,_84) + A_(0,_85)\n",
       " + A_(1,_70) + A_(1,_71) + A_(1,_72) + A_(1,_73) + A_(1,_74) + A_(1,_75)\n",
       " + A_(1,_76) + A_(1,_77) + A_(1,_78) + A_(1,_79) + A_(1,_80) + A_(1,_81)\n",
       " + A_(1,_82) + A_(1,_83) + A_(1,_84) + A_(1,_85) + A_(2,_62) + A_(2,_63)\n",
       " + A_(2,_64) + A_(2,_65) + A_(2,_66) + A_(2,_67) + A_(2,_68) + A_(2,_69)\n",
       " + A_(2,_70) + A_(2,_71) + A_(2,_72) + A_(2,_73) + A_(2,_74) + A_(2,_75)\n",
       " + A_(2,_76) + A_(2,_77) + A_(2,_78) + A_(2,_79) + A_(2,_80) + A_(2,_81)\n",
       " + A_(2,_82) + A_(2,_83) + A_(2,_84) + A_(2,_85) >= 34\n",
       "\n",
       "_C87: A_(0,_75) + A_(0,_76) + A_(0,_77) + A_(0,_78) + A_(0,_79) + A_(0,_80)\n",
       " + A_(0,_81) + A_(0,_82) + A_(0,_83) + A_(0,_84) + A_(0,_85) + A_(0,_86)\n",
       " + A_(1,_71) + A_(1,_72) + A_(1,_73) + A_(1,_74) + A_(1,_75) + A_(1,_76)\n",
       " + A_(1,_77) + A_(1,_78) + A_(1,_79) + A_(1,_80) + A_(1,_81) + A_(1,_82)\n",
       " + A_(1,_83) + A_(1,_84) + A_(1,_85) + A_(1,_86) + A_(2,_63) + A_(2,_64)\n",
       " + A_(2,_65) + A_(2,_66) + A_(2,_67) + A_(2,_68) + A_(2,_69) + A_(2,_70)\n",
       " + A_(2,_71) + A_(2,_72) + A_(2,_73) + A_(2,_74) + A_(2,_75) + A_(2,_76)\n",
       " + A_(2,_77) + A_(2,_78) + A_(2,_79) + A_(2,_80) + A_(2,_81) + A_(2,_82)\n",
       " + A_(2,_83) + A_(2,_84) + A_(2,_85) + A_(2,_86) >= 30\n",
       "\n",
       "_C88: A_(0,_76) + A_(0,_77) + A_(0,_78) + A_(0,_79) + A_(0,_80) + A_(0,_81)\n",
       " + A_(0,_82) + A_(0,_83) + A_(0,_84) + A_(0,_85) + A_(0,_86) + A_(0,_87)\n",
       " + A_(1,_72) + A_(1,_73) + A_(1,_74) + A_(1,_75) + A_(1,_76) + A_(1,_77)\n",
       " + A_(1,_78) + A_(1,_79) + A_(1,_80) + A_(1,_81) + A_(1,_82) + A_(1,_83)\n",
       " + A_(1,_84) + A_(1,_85) + A_(1,_86) + A_(1,_87) + A_(2,_64) + A_(2,_65)\n",
       " + A_(2,_66) + A_(2,_67) + A_(2,_68) + A_(2,_69) + A_(2,_70) + A_(2,_71)\n",
       " + A_(2,_72) + A_(2,_73) + A_(2,_74) + A_(2,_75) + A_(2,_76) + A_(2,_77)\n",
       " + A_(2,_78) + A_(2,_79) + A_(2,_80) + A_(2,_81) + A_(2,_82) + A_(2,_83)\n",
       " + A_(2,_84) + A_(2,_85) + A_(2,_86) + A_(2,_87) >= 31\n",
       "\n",
       "_C89: A_(0,_77) + A_(0,_78) + A_(0,_79) + A_(0,_80) + A_(0,_81) + A_(0,_82)\n",
       " + A_(0,_83) + A_(0,_84) + A_(0,_85) + A_(0,_86) + A_(0,_87) + A_(0,_88)\n",
       " + A_(1,_73) + A_(1,_74) + A_(1,_75) + A_(1,_76) + A_(1,_77) + A_(1,_78)\n",
       " + A_(1,_79) + A_(1,_80) + A_(1,_81) + A_(1,_82) + A_(1,_83) + A_(1,_84)\n",
       " + A_(1,_85) + A_(1,_86) + A_(1,_87) + A_(1,_88) + A_(2,_65) + A_(2,_66)\n",
       " + A_(2,_67) + A_(2,_68) + A_(2,_69) + A_(2,_70) + A_(2,_71) + A_(2,_72)\n",
       " + A_(2,_73) + A_(2,_74) + A_(2,_75) + A_(2,_76) + A_(2,_77) + A_(2,_78)\n",
       " + A_(2,_79) + A_(2,_80) + A_(2,_81) + A_(2,_82) + A_(2,_83) + A_(2,_84)\n",
       " + A_(2,_85) + A_(2,_86) + A_(2,_87) + A_(2,_88) >= 31\n",
       "\n",
       "_C90: A_(0,_78) + A_(0,_79) + A_(0,_80) + A_(0,_81) + A_(0,_82) + A_(0,_83)\n",
       " + A_(0,_84) + A_(0,_85) + A_(0,_86) + A_(0,_87) + A_(0,_88) + A_(0,_89)\n",
       " + A_(1,_74) + A_(1,_75) + A_(1,_76) + A_(1,_77) + A_(1,_78) + A_(1,_79)\n",
       " + A_(1,_80) + A_(1,_81) + A_(1,_82) + A_(1,_83) + A_(1,_84) + A_(1,_85)\n",
       " + A_(1,_86) + A_(1,_87) + A_(1,_88) + A_(1,_89) + A_(2,_66) + A_(2,_67)\n",
       " + A_(2,_68) + A_(2,_69) + A_(2,_70) + A_(2,_71) + A_(2,_72) + A_(2,_73)\n",
       " + A_(2,_74) + A_(2,_75) + A_(2,_76) + A_(2,_77) + A_(2,_78) + A_(2,_79)\n",
       " + A_(2,_80) + A_(2,_81) + A_(2,_82) + A_(2,_83) + A_(2,_84) + A_(2,_85)\n",
       " + A_(2,_86) + A_(2,_87) + A_(2,_88) + A_(2,_89) >= 26\n",
       "\n",
       "_C91: A_(0,_79) + A_(0,_80) + A_(0,_81) + A_(0,_82) + A_(0,_83) + A_(0,_84)\n",
       " + A_(0,_85) + A_(0,_86) + A_(0,_87) + A_(0,_88) + A_(0,_89) + A_(0,_90)\n",
       " + A_(1,_75) + A_(1,_76) + A_(1,_77) + A_(1,_78) + A_(1,_79) + A_(1,_80)\n",
       " + A_(1,_81) + A_(1,_82) + A_(1,_83) + A_(1,_84) + A_(1,_85) + A_(1,_86)\n",
       " + A_(1,_87) + A_(1,_88) + A_(1,_89) + A_(1,_90) + A_(2,_67) + A_(2,_68)\n",
       " + A_(2,_69) + A_(2,_70) + A_(2,_71) + A_(2,_72) + A_(2,_73) + A_(2,_74)\n",
       " + A_(2,_75) + A_(2,_76) + A_(2,_77) + A_(2,_78) + A_(2,_79) + A_(2,_80)\n",
       " + A_(2,_81) + A_(2,_82) + A_(2,_83) + A_(2,_84) + A_(2,_85) + A_(2,_86)\n",
       " + A_(2,_87) + A_(2,_88) + A_(2,_89) + A_(2,_90) >= 26\n",
       "\n",
       "_C92: A_(0,_80) + A_(0,_81) + A_(0,_82) + A_(0,_83) + A_(0,_84) + A_(0,_85)\n",
       " + A_(0,_86) + A_(0,_87) + A_(0,_88) + A_(0,_89) + A_(0,_90) + A_(0,_91)\n",
       " + A_(1,_76) + A_(1,_77) + A_(1,_78) + A_(1,_79) + A_(1,_80) + A_(1,_81)\n",
       " + A_(1,_82) + A_(1,_83) + A_(1,_84) + A_(1,_85) + A_(1,_86) + A_(1,_87)\n",
       " + A_(1,_88) + A_(1,_89) + A_(1,_90) + A_(1,_91) + A_(2,_68) + A_(2,_69)\n",
       " + A_(2,_70) + A_(2,_71) + A_(2,_72) + A_(2,_73) + A_(2,_74) + A_(2,_75)\n",
       " + A_(2,_76) + A_(2,_77) + A_(2,_78) + A_(2,_79) + A_(2,_80) + A_(2,_81)\n",
       " + A_(2,_82) + A_(2,_83) + A_(2,_84) + A_(2,_85) + A_(2,_86) + A_(2,_87)\n",
       " + A_(2,_88) + A_(2,_89) + A_(2,_90) + A_(2,_91) >= 26\n",
       "\n",
       "_C93: A_(0,_81) + A_(0,_82) + A_(0,_83) + A_(0,_84) + A_(0,_85) + A_(0,_86)\n",
       " + A_(0,_87) + A_(0,_88) + A_(0,_89) + A_(0,_90) + A_(0,_91) + A_(0,_92)\n",
       " + A_(1,_77) + A_(1,_78) + A_(1,_79) + A_(1,_80) + A_(1,_81) + A_(1,_82)\n",
       " + A_(1,_83) + A_(1,_84) + A_(1,_85) + A_(1,_86) + A_(1,_87) + A_(1,_88)\n",
       " + A_(1,_89) + A_(1,_90) + A_(1,_91) + A_(1,_92) + A_(2,_69) + A_(2,_70)\n",
       " + A_(2,_71) + A_(2,_72) + A_(2,_73) + A_(2,_74) + A_(2,_75) + A_(2,_76)\n",
       " + A_(2,_77) + A_(2,_78) + A_(2,_79) + A_(2,_80) + A_(2,_81) + A_(2,_82)\n",
       " + A_(2,_83) + A_(2,_84) + A_(2,_85) + A_(2,_86) + A_(2,_87) + A_(2,_88)\n",
       " + A_(2,_89) + A_(2,_90) + A_(2,_91) + A_(2,_92) >= 23\n",
       "\n",
       "_C94: A_(0,_82) + A_(0,_83) + A_(0,_84) + A_(0,_85) + A_(0,_86) + A_(0,_87)\n",
       " + A_(0,_88) + A_(0,_89) + A_(0,_90) + A_(0,_91) + A_(0,_92) + A_(0,_93)\n",
       " + A_(1,_78) + A_(1,_79) + A_(1,_80) + A_(1,_81) + A_(1,_82) + A_(1,_83)\n",
       " + A_(1,_84) + A_(1,_85) + A_(1,_86) + A_(1,_87) + A_(1,_88) + A_(1,_89)\n",
       " + A_(1,_90) + A_(1,_91) + A_(1,_92) + A_(1,_93) + A_(2,_70) + A_(2,_71)\n",
       " + A_(2,_72) + A_(2,_73) + A_(2,_74) + A_(2,_75) + A_(2,_76) + A_(2,_77)\n",
       " + A_(2,_78) + A_(2,_79) + A_(2,_80) + A_(2,_81) + A_(2,_82) + A_(2,_83)\n",
       " + A_(2,_84) + A_(2,_85) + A_(2,_86) + A_(2,_87) + A_(2,_88) + A_(2,_89)\n",
       " + A_(2,_90) + A_(2,_91) + A_(2,_92) + A_(2,_93) >= 18\n",
       "\n",
       "_C95: A_(0,_83) + A_(0,_84) + A_(0,_85) + A_(0,_86) + A_(0,_87) + A_(0,_88)\n",
       " + A_(0,_89) + A_(0,_90) + A_(0,_91) + A_(0,_92) + A_(0,_93) + A_(0,_94)\n",
       " + A_(1,_79) + A_(1,_80) + A_(1,_81) + A_(1,_82) + A_(1,_83) + A_(1,_84)\n",
       " + A_(1,_85) + A_(1,_86) + A_(1,_87) + A_(1,_88) + A_(1,_89) + A_(1,_90)\n",
       " + A_(1,_91) + A_(1,_92) + A_(1,_93) + A_(1,_94) + A_(2,_71) + A_(2,_72)\n",
       " + A_(2,_73) + A_(2,_74) + A_(2,_75) + A_(2,_76) + A_(2,_77) + A_(2,_78)\n",
       " + A_(2,_79) + A_(2,_80) + A_(2,_81) + A_(2,_82) + A_(2,_83) + A_(2,_84)\n",
       " + A_(2,_85) + A_(2,_86) + A_(2,_87) + A_(2,_88) + A_(2,_89) + A_(2,_90)\n",
       " + A_(2,_91) + A_(2,_92) + A_(2,_93) + A_(2,_94) >= 18\n",
       "\n",
       "_C96: A_(0,_84) + A_(0,_85) + A_(0,_86) + A_(0,_87) + A_(0,_88) + A_(0,_89)\n",
       " + A_(0,_90) + A_(0,_91) + A_(0,_92) + A_(0,_93) + A_(0,_94) + A_(0,_95)\n",
       " + A_(1,_80) + A_(1,_81) + A_(1,_82) + A_(1,_83) + A_(1,_84) + A_(1,_85)\n",
       " + A_(1,_86) + A_(1,_87) + A_(1,_88) + A_(1,_89) + A_(1,_90) + A_(1,_91)\n",
       " + A_(1,_92) + A_(1,_93) + A_(1,_94) + A_(1,_95) + A_(2,_72) + A_(2,_73)\n",
       " + A_(2,_74) + A_(2,_75) + A_(2,_76) + A_(2,_77) + A_(2,_78) + A_(2,_79)\n",
       " + A_(2,_80) + A_(2,_81) + A_(2,_82) + A_(2,_83) + A_(2,_84) + A_(2,_85)\n",
       " + A_(2,_86) + A_(2,_87) + A_(2,_88) + A_(2,_89) + A_(2,_90) + A_(2,_91)\n",
       " + A_(2,_92) + A_(2,_93) + A_(2,_94) + A_(2,_95) >= 18\n",
       "\n",
       "VARIABLES\n",
       "0 <= A_(0,_0) Integer\n",
       "0 <= A_(0,_1) Integer\n",
       "0 <= A_(0,_10) Integer\n",
       "0 <= A_(0,_11) Integer\n",
       "0 <= A_(0,_12) Integer\n",
       "0 <= A_(0,_13) Integer\n",
       "0 <= A_(0,_14) Integer\n",
       "0 <= A_(0,_15) Integer\n",
       "0 <= A_(0,_16) Integer\n",
       "0 <= A_(0,_17) Integer\n",
       "0 <= A_(0,_18) Integer\n",
       "0 <= A_(0,_19) Integer\n",
       "0 <= A_(0,_2) Integer\n",
       "0 <= A_(0,_20) Integer\n",
       "0 <= A_(0,_21) Integer\n",
       "0 <= A_(0,_22) Integer\n",
       "0 <= A_(0,_23) Integer\n",
       "0 <= A_(0,_24) Integer\n",
       "0 <= A_(0,_25) Integer\n",
       "0 <= A_(0,_26) Integer\n",
       "0 <= A_(0,_27) Integer\n",
       "0 <= A_(0,_28) Integer\n",
       "0 <= A_(0,_29) Integer\n",
       "0 <= A_(0,_3) Integer\n",
       "0 <= A_(0,_30) Integer\n",
       "0 <= A_(0,_31) Integer\n",
       "0 <= A_(0,_32) Integer\n",
       "0 <= A_(0,_33) Integer\n",
       "0 <= A_(0,_34) Integer\n",
       "0 <= A_(0,_35) Integer\n",
       "0 <= A_(0,_36) Integer\n",
       "0 <= A_(0,_37) Integer\n",
       "0 <= A_(0,_38) Integer\n",
       "0 <= A_(0,_39) Integer\n",
       "0 <= A_(0,_4) Integer\n",
       "0 <= A_(0,_40) Integer\n",
       "0 <= A_(0,_41) Integer\n",
       "0 <= A_(0,_42) Integer\n",
       "0 <= A_(0,_43) Integer\n",
       "0 <= A_(0,_44) Integer\n",
       "0 <= A_(0,_45) Integer\n",
       "0 <= A_(0,_46) Integer\n",
       "0 <= A_(0,_47) Integer\n",
       "0 <= A_(0,_48) Integer\n",
       "0 <= A_(0,_49) Integer\n",
       "0 <= A_(0,_5) Integer\n",
       "0 <= A_(0,_50) Integer\n",
       "0 <= A_(0,_51) Integer\n",
       "0 <= A_(0,_52) Integer\n",
       "0 <= A_(0,_53) Integer\n",
       "0 <= A_(0,_54) Integer\n",
       "0 <= A_(0,_55) Integer\n",
       "0 <= A_(0,_56) Integer\n",
       "0 <= A_(0,_57) Integer\n",
       "0 <= A_(0,_58) Integer\n",
       "0 <= A_(0,_59) Integer\n",
       "0 <= A_(0,_6) Integer\n",
       "0 <= A_(0,_60) Integer\n",
       "0 <= A_(0,_61) Integer\n",
       "0 <= A_(0,_62) Integer\n",
       "0 <= A_(0,_63) Integer\n",
       "0 <= A_(0,_64) Integer\n",
       "0 <= A_(0,_65) Integer\n",
       "0 <= A_(0,_66) Integer\n",
       "0 <= A_(0,_67) Integer\n",
       "0 <= A_(0,_68) Integer\n",
       "0 <= A_(0,_69) Integer\n",
       "0 <= A_(0,_7) Integer\n",
       "0 <= A_(0,_70) Integer\n",
       "0 <= A_(0,_71) Integer\n",
       "0 <= A_(0,_72) Integer\n",
       "0 <= A_(0,_73) Integer\n",
       "0 <= A_(0,_74) Integer\n",
       "0 <= A_(0,_75) Integer\n",
       "0 <= A_(0,_76) Integer\n",
       "0 <= A_(0,_77) Integer\n",
       "0 <= A_(0,_78) Integer\n",
       "0 <= A_(0,_79) Integer\n",
       "0 <= A_(0,_8) Integer\n",
       "0 <= A_(0,_80) Integer\n",
       "0 <= A_(0,_81) Integer\n",
       "0 <= A_(0,_82) Integer\n",
       "0 <= A_(0,_83) Integer\n",
       "0 <= A_(0,_84) Integer\n",
       "0 <= A_(0,_85) Integer\n",
       "0 <= A_(0,_86) Integer\n",
       "0 <= A_(0,_87) Integer\n",
       "0 <= A_(0,_88) Integer\n",
       "0 <= A_(0,_89) Integer\n",
       "0 <= A_(0,_9) Integer\n",
       "0 <= A_(0,_90) Integer\n",
       "0 <= A_(0,_91) Integer\n",
       "0 <= A_(0,_92) Integer\n",
       "0 <= A_(0,_93) Integer\n",
       "0 <= A_(0,_94) Integer\n",
       "0 <= A_(0,_95) Integer\n",
       "0 <= A_(1,_0) Integer\n",
       "0 <= A_(1,_1) Integer\n",
       "0 <= A_(1,_10) Integer\n",
       "0 <= A_(1,_11) Integer\n",
       "0 <= A_(1,_12) Integer\n",
       "0 <= A_(1,_13) Integer\n",
       "0 <= A_(1,_14) Integer\n",
       "0 <= A_(1,_15) Integer\n",
       "0 <= A_(1,_16) Integer\n",
       "0 <= A_(1,_17) Integer\n",
       "0 <= A_(1,_18) Integer\n",
       "0 <= A_(1,_19) Integer\n",
       "0 <= A_(1,_2) Integer\n",
       "0 <= A_(1,_20) Integer\n",
       "0 <= A_(1,_21) Integer\n",
       "0 <= A_(1,_22) Integer\n",
       "0 <= A_(1,_23) Integer\n",
       "0 <= A_(1,_24) Integer\n",
       "0 <= A_(1,_25) Integer\n",
       "0 <= A_(1,_26) Integer\n",
       "0 <= A_(1,_27) Integer\n",
       "0 <= A_(1,_28) Integer\n",
       "0 <= A_(1,_29) Integer\n",
       "0 <= A_(1,_3) Integer\n",
       "0 <= A_(1,_30) Integer\n",
       "0 <= A_(1,_31) Integer\n",
       "0 <= A_(1,_32) Integer\n",
       "0 <= A_(1,_33) Integer\n",
       "0 <= A_(1,_34) Integer\n",
       "0 <= A_(1,_35) Integer\n",
       "0 <= A_(1,_36) Integer\n",
       "0 <= A_(1,_37) Integer\n",
       "0 <= A_(1,_38) Integer\n",
       "0 <= A_(1,_39) Integer\n",
       "0 <= A_(1,_4) Integer\n",
       "0 <= A_(1,_40) Integer\n",
       "0 <= A_(1,_41) Integer\n",
       "0 <= A_(1,_42) Integer\n",
       "0 <= A_(1,_43) Integer\n",
       "0 <= A_(1,_44) Integer\n",
       "0 <= A_(1,_45) Integer\n",
       "0 <= A_(1,_46) Integer\n",
       "0 <= A_(1,_47) Integer\n",
       "0 <= A_(1,_48) Integer\n",
       "0 <= A_(1,_49) Integer\n",
       "0 <= A_(1,_5) Integer\n",
       "0 <= A_(1,_50) Integer\n",
       "0 <= A_(1,_51) Integer\n",
       "0 <= A_(1,_52) Integer\n",
       "0 <= A_(1,_53) Integer\n",
       "0 <= A_(1,_54) Integer\n",
       "0 <= A_(1,_55) Integer\n",
       "0 <= A_(1,_56) Integer\n",
       "0 <= A_(1,_57) Integer\n",
       "0 <= A_(1,_58) Integer\n",
       "0 <= A_(1,_59) Integer\n",
       "0 <= A_(1,_6) Integer\n",
       "0 <= A_(1,_60) Integer\n",
       "0 <= A_(1,_61) Integer\n",
       "0 <= A_(1,_62) Integer\n",
       "0 <= A_(1,_63) Integer\n",
       "0 <= A_(1,_64) Integer\n",
       "0 <= A_(1,_65) Integer\n",
       "0 <= A_(1,_66) Integer\n",
       "0 <= A_(1,_67) Integer\n",
       "0 <= A_(1,_68) Integer\n",
       "0 <= A_(1,_69) Integer\n",
       "0 <= A_(1,_7) Integer\n",
       "0 <= A_(1,_70) Integer\n",
       "0 <= A_(1,_71) Integer\n",
       "0 <= A_(1,_72) Integer\n",
       "0 <= A_(1,_73) Integer\n",
       "0 <= A_(1,_74) Integer\n",
       "0 <= A_(1,_75) Integer\n",
       "0 <= A_(1,_76) Integer\n",
       "0 <= A_(1,_77) Integer\n",
       "0 <= A_(1,_78) Integer\n",
       "0 <= A_(1,_79) Integer\n",
       "0 <= A_(1,_8) Integer\n",
       "0 <= A_(1,_80) Integer\n",
       "0 <= A_(1,_81) Integer\n",
       "0 <= A_(1,_82) Integer\n",
       "0 <= A_(1,_83) Integer\n",
       "0 <= A_(1,_84) Integer\n",
       "0 <= A_(1,_85) Integer\n",
       "0 <= A_(1,_86) Integer\n",
       "0 <= A_(1,_87) Integer\n",
       "0 <= A_(1,_88) Integer\n",
       "0 <= A_(1,_89) Integer\n",
       "0 <= A_(1,_9) Integer\n",
       "0 <= A_(1,_90) Integer\n",
       "0 <= A_(1,_91) Integer\n",
       "0 <= A_(1,_92) Integer\n",
       "0 <= A_(1,_93) Integer\n",
       "0 <= A_(1,_94) Integer\n",
       "0 <= A_(1,_95) Integer\n",
       "0 <= A_(2,_0) Integer\n",
       "0 <= A_(2,_1) Integer\n",
       "0 <= A_(2,_10) Integer\n",
       "0 <= A_(2,_11) Integer\n",
       "0 <= A_(2,_12) Integer\n",
       "0 <= A_(2,_13) Integer\n",
       "0 <= A_(2,_14) Integer\n",
       "0 <= A_(2,_15) Integer\n",
       "0 <= A_(2,_16) Integer\n",
       "0 <= A_(2,_17) Integer\n",
       "0 <= A_(2,_18) Integer\n",
       "0 <= A_(2,_19) Integer\n",
       "0 <= A_(2,_2) Integer\n",
       "0 <= A_(2,_20) Integer\n",
       "0 <= A_(2,_21) Integer\n",
       "0 <= A_(2,_22) Integer\n",
       "0 <= A_(2,_23) Integer\n",
       "0 <= A_(2,_24) Integer\n",
       "0 <= A_(2,_25) Integer\n",
       "0 <= A_(2,_26) Integer\n",
       "0 <= A_(2,_27) Integer\n",
       "0 <= A_(2,_28) Integer\n",
       "0 <= A_(2,_29) Integer\n",
       "0 <= A_(2,_3) Integer\n",
       "0 <= A_(2,_30) Integer\n",
       "0 <= A_(2,_31) Integer\n",
       "0 <= A_(2,_32) Integer\n",
       "0 <= A_(2,_33) Integer\n",
       "0 <= A_(2,_34) Integer\n",
       "0 <= A_(2,_35) Integer\n",
       "0 <= A_(2,_36) Integer\n",
       "0 <= A_(2,_37) Integer\n",
       "0 <= A_(2,_38) Integer\n",
       "0 <= A_(2,_39) Integer\n",
       "0 <= A_(2,_4) Integer\n",
       "0 <= A_(2,_40) Integer\n",
       "0 <= A_(2,_41) Integer\n",
       "0 <= A_(2,_42) Integer\n",
       "0 <= A_(2,_43) Integer\n",
       "0 <= A_(2,_44) Integer\n",
       "0 <= A_(2,_45) Integer\n",
       "0 <= A_(2,_46) Integer\n",
       "0 <= A_(2,_47) Integer\n",
       "0 <= A_(2,_48) Integer\n",
       "0 <= A_(2,_49) Integer\n",
       "0 <= A_(2,_5) Integer\n",
       "0 <= A_(2,_50) Integer\n",
       "0 <= A_(2,_51) Integer\n",
       "0 <= A_(2,_52) Integer\n",
       "0 <= A_(2,_53) Integer\n",
       "0 <= A_(2,_54) Integer\n",
       "0 <= A_(2,_55) Integer\n",
       "0 <= A_(2,_56) Integer\n",
       "0 <= A_(2,_57) Integer\n",
       "0 <= A_(2,_58) Integer\n",
       "0 <= A_(2,_59) Integer\n",
       "0 <= A_(2,_6) Integer\n",
       "0 <= A_(2,_60) Integer\n",
       "0 <= A_(2,_61) Integer\n",
       "0 <= A_(2,_62) Integer\n",
       "0 <= A_(2,_63) Integer\n",
       "0 <= A_(2,_64) Integer\n",
       "0 <= A_(2,_65) Integer\n",
       "0 <= A_(2,_66) Integer\n",
       "0 <= A_(2,_67) Integer\n",
       "0 <= A_(2,_68) Integer\n",
       "0 <= A_(2,_69) Integer\n",
       "0 <= A_(2,_7) Integer\n",
       "0 <= A_(2,_70) Integer\n",
       "0 <= A_(2,_71) Integer\n",
       "0 <= A_(2,_72) Integer\n",
       "0 <= A_(2,_73) Integer\n",
       "0 <= A_(2,_74) Integer\n",
       "0 <= A_(2,_75) Integer\n",
       "0 <= A_(2,_76) Integer\n",
       "0 <= A_(2,_77) Integer\n",
       "0 <= A_(2,_78) Integer\n",
       "0 <= A_(2,_79) Integer\n",
       "0 <= A_(2,_8) Integer\n",
       "0 <= A_(2,_80) Integer\n",
       "0 <= A_(2,_81) Integer\n",
       "0 <= A_(2,_82) Integer\n",
       "0 <= A_(2,_83) Integer\n",
       "0 <= A_(2,_84) Integer\n",
       "0 <= A_(2,_85) Integer\n",
       "0 <= A_(2,_86) Integer\n",
       "0 <= A_(2,_87) Integer\n",
       "0 <= A_(2,_88) Integer\n",
       "0 <= A_(2,_89) Integer\n",
       "0 <= A_(2,_9) Integer\n",
       "0 <= A_(2,_90) Integer\n",
       "0 <= A_(2,_91) Integer\n",
       "0 <= A_(2,_92) Integer\n",
       "0 <= A_(2,_93) Integer\n",
       "0 <= A_(2,_94) Integer\n",
       "0 <= A_(2,_95) Integer"
      ]
     },
     "execution_count": 430,
     "metadata": {},
     "output_type": "execute_result"
    }
   ],
   "source": [
    "for j, linha in df_nan.iterrows():\n",
    "\n",
    "    nan = linha[\"nan\"]\n",
    "    linha_restricao = []\n",
    "    for regime in regimes:\n",
    "        \n",
    "        tamanho = regimes[regime] * 4 \n",
    "        lista = retorna_lista(j=j, tamanho=tamanho, lista=list(inicios))\n",
    "        \n",
    "        lista_combinada = [(regime, i) for i in lista] # for dentro de uma lista o Igor tenta evitar mas aconteceu aqui, se cham list comphreension essa lista usando o for dentro da lista\n",
    "        lista_traduzida = [pulp_variaveis[tupla] for tupla in lista_combinada]\n",
    "        \n",
    "        linha_restricao += lista_traduzida  # vai por as 3 linhas(de tipo 12, 16 e 24) na mesma lista\n",
    "    prob += plp.lpSum(linha_restricao) >= nan\n",
    "prob\n",
    "\n",
    "   \n"
   ]
  },
  {
   "cell_type": "code",
   "execution_count": 431,
   "id": "6a66c9f7",
   "metadata": {},
   "outputs": [
    {
     "data": {
      "text/plain": [
       "96"
      ]
     },
     "execution_count": 431,
     "metadata": {},
     "output_type": "execute_result"
    }
   ],
   "source": [
    "prob.numConstraints()"
   ]
  },
  {
   "cell_type": "code",
   "execution_count": 432,
   "id": "60a1aeb6",
   "metadata": {},
   "outputs": [
    {
     "data": {
      "text/plain": [
       "0"
      ]
     },
     "execution_count": 432,
     "metadata": {},
     "output_type": "execute_result"
    }
   ],
   "source": [
    "prob.status # para ver que o modelo nao esta resolvido, sig Not Solved"
   ]
  },
  {
   "cell_type": "code",
   "execution_count": 433,
   "id": "232d4fee",
   "metadata": {},
   "outputs": [
    {
     "data": {
      "text/plain": [
       "{0: 'Not Solved',\n",
       " 1: 'Optimal',\n",
       " -1: 'Infeasible',\n",
       " -2: 'Unbounded',\n",
       " -3: 'Undefined'}"
      ]
     },
     "execution_count": 433,
     "metadata": {},
     "output_type": "execute_result"
    }
   ],
   "source": [
    "plp.LpStatus"
   ]
  },
  {
   "cell_type": "code",
   "execution_count": 434,
   "id": "161ba708",
   "metadata": {},
   "outputs": [
    {
     "data": {
      "text/plain": [
       "'Not Solved'"
      ]
     },
     "execution_count": 434,
     "metadata": {},
     "output_type": "execute_result"
    }
   ],
   "source": [
    "plp.LpStatus[0]"
   ]
  },
  {
   "cell_type": "code",
   "execution_count": 435,
   "id": "e2c5cc14",
   "metadata": {},
   "outputs": [
    {
     "data": {
      "text/plain": [
       "'Not Solved'"
      ]
     },
     "execution_count": 435,
     "metadata": {},
     "output_type": "execute_result"
    }
   ],
   "source": [
    "plp.LpStatus[prob.status]"
   ]
  },
  {
   "cell_type": "code",
   "execution_count": 436,
   "id": "95fc52a7",
   "metadata": {},
   "outputs": [
    {
     "data": {
      "text/plain": [
       "['PULP_CBC_CMD']"
      ]
     },
     "execution_count": 436,
     "metadata": {},
     "output_type": "execute_result"
    }
   ],
   "source": [
    "plp.listSolvers(onlyAvailable=True) # só tem um de graça"
   ]
  },
  {
   "cell_type": "code",
   "execution_count": 437,
   "id": "ee5af983",
   "metadata": {},
   "outputs": [],
   "source": [
    "solver = plp.getSolver('PULP_CBC_CMD')"
   ]
  },
  {
   "cell_type": "code",
   "execution_count": 438,
   "id": "24924192",
   "metadata": {},
   "outputs": [
    {
     "data": {
      "text/plain": [
       "1"
      ]
     },
     "execution_count": 438,
     "metadata": {},
     "output_type": "execute_result"
    }
   ],
   "source": [
    "prob.solve(solver)"
   ]
  },
  {
   "cell_type": "code",
   "execution_count": 439,
   "id": "532ad899",
   "metadata": {},
   "outputs": [
    {
     "data": {
      "text/plain": [
       "'Optimal'"
      ]
     },
     "execution_count": 439,
     "metadata": {},
     "output_type": "execute_result"
    }
   ],
   "source": [
    "plp.LpStatus[prob.status]"
   ]
  },
  {
   "cell_type": "code",
   "execution_count": 440,
   "id": "4bb2b571",
   "metadata": {},
   "outputs": [
    {
     "data": {
      "text/plain": [
       "153480.0"
      ]
     },
     "execution_count": 440,
     "metadata": {},
     "output_type": "execute_result"
    }
   ],
   "source": [
    "prob.objective.value()"
   ]
  },
  {
   "cell_type": "code",
   "execution_count": 441,
   "id": "a04edef6",
   "metadata": {},
   "outputs": [
    {
     "name": "stdout",
     "output_type": "stream",
     "text": [
      "A_(0,_0)  0.0\n",
      "A_(0,_1)  0.0\n",
      "A_(0,_10)  0.0\n",
      "A_(0,_11)  0.0\n",
      "A_(0,_12)  0.0\n",
      "A_(0,_13)  0.0\n",
      "A_(0,_14)  0.0\n",
      "A_(0,_15)  0.0\n",
      "A_(0,_16)  0.0\n",
      "A_(0,_17)  0.0\n",
      "A_(0,_18)  0.0\n",
      "A_(0,_19)  0.0\n",
      "A_(0,_2)  0.0\n",
      "A_(0,_20)  0.0\n",
      "A_(0,_21)  0.0\n",
      "A_(0,_22)  0.0\n",
      "A_(0,_23)  0.0\n",
      "A_(0,_24)  0.0\n",
      "A_(0,_25)  0.0\n",
      "A_(0,_26)  0.0\n",
      "A_(0,_27)  0.0\n",
      "A_(0,_28)  0.0\n",
      "A_(0,_29)  0.0\n",
      "A_(0,_3)  0.0\n",
      "A_(0,_30)  0.0\n",
      "A_(0,_31)  0.0\n",
      "A_(0,_32)  0.0\n",
      "A_(0,_33)  0.0\n",
      "A_(0,_34)  0.0\n",
      "A_(0,_35)  0.0\n",
      "A_(0,_36)  5.0\n",
      "A_(0,_37)  0.0\n",
      "A_(0,_38)  0.0\n",
      "A_(0,_39)  0.0\n",
      "A_(0,_4)  0.0\n",
      "A_(0,_40)  0.0\n",
      "A_(0,_41)  0.0\n",
      "A_(0,_42)  0.0\n",
      "A_(0,_43)  0.0\n",
      "A_(0,_44)  0.0\n",
      "A_(0,_45)  0.0\n",
      "A_(0,_46)  0.0\n",
      "A_(0,_47)  0.0\n",
      "A_(0,_48)  0.0\n",
      "A_(0,_49)  0.0\n",
      "A_(0,_5)  0.0\n",
      "A_(0,_50)  0.0\n",
      "A_(0,_51)  0.0\n",
      "A_(0,_52)  0.0\n",
      "A_(0,_53)  0.0\n",
      "A_(0,_54)  0.0\n",
      "A_(0,_55)  0.0\n",
      "A_(0,_56)  0.0\n",
      "A_(0,_57)  0.0\n",
      "A_(0,_58)  3.0\n",
      "A_(0,_59)  0.0\n",
      "A_(0,_6)  0.0\n",
      "A_(0,_60)  0.0\n",
      "A_(0,_61)  0.0\n",
      "A_(0,_62)  0.0\n",
      "A_(0,_63)  0.0\n",
      "A_(0,_64)  0.0\n",
      "A_(0,_65)  0.0\n",
      "A_(0,_66)  0.0\n",
      "A_(0,_67)  0.0\n",
      "A_(0,_68)  0.0\n",
      "A_(0,_69)  0.0\n",
      "A_(0,_7)  0.0\n",
      "A_(0,_70)  0.0\n",
      "A_(0,_71)  0.0\n",
      "A_(0,_72)  0.0\n",
      "A_(0,_73)  0.0\n",
      "A_(0,_74)  0.0\n",
      "A_(0,_75)  0.0\n",
      "A_(0,_76)  0.0\n",
      "A_(0,_77)  0.0\n",
      "A_(0,_78)  0.0\n",
      "A_(0,_79)  0.0\n",
      "A_(0,_8)  0.0\n",
      "A_(0,_80)  0.0\n",
      "A_(0,_81)  0.0\n",
      "A_(0,_82)  0.0\n",
      "A_(0,_83)  0.0\n",
      "A_(0,_84)  0.0\n",
      "A_(0,_85)  0.0\n",
      "A_(0,_86)  0.0\n",
      "A_(0,_87)  0.0\n",
      "A_(0,_88)  0.0\n",
      "A_(0,_89)  0.0\n",
      "A_(0,_9)  0.0\n",
      "A_(0,_90)  0.0\n",
      "A_(0,_91)  0.0\n",
      "A_(0,_92)  0.0\n",
      "A_(0,_93)  0.0\n",
      "A_(0,_94)  0.0\n",
      "A_(0,_95)  0.0\n",
      "A_(1,_0)  0.0\n",
      "A_(1,_1)  0.0\n",
      "A_(1,_10)  0.0\n",
      "A_(1,_11)  0.0\n",
      "A_(1,_12)  0.0\n",
      "A_(1,_13)  0.0\n",
      "A_(1,_14)  0.0\n",
      "A_(1,_15)  0.0\n",
      "A_(1,_16)  0.0\n",
      "A_(1,_17)  1.0\n",
      "A_(1,_18)  0.0\n",
      "A_(1,_19)  0.0\n",
      "A_(1,_2)  0.0\n",
      "A_(1,_20)  0.0\n",
      "A_(1,_21)  0.0\n",
      "A_(1,_22)  0.0\n",
      "A_(1,_23)  0.0\n",
      "A_(1,_24)  0.0\n",
      "A_(1,_25)  0.0\n",
      "A_(1,_26)  0.0\n",
      "A_(1,_27)  0.0\n",
      "A_(1,_28)  9.0\n",
      "A_(1,_29)  1.0\n",
      "A_(1,_3)  0.0\n",
      "A_(1,_30)  2.0\n",
      "A_(1,_31)  2.0\n",
      "A_(1,_32)  6.0\n",
      "A_(1,_33)  1.0\n",
      "A_(1,_34)  0.0\n",
      "A_(1,_35)  0.0\n",
      "A_(1,_36)  2.0\n",
      "A_(1,_37)  0.0\n",
      "A_(1,_38)  0.0\n",
      "A_(1,_39)  0.0\n",
      "A_(1,_4)  0.0\n",
      "A_(1,_40)  0.0\n",
      "A_(1,_41)  2.0\n",
      "A_(1,_42)  0.0\n",
      "A_(1,_43)  0.0\n",
      "A_(1,_44)  0.0\n",
      "A_(1,_45)  0.0\n",
      "A_(1,_46)  0.0\n",
      "A_(1,_47)  0.0\n",
      "A_(1,_48)  0.0\n",
      "A_(1,_49)  0.0\n",
      "A_(1,_5)  0.0\n",
      "A_(1,_50)  0.0\n",
      "A_(1,_51)  0.0\n",
      "A_(1,_52)  6.0\n",
      "A_(1,_53)  1.0\n",
      "A_(1,_54)  0.0\n",
      "A_(1,_55)  0.0\n",
      "A_(1,_56)  7.0\n",
      "A_(1,_57)  0.0\n",
      "A_(1,_58)  0.0\n",
      "A_(1,_59)  13.0\n",
      "A_(1,_6)  0.0\n",
      "A_(1,_60)  0.0\n",
      "A_(1,_61)  0.0\n",
      "A_(1,_62)  0.0\n",
      "A_(1,_63)  0.0\n",
      "A_(1,_64)  0.0\n",
      "A_(1,_65)  0.0\n",
      "A_(1,_66)  0.0\n",
      "A_(1,_67)  0.0\n",
      "A_(1,_68)  0.0\n",
      "A_(1,_69)  2.0\n",
      "A_(1,_7)  0.0\n",
      "A_(1,_70)  2.0\n",
      "A_(1,_71)  0.0\n",
      "A_(1,_72)  0.0\n",
      "A_(1,_73)  0.0\n",
      "A_(1,_74)  0.0\n",
      "A_(1,_75)  0.0\n",
      "A_(1,_76)  0.0\n",
      "A_(1,_77)  0.0\n",
      "A_(1,_78)  0.0\n",
      "A_(1,_79)  0.0\n",
      "A_(1,_8)  0.0\n",
      "A_(1,_80)  0.0\n",
      "A_(1,_81)  0.0\n",
      "A_(1,_82)  0.0\n",
      "A_(1,_83)  0.0\n",
      "A_(1,_84)  0.0\n",
      "A_(1,_85)  0.0\n",
      "A_(1,_86)  0.0\n",
      "A_(1,_87)  0.0\n",
      "A_(1,_88)  0.0\n",
      "A_(1,_89)  0.0\n",
      "A_(1,_9)  0.0\n",
      "A_(1,_90)  0.0\n",
      "A_(1,_91)  0.0\n",
      "A_(1,_92)  0.0\n",
      "A_(1,_93)  0.0\n",
      "A_(1,_94)  0.0\n",
      "A_(1,_95)  0.0\n",
      "A_(2,_0)  0.0\n",
      "A_(2,_1)  0.0\n",
      "A_(2,_10)  0.0\n",
      "A_(2,_11)  0.0\n",
      "A_(2,_12)  0.0\n",
      "A_(2,_13)  0.0\n",
      "A_(2,_14)  0.0\n",
      "A_(2,_15)  0.0\n",
      "A_(2,_16)  0.0\n",
      "A_(2,_17)  0.0\n",
      "A_(2,_18)  0.0\n",
      "A_(2,_19)  0.0\n",
      "A_(2,_2)  0.0\n",
      "A_(2,_20)  0.0\n",
      "A_(2,_21)  1.0\n",
      "A_(2,_22)  0.0\n",
      "A_(2,_23)  3.0\n",
      "A_(2,_24)  0.0\n",
      "A_(2,_25)  0.0\n",
      "A_(2,_26)  2.0\n",
      "A_(2,_27)  0.0\n",
      "A_(2,_28)  4.0\n",
      "A_(2,_29)  0.0\n",
      "A_(2,_3)  1.0\n",
      "A_(2,_30)  0.0\n",
      "A_(2,_31)  2.0\n",
      "A_(2,_32)  8.0\n",
      "A_(2,_33)  0.0\n",
      "A_(2,_34)  0.0\n",
      "A_(2,_35)  18.0\n",
      "A_(2,_36)  0.0\n",
      "A_(2,_37)  0.0\n",
      "A_(2,_38)  0.0\n",
      "A_(2,_39)  4.0\n",
      "A_(2,_4)  0.0\n",
      "A_(2,_40)  0.0\n",
      "A_(2,_41)  3.0\n",
      "A_(2,_42)  0.0\n",
      "A_(2,_43)  0.0\n",
      "A_(2,_44)  0.0\n",
      "A_(2,_45)  0.0\n",
      "A_(2,_46)  0.0\n",
      "A_(2,_47)  11.0\n",
      "A_(2,_48)  0.0\n",
      "A_(2,_49)  2.0\n",
      "A_(2,_5)  0.0\n",
      "A_(2,_50)  0.0\n",
      "A_(2,_51)  4.0\n",
      "A_(2,_52)  4.0\n",
      "A_(2,_53)  2.0\n",
      "A_(2,_54)  5.0\n",
      "A_(2,_55)  0.0\n",
      "A_(2,_56)  0.0\n",
      "A_(2,_57)  0.0\n",
      "A_(2,_58)  1.0\n",
      "A_(2,_59)  0.0\n",
      "A_(2,_6)  0.0\n",
      "A_(2,_60)  5.0\n",
      "A_(2,_61)  0.0\n",
      "A_(2,_62)  0.0\n",
      "A_(2,_63)  0.0\n",
      "A_(2,_64)  1.0\n",
      "A_(2,_65)  1.0\n",
      "A_(2,_66)  2.0\n",
      "A_(2,_67)  3.0\n",
      "A_(2,_68)  3.0\n",
      "A_(2,_69)  0.0\n",
      "A_(2,_7)  0.0\n",
      "A_(2,_70)  5.0\n",
      "A_(2,_71)  0.0\n",
      "A_(2,_72)  0.0\n",
      "A_(2,_73)  0.0\n",
      "A_(2,_74)  0.0\n",
      "A_(2,_75)  12.0\n",
      "A_(2,_76)  1.0\n",
      "A_(2,_77)  1.0\n",
      "A_(2,_78)  0.0\n",
      "A_(2,_79)  0.0\n",
      "A_(2,_8)  0.0\n",
      "A_(2,_80)  2.0\n",
      "A_(2,_81)  0.0\n",
      "A_(2,_82)  0.0\n",
      "A_(2,_83)  0.0\n",
      "A_(2,_84)  1.0\n",
      "A_(2,_85)  0.0\n",
      "A_(2,_86)  0.0\n",
      "A_(2,_87)  0.0\n",
      "A_(2,_88)  0.0\n",
      "A_(2,_89)  0.0\n",
      "A_(2,_9)  0.0\n",
      "A_(2,_90)  0.0\n",
      "A_(2,_91)  1.0\n",
      "A_(2,_92)  0.0\n",
      "A_(2,_93)  0.0\n",
      "A_(2,_94)  2.0\n",
      "A_(2,_95)  0.0\n"
     ]
    }
   ],
   "source": [
    "# tenho 288 vaeiaveis eu tenho que varrer e descobrir quais deram maior que 0\n",
    "for i, v in enumerate(prob.variables()):\n",
    "    print(v.name, \"\", v.varValue)"
   ]
  },
  {
   "cell_type": "code",
   "execution_count": 442,
   "id": "a6d33851",
   "metadata": {},
   "outputs": [],
   "source": [
    "# vamos trabsforar em um dataframe, passar para um resuktado que ajude a leiura para o meu usuário\n",
    "# dar um jeito de limpara a string do pulp acho e deixar ela mais legivel para o susuario (acho)\n",
    "# resultados = []\n",
    "# for i, v in enumerate(prob.variables()):\n",
    "#     # print(v.name, \"\", v.varValue)\n",
    "#     valor_var = v.varValue\n",
    "\n",
    "# quero ectrauir o indice e seria deificla a string do jeito que stava A_(2,_94)(exemplo)\n"
   ]
  },
  {
   "cell_type": "code",
   "execution_count": 443,
   "id": "c2018ba8",
   "metadata": {},
   "outputs": [
    {
     "data": {
      "text/plain": [
       "[{'regime': 3, 'inicio': datetime.time(0, 0), 'valor': 0.0},\n",
       " {'regime': 3, 'inicio': datetime.time(0, 15), 'valor': 0.0},\n",
       " {'regime': 3, 'inicio': datetime.time(0, 30), 'valor': 0.0},\n",
       " {'regime': 3, 'inicio': datetime.time(0, 45), 'valor': 0.0},\n",
       " {'regime': 3, 'inicio': datetime.time(1, 0), 'valor': 0.0},\n",
       " {'regime': 3, 'inicio': datetime.time(1, 15), 'valor': 0.0},\n",
       " {'regime': 3, 'inicio': datetime.time(1, 30), 'valor': 0.0},\n",
       " {'regime': 3, 'inicio': datetime.time(1, 45), 'valor': 0.0},\n",
       " {'regime': 3, 'inicio': datetime.time(2, 0), 'valor': 0.0},\n",
       " {'regime': 3, 'inicio': datetime.time(2, 15), 'valor': 0.0},\n",
       " {'regime': 3, 'inicio': datetime.time(2, 30), 'valor': 0.0},\n",
       " {'regime': 3, 'inicio': datetime.time(2, 45), 'valor': 0.0},\n",
       " {'regime': 3, 'inicio': datetime.time(3, 0), 'valor': 0.0},\n",
       " {'regime': 3, 'inicio': datetime.time(3, 15), 'valor': 0.0},\n",
       " {'regime': 3, 'inicio': datetime.time(3, 30), 'valor': 0.0},\n",
       " {'regime': 3, 'inicio': datetime.time(3, 45), 'valor': 0.0},\n",
       " {'regime': 3, 'inicio': datetime.time(4, 0), 'valor': 0.0},\n",
       " {'regime': 3, 'inicio': datetime.time(4, 15), 'valor': 0.0},\n",
       " {'regime': 3, 'inicio': datetime.time(4, 30), 'valor': 0.0},\n",
       " {'regime': 3, 'inicio': datetime.time(4, 45), 'valor': 0.0},\n",
       " {'regime': 3, 'inicio': datetime.time(5, 0), 'valor': 0.0},\n",
       " {'regime': 3, 'inicio': datetime.time(5, 15), 'valor': 0.0},\n",
       " {'regime': 3, 'inicio': datetime.time(5, 30), 'valor': 0.0},\n",
       " {'regime': 3, 'inicio': datetime.time(5, 45), 'valor': 0.0},\n",
       " {'regime': 3, 'inicio': datetime.time(6, 0), 'valor': 0.0},\n",
       " {'regime': 3, 'inicio': datetime.time(6, 15), 'valor': 0.0},\n",
       " {'regime': 3, 'inicio': datetime.time(6, 30), 'valor': 0.0},\n",
       " {'regime': 3, 'inicio': datetime.time(6, 45), 'valor': 0.0},\n",
       " {'regime': 3, 'inicio': datetime.time(7, 0), 'valor': 0.0},\n",
       " {'regime': 3, 'inicio': datetime.time(7, 15), 'valor': 0.0},\n",
       " {'regime': 3, 'inicio': datetime.time(7, 30), 'valor': 0.0},\n",
       " {'regime': 3, 'inicio': datetime.time(7, 45), 'valor': 0.0},\n",
       " {'regime': 3, 'inicio': datetime.time(8, 0), 'valor': 0.0},\n",
       " {'regime': 3, 'inicio': datetime.time(8, 15), 'valor': 0.0},\n",
       " {'regime': 3, 'inicio': datetime.time(8, 30), 'valor': 0.0},\n",
       " {'regime': 3, 'inicio': datetime.time(8, 45), 'valor': 0.0},\n",
       " {'regime': 3, 'inicio': datetime.time(9, 0), 'valor': 5.0},\n",
       " {'regime': 3, 'inicio': datetime.time(9, 15), 'valor': 0.0},\n",
       " {'regime': 3, 'inicio': datetime.time(9, 30), 'valor': 0.0},\n",
       " {'regime': 3, 'inicio': datetime.time(9, 45), 'valor': 0.0},\n",
       " {'regime': 3, 'inicio': datetime.time(10, 0), 'valor': 0.0},\n",
       " {'regime': 3, 'inicio': datetime.time(10, 15), 'valor': 0.0},\n",
       " {'regime': 3, 'inicio': datetime.time(10, 30), 'valor': 0.0},\n",
       " {'regime': 3, 'inicio': datetime.time(10, 45), 'valor': 0.0},\n",
       " {'regime': 3, 'inicio': datetime.time(11, 0), 'valor': 0.0},\n",
       " {'regime': 3, 'inicio': datetime.time(11, 15), 'valor': 0.0},\n",
       " {'regime': 3, 'inicio': datetime.time(11, 30), 'valor': 0.0},\n",
       " {'regime': 3, 'inicio': datetime.time(11, 45), 'valor': 0.0},\n",
       " {'regime': 3, 'inicio': datetime.time(12, 0), 'valor': 0.0},\n",
       " {'regime': 3, 'inicio': datetime.time(12, 15), 'valor': 0.0},\n",
       " {'regime': 3, 'inicio': datetime.time(12, 30), 'valor': 0.0},\n",
       " {'regime': 3, 'inicio': datetime.time(12, 45), 'valor': 0.0},\n",
       " {'regime': 3, 'inicio': datetime.time(13, 0), 'valor': 0.0},\n",
       " {'regime': 3, 'inicio': datetime.time(13, 15), 'valor': 0.0},\n",
       " {'regime': 3, 'inicio': datetime.time(13, 30), 'valor': 0.0},\n",
       " {'regime': 3, 'inicio': datetime.time(13, 45), 'valor': 0.0},\n",
       " {'regime': 3, 'inicio': datetime.time(14, 0), 'valor': 0.0},\n",
       " {'regime': 3, 'inicio': datetime.time(14, 15), 'valor': 0.0},\n",
       " {'regime': 3, 'inicio': datetime.time(14, 30), 'valor': 3.0},\n",
       " {'regime': 3, 'inicio': datetime.time(14, 45), 'valor': 0.0},\n",
       " {'regime': 3, 'inicio': datetime.time(15, 0), 'valor': 0.0},\n",
       " {'regime': 3, 'inicio': datetime.time(15, 15), 'valor': 0.0},\n",
       " {'regime': 3, 'inicio': datetime.time(15, 30), 'valor': 0.0},\n",
       " {'regime': 3, 'inicio': datetime.time(15, 45), 'valor': 0.0},\n",
       " {'regime': 3, 'inicio': datetime.time(16, 0), 'valor': 0.0},\n",
       " {'regime': 3, 'inicio': datetime.time(16, 15), 'valor': 0.0},\n",
       " {'regime': 3, 'inicio': datetime.time(16, 30), 'valor': 0.0},\n",
       " {'regime': 3, 'inicio': datetime.time(16, 45), 'valor': 0.0},\n",
       " {'regime': 3, 'inicio': datetime.time(17, 0), 'valor': 0.0},\n",
       " {'regime': 3, 'inicio': datetime.time(17, 15), 'valor': 0.0},\n",
       " {'regime': 3, 'inicio': datetime.time(17, 30), 'valor': 0.0},\n",
       " {'regime': 3, 'inicio': datetime.time(17, 45), 'valor': 0.0},\n",
       " {'regime': 3, 'inicio': datetime.time(18, 0), 'valor': 0.0},\n",
       " {'regime': 3, 'inicio': datetime.time(18, 15), 'valor': 0.0},\n",
       " {'regime': 3, 'inicio': datetime.time(18, 30), 'valor': 0.0},\n",
       " {'regime': 3, 'inicio': datetime.time(18, 45), 'valor': 0.0},\n",
       " {'regime': 3, 'inicio': datetime.time(19, 0), 'valor': 0.0},\n",
       " {'regime': 3, 'inicio': datetime.time(19, 15), 'valor': 0.0},\n",
       " {'regime': 3, 'inicio': datetime.time(19, 30), 'valor': 0.0},\n",
       " {'regime': 3, 'inicio': datetime.time(19, 45), 'valor': 0.0},\n",
       " {'regime': 3, 'inicio': datetime.time(20, 0), 'valor': 0.0},\n",
       " {'regime': 3, 'inicio': datetime.time(20, 15), 'valor': 0.0},\n",
       " {'regime': 3, 'inicio': datetime.time(20, 30), 'valor': 0.0},\n",
       " {'regime': 3, 'inicio': datetime.time(20, 45), 'valor': 0.0},\n",
       " {'regime': 3, 'inicio': datetime.time(21, 0), 'valor': 0.0},\n",
       " {'regime': 3, 'inicio': datetime.time(21, 15), 'valor': 0.0},\n",
       " {'regime': 3, 'inicio': datetime.time(21, 30), 'valor': 0.0},\n",
       " {'regime': 3, 'inicio': datetime.time(21, 45), 'valor': 0.0},\n",
       " {'regime': 3, 'inicio': datetime.time(22, 0), 'valor': 0.0},\n",
       " {'regime': 3, 'inicio': datetime.time(22, 15), 'valor': 0.0},\n",
       " {'regime': 3, 'inicio': datetime.time(22, 30), 'valor': 0.0},\n",
       " {'regime': 3, 'inicio': datetime.time(22, 45), 'valor': 0.0},\n",
       " {'regime': 3, 'inicio': datetime.time(23, 0), 'valor': 0.0},\n",
       " {'regime': 3, 'inicio': datetime.time(23, 15), 'valor': 0.0},\n",
       " {'regime': 3, 'inicio': datetime.time(23, 30), 'valor': 0.0},\n",
       " {'regime': 3, 'inicio': datetime.time(23, 45), 'valor': 0.0},\n",
       " {'regime': 4, 'inicio': datetime.time(0, 0), 'valor': 0.0},\n",
       " {'regime': 4, 'inicio': datetime.time(0, 15), 'valor': 0.0},\n",
       " {'regime': 4, 'inicio': datetime.time(0, 30), 'valor': 0.0},\n",
       " {'regime': 4, 'inicio': datetime.time(0, 45), 'valor': 0.0},\n",
       " {'regime': 4, 'inicio': datetime.time(1, 0), 'valor': 0.0},\n",
       " {'regime': 4, 'inicio': datetime.time(1, 15), 'valor': 0.0},\n",
       " {'regime': 4, 'inicio': datetime.time(1, 30), 'valor': 0.0},\n",
       " {'regime': 4, 'inicio': datetime.time(1, 45), 'valor': 0.0},\n",
       " {'regime': 4, 'inicio': datetime.time(2, 0), 'valor': 0.0},\n",
       " {'regime': 4, 'inicio': datetime.time(2, 15), 'valor': 0.0},\n",
       " {'regime': 4, 'inicio': datetime.time(2, 30), 'valor': 0.0},\n",
       " {'regime': 4, 'inicio': datetime.time(2, 45), 'valor': 0.0},\n",
       " {'regime': 4, 'inicio': datetime.time(3, 0), 'valor': 0.0},\n",
       " {'regime': 4, 'inicio': datetime.time(3, 15), 'valor': 0.0},\n",
       " {'regime': 4, 'inicio': datetime.time(3, 30), 'valor': 0.0},\n",
       " {'regime': 4, 'inicio': datetime.time(3, 45), 'valor': 0.0},\n",
       " {'regime': 4, 'inicio': datetime.time(4, 0), 'valor': 0.0},\n",
       " {'regime': 4, 'inicio': datetime.time(4, 15), 'valor': 1.0},\n",
       " {'regime': 4, 'inicio': datetime.time(4, 30), 'valor': 0.0},\n",
       " {'regime': 4, 'inicio': datetime.time(4, 45), 'valor': 0.0},\n",
       " {'regime': 4, 'inicio': datetime.time(5, 0), 'valor': 0.0},\n",
       " {'regime': 4, 'inicio': datetime.time(5, 15), 'valor': 0.0},\n",
       " {'regime': 4, 'inicio': datetime.time(5, 30), 'valor': 0.0},\n",
       " {'regime': 4, 'inicio': datetime.time(5, 45), 'valor': 0.0},\n",
       " {'regime': 4, 'inicio': datetime.time(6, 0), 'valor': 0.0},\n",
       " {'regime': 4, 'inicio': datetime.time(6, 15), 'valor': 0.0},\n",
       " {'regime': 4, 'inicio': datetime.time(6, 30), 'valor': 0.0},\n",
       " {'regime': 4, 'inicio': datetime.time(6, 45), 'valor': 0.0},\n",
       " {'regime': 4, 'inicio': datetime.time(7, 0), 'valor': 9.0},\n",
       " {'regime': 4, 'inicio': datetime.time(7, 15), 'valor': 1.0},\n",
       " {'regime': 4, 'inicio': datetime.time(7, 30), 'valor': 2.0},\n",
       " {'regime': 4, 'inicio': datetime.time(7, 45), 'valor': 2.0},\n",
       " {'regime': 4, 'inicio': datetime.time(8, 0), 'valor': 6.0},\n",
       " {'regime': 4, 'inicio': datetime.time(8, 15), 'valor': 1.0},\n",
       " {'regime': 4, 'inicio': datetime.time(8, 30), 'valor': 0.0},\n",
       " {'regime': 4, 'inicio': datetime.time(8, 45), 'valor': 0.0},\n",
       " {'regime': 4, 'inicio': datetime.time(9, 0), 'valor': 2.0},\n",
       " {'regime': 4, 'inicio': datetime.time(9, 15), 'valor': 0.0},\n",
       " {'regime': 4, 'inicio': datetime.time(9, 30), 'valor': 0.0},\n",
       " {'regime': 4, 'inicio': datetime.time(9, 45), 'valor': 0.0},\n",
       " {'regime': 4, 'inicio': datetime.time(10, 0), 'valor': 0.0},\n",
       " {'regime': 4, 'inicio': datetime.time(10, 15), 'valor': 2.0},\n",
       " {'regime': 4, 'inicio': datetime.time(10, 30), 'valor': 0.0},\n",
       " {'regime': 4, 'inicio': datetime.time(10, 45), 'valor': 0.0},\n",
       " {'regime': 4, 'inicio': datetime.time(11, 0), 'valor': 0.0},\n",
       " {'regime': 4, 'inicio': datetime.time(11, 15), 'valor': 0.0},\n",
       " {'regime': 4, 'inicio': datetime.time(11, 30), 'valor': 0.0},\n",
       " {'regime': 4, 'inicio': datetime.time(11, 45), 'valor': 0.0},\n",
       " {'regime': 4, 'inicio': datetime.time(12, 0), 'valor': 0.0},\n",
       " {'regime': 4, 'inicio': datetime.time(12, 15), 'valor': 0.0},\n",
       " {'regime': 4, 'inicio': datetime.time(12, 30), 'valor': 0.0},\n",
       " {'regime': 4, 'inicio': datetime.time(12, 45), 'valor': 0.0},\n",
       " {'regime': 4, 'inicio': datetime.time(13, 0), 'valor': 6.0},\n",
       " {'regime': 4, 'inicio': datetime.time(13, 15), 'valor': 1.0},\n",
       " {'regime': 4, 'inicio': datetime.time(13, 30), 'valor': 0.0},\n",
       " {'regime': 4, 'inicio': datetime.time(13, 45), 'valor': 0.0},\n",
       " {'regime': 4, 'inicio': datetime.time(14, 0), 'valor': 7.0},\n",
       " {'regime': 4, 'inicio': datetime.time(14, 15), 'valor': 0.0},\n",
       " {'regime': 4, 'inicio': datetime.time(14, 30), 'valor': 0.0},\n",
       " {'regime': 4, 'inicio': datetime.time(14, 45), 'valor': 13.0},\n",
       " {'regime': 4, 'inicio': datetime.time(15, 0), 'valor': 0.0},\n",
       " {'regime': 4, 'inicio': datetime.time(15, 15), 'valor': 0.0},\n",
       " {'regime': 4, 'inicio': datetime.time(15, 30), 'valor': 0.0},\n",
       " {'regime': 4, 'inicio': datetime.time(15, 45), 'valor': 0.0},\n",
       " {'regime': 4, 'inicio': datetime.time(16, 0), 'valor': 0.0},\n",
       " {'regime': 4, 'inicio': datetime.time(16, 15), 'valor': 0.0},\n",
       " {'regime': 4, 'inicio': datetime.time(16, 30), 'valor': 0.0},\n",
       " {'regime': 4, 'inicio': datetime.time(16, 45), 'valor': 0.0},\n",
       " {'regime': 4, 'inicio': datetime.time(17, 0), 'valor': 0.0},\n",
       " {'regime': 4, 'inicio': datetime.time(17, 15), 'valor': 2.0},\n",
       " {'regime': 4, 'inicio': datetime.time(17, 30), 'valor': 2.0},\n",
       " {'regime': 4, 'inicio': datetime.time(17, 45), 'valor': 0.0},\n",
       " {'regime': 4, 'inicio': datetime.time(18, 0), 'valor': 0.0},\n",
       " {'regime': 4, 'inicio': datetime.time(18, 15), 'valor': 0.0},\n",
       " {'regime': 4, 'inicio': datetime.time(18, 30), 'valor': 0.0},\n",
       " {'regime': 4, 'inicio': datetime.time(18, 45), 'valor': 0.0},\n",
       " {'regime': 4, 'inicio': datetime.time(19, 0), 'valor': 0.0},\n",
       " {'regime': 4, 'inicio': datetime.time(19, 15), 'valor': 0.0},\n",
       " {'regime': 4, 'inicio': datetime.time(19, 30), 'valor': 0.0},\n",
       " {'regime': 4, 'inicio': datetime.time(19, 45), 'valor': 0.0},\n",
       " {'regime': 4, 'inicio': datetime.time(20, 0), 'valor': 0.0},\n",
       " {'regime': 4, 'inicio': datetime.time(20, 15), 'valor': 0.0},\n",
       " {'regime': 4, 'inicio': datetime.time(20, 30), 'valor': 0.0},\n",
       " {'regime': 4, 'inicio': datetime.time(20, 45), 'valor': 0.0},\n",
       " {'regime': 4, 'inicio': datetime.time(21, 0), 'valor': 0.0},\n",
       " {'regime': 4, 'inicio': datetime.time(21, 15), 'valor': 0.0},\n",
       " {'regime': 4, 'inicio': datetime.time(21, 30), 'valor': 0.0},\n",
       " {'regime': 4, 'inicio': datetime.time(21, 45), 'valor': 0.0},\n",
       " {'regime': 4, 'inicio': datetime.time(22, 0), 'valor': 0.0},\n",
       " {'regime': 4, 'inicio': datetime.time(22, 15), 'valor': 0.0},\n",
       " {'regime': 4, 'inicio': datetime.time(22, 30), 'valor': 0.0},\n",
       " {'regime': 4, 'inicio': datetime.time(22, 45), 'valor': 0.0},\n",
       " {'regime': 4, 'inicio': datetime.time(23, 0), 'valor': 0.0},\n",
       " {'regime': 4, 'inicio': datetime.time(23, 15), 'valor': 0.0},\n",
       " {'regime': 4, 'inicio': datetime.time(23, 30), 'valor': 0.0},\n",
       " {'regime': 4, 'inicio': datetime.time(23, 45), 'valor': 0.0},\n",
       " {'regime': 6, 'inicio': datetime.time(0, 0), 'valor': 0.0},\n",
       " {'regime': 6, 'inicio': datetime.time(0, 15), 'valor': 0.0},\n",
       " {'regime': 6, 'inicio': datetime.time(0, 30), 'valor': 0.0},\n",
       " {'regime': 6, 'inicio': datetime.time(0, 45), 'valor': 1.0},\n",
       " {'regime': 6, 'inicio': datetime.time(1, 0), 'valor': 0.0},\n",
       " {'regime': 6, 'inicio': datetime.time(1, 15), 'valor': 0.0},\n",
       " {'regime': 6, 'inicio': datetime.time(1, 30), 'valor': 0.0},\n",
       " {'regime': 6, 'inicio': datetime.time(1, 45), 'valor': 0.0},\n",
       " {'regime': 6, 'inicio': datetime.time(2, 0), 'valor': 0.0},\n",
       " {'regime': 6, 'inicio': datetime.time(2, 15), 'valor': 0.0},\n",
       " {'regime': 6, 'inicio': datetime.time(2, 30), 'valor': 0.0},\n",
       " {'regime': 6, 'inicio': datetime.time(2, 45), 'valor': 0.0},\n",
       " {'regime': 6, 'inicio': datetime.time(3, 0), 'valor': 0.0},\n",
       " {'regime': 6, 'inicio': datetime.time(3, 15), 'valor': 0.0},\n",
       " {'regime': 6, 'inicio': datetime.time(3, 30), 'valor': 0.0},\n",
       " {'regime': 6, 'inicio': datetime.time(3, 45), 'valor': 0.0},\n",
       " {'regime': 6, 'inicio': datetime.time(4, 0), 'valor': 0.0},\n",
       " {'regime': 6, 'inicio': datetime.time(4, 15), 'valor': 0.0},\n",
       " {'regime': 6, 'inicio': datetime.time(4, 30), 'valor': 0.0},\n",
       " {'regime': 6, 'inicio': datetime.time(4, 45), 'valor': 0.0},\n",
       " {'regime': 6, 'inicio': datetime.time(5, 0), 'valor': 0.0},\n",
       " {'regime': 6, 'inicio': datetime.time(5, 15), 'valor': 1.0},\n",
       " {'regime': 6, 'inicio': datetime.time(5, 30), 'valor': 0.0},\n",
       " {'regime': 6, 'inicio': datetime.time(5, 45), 'valor': 3.0},\n",
       " {'regime': 6, 'inicio': datetime.time(6, 0), 'valor': 0.0},\n",
       " {'regime': 6, 'inicio': datetime.time(6, 15), 'valor': 0.0},\n",
       " {'regime': 6, 'inicio': datetime.time(6, 30), 'valor': 2.0},\n",
       " {'regime': 6, 'inicio': datetime.time(6, 45), 'valor': 0.0},\n",
       " {'regime': 6, 'inicio': datetime.time(7, 0), 'valor': 4.0},\n",
       " {'regime': 6, 'inicio': datetime.time(7, 15), 'valor': 0.0},\n",
       " {'regime': 6, 'inicio': datetime.time(7, 30), 'valor': 0.0},\n",
       " {'regime': 6, 'inicio': datetime.time(7, 45), 'valor': 2.0},\n",
       " {'regime': 6, 'inicio': datetime.time(8, 0), 'valor': 8.0},\n",
       " {'regime': 6, 'inicio': datetime.time(8, 15), 'valor': 0.0},\n",
       " {'regime': 6, 'inicio': datetime.time(8, 30), 'valor': 0.0},\n",
       " {'regime': 6, 'inicio': datetime.time(8, 45), 'valor': 18.0},\n",
       " {'regime': 6, 'inicio': datetime.time(9, 0), 'valor': 0.0},\n",
       " {'regime': 6, 'inicio': datetime.time(9, 15), 'valor': 0.0},\n",
       " {'regime': 6, 'inicio': datetime.time(9, 30), 'valor': 0.0},\n",
       " {'regime': 6, 'inicio': datetime.time(9, 45), 'valor': 4.0},\n",
       " {'regime': 6, 'inicio': datetime.time(10, 0), 'valor': 0.0},\n",
       " {'regime': 6, 'inicio': datetime.time(10, 15), 'valor': 3.0},\n",
       " {'regime': 6, 'inicio': datetime.time(10, 30), 'valor': 0.0},\n",
       " {'regime': 6, 'inicio': datetime.time(10, 45), 'valor': 0.0},\n",
       " {'regime': 6, 'inicio': datetime.time(11, 0), 'valor': 0.0},\n",
       " {'regime': 6, 'inicio': datetime.time(11, 15), 'valor': 0.0},\n",
       " {'regime': 6, 'inicio': datetime.time(11, 30), 'valor': 0.0},\n",
       " {'regime': 6, 'inicio': datetime.time(11, 45), 'valor': 11.0},\n",
       " {'regime': 6, 'inicio': datetime.time(12, 0), 'valor': 0.0},\n",
       " {'regime': 6, 'inicio': datetime.time(12, 15), 'valor': 2.0},\n",
       " {'regime': 6, 'inicio': datetime.time(12, 30), 'valor': 0.0},\n",
       " {'regime': 6, 'inicio': datetime.time(12, 45), 'valor': 4.0},\n",
       " {'regime': 6, 'inicio': datetime.time(13, 0), 'valor': 4.0},\n",
       " {'regime': 6, 'inicio': datetime.time(13, 15), 'valor': 2.0},\n",
       " {'regime': 6, 'inicio': datetime.time(13, 30), 'valor': 5.0},\n",
       " {'regime': 6, 'inicio': datetime.time(13, 45), 'valor': 0.0},\n",
       " {'regime': 6, 'inicio': datetime.time(14, 0), 'valor': 0.0},\n",
       " {'regime': 6, 'inicio': datetime.time(14, 15), 'valor': 0.0},\n",
       " {'regime': 6, 'inicio': datetime.time(14, 30), 'valor': 1.0},\n",
       " {'regime': 6, 'inicio': datetime.time(14, 45), 'valor': 0.0},\n",
       " {'regime': 6, 'inicio': datetime.time(15, 0), 'valor': 5.0},\n",
       " {'regime': 6, 'inicio': datetime.time(15, 15), 'valor': 0.0},\n",
       " {'regime': 6, 'inicio': datetime.time(15, 30), 'valor': 0.0},\n",
       " {'regime': 6, 'inicio': datetime.time(15, 45), 'valor': 0.0},\n",
       " {'regime': 6, 'inicio': datetime.time(16, 0), 'valor': 1.0},\n",
       " {'regime': 6, 'inicio': datetime.time(16, 15), 'valor': 1.0},\n",
       " {'regime': 6, 'inicio': datetime.time(16, 30), 'valor': 2.0},\n",
       " {'regime': 6, 'inicio': datetime.time(16, 45), 'valor': 3.0},\n",
       " {'regime': 6, 'inicio': datetime.time(17, 0), 'valor': 3.0},\n",
       " {'regime': 6, 'inicio': datetime.time(17, 15), 'valor': 0.0},\n",
       " {'regime': 6, 'inicio': datetime.time(17, 30), 'valor': 5.0},\n",
       " {'regime': 6, 'inicio': datetime.time(17, 45), 'valor': 0.0},\n",
       " {'regime': 6, 'inicio': datetime.time(18, 0), 'valor': 0.0},\n",
       " {'regime': 6, 'inicio': datetime.time(18, 15), 'valor': 0.0},\n",
       " {'regime': 6, 'inicio': datetime.time(18, 30), 'valor': 0.0},\n",
       " {'regime': 6, 'inicio': datetime.time(18, 45), 'valor': 12.0},\n",
       " {'regime': 6, 'inicio': datetime.time(19, 0), 'valor': 1.0},\n",
       " {'regime': 6, 'inicio': datetime.time(19, 15), 'valor': 1.0},\n",
       " {'regime': 6, 'inicio': datetime.time(19, 30), 'valor': 0.0},\n",
       " {'regime': 6, 'inicio': datetime.time(19, 45), 'valor': 0.0},\n",
       " {'regime': 6, 'inicio': datetime.time(20, 0), 'valor': 2.0},\n",
       " {'regime': 6, 'inicio': datetime.time(20, 15), 'valor': 0.0},\n",
       " {'regime': 6, 'inicio': datetime.time(20, 30), 'valor': 0.0},\n",
       " {'regime': 6, 'inicio': datetime.time(20, 45), 'valor': 0.0},\n",
       " {'regime': 6, 'inicio': datetime.time(21, 0), 'valor': 1.0},\n",
       " {'regime': 6, 'inicio': datetime.time(21, 15), 'valor': 0.0},\n",
       " {'regime': 6, 'inicio': datetime.time(21, 30), 'valor': 0.0},\n",
       " {'regime': 6, 'inicio': datetime.time(21, 45), 'valor': 0.0},\n",
       " {'regime': 6, 'inicio': datetime.time(22, 0), 'valor': 0.0},\n",
       " {'regime': 6, 'inicio': datetime.time(22, 15), 'valor': 0.0},\n",
       " {'regime': 6, 'inicio': datetime.time(22, 30), 'valor': 0.0},\n",
       " {'regime': 6, 'inicio': datetime.time(22, 45), 'valor': 1.0},\n",
       " {'regime': 6, 'inicio': datetime.time(23, 0), 'valor': 0.0},\n",
       " {'regime': 6, 'inicio': datetime.time(23, 15), 'valor': 0.0},\n",
       " {'regime': 6, 'inicio': datetime.time(23, 30), 'valor': 2.0},\n",
       " {'regime': 6, 'inicio': datetime.time(23, 45), 'valor': 0.0}]"
      ]
     },
     "execution_count": 443,
     "metadata": {},
     "output_type": "execute_result"
    }
   ],
   "source": [
    "resultados = []\n",
    "for v_tulpa, v_pulp in pulp_variaveis.items():\n",
    "    #print(v_pulp.varValue, v_tulpa)\n",
    "\n",
    "    indice_regime, indice_inicio = v_tulpa\n",
    "    nome_regime = regimes[indice_regime]\n",
    "    nome_inicio = inicios[indice_inicio]\n",
    "    # print(nome_regime, nome_inicio)\n",
    "\n",
    "    resultados.append({\n",
    "        \"regime\": nome_regime,\n",
    "        \"inicio\": nome_inicio,\n",
    "        \"valor\": v_pulp.varValue\n",
    "    })\n",
    "resultados\n",
    "\n",
    "    # tem q generalizar e quando eu n ao quiser de 15 em 15 min ou de 12 em 12 horas acho, isso vem de tabela_ligantes do excel\n",
    "    # seu codugo tem que dirigir aquilo, que gera aquilo para min e \n",
    "    # perguntar na tela, voce trabalha de que horas a que horas, ex 11 horas e depois quebrar ela em 15 em 15 min,\n",
    "    # vc vai definir quebrar o dia do seu ckiente de acordo com uma lista finita de possibilidades, poderia ser 2 em 2 min vc usa o mod\n",
    "    # se vc selecionar 7 minutos nao vai dar para usar mod, esse codigo voce que vai ter que cuidar do codigo, nao acha que seria legal o \n",
    "    # usuario dar imput no seu codigo ele pode ferrar o seu coduigo se por algo errado\n",
    "\n",
    "\n",
    "    # vamos tranformar isso num dataframe"
   ]
  },
  {
   "cell_type": "code",
   "execution_count": 444,
   "id": "69315d4a",
   "metadata": {},
   "outputs": [
    {
     "data": {
      "application/vnd.microsoft.datawrangler.viewer.v0+json": {
       "columns": [
        {
         "name": "index",
         "rawType": "int64",
         "type": "integer"
        },
        {
         "name": "regime",
         "rawType": "int64",
         "type": "integer"
        },
        {
         "name": "inicio",
         "rawType": "object",
         "type": "unknown"
        },
        {
         "name": "valor",
         "rawType": "float64",
         "type": "float"
        }
       ],
       "ref": "512afbca-e24e-40e1-870c-f66f6e1471c0",
       "rows": [
        [
         "0",
         "3",
         "00:00:00",
         "0.0"
        ],
        [
         "1",
         "3",
         "00:15:00",
         "0.0"
        ],
        [
         "2",
         "3",
         "00:30:00",
         "0.0"
        ],
        [
         "3",
         "3",
         "00:45:00",
         "0.0"
        ],
        [
         "4",
         "3",
         "01:00:00",
         "0.0"
        ],
        [
         "5",
         "3",
         "01:15:00",
         "0.0"
        ],
        [
         "6",
         "3",
         "01:30:00",
         "0.0"
        ],
        [
         "7",
         "3",
         "01:45:00",
         "0.0"
        ],
        [
         "8",
         "3",
         "02:00:00",
         "0.0"
        ],
        [
         "9",
         "3",
         "02:15:00",
         "0.0"
        ],
        [
         "10",
         "3",
         "02:30:00",
         "0.0"
        ],
        [
         "11",
         "3",
         "02:45:00",
         "0.0"
        ],
        [
         "12",
         "3",
         "03:00:00",
         "0.0"
        ],
        [
         "13",
         "3",
         "03:15:00",
         "0.0"
        ],
        [
         "14",
         "3",
         "03:30:00",
         "0.0"
        ],
        [
         "15",
         "3",
         "03:45:00",
         "0.0"
        ],
        [
         "16",
         "3",
         "04:00:00",
         "0.0"
        ],
        [
         "17",
         "3",
         "04:15:00",
         "0.0"
        ],
        [
         "18",
         "3",
         "04:30:00",
         "0.0"
        ],
        [
         "19",
         "3",
         "04:45:00",
         "0.0"
        ],
        [
         "20",
         "3",
         "05:00:00",
         "0.0"
        ],
        [
         "21",
         "3",
         "05:15:00",
         "0.0"
        ],
        [
         "22",
         "3",
         "05:30:00",
         "0.0"
        ],
        [
         "23",
         "3",
         "05:45:00",
         "0.0"
        ],
        [
         "24",
         "3",
         "06:00:00",
         "0.0"
        ],
        [
         "25",
         "3",
         "06:15:00",
         "0.0"
        ],
        [
         "26",
         "3",
         "06:30:00",
         "0.0"
        ],
        [
         "27",
         "3",
         "06:45:00",
         "0.0"
        ],
        [
         "28",
         "3",
         "07:00:00",
         "0.0"
        ],
        [
         "29",
         "3",
         "07:15:00",
         "0.0"
        ],
        [
         "30",
         "3",
         "07:30:00",
         "0.0"
        ],
        [
         "31",
         "3",
         "07:45:00",
         "0.0"
        ],
        [
         "32",
         "3",
         "08:00:00",
         "0.0"
        ],
        [
         "33",
         "3",
         "08:15:00",
         "0.0"
        ],
        [
         "34",
         "3",
         "08:30:00",
         "0.0"
        ],
        [
         "35",
         "3",
         "08:45:00",
         "0.0"
        ],
        [
         "36",
         "3",
         "09:00:00",
         "5.0"
        ],
        [
         "37",
         "3",
         "09:15:00",
         "0.0"
        ],
        [
         "38",
         "3",
         "09:30:00",
         "0.0"
        ],
        [
         "39",
         "3",
         "09:45:00",
         "0.0"
        ],
        [
         "40",
         "3",
         "10:00:00",
         "0.0"
        ],
        [
         "41",
         "3",
         "10:15:00",
         "0.0"
        ],
        [
         "42",
         "3",
         "10:30:00",
         "0.0"
        ],
        [
         "43",
         "3",
         "10:45:00",
         "0.0"
        ],
        [
         "44",
         "3",
         "11:00:00",
         "0.0"
        ],
        [
         "45",
         "3",
         "11:15:00",
         "0.0"
        ],
        [
         "46",
         "3",
         "11:30:00",
         "0.0"
        ],
        [
         "47",
         "3",
         "11:45:00",
         "0.0"
        ],
        [
         "48",
         "3",
         "12:00:00",
         "0.0"
        ],
        [
         "49",
         "3",
         "12:15:00",
         "0.0"
        ]
       ],
       "shape": {
        "columns": 3,
        "rows": 288
       }
      },
      "text/html": [
       "<div>\n",
       "<style scoped>\n",
       "    .dataframe tbody tr th:only-of-type {\n",
       "        vertical-align: middle;\n",
       "    }\n",
       "\n",
       "    .dataframe tbody tr th {\n",
       "        vertical-align: top;\n",
       "    }\n",
       "\n",
       "    .dataframe thead th {\n",
       "        text-align: right;\n",
       "    }\n",
       "</style>\n",
       "<table border=\"1\" class=\"dataframe\">\n",
       "  <thead>\n",
       "    <tr style=\"text-align: right;\">\n",
       "      <th></th>\n",
       "      <th>regime</th>\n",
       "      <th>inicio</th>\n",
       "      <th>valor</th>\n",
       "    </tr>\n",
       "  </thead>\n",
       "  <tbody>\n",
       "    <tr>\n",
       "      <th>0</th>\n",
       "      <td>3</td>\n",
       "      <td>00:00:00</td>\n",
       "      <td>0.0</td>\n",
       "    </tr>\n",
       "    <tr>\n",
       "      <th>1</th>\n",
       "      <td>3</td>\n",
       "      <td>00:15:00</td>\n",
       "      <td>0.0</td>\n",
       "    </tr>\n",
       "    <tr>\n",
       "      <th>2</th>\n",
       "      <td>3</td>\n",
       "      <td>00:30:00</td>\n",
       "      <td>0.0</td>\n",
       "    </tr>\n",
       "    <tr>\n",
       "      <th>3</th>\n",
       "      <td>3</td>\n",
       "      <td>00:45:00</td>\n",
       "      <td>0.0</td>\n",
       "    </tr>\n",
       "    <tr>\n",
       "      <th>4</th>\n",
       "      <td>3</td>\n",
       "      <td>01:00:00</td>\n",
       "      <td>0.0</td>\n",
       "    </tr>\n",
       "    <tr>\n",
       "      <th>...</th>\n",
       "      <td>...</td>\n",
       "      <td>...</td>\n",
       "      <td>...</td>\n",
       "    </tr>\n",
       "    <tr>\n",
       "      <th>283</th>\n",
       "      <td>6</td>\n",
       "      <td>22:45:00</td>\n",
       "      <td>1.0</td>\n",
       "    </tr>\n",
       "    <tr>\n",
       "      <th>284</th>\n",
       "      <td>6</td>\n",
       "      <td>23:00:00</td>\n",
       "      <td>0.0</td>\n",
       "    </tr>\n",
       "    <tr>\n",
       "      <th>285</th>\n",
       "      <td>6</td>\n",
       "      <td>23:15:00</td>\n",
       "      <td>0.0</td>\n",
       "    </tr>\n",
       "    <tr>\n",
       "      <th>286</th>\n",
       "      <td>6</td>\n",
       "      <td>23:30:00</td>\n",
       "      <td>2.0</td>\n",
       "    </tr>\n",
       "    <tr>\n",
       "      <th>287</th>\n",
       "      <td>6</td>\n",
       "      <td>23:45:00</td>\n",
       "      <td>0.0</td>\n",
       "    </tr>\n",
       "  </tbody>\n",
       "</table>\n",
       "<p>288 rows × 3 columns</p>\n",
       "</div>"
      ],
      "text/plain": [
       "     regime    inicio  valor\n",
       "0         3  00:00:00    0.0\n",
       "1         3  00:15:00    0.0\n",
       "2         3  00:30:00    0.0\n",
       "3         3  00:45:00    0.0\n",
       "4         3  01:00:00    0.0\n",
       "..      ...       ...    ...\n",
       "283       6  22:45:00    1.0\n",
       "284       6  23:00:00    0.0\n",
       "285       6  23:15:00    0.0\n",
       "286       6  23:30:00    2.0\n",
       "287       6  23:45:00    0.0\n",
       "\n",
       "[288 rows x 3 columns]"
      ]
     },
     "execution_count": 444,
     "metadata": {},
     "output_type": "execute_result"
    }
   ],
   "source": [
    "df_resultados = pd.DataFrame(resultados)\n",
    "df_resultados"
   ]
  },
  {
   "cell_type": "code",
   "execution_count": 445,
   "id": "48ce19ad",
   "metadata": {},
   "outputs": [
    {
     "data": {
      "application/vnd.microsoft.datawrangler.viewer.v0+json": {
       "columns": [
        {
         "name": "index",
         "rawType": "int64",
         "type": "integer"
        },
        {
         "name": "regime",
         "rawType": "int64",
         "type": "integer"
        },
        {
         "name": "inicio",
         "rawType": "object",
         "type": "unknown"
        },
        {
         "name": "valor",
         "rawType": "float64",
         "type": "float"
        }
       ],
       "ref": "ebae8cbe-fb69-4128-984b-fe145f273239",
       "rows": [
        [
         "36",
         "3",
         "09:00:00",
         "5.0"
        ],
        [
         "58",
         "3",
         "14:30:00",
         "3.0"
        ],
        [
         "113",
         "4",
         "04:15:00",
         "1.0"
        ],
        [
         "124",
         "4",
         "07:00:00",
         "9.0"
        ],
        [
         "125",
         "4",
         "07:15:00",
         "1.0"
        ],
        [
         "126",
         "4",
         "07:30:00",
         "2.0"
        ],
        [
         "127",
         "4",
         "07:45:00",
         "2.0"
        ],
        [
         "128",
         "4",
         "08:00:00",
         "6.0"
        ],
        [
         "129",
         "4",
         "08:15:00",
         "1.0"
        ],
        [
         "132",
         "4",
         "09:00:00",
         "2.0"
        ],
        [
         "137",
         "4",
         "10:15:00",
         "2.0"
        ],
        [
         "148",
         "4",
         "13:00:00",
         "6.0"
        ],
        [
         "149",
         "4",
         "13:15:00",
         "1.0"
        ],
        [
         "152",
         "4",
         "14:00:00",
         "7.0"
        ],
        [
         "155",
         "4",
         "14:45:00",
         "13.0"
        ],
        [
         "165",
         "4",
         "17:15:00",
         "2.0"
        ],
        [
         "166",
         "4",
         "17:30:00",
         "2.0"
        ],
        [
         "195",
         "6",
         "00:45:00",
         "1.0"
        ],
        [
         "213",
         "6",
         "05:15:00",
         "1.0"
        ],
        [
         "215",
         "6",
         "05:45:00",
         "3.0"
        ],
        [
         "218",
         "6",
         "06:30:00",
         "2.0"
        ],
        [
         "220",
         "6",
         "07:00:00",
         "4.0"
        ],
        [
         "223",
         "6",
         "07:45:00",
         "2.0"
        ],
        [
         "224",
         "6",
         "08:00:00",
         "8.0"
        ],
        [
         "227",
         "6",
         "08:45:00",
         "18.0"
        ],
        [
         "231",
         "6",
         "09:45:00",
         "4.0"
        ],
        [
         "233",
         "6",
         "10:15:00",
         "3.0"
        ],
        [
         "239",
         "6",
         "11:45:00",
         "11.0"
        ],
        [
         "241",
         "6",
         "12:15:00",
         "2.0"
        ],
        [
         "243",
         "6",
         "12:45:00",
         "4.0"
        ],
        [
         "244",
         "6",
         "13:00:00",
         "4.0"
        ],
        [
         "245",
         "6",
         "13:15:00",
         "2.0"
        ],
        [
         "246",
         "6",
         "13:30:00",
         "5.0"
        ],
        [
         "250",
         "6",
         "14:30:00",
         "1.0"
        ],
        [
         "252",
         "6",
         "15:00:00",
         "5.0"
        ],
        [
         "256",
         "6",
         "16:00:00",
         "1.0"
        ],
        [
         "257",
         "6",
         "16:15:00",
         "1.0"
        ],
        [
         "258",
         "6",
         "16:30:00",
         "2.0"
        ],
        [
         "259",
         "6",
         "16:45:00",
         "3.0"
        ],
        [
         "260",
         "6",
         "17:00:00",
         "3.0"
        ],
        [
         "262",
         "6",
         "17:30:00",
         "5.0"
        ],
        [
         "267",
         "6",
         "18:45:00",
         "12.0"
        ],
        [
         "268",
         "6",
         "19:00:00",
         "1.0"
        ],
        [
         "269",
         "6",
         "19:15:00",
         "1.0"
        ],
        [
         "272",
         "6",
         "20:00:00",
         "2.0"
        ],
        [
         "276",
         "6",
         "21:00:00",
         "1.0"
        ],
        [
         "283",
         "6",
         "22:45:00",
         "1.0"
        ],
        [
         "286",
         "6",
         "23:30:00",
         "2.0"
        ]
       ],
       "shape": {
        "columns": 3,
        "rows": 48
       }
      },
      "text/html": [
       "<div>\n",
       "<style scoped>\n",
       "    .dataframe tbody tr th:only-of-type {\n",
       "        vertical-align: middle;\n",
       "    }\n",
       "\n",
       "    .dataframe tbody tr th {\n",
       "        vertical-align: top;\n",
       "    }\n",
       "\n",
       "    .dataframe thead th {\n",
       "        text-align: right;\n",
       "    }\n",
       "</style>\n",
       "<table border=\"1\" class=\"dataframe\">\n",
       "  <thead>\n",
       "    <tr style=\"text-align: right;\">\n",
       "      <th></th>\n",
       "      <th>regime</th>\n",
       "      <th>inicio</th>\n",
       "      <th>valor</th>\n",
       "    </tr>\n",
       "  </thead>\n",
       "  <tbody>\n",
       "    <tr>\n",
       "      <th>36</th>\n",
       "      <td>3</td>\n",
       "      <td>09:00:00</td>\n",
       "      <td>5.0</td>\n",
       "    </tr>\n",
       "    <tr>\n",
       "      <th>58</th>\n",
       "      <td>3</td>\n",
       "      <td>14:30:00</td>\n",
       "      <td>3.0</td>\n",
       "    </tr>\n",
       "    <tr>\n",
       "      <th>113</th>\n",
       "      <td>4</td>\n",
       "      <td>04:15:00</td>\n",
       "      <td>1.0</td>\n",
       "    </tr>\n",
       "    <tr>\n",
       "      <th>124</th>\n",
       "      <td>4</td>\n",
       "      <td>07:00:00</td>\n",
       "      <td>9.0</td>\n",
       "    </tr>\n",
       "    <tr>\n",
       "      <th>125</th>\n",
       "      <td>4</td>\n",
       "      <td>07:15:00</td>\n",
       "      <td>1.0</td>\n",
       "    </tr>\n",
       "    <tr>\n",
       "      <th>126</th>\n",
       "      <td>4</td>\n",
       "      <td>07:30:00</td>\n",
       "      <td>2.0</td>\n",
       "    </tr>\n",
       "    <tr>\n",
       "      <th>127</th>\n",
       "      <td>4</td>\n",
       "      <td>07:45:00</td>\n",
       "      <td>2.0</td>\n",
       "    </tr>\n",
       "    <tr>\n",
       "      <th>128</th>\n",
       "      <td>4</td>\n",
       "      <td>08:00:00</td>\n",
       "      <td>6.0</td>\n",
       "    </tr>\n",
       "    <tr>\n",
       "      <th>129</th>\n",
       "      <td>4</td>\n",
       "      <td>08:15:00</td>\n",
       "      <td>1.0</td>\n",
       "    </tr>\n",
       "    <tr>\n",
       "      <th>132</th>\n",
       "      <td>4</td>\n",
       "      <td>09:00:00</td>\n",
       "      <td>2.0</td>\n",
       "    </tr>\n",
       "    <tr>\n",
       "      <th>137</th>\n",
       "      <td>4</td>\n",
       "      <td>10:15:00</td>\n",
       "      <td>2.0</td>\n",
       "    </tr>\n",
       "    <tr>\n",
       "      <th>148</th>\n",
       "      <td>4</td>\n",
       "      <td>13:00:00</td>\n",
       "      <td>6.0</td>\n",
       "    </tr>\n",
       "    <tr>\n",
       "      <th>149</th>\n",
       "      <td>4</td>\n",
       "      <td>13:15:00</td>\n",
       "      <td>1.0</td>\n",
       "    </tr>\n",
       "    <tr>\n",
       "      <th>152</th>\n",
       "      <td>4</td>\n",
       "      <td>14:00:00</td>\n",
       "      <td>7.0</td>\n",
       "    </tr>\n",
       "    <tr>\n",
       "      <th>155</th>\n",
       "      <td>4</td>\n",
       "      <td>14:45:00</td>\n",
       "      <td>13.0</td>\n",
       "    </tr>\n",
       "    <tr>\n",
       "      <th>165</th>\n",
       "      <td>4</td>\n",
       "      <td>17:15:00</td>\n",
       "      <td>2.0</td>\n",
       "    </tr>\n",
       "    <tr>\n",
       "      <th>166</th>\n",
       "      <td>4</td>\n",
       "      <td>17:30:00</td>\n",
       "      <td>2.0</td>\n",
       "    </tr>\n",
       "    <tr>\n",
       "      <th>195</th>\n",
       "      <td>6</td>\n",
       "      <td>00:45:00</td>\n",
       "      <td>1.0</td>\n",
       "    </tr>\n",
       "    <tr>\n",
       "      <th>213</th>\n",
       "      <td>6</td>\n",
       "      <td>05:15:00</td>\n",
       "      <td>1.0</td>\n",
       "    </tr>\n",
       "    <tr>\n",
       "      <th>215</th>\n",
       "      <td>6</td>\n",
       "      <td>05:45:00</td>\n",
       "      <td>3.0</td>\n",
       "    </tr>\n",
       "    <tr>\n",
       "      <th>218</th>\n",
       "      <td>6</td>\n",
       "      <td>06:30:00</td>\n",
       "      <td>2.0</td>\n",
       "    </tr>\n",
       "    <tr>\n",
       "      <th>220</th>\n",
       "      <td>6</td>\n",
       "      <td>07:00:00</td>\n",
       "      <td>4.0</td>\n",
       "    </tr>\n",
       "    <tr>\n",
       "      <th>223</th>\n",
       "      <td>6</td>\n",
       "      <td>07:45:00</td>\n",
       "      <td>2.0</td>\n",
       "    </tr>\n",
       "    <tr>\n",
       "      <th>224</th>\n",
       "      <td>6</td>\n",
       "      <td>08:00:00</td>\n",
       "      <td>8.0</td>\n",
       "    </tr>\n",
       "    <tr>\n",
       "      <th>227</th>\n",
       "      <td>6</td>\n",
       "      <td>08:45:00</td>\n",
       "      <td>18.0</td>\n",
       "    </tr>\n",
       "    <tr>\n",
       "      <th>231</th>\n",
       "      <td>6</td>\n",
       "      <td>09:45:00</td>\n",
       "      <td>4.0</td>\n",
       "    </tr>\n",
       "    <tr>\n",
       "      <th>233</th>\n",
       "      <td>6</td>\n",
       "      <td>10:15:00</td>\n",
       "      <td>3.0</td>\n",
       "    </tr>\n",
       "    <tr>\n",
       "      <th>239</th>\n",
       "      <td>6</td>\n",
       "      <td>11:45:00</td>\n",
       "      <td>11.0</td>\n",
       "    </tr>\n",
       "    <tr>\n",
       "      <th>241</th>\n",
       "      <td>6</td>\n",
       "      <td>12:15:00</td>\n",
       "      <td>2.0</td>\n",
       "    </tr>\n",
       "    <tr>\n",
       "      <th>243</th>\n",
       "      <td>6</td>\n",
       "      <td>12:45:00</td>\n",
       "      <td>4.0</td>\n",
       "    </tr>\n",
       "    <tr>\n",
       "      <th>244</th>\n",
       "      <td>6</td>\n",
       "      <td>13:00:00</td>\n",
       "      <td>4.0</td>\n",
       "    </tr>\n",
       "    <tr>\n",
       "      <th>245</th>\n",
       "      <td>6</td>\n",
       "      <td>13:15:00</td>\n",
       "      <td>2.0</td>\n",
       "    </tr>\n",
       "    <tr>\n",
       "      <th>246</th>\n",
       "      <td>6</td>\n",
       "      <td>13:30:00</td>\n",
       "      <td>5.0</td>\n",
       "    </tr>\n",
       "    <tr>\n",
       "      <th>250</th>\n",
       "      <td>6</td>\n",
       "      <td>14:30:00</td>\n",
       "      <td>1.0</td>\n",
       "    </tr>\n",
       "    <tr>\n",
       "      <th>252</th>\n",
       "      <td>6</td>\n",
       "      <td>15:00:00</td>\n",
       "      <td>5.0</td>\n",
       "    </tr>\n",
       "    <tr>\n",
       "      <th>256</th>\n",
       "      <td>6</td>\n",
       "      <td>16:00:00</td>\n",
       "      <td>1.0</td>\n",
       "    </tr>\n",
       "    <tr>\n",
       "      <th>257</th>\n",
       "      <td>6</td>\n",
       "      <td>16:15:00</td>\n",
       "      <td>1.0</td>\n",
       "    </tr>\n",
       "    <tr>\n",
       "      <th>258</th>\n",
       "      <td>6</td>\n",
       "      <td>16:30:00</td>\n",
       "      <td>2.0</td>\n",
       "    </tr>\n",
       "    <tr>\n",
       "      <th>259</th>\n",
       "      <td>6</td>\n",
       "      <td>16:45:00</td>\n",
       "      <td>3.0</td>\n",
       "    </tr>\n",
       "    <tr>\n",
       "      <th>260</th>\n",
       "      <td>6</td>\n",
       "      <td>17:00:00</td>\n",
       "      <td>3.0</td>\n",
       "    </tr>\n",
       "    <tr>\n",
       "      <th>262</th>\n",
       "      <td>6</td>\n",
       "      <td>17:30:00</td>\n",
       "      <td>5.0</td>\n",
       "    </tr>\n",
       "    <tr>\n",
       "      <th>267</th>\n",
       "      <td>6</td>\n",
       "      <td>18:45:00</td>\n",
       "      <td>12.0</td>\n",
       "    </tr>\n",
       "    <tr>\n",
       "      <th>268</th>\n",
       "      <td>6</td>\n",
       "      <td>19:00:00</td>\n",
       "      <td>1.0</td>\n",
       "    </tr>\n",
       "    <tr>\n",
       "      <th>269</th>\n",
       "      <td>6</td>\n",
       "      <td>19:15:00</td>\n",
       "      <td>1.0</td>\n",
       "    </tr>\n",
       "    <tr>\n",
       "      <th>272</th>\n",
       "      <td>6</td>\n",
       "      <td>20:00:00</td>\n",
       "      <td>2.0</td>\n",
       "    </tr>\n",
       "    <tr>\n",
       "      <th>276</th>\n",
       "      <td>6</td>\n",
       "      <td>21:00:00</td>\n",
       "      <td>1.0</td>\n",
       "    </tr>\n",
       "    <tr>\n",
       "      <th>283</th>\n",
       "      <td>6</td>\n",
       "      <td>22:45:00</td>\n",
       "      <td>1.0</td>\n",
       "    </tr>\n",
       "    <tr>\n",
       "      <th>286</th>\n",
       "      <td>6</td>\n",
       "      <td>23:30:00</td>\n",
       "      <td>2.0</td>\n",
       "    </tr>\n",
       "  </tbody>\n",
       "</table>\n",
       "</div>"
      ],
      "text/plain": [
       "     regime    inicio  valor\n",
       "36        3  09:00:00    5.0\n",
       "58        3  14:30:00    3.0\n",
       "113       4  04:15:00    1.0\n",
       "124       4  07:00:00    9.0\n",
       "125       4  07:15:00    1.0\n",
       "126       4  07:30:00    2.0\n",
       "127       4  07:45:00    2.0\n",
       "128       4  08:00:00    6.0\n",
       "129       4  08:15:00    1.0\n",
       "132       4  09:00:00    2.0\n",
       "137       4  10:15:00    2.0\n",
       "148       4  13:00:00    6.0\n",
       "149       4  13:15:00    1.0\n",
       "152       4  14:00:00    7.0\n",
       "155       4  14:45:00   13.0\n",
       "165       4  17:15:00    2.0\n",
       "166       4  17:30:00    2.0\n",
       "195       6  00:45:00    1.0\n",
       "213       6  05:15:00    1.0\n",
       "215       6  05:45:00    3.0\n",
       "218       6  06:30:00    2.0\n",
       "220       6  07:00:00    4.0\n",
       "223       6  07:45:00    2.0\n",
       "224       6  08:00:00    8.0\n",
       "227       6  08:45:00   18.0\n",
       "231       6  09:45:00    4.0\n",
       "233       6  10:15:00    3.0\n",
       "239       6  11:45:00   11.0\n",
       "241       6  12:15:00    2.0\n",
       "243       6  12:45:00    4.0\n",
       "244       6  13:00:00    4.0\n",
       "245       6  13:15:00    2.0\n",
       "246       6  13:30:00    5.0\n",
       "250       6  14:30:00    1.0\n",
       "252       6  15:00:00    5.0\n",
       "256       6  16:00:00    1.0\n",
       "257       6  16:15:00    1.0\n",
       "258       6  16:30:00    2.0\n",
       "259       6  16:45:00    3.0\n",
       "260       6  17:00:00    3.0\n",
       "262       6  17:30:00    5.0\n",
       "267       6  18:45:00   12.0\n",
       "268       6  19:00:00    1.0\n",
       "269       6  19:15:00    1.0\n",
       "272       6  20:00:00    2.0\n",
       "276       6  21:00:00    1.0\n",
       "283       6  22:45:00    1.0\n",
       "286       6  23:30:00    2.0"
      ]
     },
     "execution_count": 445,
     "metadata": {},
     "output_type": "execute_result"
    }
   ],
   "source": [
    "df_resultados.loc[df_resultados[\"valor\"] > 0] # filtrar para ver só"
   ]
  },
  {
   "cell_type": "code",
   "execution_count": 446,
   "id": "bb5e95f6",
   "metadata": {},
   "outputs": [
    {
     "data": {
      "application/vnd.microsoft.datawrangler.viewer.v0+json": {
       "columns": [
        {
         "name": "inicio",
         "rawType": "object",
         "type": "unknown"
        },
        {
         "name": "3",
         "rawType": "float64",
         "type": "float"
        },
        {
         "name": "4",
         "rawType": "float64",
         "type": "float"
        },
        {
         "name": "6",
         "rawType": "float64",
         "type": "float"
        }
       ],
       "ref": "73897800-6fc8-4898-9ef7-836fd9ad9387",
       "rows": [
        [
         "00:00:00",
         "0.0",
         "0.0",
         "0.0"
        ],
        [
         "00:15:00",
         "0.0",
         "0.0",
         "0.0"
        ],
        [
         "00:30:00",
         "0.0",
         "0.0",
         "0.0"
        ],
        [
         "00:45:00",
         "0.0",
         "0.0",
         "1.0"
        ],
        [
         "01:00:00",
         "0.0",
         "0.0",
         "0.0"
        ],
        [
         "01:15:00",
         "0.0",
         "0.0",
         "0.0"
        ],
        [
         "01:30:00",
         "0.0",
         "0.0",
         "0.0"
        ],
        [
         "01:45:00",
         "0.0",
         "0.0",
         "0.0"
        ],
        [
         "02:00:00",
         "0.0",
         "0.0",
         "0.0"
        ],
        [
         "02:15:00",
         "0.0",
         "0.0",
         "0.0"
        ],
        [
         "02:30:00",
         "0.0",
         "0.0",
         "0.0"
        ],
        [
         "02:45:00",
         "0.0",
         "0.0",
         "0.0"
        ],
        [
         "03:00:00",
         "0.0",
         "0.0",
         "0.0"
        ],
        [
         "03:15:00",
         "0.0",
         "0.0",
         "0.0"
        ],
        [
         "03:30:00",
         "0.0",
         "0.0",
         "0.0"
        ],
        [
         "03:45:00",
         "0.0",
         "0.0",
         "0.0"
        ],
        [
         "04:00:00",
         "0.0",
         "0.0",
         "0.0"
        ],
        [
         "04:15:00",
         "0.0",
         "1.0",
         "0.0"
        ],
        [
         "04:30:00",
         "0.0",
         "0.0",
         "0.0"
        ],
        [
         "04:45:00",
         "0.0",
         "0.0",
         "0.0"
        ],
        [
         "05:00:00",
         "0.0",
         "0.0",
         "0.0"
        ],
        [
         "05:15:00",
         "0.0",
         "0.0",
         "1.0"
        ],
        [
         "05:30:00",
         "0.0",
         "0.0",
         "0.0"
        ],
        [
         "05:45:00",
         "0.0",
         "0.0",
         "3.0"
        ],
        [
         "06:00:00",
         "0.0",
         "0.0",
         "0.0"
        ],
        [
         "06:15:00",
         "0.0",
         "0.0",
         "0.0"
        ],
        [
         "06:30:00",
         "0.0",
         "0.0",
         "2.0"
        ],
        [
         "06:45:00",
         "0.0",
         "0.0",
         "0.0"
        ],
        [
         "07:00:00",
         "0.0",
         "9.0",
         "4.0"
        ],
        [
         "07:15:00",
         "0.0",
         "1.0",
         "0.0"
        ],
        [
         "07:30:00",
         "0.0",
         "2.0",
         "0.0"
        ],
        [
         "07:45:00",
         "0.0",
         "2.0",
         "2.0"
        ],
        [
         "08:00:00",
         "0.0",
         "6.0",
         "8.0"
        ],
        [
         "08:15:00",
         "0.0",
         "1.0",
         "0.0"
        ],
        [
         "08:30:00",
         "0.0",
         "0.0",
         "0.0"
        ],
        [
         "08:45:00",
         "0.0",
         "0.0",
         "18.0"
        ],
        [
         "09:00:00",
         "5.0",
         "2.0",
         "0.0"
        ],
        [
         "09:15:00",
         "0.0",
         "0.0",
         "0.0"
        ],
        [
         "09:30:00",
         "0.0",
         "0.0",
         "0.0"
        ],
        [
         "09:45:00",
         "0.0",
         "0.0",
         "4.0"
        ],
        [
         "10:00:00",
         "0.0",
         "0.0",
         "0.0"
        ],
        [
         "10:15:00",
         "0.0",
         "2.0",
         "3.0"
        ],
        [
         "10:30:00",
         "0.0",
         "0.0",
         "0.0"
        ],
        [
         "10:45:00",
         "0.0",
         "0.0",
         "0.0"
        ],
        [
         "11:00:00",
         "0.0",
         "0.0",
         "0.0"
        ],
        [
         "11:15:00",
         "0.0",
         "0.0",
         "0.0"
        ],
        [
         "11:30:00",
         "0.0",
         "0.0",
         "0.0"
        ],
        [
         "11:45:00",
         "0.0",
         "0.0",
         "11.0"
        ],
        [
         "12:00:00",
         "0.0",
         "0.0",
         "0.0"
        ],
        [
         "12:15:00",
         "0.0",
         "0.0",
         "2.0"
        ]
       ],
       "shape": {
        "columns": 3,
        "rows": 96
       }
      },
      "text/html": [
       "<div>\n",
       "<style scoped>\n",
       "    .dataframe tbody tr th:only-of-type {\n",
       "        vertical-align: middle;\n",
       "    }\n",
       "\n",
       "    .dataframe tbody tr th {\n",
       "        vertical-align: top;\n",
       "    }\n",
       "\n",
       "    .dataframe thead th {\n",
       "        text-align: right;\n",
       "    }\n",
       "</style>\n",
       "<table border=\"1\" class=\"dataframe\">\n",
       "  <thead>\n",
       "    <tr style=\"text-align: right;\">\n",
       "      <th>regime</th>\n",
       "      <th>3</th>\n",
       "      <th>4</th>\n",
       "      <th>6</th>\n",
       "    </tr>\n",
       "    <tr>\n",
       "      <th>inicio</th>\n",
       "      <th></th>\n",
       "      <th></th>\n",
       "      <th></th>\n",
       "    </tr>\n",
       "  </thead>\n",
       "  <tbody>\n",
       "    <tr>\n",
       "      <th>00:00:00</th>\n",
       "      <td>0.0</td>\n",
       "      <td>0.0</td>\n",
       "      <td>0.0</td>\n",
       "    </tr>\n",
       "    <tr>\n",
       "      <th>00:15:00</th>\n",
       "      <td>0.0</td>\n",
       "      <td>0.0</td>\n",
       "      <td>0.0</td>\n",
       "    </tr>\n",
       "    <tr>\n",
       "      <th>00:30:00</th>\n",
       "      <td>0.0</td>\n",
       "      <td>0.0</td>\n",
       "      <td>0.0</td>\n",
       "    </tr>\n",
       "    <tr>\n",
       "      <th>00:45:00</th>\n",
       "      <td>0.0</td>\n",
       "      <td>0.0</td>\n",
       "      <td>1.0</td>\n",
       "    </tr>\n",
       "    <tr>\n",
       "      <th>01:00:00</th>\n",
       "      <td>0.0</td>\n",
       "      <td>0.0</td>\n",
       "      <td>0.0</td>\n",
       "    </tr>\n",
       "    <tr>\n",
       "      <th>...</th>\n",
       "      <td>...</td>\n",
       "      <td>...</td>\n",
       "      <td>...</td>\n",
       "    </tr>\n",
       "    <tr>\n",
       "      <th>22:45:00</th>\n",
       "      <td>0.0</td>\n",
       "      <td>0.0</td>\n",
       "      <td>1.0</td>\n",
       "    </tr>\n",
       "    <tr>\n",
       "      <th>23:00:00</th>\n",
       "      <td>0.0</td>\n",
       "      <td>0.0</td>\n",
       "      <td>0.0</td>\n",
       "    </tr>\n",
       "    <tr>\n",
       "      <th>23:15:00</th>\n",
       "      <td>0.0</td>\n",
       "      <td>0.0</td>\n",
       "      <td>0.0</td>\n",
       "    </tr>\n",
       "    <tr>\n",
       "      <th>23:30:00</th>\n",
       "      <td>0.0</td>\n",
       "      <td>0.0</td>\n",
       "      <td>2.0</td>\n",
       "    </tr>\n",
       "    <tr>\n",
       "      <th>23:45:00</th>\n",
       "      <td>0.0</td>\n",
       "      <td>0.0</td>\n",
       "      <td>0.0</td>\n",
       "    </tr>\n",
       "  </tbody>\n",
       "</table>\n",
       "<p>96 rows × 3 columns</p>\n",
       "</div>"
      ],
      "text/plain": [
       "regime      3    4    6\n",
       "inicio                 \n",
       "00:00:00  0.0  0.0  0.0\n",
       "00:15:00  0.0  0.0  0.0\n",
       "00:30:00  0.0  0.0  0.0\n",
       "00:45:00  0.0  0.0  1.0\n",
       "01:00:00  0.0  0.0  0.0\n",
       "...       ...  ...  ...\n",
       "22:45:00  0.0  0.0  1.0\n",
       "23:00:00  0.0  0.0  0.0\n",
       "23:15:00  0.0  0.0  0.0\n",
       "23:30:00  0.0  0.0  2.0\n",
       "23:45:00  0.0  0.0  0.0\n",
       "\n",
       "[96 rows x 3 columns]"
      ]
     },
     "execution_count": 446,
     "metadata": {},
     "output_type": "execute_result"
    }
   ],
   "source": [
    "# pivotando a tabela filtrada acima\n",
    "df_resultados_pivotado = df_resultados.pivot_table(columns=\"regime\", index=\"inicio\", values=\"valor\")\n",
    "df_resultados_pivotado # aqui a primur coluna é o indiec da tabela, poor acaso ela tem nome aqui"
   ]
  },
  {
   "cell_type": "code",
   "execution_count": 447,
   "id": "3e2d5f34",
   "metadata": {},
   "outputs": [
    {
     "data": {
      "application/vnd.microsoft.datawrangler.viewer.v0+json": {
       "columns": [
        {
         "name": "regime",
         "rawType": "int64",
         "type": "integer"
        },
        {
         "name": "0",
         "rawType": "float64",
         "type": "float"
        }
       ],
       "ref": "5431fc2e-7f77-427d-b49a-7657c966ab8d",
       "rows": [
        [
         "3",
         "8.0"
        ],
        [
         "4",
         "57.0"
        ],
        [
         "6",
         "115.0"
        ]
       ],
       "shape": {
        "columns": 1,
        "rows": 3
       }
      },
      "text/plain": [
       "regime\n",
       "3      8.0\n",
       "4     57.0\n",
       "6    115.0\n",
       "dtype: float64"
      ]
     },
     "execution_count": 447,
     "metadata": {},
     "output_type": "execute_result"
    }
   ],
   "source": [
    "df_resultados_pivotado.sum(axis=0) # ele pegou o 6 o cara que trabalha mais horas mas recebe mesnos por hora"
   ]
  },
  {
   "cell_type": "code",
   "execution_count": 448,
   "id": "2fb9f984",
   "metadata": {},
   "outputs": [
    {
     "data": {
      "text/plain": [
       "[1, 2, 3, 4, 5, 6, 10, 12, 15, 20, 30]"
      ]
     },
     "execution_count": 448,
     "metadata": {},
     "output_type": "execute_result"
    }
   ],
   "source": [
    "# vamos generalizar esse condigo, tem que resolver qaulquer attentus, nao so quebrando de 15 em 15\n",
    "def encontra_divisores(n):\n",
    "    divisores = []\n",
    "    for i in range(1, n // 2 + 1):\n",
    "        if n % i == 0:\n",
    "            divisores.append(i)\n",
    "\n",
    "    return divisores\n",
    "\n",
    "encontra_divisores(60)  # coisas para comecar a dirigir o nan e o attentus, o nan tb foi viciado para 15 em 15 min e ir de meia noite a meia noite, vamos gfeneralizar"
   ]
  },
  {
   "cell_type": "code",
   "execution_count": 449,
   "id": "9c155d00",
   "metadata": {},
   "outputs": [],
   "source": [
    "# tabela de ligantes vai ser particular para cada cliente, por isso ele vende como consultoria, o horotimo como produto\n",
    "# paramentros de genearalização agora\n",
    "qtd_horas_total = 24\n",
    "hora_inicial = 0\n",
    "minuto_inicial = 0\n"
   ]
  },
  {
   "cell_type": "code",
   "execution_count": 450,
   "id": "5d9089ce",
   "metadata": {},
   "outputs": [
    {
     "name": "stdout",
     "output_type": "stream",
     "text": [
      "1.0 1440\n"
     ]
    }
   ],
   "source": [
    "qtd_dias_total = qtd_horas_total / 24\n",
    "qtd_minutos_total = qtd_horas_total * 60\n",
    "print(qtd_dias_total, qtd_minutos_total) # quais is divusiores do 1440, na tela as suas quebras sao essas\n",
    "# tem que dar um campo limitado para o seu usuario que melor seja eu mesmo"
   ]
  },
  {
   "cell_type": "code",
   "execution_count": 451,
   "id": "08c13171",
   "metadata": {},
   "outputs": [
    {
     "name": "stdout",
     "output_type": "stream",
     "text": [
      "[1, 2, 3, 4, 5, 6, 8, 9, 10, 12, 15, 16, 18, 20, 24, 30, 32, 36, 40, 45, 48, 60, 72, 80, 90, 96, 120, 144, 160, 180, 240, 288, 360, 480, 720]\n"
     ]
    }
   ],
   "source": [
    "divisores = encontra_divisores(qtd_minutos_total)\n",
    "print(divisores)  # 15 ta la, 13 nao 17 tambem nao"
   ]
  },
  {
   "cell_type": "code",
   "execution_count": 452,
   "id": "c15f7d07",
   "metadata": {},
   "outputs": [
    {
     "data": {
      "text/plain": [
       "15"
      ]
     },
     "execution_count": 452,
     "metadata": {},
     "output_type": "execute_result"
    }
   ],
   "source": [
    "minutos_dividir = divisores[10]\n",
    "minutos_dividir # testando "
   ]
  },
  {
   "cell_type": "code",
   "execution_count": 453,
   "id": "1d73aeeb",
   "metadata": {},
   "outputs": [
    {
     "name": "stdout",
     "output_type": "stream",
     "text": [
      "12.0\n",
      "16.0\n",
      "24.0\n"
     ]
    }
   ],
   "source": [
    "# vou perguntar agora quantos turnos voce tem\n",
    "# do turno de 3 horas quantos peritodos voce tem??\n",
    "print(3 * 60 / minutos_dividir) # vou experiemntar com o que eu tenho para generalizar depois\n",
    "print(4 * 60 / minutos_dividir)\n",
    "print(6 * 60 / minutos_dividir)"
   ]
  },
  {
   "cell_type": "code",
   "execution_count": 454,
   "id": "24a10172",
   "metadata": {},
   "outputs": [
    {
     "name": "stdout",
     "output_type": "stream",
     "text": [
      "24.44\n"
     ]
    }
   ],
   "source": [
    "print(6.11 * 60 / minutos_dividir) # nao posso deixar isso acontecer de dar float\n",
    "# turno minuto, acho que ninguem trablah mesno de 1 hopras por dia e nao mais que 12, regularmente\n"
   ]
  },
  {
   "cell_type": "code",
   "execution_count": 455,
   "id": "55981aec",
   "metadata": {},
   "outputs": [
    {
     "name": "stdout",
     "output_type": "stream",
     "text": [
      "(12, 1)\n",
      "(16, 1)\n",
      "(24, 1)\n",
      "(6879248430808433, 281474976710656)\n"
     ]
    }
   ],
   "source": [
    "print((3.00 * 60 / minutos_dividir).as_integer_ratio()) \n",
    "print((4.00 * 60 / minutos_dividir).as_integer_ratio())\n",
    "print((6.00 * 60 / minutos_dividir).as_integer_ratio())\n",
    "print((6.11 * 60 / minutos_dividir).as_integer_ratio()) # qundo o turno pe valido o denominador tem que dar 1, essa é a checagem que vanos fazer paea dizer se o tunro é valido ou nao\n",
    "# qual turno é valido considerando isso uma berdade"
   ]
  },
  {
   "cell_type": "code",
   "execution_count": 456,
   "id": "bbfc371d",
   "metadata": {},
   "outputs": [
    {
     "data": {
      "text/plain": [
       "0.016666666666666666"
      ]
     },
     "execution_count": 456,
     "metadata": {},
     "output_type": "execute_result"
    }
   ],
   "source": [
    "1 / 60 # minuto"
   ]
  },
  {
   "cell_type": "code",
   "execution_count": 457,
   "id": "d6797847",
   "metadata": {},
   "outputs": [
    {
     "data": {
      "text/plain": [
       "array([  1.        ,   1.01666667,   1.03333333,   1.05      ,\n",
       "         1.06666667,   1.08333333,   1.1       ,   1.11666667,\n",
       "         1.13333333,   1.15      ,   1.16666667,   1.18333333,\n",
       "         1.2       ,   1.21666667,   1.23333333,   1.25      ,\n",
       "         1.26666667,   1.28333333,   1.3       ,   1.31666667,\n",
       "         1.33333333,   1.35      ,   1.36666667,   1.38333333,\n",
       "         1.4       ,   1.41666667,   1.43333333,   1.45      ,\n",
       "         1.46666667,   1.48333333,   1.5       ,   1.51666667,\n",
       "         1.53333333,   1.55      ,   1.56666667,   1.58333333,\n",
       "         1.6       ,   1.61666667,   1.63333333,   1.65      ,\n",
       "         1.66666667,   1.68333333,   1.7       ,   1.71666667,\n",
       "         1.73333333,   1.75      ,   1.76666667,   1.78333333,\n",
       "         1.8       ,   1.81666667,   1.83333333,   1.85      ,\n",
       "         1.86666667,   1.88333333,   1.9       ,   1.91666667,\n",
       "         1.93333333,   1.95      ,   1.96666667,   1.98333333,\n",
       "         2.        ,   2.01666667,   2.03333333,   2.05      ,\n",
       "         2.06666667,   2.08333333,   2.1       ,   2.11666667,\n",
       "         2.13333333,   2.15      ,   2.16666667,   2.18333333,\n",
       "         2.2       ,   2.21666667,   2.23333333,   2.25      ,\n",
       "         2.26666667,   2.28333333,   2.3       ,   2.31666667,\n",
       "         2.33333333,   2.35      ,   2.36666667,   2.38333333,\n",
       "         2.4       ,   2.41666667,   2.43333333,   2.45      ,\n",
       "         2.46666667,   2.48333333,   2.5       ,   2.51666667,\n",
       "         2.53333333,   2.55      ,   2.56666667,   2.58333333,\n",
       "         2.6       ,   2.61666667,   2.63333333,   2.65      ,\n",
       "         2.66666667,   2.68333333,   2.7       ,   2.71666667,\n",
       "         2.73333333,   2.75      ,   2.76666667,   2.78333333,\n",
       "         2.8       ,   2.81666667,   2.83333333,   2.85      ,\n",
       "         2.86666667,   2.88333333,   2.9       ,   2.91666667,\n",
       "         2.93333333,   2.95      ,   2.96666667,   2.98333333,\n",
       "         3.        ,   3.01666667,   3.03333333,   3.05      ,\n",
       "         3.06666667,   3.08333333,   3.1       ,   3.11666667,\n",
       "         3.13333333,   3.15      ,   3.16666667,   3.18333333,\n",
       "         3.2       ,   3.21666667,   3.23333333,   3.25      ,\n",
       "         3.26666667,   3.28333333,   3.3       ,   3.31666667,\n",
       "         3.33333333,   3.35      ,   3.36666667,   3.38333333,\n",
       "         3.4       ,   3.41666667,   3.43333333,   3.45      ,\n",
       "         3.46666667,   3.48333333,   3.5       ,   3.51666667,\n",
       "         3.53333333,   3.55      ,   3.56666667,   3.58333333,\n",
       "         3.6       ,   3.61666667,   3.63333333,   3.65      ,\n",
       "         3.66666667,   3.68333333,   3.7       ,   3.71666667,\n",
       "         3.73333333,   3.75      ,   3.76666667,   3.78333333,\n",
       "         3.8       ,   3.81666667,   3.83333333,   3.85      ,\n",
       "         3.86666667,   3.88333333,   3.9       ,   3.91666667,\n",
       "         3.93333333,   3.95      ,   3.96666667,   3.98333333,\n",
       "         4.        ,   4.01666667,   4.03333333,   4.05      ,\n",
       "         4.06666667,   4.08333333,   4.1       ,   4.11666667,\n",
       "         4.13333333,   4.15      ,   4.16666667,   4.18333333,\n",
       "         4.2       ,   4.21666667,   4.23333333,   4.25      ,\n",
       "         4.26666667,   4.28333333,   4.3       ,   4.31666667,\n",
       "         4.33333333,   4.35      ,   4.36666667,   4.38333333,\n",
       "         4.4       ,   4.41666667,   4.43333333,   4.45      ,\n",
       "         4.46666667,   4.48333333,   4.5       ,   4.51666667,\n",
       "         4.53333333,   4.55      ,   4.56666667,   4.58333333,\n",
       "         4.6       ,   4.61666667,   4.63333333,   4.65      ,\n",
       "         4.66666667,   4.68333333,   4.7       ,   4.71666667,\n",
       "         4.73333333,   4.75      ,   4.76666667,   4.78333333,\n",
       "         4.8       ,   4.81666667,   4.83333333,   4.85      ,\n",
       "         4.86666667,   4.88333333,   4.9       ,   4.91666667,\n",
       "         4.93333333,   4.95      ,   4.96666667,   4.98333333,\n",
       "         5.        ,   5.01666667,   5.03333333,   5.05      ,\n",
       "         5.06666667,   5.08333333,   5.1       ,   5.11666667,\n",
       "         5.13333333,   5.15      ,   5.16666667,   5.18333333,\n",
       "         5.2       ,   5.21666667,   5.23333333,   5.25      ,\n",
       "         5.26666667,   5.28333333,   5.3       ,   5.31666667,\n",
       "         5.33333333,   5.35      ,   5.36666667,   5.38333333,\n",
       "         5.4       ,   5.41666667,   5.43333333,   5.45      ,\n",
       "         5.46666667,   5.48333333,   5.5       ,   5.51666667,\n",
       "         5.53333333,   5.55      ,   5.56666667,   5.58333333,\n",
       "         5.6       ,   5.61666667,   5.63333333,   5.65      ,\n",
       "         5.66666667,   5.68333333,   5.7       ,   5.71666667,\n",
       "         5.73333333,   5.75      ,   5.76666667,   5.78333333,\n",
       "         5.8       ,   5.81666667,   5.83333333,   5.85      ,\n",
       "         5.86666667,   5.88333333,   5.9       ,   5.91666667,\n",
       "         5.93333333,   5.95      ,   5.96666667,   5.98333333,\n",
       "         6.        ,   6.01666667,   6.03333333,   6.05      ,\n",
       "         6.06666667,   6.08333333,   6.1       ,   6.11666667,\n",
       "         6.13333333,   6.15      ,   6.16666667,   6.18333333,\n",
       "         6.2       ,   6.21666667,   6.23333333,   6.25      ,\n",
       "         6.26666667,   6.28333333,   6.3       ,   6.31666667,\n",
       "         6.33333333,   6.35      ,   6.36666667,   6.38333333,\n",
       "         6.4       ,   6.41666667,   6.43333333,   6.45      ,\n",
       "         6.46666667,   6.48333333,   6.5       ,   6.51666667,\n",
       "         6.53333333,   6.55      ,   6.56666667,   6.58333333,\n",
       "         6.6       ,   6.61666667,   6.63333333,   6.65      ,\n",
       "         6.66666667,   6.68333333,   6.7       ,   6.71666667,\n",
       "         6.73333333,   6.75      ,   6.76666667,   6.78333333,\n",
       "         6.8       ,   6.81666667,   6.83333333,   6.85      ,\n",
       "         6.86666667,   6.88333333,   6.9       ,   6.91666667,\n",
       "         6.93333333,   6.95      ,   6.96666667,   6.98333333,\n",
       "         7.        ,   7.01666667,   7.03333333,   7.05      ,\n",
       "         7.06666667,   7.08333333,   7.1       ,   7.11666667,\n",
       "         7.13333333,   7.15      ,   7.16666667,   7.18333333,\n",
       "         7.2       ,   7.21666667,   7.23333333,   7.25      ,\n",
       "         7.26666667,   7.28333333,   7.3       ,   7.31666667,\n",
       "         7.33333333,   7.35      ,   7.36666667,   7.38333333,\n",
       "         7.4       ,   7.41666667,   7.43333333,   7.45      ,\n",
       "         7.46666667,   7.48333333,   7.5       ,   7.51666667,\n",
       "         7.53333333,   7.55      ,   7.56666667,   7.58333333,\n",
       "         7.6       ,   7.61666667,   7.63333333,   7.65      ,\n",
       "         7.66666667,   7.68333333,   7.7       ,   7.71666667,\n",
       "         7.73333333,   7.75      ,   7.76666667,   7.78333333,\n",
       "         7.8       ,   7.81666667,   7.83333333,   7.85      ,\n",
       "         7.86666667,   7.88333333,   7.9       ,   7.91666667,\n",
       "         7.93333333,   7.95      ,   7.96666667,   7.98333333,\n",
       "         8.        ,   8.01666667,   8.03333333,   8.05      ,\n",
       "         8.06666667,   8.08333333,   8.1       ,   8.11666667,\n",
       "         8.13333333,   8.15      ,   8.16666667,   8.18333333,\n",
       "         8.2       ,   8.21666667,   8.23333333,   8.25      ,\n",
       "         8.26666667,   8.28333333,   8.3       ,   8.31666667,\n",
       "         8.33333333,   8.35      ,   8.36666667,   8.38333333,\n",
       "         8.4       ,   8.41666667,   8.43333333,   8.45      ,\n",
       "         8.46666667,   8.48333333,   8.5       ,   8.51666667,\n",
       "         8.53333333,   8.55      ,   8.56666667,   8.58333333,\n",
       "         8.6       ,   8.61666667,   8.63333333,   8.65      ,\n",
       "         8.66666667,   8.68333333,   8.7       ,   8.71666667,\n",
       "         8.73333333,   8.75      ,   8.76666667,   8.78333333,\n",
       "         8.8       ,   8.81666667,   8.83333333,   8.85      ,\n",
       "         8.86666667,   8.88333333,   8.9       ,   8.91666667,\n",
       "         8.93333333,   8.95      ,   8.96666667,   8.98333333,\n",
       "         9.        ,   9.01666667,   9.03333333,   9.05      ,\n",
       "         9.06666667,   9.08333333,   9.1       ,   9.11666667,\n",
       "         9.13333333,   9.15      ,   9.16666667,   9.18333333,\n",
       "         9.2       ,   9.21666667,   9.23333333,   9.25      ,\n",
       "         9.26666667,   9.28333333,   9.3       ,   9.31666667,\n",
       "         9.33333333,   9.35      ,   9.36666667,   9.38333333,\n",
       "         9.4       ,   9.41666667,   9.43333333,   9.45      ,\n",
       "         9.46666667,   9.48333333,   9.5       ,   9.51666667,\n",
       "         9.53333333,   9.55      ,   9.56666667,   9.58333333,\n",
       "         9.6       ,   9.61666667,   9.63333333,   9.65      ,\n",
       "         9.66666667,   9.68333333,   9.7       ,   9.71666667,\n",
       "         9.73333333,   9.75      ,   9.76666667,   9.78333333,\n",
       "         9.8       ,   9.81666667,   9.83333333,   9.85      ,\n",
       "         9.86666667,   9.88333333,   9.9       ,   9.91666667,\n",
       "         9.93333333,   9.95      ,   9.96666667,   9.98333333,\n",
       "        10.        ,  10.01666667,  10.03333333,  10.05      ,\n",
       "        10.06666667,  10.08333333,  10.1       ,  10.11666667,\n",
       "        10.13333333,  10.15      ,  10.16666667,  10.18333333,\n",
       "        10.2       ,  10.21666667,  10.23333333,  10.25      ,\n",
       "        10.26666667,  10.28333333,  10.3       ,  10.31666667,\n",
       "        10.33333333,  10.35      ,  10.36666667,  10.38333333,\n",
       "        10.4       ,  10.41666667,  10.43333333,  10.45      ,\n",
       "        10.46666667,  10.48333333,  10.5       ,  10.51666667,\n",
       "        10.53333333,  10.55      ,  10.56666667,  10.58333333,\n",
       "        10.6       ,  10.61666667,  10.63333333,  10.65      ,\n",
       "        10.66666667,  10.68333333,  10.7       ,  10.71666667,\n",
       "        10.73333333,  10.75      ,  10.76666667,  10.78333333,\n",
       "        10.8       ,  10.81666667,  10.83333333,  10.85      ,\n",
       "        10.86666667,  10.88333333,  10.9       ,  10.91666667,\n",
       "        10.93333333,  10.95      ,  10.96666667,  10.98333333,\n",
       "        11.        ,  11.01666667,  11.03333333,  11.05      ,\n",
       "        11.06666667,  11.08333333,  11.1       ,  11.11666667,\n",
       "        11.13333333,  11.15      ,  11.16666667,  11.18333333,\n",
       "        11.2       ,  11.21666667,  11.23333333,  11.25      ,\n",
       "        11.26666667,  11.28333333,  11.3       ,  11.31666667,\n",
       "        11.33333333,  11.35      ,  11.36666667,  11.38333333,\n",
       "        11.4       ,  11.41666667,  11.43333333,  11.45      ,\n",
       "        11.46666667,  11.48333333,  11.5       ,  11.51666667,\n",
       "        11.53333333,  11.55      ,  11.56666667,  11.58333333,\n",
       "        11.6       ,  11.61666667,  11.63333333,  11.65      ,\n",
       "        11.66666667,  11.68333333,  11.7       ,  11.71666667,\n",
       "        11.73333333,  11.75      ,  11.76666667,  11.78333333,\n",
       "        11.8       ,  11.81666667,  11.83333333,  11.85      ,\n",
       "        11.86666667,  11.88333333,  11.9       ,  11.91666667,\n",
       "        11.93333333,  11.95      ,  11.96666667,  11.98333333,\n",
       "        12.        ,  12.01666667])"
      ]
     },
     "execution_count": 457,
     "metadata": {},
     "output_type": "execute_result"
    }
   ],
   "source": [
    "np.arange(1,\n",
    "          12+1/60,\n",
    "          1/60) # colecao de numerno de 1 a 12 horaa com passo de 1 em 1 minuto"
   ]
  },
  {
   "cell_type": "code",
   "execution_count": 458,
   "id": "d292fcc1",
   "metadata": {},
   "outputs": [
    {
     "data": {
      "text/plain": [
       "[3.0, 3.25, 3.5, 3.75, 4.0, 4.25, 4.5, 4.75, 5.0, 5.25, 5.5, 5.75, 6.0]"
      ]
     },
     "execution_count": 458,
     "metadata": {},
     "output_type": "execute_result"
    }
   ],
   "source": [
    "def lista_turnos_possiveis(minutos_dividir,\n",
    "                           horas_minimas=1,\n",
    "                           horas_maximas=12):\n",
    "    # turnos hoas poderia se chamar turnos possiveis\n",
    "    passo = 1/60\n",
    "    turnos_testar = np.arange(horas_minimas,\n",
    "                              horas_maximas+passo,\n",
    "                              passo).round(5)\n",
    "    turnos_horas = []\n",
    "    for turno in turnos_testar:\n",
    "        num, den = \\\n",
    "            (turno * 60 / minutos_dividir).as_integer_ratio()\n",
    "        if den == 1:\n",
    "            turnos_horas.append(turno)\n",
    "\n",
    "    return turnos_horas\n",
    "lista_turnos_possiveis(15, 3, 6)\n"
   ]
  },
  {
   "cell_type": "code",
   "execution_count": 459,
   "id": "9c38fc3c",
   "metadata": {},
   "outputs": [],
   "source": [
    "def float_para_horas_minutos(float_num):\n",
    "    horas = int(float_num)\n",
    "    minutos = int((float_num - horas) * 60)\n",
    "    return horas, minutos"
   ]
  },
  {
   "cell_type": "code",
   "execution_count": 460,
   "id": "9d1d797f",
   "metadata": {},
   "outputs": [
    {
     "name": "stdout",
     "output_type": "stream",
     "text": [
      "{'03h00': 3.0, '03h15': 3.25, '03h30': 3.5, '03h45': 3.75, '04h00': 4.0, '04h15': 4.25, '04h30': 4.5, '04h45': 4.75, '05h00': 5.0, '05h15': 5.25, '05h30': 5.5, '05h45': 5.75, '06h00': 6.0}\n"
     ]
    }
   ],
   "source": [
    "dict_turnos_possiveis = {}\n",
    "for turno in lista_turnos_possiveis(minutos_dividir, 3, 6):\n",
    "    horas, minutos = float_para_horas_minutos(turno)\n",
    "    dict_turnos_possiveis[f\"{horas:02}h{minutos:02}\"] = turno\n",
    "print(dict_turnos_possiveis) # vou jogar na tela o 03h00 formatado, com dados legiveis para o usuario"
   ]
  },
  {
   "cell_type": "markdown",
   "id": "8d0e10cc",
   "metadata": {},
   "source": [
    "---\n",
    "aula 12 _ 09/08/25"
   ]
  },
  {
   "cell_type": "code",
   "execution_count": 461,
   "id": "a11e9fce",
   "metadata": {},
   "outputs": [],
   "source": [
    "from datetime import datetime as dtm\n",
    "from datetime import timedelta as td  # int e float nao representa bem as datas   dia 31 mais um é dia 32 mas não é assim a conta para o mês\n",
    "# isso ajuda a lidar com dados de data e hora\n"
   ]
  },
  {
   "cell_type": "code",
   "execution_count": 462,
   "id": "82cb7da3",
   "metadata": {},
   "outputs": [],
   "source": [
    "hora_inicial = 0\n",
    "minuto_inicial = 0"
   ]
  },
  {
   "cell_type": "code",
   "execution_count": 463,
   "id": "3d447235",
   "metadata": {},
   "outputs": [
    {
     "data": {
      "text/plain": [
       "24"
      ]
     },
     "execution_count": 463,
     "metadata": {},
     "output_type": "execute_result"
    }
   ],
   "source": [
    "qtd_horas_total"
   ]
  },
  {
   "cell_type": "code",
   "execution_count": 464,
   "id": "e9ea67c6",
   "metadata": {},
   "outputs": [
    {
     "name": "stdout",
     "output_type": "stream",
     "text": [
      "0 0\n"
     ]
    }
   ],
   "source": [
    "hora_final = (hora_inicial + qtd_horas_total) % 24\n",
    "minuto_final = (qtd_horas_total - int(qtd_horas_total)) * 60\n",
    "print(hora_final, minuto_final)"
   ]
  },
  {
   "cell_type": "code",
   "execution_count": 465,
   "id": "287a5312",
   "metadata": {},
   "outputs": [],
   "source": [
    "dia_final = 1\n",
    "if hora_inicial == hora_final and minuto_inicial == minuto_final:\n",
    "    dia_final = 2"
   ]
  },
  {
   "cell_type": "code",
   "execution_count": 466,
   "id": "4ce46a4f",
   "metadata": {},
   "outputs": [
    {
     "data": {
      "text/plain": [
       "['00:00:00',\n",
       " '00:15:00',\n",
       " '00:30:00',\n",
       " '00:45:00',\n",
       " '01:00:00',\n",
       " '01:15:00',\n",
       " '01:30:00',\n",
       " '01:45:00',\n",
       " '02:00:00',\n",
       " '02:15:00',\n",
       " '02:30:00',\n",
       " '02:45:00',\n",
       " '03:00:00',\n",
       " '03:15:00',\n",
       " '03:30:00',\n",
       " '03:45:00',\n",
       " '04:00:00',\n",
       " '04:15:00',\n",
       " '04:30:00',\n",
       " '04:45:00',\n",
       " '05:00:00',\n",
       " '05:15:00',\n",
       " '05:30:00',\n",
       " '05:45:00',\n",
       " '06:00:00',\n",
       " '06:15:00',\n",
       " '06:30:00',\n",
       " '06:45:00',\n",
       " '07:00:00',\n",
       " '07:15:00',\n",
       " '07:30:00',\n",
       " '07:45:00',\n",
       " '08:00:00',\n",
       " '08:15:00',\n",
       " '08:30:00',\n",
       " '08:45:00',\n",
       " '09:00:00',\n",
       " '09:15:00',\n",
       " '09:30:00',\n",
       " '09:45:00',\n",
       " '10:00:00',\n",
       " '10:15:00',\n",
       " '10:30:00',\n",
       " '10:45:00',\n",
       " '11:00:00',\n",
       " '11:15:00',\n",
       " '11:30:00',\n",
       " '11:45:00',\n",
       " '12:00:00',\n",
       " '12:15:00',\n",
       " '12:30:00',\n",
       " '12:45:00',\n",
       " '13:00:00',\n",
       " '13:15:00',\n",
       " '13:30:00',\n",
       " '13:45:00',\n",
       " '14:00:00',\n",
       " '14:15:00',\n",
       " '14:30:00',\n",
       " '14:45:00',\n",
       " '15:00:00',\n",
       " '15:15:00',\n",
       " '15:30:00',\n",
       " '15:45:00',\n",
       " '16:00:00',\n",
       " '16:15:00',\n",
       " '16:30:00',\n",
       " '16:45:00',\n",
       " '17:00:00',\n",
       " '17:15:00',\n",
       " '17:30:00',\n",
       " '17:45:00',\n",
       " '18:00:00',\n",
       " '18:15:00',\n",
       " '18:30:00',\n",
       " '18:45:00',\n",
       " '19:00:00',\n",
       " '19:15:00',\n",
       " '19:30:00',\n",
       " '19:45:00',\n",
       " '20:00:00',\n",
       " '20:15:00',\n",
       " '20:30:00',\n",
       " '20:45:00',\n",
       " '21:00:00',\n",
       " '21:15:00',\n",
       " '21:30:00',\n",
       " '21:45:00',\n",
       " '22:00:00',\n",
       " '22:15:00',\n",
       " '22:30:00',\n",
       " '22:45:00',\n",
       " '23:00:00',\n",
       " '23:15:00',\n",
       " '23:30:00',\n",
       " '23:45:00']"
      ]
     },
     "execution_count": 466,
     "metadata": {},
     "output_type": "execute_result"
    }
   ],
   "source": [
    "#vai osbreescrever esse inciios, ja fizemos antes mas vamos sobreescrever\n",
    "inicios = \\\n",
    "    pd.date_range(\n",
    "        start=f\"2000-01-01 {hora_inicial:02}:{minuto_inicial:02}:00\",\n",
    "        end=dtm.strptime(\n",
    "        f\"2000-01-{dia_final} {hora_final:02}:{minuto_final:02}:59\",\n",
    "        \"%Y-%m-%d %H:%M:%S\"\n",
    "        ),\n",
    "        freq=f\"{minutos_dividir}min\"\n",
    "    ).strftime(\"%H:%M:%S\").tolist()[:-1]\n",
    "inicios"
   ]
  },
  {
   "cell_type": "code",
   "execution_count": 467,
   "id": "4b5459ec",
   "metadata": {},
   "outputs": [
    {
     "data": {
      "text/plain": [
       "['00:15:00',\n",
       " '00:30:00',\n",
       " '00:45:00',\n",
       " '01:00:00',\n",
       " '01:15:00',\n",
       " '01:30:00',\n",
       " '01:45:00',\n",
       " '02:00:00',\n",
       " '02:15:00',\n",
       " '02:30:00',\n",
       " '02:45:00',\n",
       " '03:00:00',\n",
       " '03:15:00',\n",
       " '03:30:00',\n",
       " '03:45:00',\n",
       " '04:00:00',\n",
       " '04:15:00',\n",
       " '04:30:00',\n",
       " '04:45:00',\n",
       " '05:00:00',\n",
       " '05:15:00',\n",
       " '05:30:00',\n",
       " '05:45:00',\n",
       " '06:00:00',\n",
       " '06:15:00',\n",
       " '06:30:00',\n",
       " '06:45:00',\n",
       " '07:00:00',\n",
       " '07:15:00',\n",
       " '07:30:00',\n",
       " '07:45:00',\n",
       " '08:00:00',\n",
       " '08:15:00',\n",
       " '08:30:00',\n",
       " '08:45:00',\n",
       " '09:00:00',\n",
       " '09:15:00',\n",
       " '09:30:00',\n",
       " '09:45:00',\n",
       " '10:00:00',\n",
       " '10:15:00',\n",
       " '10:30:00',\n",
       " '10:45:00',\n",
       " '11:00:00',\n",
       " '11:15:00',\n",
       " '11:30:00',\n",
       " '11:45:00',\n",
       " '12:00:00',\n",
       " '12:15:00',\n",
       " '12:30:00',\n",
       " '12:45:00',\n",
       " '13:00:00',\n",
       " '13:15:00',\n",
       " '13:30:00',\n",
       " '13:45:00',\n",
       " '14:00:00',\n",
       " '14:15:00',\n",
       " '14:30:00',\n",
       " '14:45:00',\n",
       " '15:00:00',\n",
       " '15:15:00',\n",
       " '15:30:00',\n",
       " '15:45:00',\n",
       " '16:00:00',\n",
       " '16:15:00',\n",
       " '16:30:00',\n",
       " '16:45:00',\n",
       " '17:00:00',\n",
       " '17:15:00',\n",
       " '17:30:00',\n",
       " '17:45:00',\n",
       " '18:00:00',\n",
       " '18:15:00',\n",
       " '18:30:00',\n",
       " '18:45:00',\n",
       " '19:00:00',\n",
       " '19:15:00',\n",
       " '19:30:00',\n",
       " '19:45:00',\n",
       " '20:00:00',\n",
       " '20:15:00',\n",
       " '20:30:00',\n",
       " '20:45:00',\n",
       " '21:00:00',\n",
       " '21:15:00',\n",
       " '21:30:00',\n",
       " '21:45:00',\n",
       " '22:00:00',\n",
       " '22:15:00',\n",
       " '22:30:00',\n",
       " '22:45:00',\n",
       " '23:00:00',\n",
       " '23:15:00',\n",
       " '23:30:00',\n",
       " '23:45:00',\n",
       " '00:00:00']"
      ]
     },
     "execution_count": 467,
     "metadata": {},
     "output_type": "execute_result"
    }
   ],
   "source": [
    "finais = [\n",
    "    (dtm.strptime(inicio, \"%H:%M:%S\") + \\\n",
    "    td(minutes=minutos_dividir)).strftime(\"%H:%M:%S\") for inicio in inicios\n",
    "]\n",
    "finais\n",
    "# era um datetime time com com o strptime string para time depois eu converto para string de novo com strftime que vc tem um datetime e quer virar um string"
   ]
  },
  {
   "cell_type": "code",
   "execution_count": 468,
   "id": "28abc258",
   "metadata": {},
   "outputs": [
    {
     "data": {
      "text/plain": [
       "(96, 96)"
      ]
     },
     "execution_count": 468,
     "metadata": {},
     "output_type": "execute_result"
    }
   ],
   "source": [
    "len(inicios), len(finais)"
   ]
  },
  {
   "cell_type": "code",
   "execution_count": 469,
   "id": "ac8d9251",
   "metadata": {},
   "outputs": [
    {
     "data": {
      "text/plain": [
       "'00'"
      ]
     },
     "execution_count": 469,
     "metadata": {},
     "output_type": "execute_result"
    }
   ],
   "source": [
    "f\"{0:02}\""
   ]
  },
  {
   "cell_type": "code",
   "execution_count": 470,
   "id": "27c0c087",
   "metadata": {},
   "outputs": [],
   "source": [
    "# aqui foam so testes de como voce formata as datas e usar os dados\n",
    "\n",
    "# pd.date_range(\n",
    "#     start=f\"2000-01-01 {hora_inicial:02}:{minuto_inicial:02}\",\n",
    "#     end=f\"2000-01-{dia_final}\", # tinahq ue controlar o dia final ai fez aqui com o {dia_fianl}\n",
    "#     freq=f\"{minutos_dividir}min\"\n",
    "# )[:-1].strftime(\"%H:%M:%S\")"
   ]
  },
  {
   "cell_type": "code",
   "execution_count": 471,
   "id": "96fd1924",
   "metadata": {},
   "outputs": [],
   "source": [
    "def attentus(df_nan, df_nad, minutos_dividir):\n",
    "    regimes = \\\n",
    "        df_nad[\"regime\"].to_dict()\n",
    "    inicios = \\\n",
    "        df_nan[\"hora_inicio\"].to_dict()\n",
    "    \n",
    "    lista_variaveis = list(product(regimes, inicios))\n",
    "\n",
    "    prob = plp.LpProblem(\n",
    "        name=\"Attentus\", sense=plp.LpMinimize\n",
    "    )\n",
    "    \n",
    "    pulp_variaveis = plp.LpVariable.dicts(\n",
    "        \"A\", lista_variaveis, lowBound=0, cat=plp.LpInteger\n",
    "    )\n",
    "\n",
    "    coeficientes = []\n",
    "    for indice_regime, indice_periodo in lista_variaveis:\n",
    "        encargo = df_nad.loc[indice_regime, \"enc\"]\n",
    "        coeficientes.append(encargo)\n",
    "\n",
    "    fo = plp.lpSum(\n",
    "        [coef * pulp_variaveis[var] \n",
    "        for coef, var in zip(coeficientes, lista_variaveis)]\n",
    "    )\n",
    "    prob += fo, \"custo\"\n",
    "\n",
    "    for j, linha in df_nan.iterrows():\n",
    "        nan = linha[\"nan\"]\n",
    "        linha_restricao = []\n",
    "        for indice_regime, regime in regimes.items():\n",
    "            tamanho = int(regime * 60 / minutos_dividir)\n",
    "            lista = retorna_lista(j=j, tamanho=tamanho,\n",
    "                                lista=list(inicios))\n",
    "            \n",
    "            lista_combinada = [(indice_regime, i) for i in lista]\n",
    "            lista_traduzida = [pulp_variaveis[tupla] \n",
    "                            for tupla in lista_combinada]\n",
    "            \n",
    "            linha_restricao += lista_traduzida\n",
    "        prob += plp.lpSum(linha_restricao) >= nan\n",
    "    \n",
    "    solver = plp.getSolver('PULP_CBC_CMD')\n",
    "    prob.solve(solver)\n",
    "    return prob"
   ]
  },
  {
   "cell_type": "code",
   "execution_count": 472,
   "id": "f1b452c7",
   "metadata": {},
   "outputs": [],
   "source": [
    "prob = attentus(df_nan, df_nad, minutos_dividir)\n",
    "#prob"
   ]
  },
  {
   "cell_type": "code",
   "execution_count": 473,
   "id": "ae4c8b96",
   "metadata": {},
   "outputs": [
    {
     "data": {
      "text/plain": [
       "'Optimal'"
      ]
     },
     "execution_count": 473,
     "metadata": {},
     "output_type": "execute_result"
    }
   ],
   "source": [
    "plp.LpStatus[prob.status]"
   ]
  },
  {
   "cell_type": "code",
   "execution_count": 474,
   "id": "a3b1e461",
   "metadata": {},
   "outputs": [],
   "source": [
    "# fucnao para formatar o resultado, do jeto que ele esta nao adianta nada, ja foi feito esta mais acima, agora é organzair no codigo completo acho\n",
    "\n",
    "def gera_resultados(prob, regimes, inicios):\n",
    "    resultados = []\n",
    "    for v_tupla, v_pulp in pulp_variaveis.items():\n",
    "        # print(v_pulp.varValue, v_tupla)\n",
    "        indice_regime, indice_inicio = v_tupla\n",
    "        nome_regime = regimes[indice_regime]\n",
    "        nome_inicio = inicios[indice_inicio]\n",
    "        # print(nome_regime, nome_inicio)\n",
    "        resultados.append({\n",
    "            \"regime\": nome_regime,\n",
    "            \"inicio\": nome_inicio,\n",
    "            \"valor\": v_pulp.varValue\n",
    "        })\n",
    "\n",
    "    df_resultados = pd.DataFrame(resultados)\n",
    "    df_resutados_pivotado = \\\n",
    "        df_resultados.pivot_table(columns=\"regime\",\n",
    "                                index=\"inicio\",\n",
    "                                values=\"valor\")\n",
    "    \n",
    "    return df_resutados_pivotado\n"
   ]
  },
  {
   "cell_type": "code",
   "execution_count": 475,
   "id": "c6a2fd29",
   "metadata": {},
   "outputs": [
    {
     "data": {
      "application/vnd.microsoft.datawrangler.viewer.v0+json": {
       "columns": [
        {
         "name": "inicio",
         "rawType": "object",
         "type": "string"
        },
        {
         "name": "3",
         "rawType": "float64",
         "type": "float"
        },
        {
         "name": "4",
         "rawType": "float64",
         "type": "float"
        },
        {
         "name": "6",
         "rawType": "float64",
         "type": "float"
        }
       ],
       "ref": "0ab68bc7-267a-4352-b912-d273ee13b6ba",
       "rows": [
        [
         "00:00:00",
         "0.0",
         "0.0",
         "0.0"
        ],
        [
         "00:15:00",
         "0.0",
         "0.0",
         "0.0"
        ],
        [
         "00:30:00",
         "0.0",
         "0.0",
         "0.0"
        ],
        [
         "00:45:00",
         "0.0",
         "0.0",
         "1.0"
        ],
        [
         "01:00:00",
         "0.0",
         "0.0",
         "0.0"
        ],
        [
         "01:15:00",
         "0.0",
         "0.0",
         "0.0"
        ],
        [
         "01:30:00",
         "0.0",
         "0.0",
         "0.0"
        ],
        [
         "01:45:00",
         "0.0",
         "0.0",
         "0.0"
        ],
        [
         "02:00:00",
         "0.0",
         "0.0",
         "0.0"
        ],
        [
         "02:15:00",
         "0.0",
         "0.0",
         "0.0"
        ],
        [
         "02:30:00",
         "0.0",
         "0.0",
         "0.0"
        ],
        [
         "02:45:00",
         "0.0",
         "0.0",
         "0.0"
        ],
        [
         "03:00:00",
         "0.0",
         "0.0",
         "0.0"
        ],
        [
         "03:15:00",
         "0.0",
         "0.0",
         "0.0"
        ],
        [
         "03:30:00",
         "0.0",
         "0.0",
         "0.0"
        ],
        [
         "03:45:00",
         "0.0",
         "0.0",
         "0.0"
        ],
        [
         "04:00:00",
         "0.0",
         "0.0",
         "0.0"
        ],
        [
         "04:15:00",
         "0.0",
         "1.0",
         "0.0"
        ],
        [
         "04:30:00",
         "0.0",
         "0.0",
         "0.0"
        ],
        [
         "04:45:00",
         "0.0",
         "0.0",
         "0.0"
        ],
        [
         "05:00:00",
         "0.0",
         "0.0",
         "0.0"
        ],
        [
         "05:15:00",
         "0.0",
         "0.0",
         "1.0"
        ],
        [
         "05:30:00",
         "0.0",
         "0.0",
         "0.0"
        ],
        [
         "05:45:00",
         "0.0",
         "0.0",
         "3.0"
        ],
        [
         "06:00:00",
         "0.0",
         "0.0",
         "0.0"
        ],
        [
         "06:15:00",
         "0.0",
         "0.0",
         "0.0"
        ],
        [
         "06:30:00",
         "0.0",
         "0.0",
         "2.0"
        ],
        [
         "06:45:00",
         "0.0",
         "0.0",
         "0.0"
        ],
        [
         "07:00:00",
         "0.0",
         "9.0",
         "4.0"
        ],
        [
         "07:15:00",
         "0.0",
         "1.0",
         "0.0"
        ],
        [
         "07:30:00",
         "0.0",
         "2.0",
         "0.0"
        ],
        [
         "07:45:00",
         "0.0",
         "2.0",
         "2.0"
        ],
        [
         "08:00:00",
         "0.0",
         "6.0",
         "8.0"
        ],
        [
         "08:15:00",
         "0.0",
         "1.0",
         "0.0"
        ],
        [
         "08:30:00",
         "0.0",
         "0.0",
         "0.0"
        ],
        [
         "08:45:00",
         "0.0",
         "0.0",
         "18.0"
        ],
        [
         "09:00:00",
         "5.0",
         "2.0",
         "0.0"
        ],
        [
         "09:15:00",
         "0.0",
         "0.0",
         "0.0"
        ],
        [
         "09:30:00",
         "0.0",
         "0.0",
         "0.0"
        ],
        [
         "09:45:00",
         "0.0",
         "0.0",
         "4.0"
        ],
        [
         "10:00:00",
         "0.0",
         "0.0",
         "0.0"
        ],
        [
         "10:15:00",
         "0.0",
         "2.0",
         "3.0"
        ],
        [
         "10:30:00",
         "0.0",
         "0.0",
         "0.0"
        ],
        [
         "10:45:00",
         "0.0",
         "0.0",
         "0.0"
        ],
        [
         "11:00:00",
         "0.0",
         "0.0",
         "0.0"
        ],
        [
         "11:15:00",
         "0.0",
         "0.0",
         "0.0"
        ],
        [
         "11:30:00",
         "0.0",
         "0.0",
         "0.0"
        ],
        [
         "11:45:00",
         "0.0",
         "0.0",
         "11.0"
        ],
        [
         "12:00:00",
         "0.0",
         "0.0",
         "0.0"
        ],
        [
         "12:15:00",
         "0.0",
         "0.0",
         "2.0"
        ]
       ],
       "shape": {
        "columns": 3,
        "rows": 96
       }
      },
      "text/html": [
       "<div>\n",
       "<style scoped>\n",
       "    .dataframe tbody tr th:only-of-type {\n",
       "        vertical-align: middle;\n",
       "    }\n",
       "\n",
       "    .dataframe tbody tr th {\n",
       "        vertical-align: top;\n",
       "    }\n",
       "\n",
       "    .dataframe thead th {\n",
       "        text-align: right;\n",
       "    }\n",
       "</style>\n",
       "<table border=\"1\" class=\"dataframe\">\n",
       "  <thead>\n",
       "    <tr style=\"text-align: right;\">\n",
       "      <th>regime</th>\n",
       "      <th>3</th>\n",
       "      <th>4</th>\n",
       "      <th>6</th>\n",
       "    </tr>\n",
       "    <tr>\n",
       "      <th>inicio</th>\n",
       "      <th></th>\n",
       "      <th></th>\n",
       "      <th></th>\n",
       "    </tr>\n",
       "  </thead>\n",
       "  <tbody>\n",
       "    <tr>\n",
       "      <th>00:00:00</th>\n",
       "      <td>0.0</td>\n",
       "      <td>0.0</td>\n",
       "      <td>0.0</td>\n",
       "    </tr>\n",
       "    <tr>\n",
       "      <th>00:15:00</th>\n",
       "      <td>0.0</td>\n",
       "      <td>0.0</td>\n",
       "      <td>0.0</td>\n",
       "    </tr>\n",
       "    <tr>\n",
       "      <th>00:30:00</th>\n",
       "      <td>0.0</td>\n",
       "      <td>0.0</td>\n",
       "      <td>0.0</td>\n",
       "    </tr>\n",
       "    <tr>\n",
       "      <th>00:45:00</th>\n",
       "      <td>0.0</td>\n",
       "      <td>0.0</td>\n",
       "      <td>1.0</td>\n",
       "    </tr>\n",
       "    <tr>\n",
       "      <th>01:00:00</th>\n",
       "      <td>0.0</td>\n",
       "      <td>0.0</td>\n",
       "      <td>0.0</td>\n",
       "    </tr>\n",
       "    <tr>\n",
       "      <th>...</th>\n",
       "      <td>...</td>\n",
       "      <td>...</td>\n",
       "      <td>...</td>\n",
       "    </tr>\n",
       "    <tr>\n",
       "      <th>22:45:00</th>\n",
       "      <td>0.0</td>\n",
       "      <td>0.0</td>\n",
       "      <td>1.0</td>\n",
       "    </tr>\n",
       "    <tr>\n",
       "      <th>23:00:00</th>\n",
       "      <td>0.0</td>\n",
       "      <td>0.0</td>\n",
       "      <td>0.0</td>\n",
       "    </tr>\n",
       "    <tr>\n",
       "      <th>23:15:00</th>\n",
       "      <td>0.0</td>\n",
       "      <td>0.0</td>\n",
       "      <td>0.0</td>\n",
       "    </tr>\n",
       "    <tr>\n",
       "      <th>23:30:00</th>\n",
       "      <td>0.0</td>\n",
       "      <td>0.0</td>\n",
       "      <td>2.0</td>\n",
       "    </tr>\n",
       "    <tr>\n",
       "      <th>23:45:00</th>\n",
       "      <td>0.0</td>\n",
       "      <td>0.0</td>\n",
       "      <td>0.0</td>\n",
       "    </tr>\n",
       "  </tbody>\n",
       "</table>\n",
       "<p>96 rows × 3 columns</p>\n",
       "</div>"
      ],
      "text/plain": [
       "regime      3    4    6\n",
       "inicio                 \n",
       "00:00:00  0.0  0.0  0.0\n",
       "00:15:00  0.0  0.0  0.0\n",
       "00:30:00  0.0  0.0  0.0\n",
       "00:45:00  0.0  0.0  1.0\n",
       "01:00:00  0.0  0.0  0.0\n",
       "...       ...  ...  ...\n",
       "22:45:00  0.0  0.0  1.0\n",
       "23:00:00  0.0  0.0  0.0\n",
       "23:15:00  0.0  0.0  0.0\n",
       "23:30:00  0.0  0.0  2.0\n",
       "23:45:00  0.0  0.0  0.0\n",
       "\n",
       "[96 rows x 3 columns]"
      ]
     },
     "execution_count": 475,
     "metadata": {},
     "output_type": "execute_result"
    }
   ],
   "source": [
    "df_resultados = gera_resultados(prob,\n",
    "                                regimes,\n",
    "                                inicios)\n",
    "df_resultados"
   ]
  },
  {
   "cell_type": "code",
   "execution_count": 476,
   "id": "6eb22b69",
   "metadata": {},
   "outputs": [],
   "source": [
    "def ajusta_polinomio(df_duracoes: pd.DataFrame, \n",
    "                     g: int) -> list:\n",
    "    \n",
    "    coefs = \\\n",
    "    metodo_minimos_quadrados.mmq(entradas=df_duracoes.loc[:, \"percentagem_acumulada\"],\n",
    "                                saidas=df_duracoes.loc[:, \"duracao_conexao\"],\n",
    "                                g=g)\n",
    "    \n",
    "    # gera 1000 valores de zero à um\n",
    "    x = np.linspace(start=0, stop=1, num=1000)\n",
    "    # usa o polinômio ajustado para gerar os valores de y\n",
    "    y = np.polyval(p=coefs, x=x)\n",
    "\n",
    "    percentagens_acumuladas = df_duracoes.loc[:, \"percentagem_acumulada\"]\n",
    "    duracoes = df_duracoes.loc[:, \"duracao_conexao\"]\n",
    "\n",
    "    # create a figure and axis\n",
    "    fig, ax = plt.subplots(figsize=(10, 5))\n",
    "    ax.scatter(percentagens_acumuladas, duracoes, \n",
    "                color=\"red\", label=\"Dados Originais\", edgecolors=\"black\")\n",
    "\n",
    "    # faz o gráfico do ajuste polinomial\n",
    "    ax.plot(x, y)\n",
    "    return fig"
   ]
  },
  {
   "cell_type": "code",
   "execution_count": 477,
   "id": "fc60c386",
   "metadata": {},
   "outputs": [
    {
     "data": {
      "image/png": "[encoded data removed]",
      "text/plain": [
       "<Figure size 1000x500 with 1 Axes>"
      ]
     },
     "execution_count": 477,
     "metadata": {},
     "output_type": "execute_result"
    },
    {
     "data": {
      "image/png": "[encoded data removed]",
      "text/plain": [
       "<Figure size 1000x500 with 1 Axes>"
      ]
     },
     "metadata": {},
     "output_type": "display_data"
    }
   ],
   "source": [
    "ajusta_polinomio(df_duracoes, 3)"
   ]
  },
  {
   "cell_type": "code",
   "execution_count": 478,
   "id": "8ab17646",
   "metadata": {},
   "outputs": [],
   "source": [
    "def gerar_tabela_nan(df_tabela_ligantes: pd.DataFrame,\n",
    "                     df_duracoes: pd.DataFrame,\n",
    "                     tempo_maximo_espera: float = 10,\n",
    "                     tempo_descanso: int = 0,\n",
    "                     g: int = 5) -> list:\n",
    "\n",
    "    \"\"\"\n",
    "    Função para gerar a lista de NANs para cada período do dia\n",
    "\n",
    "    Args:\n",
    "        df_tabela_ligantes (pd.DataFrame): DataFrame com a quantidade de ligantes. \n",
    "        (obrigatório)\n",
    "        df_duracoes (pd.DataFrame): DataFrame com as durações das ligações. \n",
    "        (obrigatório)\n",
    "        tempo_maximo_espera (float): Tempo máximo de espera (opcional, default=10)\n",
    "        g (int): Grau do polinômio de ajuste (opcional, default=5)\n",
    "    Returns:\n",
    "        pd.DataFrame: DataFrame com a quantidade de NANs\n",
    "    \"\"\"\n",
    "\n",
    "    coefs = metodo_minimos_quadrados.mmq(\n",
    "        entradas=df_duracoes.loc[:, \"percentagem_acumulada\"],\n",
    "        saidas=df_duracoes.loc[:, \"duracao_conexao\"],\n",
    "        g=g)\n",
    "\n",
    "\n",
    "    # conjunto de nan para cada periodo do dia \n",
    "    # (18:15 - 18:30, 18:30 - 18:45, ..., 18:00 - 18:15)\n",
    "    coluna_nan = []\n",
    "\n",
    "    # para cada linha (periodo do dia) da tabela de ligantes (96 linhas)\n",
    "    for i, linha in df_tabela_ligantes.iterrows():\n",
    "\n",
    "        # pega a qtd_ligantes para cada periodo do dia\n",
    "        qtd_ligantes = linha[\"numero_medio_ligantes\"]\n",
    "\n",
    "        # gera aleatoriamente os momentos de ligação para cada periodo do dia\n",
    "        momentos_ligacoes = np.random.randint(low=0, high=900, size=qtd_ligantes)\n",
    "        # ordena os momentos de ligação para executar o algoritmo nan\n",
    "        momentos_ligacoes.sort()\n",
    "        \n",
    "        # cria uma lista de atendentes necessários para atender as ligações para cada \n",
    "        # periodo do dia\n",
    "        atendentes: list[dict] = []\n",
    "\n",
    "        # para cada ligação\n",
    "        for momento_ligacao in momentos_ligacoes:\n",
    "            \n",
    "            # gerando a duração da ligação\n",
    "            aleatorio = np.random.rand()\n",
    "\n",
    "            # gerando a duração da ligação\n",
    "            duracao = abs(np.polyval(coefs, aleatorio))\n",
    "\n",
    "            # para cada atendente, checar se ele estará ocupado no momento da \n",
    "            # ligação + tempo máximo de espera. Se não estiver, ele atende a ligação\n",
    "            # se todos estiverem ocupados, criar um novo atendente\n",
    "            for atendente in atendentes:\n",
    "\n",
    "                fim_atendimento = atendente[\"fim_atendimento\"] + tempo_descanso\n",
    "\n",
    "                # checando se o atendente está ocupado daqui a 10 segundos do momento \n",
    "                # da ligação ocupado = atendente.checar_ocupado(momento_ligacao + 10)\n",
    "                if momento_ligacao + tempo_maximo_espera > fim_atendimento:\n",
    "                    ocupado = False\n",
    "                else:\n",
    "                    ocupado = True\n",
    "\n",
    "                if not ocupado:\n",
    "                    # se o atendente não estiver ocupado, ele atende a ligação\n",
    "                    # atendente.atender_ligacao_futura(duracao)\n",
    "                    if momento_ligacao + tempo_maximo_espera > fim_atendimento:\n",
    "                        atendente[\"inicio_atendimento\"] = \\\n",
    "                            momento_ligacao + tempo_maximo_espera\n",
    "                    else:\n",
    "                        atendente[\"inicio_atendimento\"] = fim_atendimento\n",
    "                    \n",
    "                    atendente[\"fim_atendimento\"] = \\\n",
    "                        atendente[\"inicio_atendimento\"] + duracao\n",
    "                    break\n",
    "            else:\n",
    "                # entra aqui apenas se nunca ocorrer o break (ou seja, \n",
    "                # se todos os atendentes estiverem ocupados)\n",
    "\n",
    "                novo_atendende = {\"inicio_atendimento\": momento_ligacao, \n",
    "                                \"fim_atendimento\": momento_ligacao + duracao}\n",
    "                atendentes.append(novo_atendende)\n",
    "\n",
    "        # após 'varrer' todas as ligações simuladas de cada período do dia, coletar a \n",
    "        # quantidade de atendentes criados para atender todas as ligações com \n",
    "        # 10 segundos de tempo máximo de espera    \n",
    "        nan = len(atendentes)\n",
    "        \n",
    "        # antes de partir para a simulação do próximo período do dia, adicionar o \n",
    "        # resultado na coleção de nan para cada período do dia\n",
    "        coluna_nan.append(nan)\n",
    "\n",
    "    return coluna_nan"
   ]
  },
  {
   "cell_type": "code",
   "execution_count": 479,
   "id": "8f3d6484",
   "metadata": {},
   "outputs": [
    {
     "data": {
      "text/plain": [
       "[20,\n",
       " 9,\n",
       " 8,\n",
       " 10,\n",
       " 8,\n",
       " 6,\n",
       " 6,\n",
       " 7,\n",
       " 6,\n",
       " 4,\n",
       " 5,\n",
       " 5,\n",
       " 5,\n",
       " 4,\n",
       " 4,\n",
       " 5,\n",
       " 3,\n",
       " 3,\n",
       " 3,\n",
       " 4,\n",
       " 5,\n",
       " 4,\n",
       " 4,\n",
       " 3,\n",
       " 5,\n",
       " 8,\n",
       " 7,\n",
       " 8,\n",
       " 18,\n",
       " 21,\n",
       " 23,\n",
       " 23,\n",
       " 39,\n",
       " 47,\n",
       " 38,\n",
       " 42,\n",
       " 60,\n",
       " 63,\n",
       " 62,\n",
       " 67,\n",
       " 71,\n",
       " 73,\n",
       " 69,\n",
       " 71,\n",
       " 67,\n",
       " 74,\n",
       " 65,\n",
       " 68,\n",
       " 54,\n",
       " 63,\n",
       " 59,\n",
       " 61,\n",
       " 61,\n",
       " 68,\n",
       " 67,\n",
       " 69,\n",
       " 67,\n",
       " 65,\n",
       " 63,\n",
       " 63,\n",
       " 66,\n",
       " 72,\n",
       " 70,\n",
       " 68,\n",
       " 65,\n",
       " 67,\n",
       " 71,\n",
       " 72,\n",
       " 76,\n",
       " 70,\n",
       " 75,\n",
       " 66,\n",
       " 52,\n",
       " 52,\n",
       " 46,\n",
       " 50,\n",
       " 44,\n",
       " 37,\n",
       " 40,\n",
       " 38,\n",
       " 41,\n",
       " 38,\n",
       " 37,\n",
       " 37,\n",
       " 34,\n",
       " 35,\n",
       " 30,\n",
       " 29,\n",
       " 30,\n",
       " 26,\n",
       " 28,\n",
       " 28,\n",
       " 25,\n",
       " 17,\n",
       " 16,\n",
       " 19]"
      ]
     },
     "execution_count": 479,
     "metadata": {},
     "output_type": "execute_result"
    }
   ],
   "source": [
    "gerar_tabela_nan(df_tabela_ligantes,\n",
    "                 df_duracoes,\n",
    "                 10, 0, 5)"
   ]
  },
  {
   "cell_type": "code",
   "execution_count": 480,
   "id": "e41fd38c",
   "metadata": {},
   "outputs": [],
   "source": [
    "def gera_tabelas(\n",
    "        qtd_horas_total, minutos_dividir,\n",
    "        hora_inicial, minuto_inicial,\n",
    "        turnos, encargos):\n",
    "\n",
    "    hora_final = (hora_inicial + qtd_horas_total) % 24\n",
    "    minuto_final = (qtd_horas_total - int(qtd_horas_total)) * 60\n",
    "\n",
    "    dia_final = 1\n",
    "    if hora_inicial == hora_final and minuto_inicial == minuto_final:\n",
    "        dia_final = 2\n",
    "    \n",
    "    inicios = \\\n",
    "        pd.date_range(\n",
    "        start=f\"2000-01-01 {hora_inicial:02}:{minuto_inicial:02}:00\",\n",
    "        end=dtm.strptime(\n",
    "        f\"2000-01-{dia_final:02} {int(hora_final):02}:{int(minuto_final):02}:59\", \"%Y-%m-%d %H:%M:%S\"),\n",
    "        freq=f\"{minutos_dividir}min\").strftime(\"%H:%M:%S\").tolist()[:-1]\n",
    "    \n",
    "    finais = \\\n",
    "        [(dtm.strptime(inicio, \"%H:%M:%S\") + td(minutes=minutos_dividir)).strftime(\"%H:%M:%S\") \n",
    "        for inicio in inicios]\n",
    "    \n",
    "    df_nad = pd.DataFrame({\n",
    "        \"regime\": turnos,\n",
    "        \"enc\": encargos})\n",
    "    \n",
    "    df_tabela_ligantes = pd.DataFrame({\n",
    "        \"rotulo\": range(1, len(inicios) + 1),\n",
    "        \"hora_inicio\": inicios,\n",
    "        \"hora_fim\": finais})\n",
    "    df_tabela_ligantes[\"numero_medio_ligantes\"] = \"\"\n",
    "\n",
    "    return df_nad, df_tabela_ligantes"
   ]
  },
  {
   "cell_type": "code",
   "execution_count": 481,
   "id": "7cc190b1",
   "metadata": {},
   "outputs": [],
   "source": [
    "encargos = [560, 640, 960]"
   ]
  },
  {
   "cell_type": "code",
   "execution_count": 482,
   "id": "2585afca",
   "metadata": {},
   "outputs": [],
   "source": [
    "turnos = [3, 4, 6]"
   ]
  },
  {
   "cell_type": "code",
   "execution_count": 483,
   "id": "ba172d3b",
   "metadata": {},
   "outputs": [],
   "source": [
    "df_nad, df_tabela_ligantes = gera_tabelas(qtd_dias_total, minutos_dividir,\n",
    "                                          hora_inicial, minuto_inicial,\n",
    "                                          turnos, encargos)"
   ]
  },
  {
   "cell_type": "code",
   "execution_count": 484,
   "id": "644e8eba",
   "metadata": {},
   "outputs": [
    {
     "data": {
      "application/vnd.microsoft.datawrangler.viewer.v0+json": {
       "columns": [
        {
         "name": "index",
         "rawType": "int64",
         "type": "integer"
        },
        {
         "name": "regime",
         "rawType": "int64",
         "type": "integer"
        },
        {
         "name": "enc",
         "rawType": "int64",
         "type": "integer"
        }
       ],
       "ref": "a7dfcc5f-b5ea-4384-85a8-4bee591a2a0a",
       "rows": [
        [
         "0",
         "3",
         "560"
        ],
        [
         "1",
         "4",
         "640"
        ],
        [
         "2",
         "6",
         "960"
        ]
       ],
       "shape": {
        "columns": 2,
        "rows": 3
       }
      },
      "text/html": [
       "<div>\n",
       "<style scoped>\n",
       "    .dataframe tbody tr th:only-of-type {\n",
       "        vertical-align: middle;\n",
       "    }\n",
       "\n",
       "    .dataframe tbody tr th {\n",
       "        vertical-align: top;\n",
       "    }\n",
       "\n",
       "    .dataframe thead th {\n",
       "        text-align: right;\n",
       "    }\n",
       "</style>\n",
       "<table border=\"1\" class=\"dataframe\">\n",
       "  <thead>\n",
       "    <tr style=\"text-align: right;\">\n",
       "      <th></th>\n",
       "      <th>regime</th>\n",
       "      <th>enc</th>\n",
       "    </tr>\n",
       "  </thead>\n",
       "  <tbody>\n",
       "    <tr>\n",
       "      <th>0</th>\n",
       "      <td>3</td>\n",
       "      <td>560</td>\n",
       "    </tr>\n",
       "    <tr>\n",
       "      <th>1</th>\n",
       "      <td>4</td>\n",
       "      <td>640</td>\n",
       "    </tr>\n",
       "    <tr>\n",
       "      <th>2</th>\n",
       "      <td>6</td>\n",
       "      <td>960</td>\n",
       "    </tr>\n",
       "  </tbody>\n",
       "</table>\n",
       "</div>"
      ],
      "text/plain": [
       "   regime  enc\n",
       "0       3  560\n",
       "1       4  640\n",
       "2       6  960"
      ]
     },
     "execution_count": 484,
     "metadata": {},
     "output_type": "execute_result"
    }
   ],
   "source": [
    "df_nad"
   ]
  },
  {
   "cell_type": "code",
   "execution_count": 485,
   "id": "4c2b3ca6",
   "metadata": {},
   "outputs": [
    {
     "data": {
      "application/vnd.microsoft.datawrangler.viewer.v0+json": {
       "columns": [
        {
         "name": "index",
         "rawType": "int64",
         "type": "integer"
        },
        {
         "name": "rotulo",
         "rawType": "int64",
         "type": "integer"
        },
        {
         "name": "hora_inicio",
         "rawType": "object",
         "type": "string"
        },
        {
         "name": "hora_fim",
         "rawType": "object",
         "type": "string"
        },
        {
         "name": "numero_medio_ligantes",
         "rawType": "object",
         "type": "string"
        }
       ],
       "ref": "72da4f2e-a6b0-41fb-beb2-b4af01fd2aa0",
       "rows": [
        [
         "0",
         "1",
         "00:00:00",
         "00:15:00",
         ""
        ],
        [
         "1",
         "2",
         "00:15:00",
         "00:30:00",
         ""
        ],
        [
         "2",
         "3",
         "00:30:00",
         "00:45:00",
         ""
        ],
        [
         "3",
         "4",
         "00:45:00",
         "01:00:00",
         ""
        ]
       ],
       "shape": {
        "columns": 4,
        "rows": 4
       }
      },
      "text/html": [
       "<div>\n",
       "<style scoped>\n",
       "    .dataframe tbody tr th:only-of-type {\n",
       "        vertical-align: middle;\n",
       "    }\n",
       "\n",
       "    .dataframe tbody tr th {\n",
       "        vertical-align: top;\n",
       "    }\n",
       "\n",
       "    .dataframe thead th {\n",
       "        text-align: right;\n",
       "    }\n",
       "</style>\n",
       "<table border=\"1\" class=\"dataframe\">\n",
       "  <thead>\n",
       "    <tr style=\"text-align: right;\">\n",
       "      <th></th>\n",
       "      <th>rotulo</th>\n",
       "      <th>hora_inicio</th>\n",
       "      <th>hora_fim</th>\n",
       "      <th>numero_medio_ligantes</th>\n",
       "    </tr>\n",
       "  </thead>\n",
       "  <tbody>\n",
       "    <tr>\n",
       "      <th>0</th>\n",
       "      <td>1</td>\n",
       "      <td>00:00:00</td>\n",
       "      <td>00:15:00</td>\n",
       "      <td></td>\n",
       "    </tr>\n",
       "    <tr>\n",
       "      <th>1</th>\n",
       "      <td>2</td>\n",
       "      <td>00:15:00</td>\n",
       "      <td>00:30:00</td>\n",
       "      <td></td>\n",
       "    </tr>\n",
       "    <tr>\n",
       "      <th>2</th>\n",
       "      <td>3</td>\n",
       "      <td>00:30:00</td>\n",
       "      <td>00:45:00</td>\n",
       "      <td></td>\n",
       "    </tr>\n",
       "    <tr>\n",
       "      <th>3</th>\n",
       "      <td>4</td>\n",
       "      <td>00:45:00</td>\n",
       "      <td>01:00:00</td>\n",
       "      <td></td>\n",
       "    </tr>\n",
       "  </tbody>\n",
       "</table>\n",
       "</div>"
      ],
      "text/plain": [
       "   rotulo hora_inicio  hora_fim numero_medio_ligantes\n",
       "0       1    00:00:00  00:15:00                      \n",
       "1       2    00:15:00  00:30:00                      \n",
       "2       3    00:30:00  00:45:00                      \n",
       "3       4    00:45:00  01:00:00                      "
      ]
     },
     "execution_count": 485,
     "metadata": {},
     "output_type": "execute_result"
    }
   ],
   "source": [
    "df_tabela_ligantes # ta vazia a coluna, vai ser o modelo de OS realtorio de OS, isso que vai preencher isso, dificil variar de cada cliente e o seu codigo ja conseguir converter  certinho para calcular\n",
    "# por isso é melhor no formato de comsultoria o attetus por que o formato desse OS que é uma tabela de cada cliente esta de um jeito diferente\n",
    "# o cliente que teria que preencher os dados dftabela_ligantes"
   ]
  },
  {
   "cell_type": "code",
   "execution_count": 486,
   "id": "cd5c8b96",
   "metadata": {},
   "outputs": [
    {
     "data": {
      "application/vnd.microsoft.datawrangler.viewer.v0+json": {
       "columns": [
        {
         "name": "index",
         "rawType": "int64",
         "type": "integer"
        },
        {
         "name": "duracao_conexao",
         "rawType": "int64",
         "type": "integer"
        },
        {
         "name": "numero_ligantes",
         "rawType": "int64",
         "type": "integer"
        },
        {
         "name": "percentagem_relativa",
         "rawType": "float64",
         "type": "float"
        },
        {
         "name": "percentagem_acumulada",
         "rawType": "float64",
         "type": "float"
        }
       ],
       "ref": "49d0f26e-c9d8-47f6-8700-7a887bf77e1a",
       "rows": [
        [
         "0",
         "0",
         "0",
         "0.0",
         "0.0"
        ],
        [
         "1",
         "5",
         "870",
         "0.087",
         "0.087"
        ],
        [
         "2",
         "10",
         "2210",
         "0.221",
         "0.308"
        ],
        [
         "3",
         "15",
         "2940",
         "0.294",
         "0.602"
        ],
        [
         "4",
         "20",
         "1710",
         "0.171",
         "0.773"
        ],
        [
         "5",
         "25",
         "1360",
         "0.136",
         "0.909"
        ],
        [
         "6",
         "30",
         "590",
         "0.059",
         "0.968"
        ],
        [
         "7",
         "35",
         "250",
         "0.025",
         "0.993"
        ],
        [
         "8",
         "40",
         "70",
         "0.007",
         "1.0"
        ]
       ],
       "shape": {
        "columns": 4,
        "rows": 9
       }
      },
      "text/html": [
       "<div>\n",
       "<style scoped>\n",
       "    .dataframe tbody tr th:only-of-type {\n",
       "        vertical-align: middle;\n",
       "    }\n",
       "\n",
       "    .dataframe tbody tr th {\n",
       "        vertical-align: top;\n",
       "    }\n",
       "\n",
       "    .dataframe thead th {\n",
       "        text-align: right;\n",
       "    }\n",
       "</style>\n",
       "<table border=\"1\" class=\"dataframe\">\n",
       "  <thead>\n",
       "    <tr style=\"text-align: right;\">\n",
       "      <th></th>\n",
       "      <th>duracao_conexao</th>\n",
       "      <th>numero_ligantes</th>\n",
       "      <th>percentagem_relativa</th>\n",
       "      <th>percentagem_acumulada</th>\n",
       "    </tr>\n",
       "  </thead>\n",
       "  <tbody>\n",
       "    <tr>\n",
       "      <th>0</th>\n",
       "      <td>0</td>\n",
       "      <td>0</td>\n",
       "      <td>0.000</td>\n",
       "      <td>0.000</td>\n",
       "    </tr>\n",
       "    <tr>\n",
       "      <th>1</th>\n",
       "      <td>5</td>\n",
       "      <td>870</td>\n",
       "      <td>0.087</td>\n",
       "      <td>0.087</td>\n",
       "    </tr>\n",
       "    <tr>\n",
       "      <th>2</th>\n",
       "      <td>10</td>\n",
       "      <td>2210</td>\n",
       "      <td>0.221</td>\n",
       "      <td>0.308</td>\n",
       "    </tr>\n",
       "    <tr>\n",
       "      <th>3</th>\n",
       "      <td>15</td>\n",
       "      <td>2940</td>\n",
       "      <td>0.294</td>\n",
       "      <td>0.602</td>\n",
       "    </tr>\n",
       "    <tr>\n",
       "      <th>4</th>\n",
       "      <td>20</td>\n",
       "      <td>1710</td>\n",
       "      <td>0.171</td>\n",
       "      <td>0.773</td>\n",
       "    </tr>\n",
       "    <tr>\n",
       "      <th>5</th>\n",
       "      <td>25</td>\n",
       "      <td>1360</td>\n",
       "      <td>0.136</td>\n",
       "      <td>0.909</td>\n",
       "    </tr>\n",
       "    <tr>\n",
       "      <th>6</th>\n",
       "      <td>30</td>\n",
       "      <td>590</td>\n",
       "      <td>0.059</td>\n",
       "      <td>0.968</td>\n",
       "    </tr>\n",
       "    <tr>\n",
       "      <th>7</th>\n",
       "      <td>35</td>\n",
       "      <td>250</td>\n",
       "      <td>0.025</td>\n",
       "      <td>0.993</td>\n",
       "    </tr>\n",
       "    <tr>\n",
       "      <th>8</th>\n",
       "      <td>40</td>\n",
       "      <td>70</td>\n",
       "      <td>0.007</td>\n",
       "      <td>1.000</td>\n",
       "    </tr>\n",
       "  </tbody>\n",
       "</table>\n",
       "</div>"
      ],
      "text/plain": [
       "   duracao_conexao  numero_ligantes  percentagem_relativa  \\\n",
       "0                0                0                 0.000   \n",
       "1                5              870                 0.087   \n",
       "2               10             2210                 0.221   \n",
       "3               15             2940                 0.294   \n",
       "4               20             1710                 0.171   \n",
       "5               25             1360                 0.136   \n",
       "6               30              590                 0.059   \n",
       "7               35              250                 0.025   \n",
       "8               40               70                 0.007   \n",
       "\n",
       "   percentagem_acumulada  \n",
       "0                  0.000  \n",
       "1                  0.087  \n",
       "2                  0.308  \n",
       "3                  0.602  \n",
       "4                  0.773  \n",
       "5                  0.909  \n",
       "6                  0.968  \n",
       "7                  0.993  \n",
       "8                  1.000  "
      ]
     },
     "execution_count": 486,
     "metadata": {},
     "output_type": "execute_result"
    }
   ],
   "source": [
    "df_duracoes # essa é outra tabela critica que tem que ser preenchida e o usuario porvavel nao vai saber preencher ceeto"
   ]
  }
 ],
 "metadata": {
  "kernelspec": {
   "display_name": ".venv_attentus",
   "language": "python",
   "name": "python3"
  },
  "language_info": {
   "codemirror_mode": {
    "name": "ipython",
    "version": 3
   },
   "file_extension": ".py",
   "mimetype": "text/x-python",
   "name": "python",
   "nbconvert_exporter": "python",
   "pygments_lexer": "ipython3",
   "version": "3.12.3"
  }
 },
 "nbformat": 4,
 "nbformat_minor": 5
}
